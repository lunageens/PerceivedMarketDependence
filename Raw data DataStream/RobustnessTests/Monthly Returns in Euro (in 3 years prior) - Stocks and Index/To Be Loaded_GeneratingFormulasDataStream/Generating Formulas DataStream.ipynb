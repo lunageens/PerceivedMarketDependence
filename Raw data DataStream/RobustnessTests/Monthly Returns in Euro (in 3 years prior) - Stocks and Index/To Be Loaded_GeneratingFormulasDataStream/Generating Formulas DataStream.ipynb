{
 "cells": [
  {
   "cell_type": "markdown",
   "id": "cc37101b",
   "metadata": {},
   "source": [
    "# Generating Formulas DataStream"
   ]
  },
  {
   "cell_type": "markdown",
   "id": "3d5129ec",
   "metadata": {},
   "source": [
    "**TODO** Tekst nog aanpassen naar nieuwe formulas"
   ]
  },
  {
   "cell_type": "markdown",
   "id": "f72e6da3",
   "metadata": {},
   "source": [
    "We gaan dat effe automatiseren want anders duurt dat veel te lang. "
   ]
  },
  {
   "cell_type": "code",
   "execution_count": 1,
   "id": "30ae26e2",
   "metadata": {
    "ExecuteTime": {
     "end_time": "2024-05-12T19:52:25.210542Z",
     "start_time": "2024-05-12T19:52:24.113228Z"
    }
   },
   "outputs": [],
   "source": [
    "import openpyxl\n",
    "import pandas as pd\n",
    "from openpyxl import load_workbook"
   ]
  },
  {
   "cell_type": "markdown",
   "id": "95d78017",
   "metadata": {},
   "source": [
    "## Monthly Return Index of Stocks"
   ]
  },
  {
   "cell_type": "code",
   "execution_count": 2,
   "id": "b923e659",
   "metadata": {
    "ExecuteTime": {
     "end_time": "2024-05-12T19:52:25.305369Z",
     "start_time": "2024-05-12T19:52:25.212601Z"
    }
   },
   "outputs": [
    {
     "data": {
      "text/html": [
       "<div>\n",
       "<style scoped>\n",
       "    .dataframe tbody tr th:only-of-type {\n",
       "        vertical-align: middle;\n",
       "    }\n",
       "\n",
       "    .dataframe tbody tr th {\n",
       "        vertical-align: top;\n",
       "    }\n",
       "\n",
       "    .dataframe thead th {\n",
       "        text-align: right;\n",
       "    }\n",
       "</style>\n",
       "<table border=\"1\" class=\"dataframe\">\n",
       "  <thead>\n",
       "    <tr style=\"text-align: right;\">\n",
       "      <th></th>\n",
       "      <th>Index</th>\n",
       "      <th>Start</th>\n",
       "      <th>End</th>\n",
       "      <th>Freq</th>\n",
       "    </tr>\n",
       "  </thead>\n",
       "  <tbody>\n",
       "    <tr>\n",
       "      <th>0</th>\n",
       "      <td>102</td>\n",
       "      <td>1999-01-01</td>\n",
       "      <td>2002-03-31</td>\n",
       "      <td>M</td>\n",
       "    </tr>\n",
       "    <tr>\n",
       "      <th>1</th>\n",
       "      <td>402</td>\n",
       "      <td>1999-04-01</td>\n",
       "      <td>2002-06-30</td>\n",
       "      <td>M</td>\n",
       "    </tr>\n",
       "    <tr>\n",
       "      <th>2</th>\n",
       "      <td>702</td>\n",
       "      <td>1999-07-01</td>\n",
       "      <td>2002-09-30</td>\n",
       "      <td>M</td>\n",
       "    </tr>\n",
       "    <tr>\n",
       "      <th>3</th>\n",
       "      <td>1002</td>\n",
       "      <td>1999-10-01</td>\n",
       "      <td>2002-12-31</td>\n",
       "      <td>M</td>\n",
       "    </tr>\n",
       "    <tr>\n",
       "      <th>4</th>\n",
       "      <td>103</td>\n",
       "      <td>2000-01-01</td>\n",
       "      <td>2003-03-31</td>\n",
       "      <td>M</td>\n",
       "    </tr>\n",
       "    <tr>\n",
       "      <th>...</th>\n",
       "      <td>...</td>\n",
       "      <td>...</td>\n",
       "      <td>...</td>\n",
       "      <td>...</td>\n",
       "    </tr>\n",
       "    <tr>\n",
       "      <th>84</th>\n",
       "      <td>123</td>\n",
       "      <td>2020-01-01</td>\n",
       "      <td>2023-03-31</td>\n",
       "      <td>M</td>\n",
       "    </tr>\n",
       "    <tr>\n",
       "      <th>85</th>\n",
       "      <td>423</td>\n",
       "      <td>2020-04-01</td>\n",
       "      <td>2023-06-30</td>\n",
       "      <td>M</td>\n",
       "    </tr>\n",
       "    <tr>\n",
       "      <th>86</th>\n",
       "      <td>723</td>\n",
       "      <td>2020-07-01</td>\n",
       "      <td>2023-09-30</td>\n",
       "      <td>M</td>\n",
       "    </tr>\n",
       "    <tr>\n",
       "      <th>87</th>\n",
       "      <td>1023</td>\n",
       "      <td>2020-10-01</td>\n",
       "      <td>2023-12-31</td>\n",
       "      <td>M</td>\n",
       "    </tr>\n",
       "    <tr>\n",
       "      <th>88</th>\n",
       "      <td>124</td>\n",
       "      <td>2021-01-01</td>\n",
       "      <td>2024-03-31</td>\n",
       "      <td>M</td>\n",
       "    </tr>\n",
       "  </tbody>\n",
       "</table>\n",
       "<p>89 rows × 4 columns</p>\n",
       "</div>"
      ],
      "text/plain": [
       "    Index      Start        End Freq\n",
       "0     102 1999-01-01 2002-03-31    M\n",
       "1     402 1999-04-01 2002-06-30    M\n",
       "2     702 1999-07-01 2002-09-30    M\n",
       "3    1002 1999-10-01 2002-12-31    M\n",
       "4     103 2000-01-01 2003-03-31    M\n",
       "..    ...        ...        ...  ...\n",
       "84    123 2020-01-01 2023-03-31    M\n",
       "85    423 2020-04-01 2023-06-30    M\n",
       "86    723 2020-07-01 2023-09-30    M\n",
       "87   1023 2020-10-01 2023-12-31    M\n",
       "88    124 2021-01-01 2024-03-31    M\n",
       "\n",
       "[89 rows x 4 columns]"
      ]
     },
     "execution_count": 2,
     "metadata": {},
     "output_type": "execute_result"
    }
   ],
   "source": [
    "# Bestandsnaam van het Excel-bestand\n",
    "file_name = 'DatesMonthlyReturnNeeded.xlsx'\n",
    "\n",
    "# Het Excel-bestand lezen en opslaan als een DataFrame\n",
    "df = pd.read_excel(file_name)\n",
    "\n",
    "# De eerste paar rijen van de DataFrame printen om te bevestigen\n",
    "df"
   ]
  },
  {
   "cell_type": "code",
   "execution_count": 3,
   "id": "c9d79ab8",
   "metadata": {
    "ExecuteTime": {
     "end_time": "2024-05-12T19:52:25.321333Z",
     "start_time": "2024-05-12T19:52:25.307402Z"
    },
    "scrolled": true
   },
   "outputs": [
    {
     "data": {
      "text/html": [
       "<div>\n",
       "<style scoped>\n",
       "    .dataframe tbody tr th:only-of-type {\n",
       "        vertical-align: middle;\n",
       "    }\n",
       "\n",
       "    .dataframe tbody tr th {\n",
       "        vertical-align: top;\n",
       "    }\n",
       "\n",
       "    .dataframe thead th {\n",
       "        text-align: right;\n",
       "    }\n",
       "</style>\n",
       "<table border=\"1\" class=\"dataframe\">\n",
       "  <thead>\n",
       "    <tr style=\"text-align: right;\">\n",
       "      <th></th>\n",
       "      <th>Index</th>\n",
       "      <th>Start</th>\n",
       "      <th>End</th>\n",
       "      <th>Freq</th>\n",
       "    </tr>\n",
       "  </thead>\n",
       "  <tbody>\n",
       "    <tr>\n",
       "      <th>0</th>\n",
       "      <td>0102</td>\n",
       "      <td>1999-01-01</td>\n",
       "      <td>2002-03-31</td>\n",
       "      <td>M</td>\n",
       "    </tr>\n",
       "    <tr>\n",
       "      <th>1</th>\n",
       "      <td>0402</td>\n",
       "      <td>1999-04-01</td>\n",
       "      <td>2002-06-30</td>\n",
       "      <td>M</td>\n",
       "    </tr>\n",
       "    <tr>\n",
       "      <th>2</th>\n",
       "      <td>0702</td>\n",
       "      <td>1999-07-01</td>\n",
       "      <td>2002-09-30</td>\n",
       "      <td>M</td>\n",
       "    </tr>\n",
       "    <tr>\n",
       "      <th>3</th>\n",
       "      <td>1002</td>\n",
       "      <td>1999-10-01</td>\n",
       "      <td>2002-12-31</td>\n",
       "      <td>M</td>\n",
       "    </tr>\n",
       "    <tr>\n",
       "      <th>4</th>\n",
       "      <td>0103</td>\n",
       "      <td>2000-01-01</td>\n",
       "      <td>2003-03-31</td>\n",
       "      <td>M</td>\n",
       "    </tr>\n",
       "    <tr>\n",
       "      <th>...</th>\n",
       "      <td>...</td>\n",
       "      <td>...</td>\n",
       "      <td>...</td>\n",
       "      <td>...</td>\n",
       "    </tr>\n",
       "    <tr>\n",
       "      <th>84</th>\n",
       "      <td>0123</td>\n",
       "      <td>2020-01-01</td>\n",
       "      <td>2023-03-31</td>\n",
       "      <td>M</td>\n",
       "    </tr>\n",
       "    <tr>\n",
       "      <th>85</th>\n",
       "      <td>0423</td>\n",
       "      <td>2020-04-01</td>\n",
       "      <td>2023-06-30</td>\n",
       "      <td>M</td>\n",
       "    </tr>\n",
       "    <tr>\n",
       "      <th>86</th>\n",
       "      <td>0723</td>\n",
       "      <td>2020-07-01</td>\n",
       "      <td>2023-09-30</td>\n",
       "      <td>M</td>\n",
       "    </tr>\n",
       "    <tr>\n",
       "      <th>87</th>\n",
       "      <td>1023</td>\n",
       "      <td>2020-10-01</td>\n",
       "      <td>2023-12-31</td>\n",
       "      <td>M</td>\n",
       "    </tr>\n",
       "    <tr>\n",
       "      <th>88</th>\n",
       "      <td>0124</td>\n",
       "      <td>2021-01-01</td>\n",
       "      <td>2024-03-31</td>\n",
       "      <td>M</td>\n",
       "    </tr>\n",
       "  </tbody>\n",
       "</table>\n",
       "<p>89 rows × 4 columns</p>\n",
       "</div>"
      ],
      "text/plain": [
       "   Index      Start        End Freq\n",
       "0   0102 1999-01-01 2002-03-31    M\n",
       "1   0402 1999-04-01 2002-06-30    M\n",
       "2   0702 1999-07-01 2002-09-30    M\n",
       "3   1002 1999-10-01 2002-12-31    M\n",
       "4   0103 2000-01-01 2003-03-31    M\n",
       "..   ...        ...        ...  ...\n",
       "84  0123 2020-01-01 2023-03-31    M\n",
       "85  0423 2020-04-01 2023-06-30    M\n",
       "86  0723 2020-07-01 2023-09-30    M\n",
       "87  1023 2020-10-01 2023-12-31    M\n",
       "88  0124 2021-01-01 2024-03-31    M\n",
       "\n",
       "[89 rows x 4 columns]"
      ]
     },
     "execution_count": 3,
     "metadata": {},
     "output_type": "execute_result"
    }
   ],
   "source": [
    "# De 'index' kolom converteren naar string, voorloopnullen toevoegen indien nodig\n",
    "df['Index'] = df['Index'].astype(str).apply(lambda x: '0' + x if len(x) == 3 else x)\n",
    "\n",
    "df"
   ]
  },
  {
   "cell_type": "markdown",
   "id": "3743d3c3",
   "metadata": {},
   "source": [
    "### For the stocks"
   ]
  },
  {
   "cell_type": "code",
   "execution_count": 4,
   "id": "cca8845b",
   "metadata": {
    "ExecuteTime": {
     "end_time": "2024-05-12T19:52:26.810045Z",
     "start_time": "2024-05-12T19:52:25.325321Z"
    }
   },
   "outputs": [],
   "source": [
    "# Bestandspad definiëren\n",
    "file_path = 'Stocks_MonthlyReturn.xlsx'\n",
    "\n",
    "# Een leeg Excel-bestand aanmaken met pandas ExcelWriter\n",
    "with pd.ExcelWriter(file_path, engine='openpyxl') as writer:\n",
    "    # We hoeven hier geen data toe te voegen, alleen het bestand initialiseren\n",
    "\n",
    "    # Loop door elke rij in de DataFrame en maak een sheet voor elke 'Index'\n",
    "    for index, row in df.iterrows():\n",
    "        temp_df = pd.DataFrame({'A': ['']})  # Maak een tijdelijke lege DataFrame\n",
    "        temp_df.to_excel(writer, sheet_name=row['Index'], index=False, header=False)\n",
    "\n",
    "# Na het opslaan van het lege bestand, nu het werkboek bewerken om de formules toe te voegen\n",
    "book = load_workbook(file_path)\n",
    "for index, row in df.iterrows():\n",
    "    \n",
    "     # De start- en einddatum omzetten naar het gewenste formaat (zonder tijdstip)\n",
    "    start_date_formatted = row['Start'].strftime('%Y-%m-%d')\n",
    "    end_date_formatted = row['End'].strftime('%Y-%m-%d')\n",
    "    \n",
    "    # De formule opbouwen\n",
    "    formula = f'=DSGRID(\"LDJSTOXX{row[\"Index\"]}\";\"X(RI)~E\";\"{start_date_formatted}\"; \"{end_date_formatted}\";\"{row[\"Freq\"]}\";\"RowHeader=true;TimeSeriesList=true;ColHeader=true;Transpose=true;Curn=true;DispSeriesDescription=false;YearlyTSFormat=false;QuarterlyTSFormat=false;MonthlyTSFormat=False\";\"\")'\n",
    "    \n",
    "    # De juiste sheet selecteren\n",
    "    sheet = book[row['Index']]\n",
    "    # Voeg de formule toe aan cel A1\n",
    "    sheet['A1'] = \"'\"   +  formula #We voegen er dit aan toe anders tript die weer helemaal\n",
    "\n",
    "# Sla de wijzigingen op\n",
    "book.save(file_path)\n",
    "book.close()"
   ]
  }
 ],
 "metadata": {
  "kernelspec": {
   "display_name": "Python 3 (ipykernel)",
   "language": "python",
   "name": "python3"
  },
  "language_info": {
   "codemirror_mode": {
    "name": "ipython",
    "version": 3
   },
   "file_extension": ".py",
   "mimetype": "text/x-python",
   "name": "python",
   "nbconvert_exporter": "python",
   "pygments_lexer": "ipython3",
   "version": "3.9.12"
  },
  "toc": {
   "base_numbering": 1,
   "nav_menu": {},
   "number_sections": false,
   "sideBar": true,
   "skip_h1_title": false,
   "title_cell": "Table of Contents",
   "title_sidebar": "Contents",
   "toc_cell": false,
   "toc_position": {},
   "toc_section_display": true,
   "toc_window_display": false
  },
  "varInspector": {
   "cols": {
    "lenName": 16,
    "lenType": 16,
    "lenVar": 40
   },
   "kernels_config": {
    "python": {
     "delete_cmd_postfix": "",
     "delete_cmd_prefix": "del ",
     "library": "var_list.py",
     "varRefreshCmd": "print(var_dic_list())"
    },
    "r": {
     "delete_cmd_postfix": ") ",
     "delete_cmd_prefix": "rm(",
     "library": "var_list.r",
     "varRefreshCmd": "cat(var_dic_list()) "
    }
   },
   "types_to_exclude": [
    "module",
    "function",
    "builtin_function_or_method",
    "instance",
    "_Feature"
   ],
   "window_display": false
  }
 },
 "nbformat": 4,
 "nbformat_minor": 5
}
