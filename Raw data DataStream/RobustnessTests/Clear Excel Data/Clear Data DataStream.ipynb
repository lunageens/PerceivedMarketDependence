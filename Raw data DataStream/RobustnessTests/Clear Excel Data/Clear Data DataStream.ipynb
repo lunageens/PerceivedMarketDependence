{
 "cells": [
  {
   "cell_type": "markdown",
   "id": "3b9a78d7",
   "metadata": {},
   "source": [
    "If you ran the request table and want to clear the datastream data but keep the requesttable and sheet names, run the following script: "
   ]
  },
  {
   "cell_type": "code",
   "execution_count": 1,
   "id": "534681cc",
   "metadata": {
    "ExecuteTime": {
     "end_time": "2024-05-15T12:59:56.869065Z",
     "start_time": "2024-05-15T12:59:55.907356Z"
    }
   },
   "outputs": [],
   "source": [
    "import openpyxl"
   ]
  },
  {
   "cell_type": "code",
   "execution_count": 2,
   "id": "c90f8091",
   "metadata": {
    "ExecuteTime": {
     "end_time": "2024-05-15T12:59:56.885024Z",
     "start_time": "2024-05-15T12:59:56.871061Z"
    }
   },
   "outputs": [],
   "source": [
    "def clear_excel_data(filename):\n",
    "    \"\"\"\n",
    "    Clears data from all sheets except the first sheet in a macro-enabled Excel workbook.\n",
    "    \n",
    "    Args:\n",
    "    filename (str): The path to the macro-enabled Excel file (.xlsm).\n",
    "    \n",
    "    Returns:\n",
    "    None: The function modifies the Excel file in place and saves it with the same name.\n",
    "    \"\"\"\n",
    "    # Load the workbook with macro support\n",
    "    wb = openpyxl.load_workbook(filename, keep_vba=True)\n",
    "    \n",
    "    # Get all sheets names\n",
    "    sheets = wb.sheetnames\n",
    "    \n",
    "    # Loop over all sheets except the first one\n",
    "    for sheet_name in sheets[1:]:\n",
    "        ws = wb[sheet_name]\n",
    "        # Get the maximum row and column count\n",
    "        max_row = ws.max_row\n",
    "        max_column = ws.max_column\n",
    "        # If the sheet is not empty, clear it\n",
    "        if max_row > 1 or max_column > 1:\n",
    "            ws.delete_rows(2, max_row)\n",
    "            ws.delete_cols(2, max_column)\n",
    "\n",
    "    # Save the workbook with the same name\n",
    "    wb.save(filename)"
   ]
  },
  {
   "cell_type": "code",
   "execution_count": 3,
   "id": "097158f8",
   "metadata": {
    "ExecuteTime": {
     "end_time": "2024-05-15T13:04:58.663731Z",
     "start_time": "2024-05-15T12:59:56.889015Z"
    }
   },
   "outputs": [
    {
     "name": "stderr",
     "output_type": "stream",
     "text": [
      "C:\\Users\\lunag\\anaconda3\\lib\\site-packages\\openpyxl\\comments\\shape_writer.py:74: FutureWarning: The behavior of this method will change in future versions. Use specific 'len(elem)' or 'elem is not None' test instead.\n",
      "  if not shape_types:\n"
     ]
    }
   ],
   "source": [
    "# Example usage:\n",
    "filename = 'Stocks_TradingVolume.xlsm'\n",
    "clear_excel_data(filename)"
   ]
  },
  {
   "cell_type": "code",
   "execution_count": null,
   "id": "06ab9c09",
   "metadata": {},
   "outputs": [],
   "source": []
  }
 ],
 "metadata": {
  "kernelspec": {
   "display_name": "Python 3 (ipykernel)",
   "language": "python",
   "name": "python3"
  },
  "language_info": {
   "codemirror_mode": {
    "name": "ipython",
    "version": 3
   },
   "file_extension": ".py",
   "mimetype": "text/x-python",
   "name": "python",
   "nbconvert_exporter": "python",
   "pygments_lexer": "ipython3",
   "version": "3.9.12"
  },
  "toc": {
   "base_numbering": 1,
   "nav_menu": {},
   "number_sections": false,
   "sideBar": true,
   "skip_h1_title": false,
   "title_cell": "Table of Contents",
   "title_sidebar": "Contents",
   "toc_cell": false,
   "toc_position": {},
   "toc_section_display": true,
   "toc_window_display": false
  },
  "varInspector": {
   "cols": {
    "lenName": 16,
    "lenType": 16,
    "lenVar": 40
   },
   "kernels_config": {
    "python": {
     "delete_cmd_postfix": "",
     "delete_cmd_prefix": "del ",
     "library": "var_list.py",
     "varRefreshCmd": "print(var_dic_list())"
    },
    "r": {
     "delete_cmd_postfix": ") ",
     "delete_cmd_prefix": "rm(",
     "library": "var_list.r",
     "varRefreshCmd": "cat(var_dic_list()) "
    }
   },
   "types_to_exclude": [
    "module",
    "function",
    "builtin_function_or_method",
    "instance",
    "_Feature"
   ],
   "window_display": false
  }
 },
 "nbformat": 4,
 "nbformat_minor": 5
}
