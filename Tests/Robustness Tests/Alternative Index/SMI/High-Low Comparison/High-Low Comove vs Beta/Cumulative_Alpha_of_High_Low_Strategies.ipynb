{
  "cells": [
    {
      "cell_type": "markdown",
      "id": "24c90958",
      "metadata": {
        "id": "24c90958"
      },
      "source": [
        "# Perceived Dependence of Stocks and Correlation: Cumulative Alpha of High-Low Strategies"
      ]
    },
    {
      "cell_type": "markdown",
      "id": "cba3ad0a",
      "metadata": {
        "id": "cba3ad0a"
      },
      "source": [
        "For my thesis, i will look into the difference between the perceived dependence and the actual correlation of the return of stocks with the market return. In this notebook, we will compare the results of the High-Low Comove strategy with those of the High-Low Beta strategy."
      ]
    },
    {
      "cell_type": "markdown",
      "source": [
        "**Difference with main results: Everything adjusted for SMI**"
      ],
      "metadata": {
        "id": "3pTVlZ-LTI6Q"
      },
      "id": "3pTVlZ-LTI6Q"
    },
    {
      "cell_type": "code",
      "source": [
        "index = \"SMI\""
      ],
      "metadata": {
        "id": "1TYmmS3BTFbF"
      },
      "id": "1TYmmS3BTFbF",
      "execution_count": 1,
      "outputs": []
    },
    {
      "cell_type": "markdown",
      "id": "0a38f704",
      "metadata": {
        "id": "0a38f704"
      },
      "source": [
        "## 1. Imports"
      ]
    },
    {
      "cell_type": "markdown",
      "id": "3afee41e",
      "metadata": {
        "id": "3afee41e"
      },
      "source": [
        "We need the following libs:"
      ]
    },
    {
      "cell_type": "code",
      "execution_count": null,
      "id": "a32e3954",
      "metadata": {
        "ExecuteTime": {
          "end_time": "2024-05-07T15:36:17.892442Z",
          "start_time": "2024-05-07T15:36:15.885867Z"
        },
        "id": "a32e3954"
      },
      "outputs": [],
      "source": [
        "import pandas as pd\n",
        "import seaborn as sns\n",
        "import matplotlib.pyplot as plt\n",
        "from matplotlib.ticker import PercentFormatter"
      ]
    },
    {
      "cell_type": "markdown",
      "id": "80a15671",
      "metadata": {
        "ExecuteTime": {
          "end_time": "2024-05-07T14:18:48.396499Z",
          "start_time": "2024-05-07T14:18:48.378550Z"
        },
        "id": "80a15671"
      },
      "source": [
        "Firstly, read in the Excels of the High-Low Comove strategy (Monthly Data.xlsx and Monthly Results.xlsx, after copying and renaming them). Secondly, do the same for the Excels of the High-Low Beta strategy."
      ]
    },
    {
      "cell_type": "code",
      "execution_count": null,
      "id": "e0c16c0f",
      "metadata": {
        "ExecuteTime": {
          "end_time": "2024-05-07T15:36:19.075559Z",
          "start_time": "2024-05-07T15:36:17.894386Z"
        },
        "id": "e0c16c0f"
      },
      "outputs": [],
      "source": [
        "Data_ExcelFile ='Monthly Data Comove.xlsx'\n",
        "dataComove =  pd.read_excel(Data_ExcelFile)\n",
        "# Remove the first numbered Index column. We'll use .iloc here for slicing.\n",
        "dataComove = dataComove.iloc[:, 1:]\n",
        "# Set the MMYYYY column as index\n",
        "dataComove.set_index('MMYYYY', inplace=True)\n",
        "\n",
        "Data_ExcelFile ='Monthly Data Beta.xlsx'\n",
        "dataBeta =  pd.read_excel(Data_ExcelFile)\n",
        "# Remove the first numbered Index column. We'll use .iloc here for slicing.\n",
        "dataBeta = dataBeta.iloc[:, 1:]\n",
        "# Set the MMYYYY column as index\n",
        "dataBeta.set_index('MMYYYY', inplace=True)\n",
        "\n",
        "Results_ExcelFile = 'Monthly Results Comove.xlsx'\n",
        "# Read the specific sheet into a DataFrame\n",
        "resultsComove = pd.read_excel(Results_ExcelFile, sheet_name='HighLow_4F')\n",
        "\n",
        "Results_ExcelFile = 'Monthly Results Beta.xlsx'\n",
        "# Read the specific sheet into a DataFrame\n",
        "resultsBeta = pd.read_excel(Results_ExcelFile, sheet_name='HighLow_4F')"
      ]
    },
    {
      "cell_type": "code",
      "execution_count": null,
      "id": "635e4755",
      "metadata": {
        "ExecuteTime": {
          "end_time": "2024-05-07T15:36:19.122382Z",
          "start_time": "2024-05-07T15:36:19.077559Z"
        },
        "id": "635e4755"
      },
      "outputs": [],
      "source": [
        "dataComove"
      ]
    },
    {
      "cell_type": "code",
      "execution_count": null,
      "id": "b9003858",
      "metadata": {
        "ExecuteTime": {
          "end_time": "2024-05-07T15:36:19.154297Z",
          "start_time": "2024-05-07T15:36:19.124379Z"
        },
        "id": "b9003858"
      },
      "outputs": [],
      "source": [
        "dataBeta"
      ]
    },
    {
      "cell_type": "code",
      "execution_count": null,
      "id": "1aab63af",
      "metadata": {
        "ExecuteTime": {
          "end_time": "2024-05-07T15:36:19.186245Z",
          "start_time": "2024-05-07T15:36:19.158288Z"
        },
        "id": "1aab63af"
      },
      "outputs": [],
      "source": [
        "resultsComove"
      ]
    },
    {
      "cell_type": "code",
      "execution_count": null,
      "id": "c59d7fe1",
      "metadata": {
        "ExecuteTime": {
          "end_time": "2024-05-07T15:36:19.202203Z",
          "start_time": "2024-05-07T15:36:19.190240Z"
        },
        "id": "c59d7fe1"
      },
      "outputs": [],
      "source": [
        "resultsBeta"
      ]
    },
    {
      "cell_type": "markdown",
      "id": "e2d01ae1",
      "metadata": {
        "id": "e2d01ae1"
      },
      "source": [
        "## 2. Calculating High-Low Portfolios"
      ]
    },
    {
      "cell_type": "markdown",
      "id": "7ef8a9b4",
      "metadata": {
        "id": "7ef8a9b4"
      },
      "source": [
        "For both Comove as Beta, we now calculate the differences in return and get the needed four-factor data."
      ]
    },
    {
      "cell_type": "code",
      "execution_count": null,
      "id": "0aff6cf7",
      "metadata": {
        "ExecuteTime": {
          "end_time": "2024-05-07T15:36:19.453833Z",
          "start_time": "2024-05-07T15:36:19.205161Z"
        },
        "id": "0aff6cf7"
      },
      "outputs": [],
      "source": [
        "# Filter rows where Comove rank is 1 or 5\n",
        "dataHighLowComove = dataComove[dataComove['Comove rank'].isin([1, 5])]\n",
        "\n",
        "# Groepeer data op 'MMYYYYY' en bereken het verschil in 'Avg. yearly return' tussen de comove ranks\n",
        "dataHighLowComove.reset_index()\n",
        "# Define a function to calculate the difference in 'Avg. Return' between comove ranks 5 and 1\n",
        "def calculate_diff(group):\n",
        "    rank_5 = group[group['Comove rank'] == 5]['Avg. Return']\n",
        "    rank_1 = group[group['Comove rank'] == 1]['Avg. Return']\n",
        "\n",
        "    if not rank_5.empty and not rank_1.empty:\n",
        "        return rank_5.values[0] - rank_1.values[0]\n",
        "    else:\n",
        "        return None\n",
        "\n",
        "# Group by 'MMYYYY' and apply the function\n",
        "dataHighLowComove_diff = dataHighLowComove.groupby('MMYYYY').apply(calculate_diff).reset_index()\n",
        "# Hernoem de kolommen naar 'MMYYYYY' en 'Portfolio Excess Return'\n",
        "dataHighLowComove_diff.columns = ['MMYYYY', 'Comove Portfolio Excess Return']\n",
        "dataHighLowComove_diff.set_index('MMYYYY')\n",
        "\n",
        "# Filter data om alleen rijen met Comove rank = 1 te behouden\n",
        "data_rank_1 = dataComove[dataComove['Comove rank'] == 1]\n",
        "# Selecteer alleen de benodigde kolommen\n",
        "data_rank_1 = data_rank_1[['Mkt-RF', 'SMB', 'HML', 'UMD']]\n",
        "\n",
        "# Voeg de dataframes samen op basis van 'MMYYYY'\n",
        "dataHighLowComove_diff = pd.merge(dataHighLowComove_diff, data_rank_1, on='MMYYYY', how='left')\n",
        "dataHighLowComove_diff.set_index(\"MMYYYY\")"
      ]
    },
    {
      "cell_type": "code",
      "execution_count": null,
      "id": "55c5c125",
      "metadata": {
        "ExecuteTime": {
          "end_time": "2024-05-07T15:36:19.667442Z",
          "start_time": "2024-05-07T15:36:19.462808Z"
        },
        "id": "55c5c125"
      },
      "outputs": [],
      "source": [
        "# Filter rows where Beta rank is 1 or 5\n",
        "dataHighLowBeta = dataBeta[dataBeta['Beta rank'].isin([1, 5])]\n",
        "\n",
        "# Groepeer data op 'MMYYYYY' en bereken het verschil in 'Avg. yearly return' tussen de beta ranks\n",
        "dataHighLowBeta.reset_index()\n",
        "dataHighLowBeta_diff = dataHighLowBeta.groupby('MMYYYY').apply(lambda x: x[x['Beta rank'] == 5]['Avg. Return'].values[0] - x[x['Beta rank'] == 1]['Avg. Return'].values[0]).reset_index()\n",
        "# Hernoem de kolommen naar 'MMYYYYY' en 'Portfolio Excess Return'\n",
        "dataHighLowBeta_diff.columns = ['MMYYYY', 'Beta Portfolio Excess Return']\n",
        "dataHighLowBeta_diff.set_index('MMYYYY')\n",
        "\n",
        "# Filter data om alleen rijen met Beta rank = 1 te behouden\n",
        "data_rank_1 = dataBeta[dataBeta['Beta rank'] == 1]\n",
        "# Selecteer alleen de benodigde kolommen\n",
        "data_rank_1 = data_rank_1[['Mkt-RF', 'SMB', 'HML', 'UMD']]\n",
        "\n",
        "# Voeg de dataframes samen op basis van 'MMYYYY'\n",
        "dataHighLowBeta_diff = pd.merge(dataHighLowBeta_diff, data_rank_1, on='MMYYYY', how='left')\n",
        "dataHighLowBeta_diff.set_index(\"MMYYYY\")"
      ]
    },
    {
      "cell_type": "markdown",
      "id": "6e58e4c7",
      "metadata": {
        "id": "6e58e4c7"
      },
      "source": [
        "## 3. Calculating alpha's based on the estimated coefficients"
      ]
    },
    {
      "cell_type": "markdown",
      "id": "1d440600",
      "metadata": {
        "id": "1d440600"
      },
      "source": [
        "Now we will take the monthly factor data and multiply it by their coefficients."
      ]
    },
    {
      "cell_type": "code",
      "execution_count": null,
      "id": "8ef1d852",
      "metadata": {
        "ExecuteTime": {
          "end_time": "2024-05-07T15:36:19.698200Z",
          "start_time": "2024-05-07T15:36:19.671404Z"
        },
        "id": "8ef1d852"
      },
      "outputs": [],
      "source": [
        "# Extract coefficients from 'resultsComove', skipping the first row (alpha)\n",
        "coefficients = resultsComove['Coefficient'].iloc[1:].tolist()\n",
        "# Skip the first column of 'dataHighLowComove_diff' which is portfolio excess return\n",
        "data_high_low = dataHighLowComove_diff.iloc[:, 2:]\n",
        "# Multiply each column in 'data_high_low' by the corresponding coefficient\n",
        "# Ensure there are exactly four columns to match the four coefficients\n",
        "for i in range(len(coefficients)):\n",
        "    data_high_low.iloc[:, i] = data_high_low.iloc[:, i] * coefficients[i]\n",
        "# Create a new column for the sum of these products\n",
        "dataHighLowComove_diff['Explained Comove Portfolio Excess Return'] = data_high_low.sum(axis=1)\n",
        "# Create another new column for \"Estimated Alpha\"\n",
        "dataHighLowComove_diff['Estimated Alpha'] = dataHighLowComove_diff['Comove Portfolio Excess Return'] - dataHighLowComove_diff['Explained Comove Portfolio Excess Return']\n",
        "# Display the updated dataframe\n",
        "dataHighLowComove_diff.set_index('MMYYYY', inplace=True)"
      ]
    },
    {
      "cell_type": "code",
      "execution_count": null,
      "id": "f1797671",
      "metadata": {
        "ExecuteTime": {
          "end_time": "2024-05-07T15:36:19.728124Z",
          "start_time": "2024-05-07T15:36:19.699206Z"
        },
        "id": "f1797671"
      },
      "outputs": [],
      "source": [
        "# Extract coefficients from 'resultBeta', skipping the first row (alpha)\n",
        "coefficients = resultsBeta['Coefficient'].iloc[1:].tolist()\n",
        "print(coefficients)\n",
        "# Skip the first column of 'dataHighLowBeta_diff' which is portfolio excess return\n",
        "data_high_low = dataHighLowBeta_diff.iloc[:, 2:]\n",
        "# Multiply each column in 'data_high_low' by the corresponding coefficient\n",
        "# Ensure there are exactly four columns to match the four coefficients\n",
        "for i in range(len(coefficients)):\n",
        "    data_high_low.iloc[:, i] = data_high_low.iloc[:, i] * coefficients[i]\n",
        "# Create a new column for the sum of these products\n",
        "dataHighLowBeta_diff['Explained Beta Portfolio Excess Return'] = data_high_low.sum(axis=1)\n",
        "# Create another new column for \"Estimated Alpha\"\n",
        "dataHighLowBeta_diff['Estimated Alpha'] = dataHighLowBeta_diff['Beta Portfolio Excess Return'] - dataHighLowBeta_diff['Explained Beta Portfolio Excess Return']\n",
        "# Display the updated dataframe\n",
        "dataHighLowBeta_diff.set_index('MMYYYY', inplace=True)"
      ]
    },
    {
      "cell_type": "markdown",
      "id": "bb020058",
      "metadata": {
        "id": "bb020058"
      },
      "source": [
        "Now, we merge them together in one dataframe for the graph"
      ]
    },
    {
      "cell_type": "code",
      "execution_count": null,
      "id": "debe19c6",
      "metadata": {
        "ExecuteTime": {
          "end_time": "2024-05-07T15:36:19.758476Z",
          "start_time": "2024-05-07T15:36:19.730121Z"
        },
        "id": "debe19c6"
      },
      "outputs": [],
      "source": [
        "# Select only the 'Estimated Alpha' column from each dataframe and rename them\n",
        "dataBeta = dataHighLowBeta_diff[['Estimated Alpha']].rename(columns={'Estimated Alpha': 'Estimated Alpha Beta'})\n",
        "dataComove = dataHighLowComove_diff[['Estimated Alpha']].rename(columns={'Estimated Alpha': 'Estimated Alpha Comove'})\n",
        "# Merge the two dataframes on their index\n",
        "data = pd.merge(dataBeta, dataComove, left_index=True, right_index=True, how='inner')\n",
        "data"
      ]
    },
    {
      "cell_type": "code",
      "source": [],
      "metadata": {
        "id": "Xr1AAyovTQx2"
      },
      "id": "Xr1AAyovTQx2",
      "execution_count": null,
      "outputs": []
    },
    {
      "cell_type": "markdown",
      "id": "181e8832",
      "metadata": {
        "id": "181e8832"
      },
      "source": [
        "## 4. Plotting Cumulative Alpha's"
      ]
    },
    {
      "cell_type": "code",
      "execution_count": null,
      "id": "74f13110",
      "metadata": {
        "ExecuteTime": {
          "end_time": "2024-05-07T15:45:34.215704Z",
          "start_time": "2024-05-07T15:45:33.575854Z"
        },
        "id": "74f13110"
      },
      "outputs": [],
      "source": [
        "# Convert the MMYYYY to a Proper Date Format first\n",
        "data.reset_index(inplace=True)\n",
        "data['MMYYYY'] = pd.to_datetime(data['MMYYYY'], format='%m%Y')\n",
        "data.set_index('MMYYYY', inplace=True)\n",
        "data = data.sort_index()\n",
        "\n",
        "# Set the style\n",
        "sns.set(style=\"whitegrid\")\n",
        "colors = {1: '#002E65', 2: '#65A812'}  # Map comove ranks to specific colors\n",
        "columns = ['Estimated Alpha Beta', 'Estimated Alpha Comove']\n",
        "labels = ['High-Low Beta Strategy', 'High-Low Comove Strategy']\n",
        "\n",
        "plt.figure(figsize=(20, 10))\n",
        "for rank in [1, 2]:\n",
        "    subset = data[columns[rank-1]]\n",
        "    cumulative_returns = (1 + subset).cumprod() - 1  # Calculate cumulative returns\n",
        "    plt.plot(cumulative_returns.index, cumulative_returns, label=labels[rank-1], color=colors[rank])\n",
        "\n",
        "\n",
        "# Set labels and title\n",
        "plt.xlabel('Time')\n",
        "plt.ylabel('Cumulative Carhart Alpha of High-Low Strategy (over Time)')\n",
        "\n",
        "# Format y-axis as percentage\n",
        "plt.gca().yaxis.set_major_formatter(PercentFormatter(1))\n",
        "title = \"Cumulative Alpha of High-Low Strategies Over Time: High-Low Beta versus High-Low Comove for \" + index + \". \"\n",
        "plt.title(title)\n",
        "plt.legend(title=\"Portfolio Sorting Strategies\")\n",
        "\n",
        "# Save the figure\n",
        "plt.savefig('CummulativeAlpha_ComoveVsBeta.png')\n",
        "plt.show()\n"
      ]
    },
    {
      "cell_type": "code",
      "source": [
        "data.reset_index(inplace=True)\n",
        "\n",
        "# Define the filename with the dynamic index\n",
        "filename = f'CumAlpha_{index}.xlsx'\n",
        "\n",
        "# Write the DataFrame to the Excel file\n",
        "data.to_excel(filename, index=False, engine='openpyxl')\n",
        "\n",
        "print(f\"DataFrame successfully saved to {filename}\")"
      ],
      "metadata": {
        "id": "74wyVoAVTjV7"
      },
      "id": "74wyVoAVTjV7",
      "execution_count": null,
      "outputs": []
    }
  ],
  "metadata": {
    "kernelspec": {
      "display_name": "Python 3 (ipykernel)",
      "language": "python",
      "name": "python3"
    },
    "language_info": {
      "codemirror_mode": {
        "name": "ipython",
        "version": 3
      },
      "file_extension": ".py",
      "mimetype": "text/x-python",
      "name": "python",
      "nbconvert_exporter": "python",
      "pygments_lexer": "ipython3",
      "version": "3.9.12"
    },
    "toc": {
      "base_numbering": 1,
      "nav_menu": {},
      "number_sections": false,
      "sideBar": true,
      "skip_h1_title": false,
      "title_cell": "Table of Contents",
      "title_sidebar": "Contents",
      "toc_cell": false,
      "toc_position": {},
      "toc_section_display": true,
      "toc_window_display": false
    },
    "varInspector": {
      "cols": {
        "lenName": 16,
        "lenType": 16,
        "lenVar": 40
      },
      "kernels_config": {
        "python": {
          "delete_cmd_postfix": "",
          "delete_cmd_prefix": "del ",
          "library": "var_list.py",
          "varRefreshCmd": "print(var_dic_list())"
        },
        "r": {
          "delete_cmd_postfix": ") ",
          "delete_cmd_prefix": "rm(",
          "library": "var_list.r",
          "varRefreshCmd": "cat(var_dic_list()) "
        }
      },
      "types_to_exclude": [
        "module",
        "function",
        "builtin_function_or_method",
        "instance",
        "_Feature"
      ],
      "window_display": false
    },
    "colab": {
      "provenance": []
    }
  },
  "nbformat": 4,
  "nbformat_minor": 5
}