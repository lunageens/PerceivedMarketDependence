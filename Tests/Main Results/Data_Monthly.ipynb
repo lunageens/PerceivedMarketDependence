{
 "cells": [
  {
   "cell_type": "markdown",
   "id": "99c47eb0",
   "metadata": {},
   "source": [
    "# Perceived Dependence of Stocks and Correlation: Monthly Regression"
   ]
  },
  {
   "cell_type": "markdown",
   "id": "d629aff3",
   "metadata": {},
   "source": [
    "For my thesis, i will look into the difference between the perceived dependence and the actual correlation of the return of stocks with the market return. In this notebook, we aim to integrate data from different sources and prepare it for analysis."
   ]
  },
  {
   "cell_type": "code",
   "execution_count": 1,
   "id": "fbac07d1",
   "metadata": {
    "ExecuteTime": {
     "end_time": "2024-05-02T19:49:25.725375Z",
     "start_time": "2024-05-02T19:49:25.713408Z"
    }
   },
   "outputs": [],
   "source": [
    "# TODO Datums overal aanpassen zodat March 2024 nergens meer included is en het nog steeds werkt. Mss Periode Variabiliseren?\n",
    "# TODO Nakijken wat die NaN is in de stocks return data en of dat uitmaakt\n",
    "#TODO Als ik tijd heb die statistics bereken opcleanen want nu verwarrend"
   ]
  },
  {
   "cell_type": "markdown",
   "id": "5a801a97",
   "metadata": {},
   "source": [
    "## Imports"
   ]
  },
  {
   "cell_type": "markdown",
   "id": "35ff46ac",
   "metadata": {},
   "source": [
    "We will need the following imports:"
   ]
  },
  {
   "cell_type": "code",
   "execution_count": 2,
   "id": "2402e551",
   "metadata": {
    "ExecuteTime": {
     "end_time": "2024-05-02T19:49:35.517103Z",
     "start_time": "2024-05-02T19:49:25.728375Z"
    }
   },
   "outputs": [],
   "source": [
    "import pandas as pd\n",
    "import yfinance as yf\n",
    "import numpy as np\n",
    "import statsmodels.api as sm\n",
    "import seaborn as sns\n",
    "from statsmodels.regression.linear_model import OLS\n",
    "from statsmodels.stats.sandwich_covariance import cov_hac\n",
    "from statsmodels.stats.stattools import durbin_watson\n",
    "from statsmodels.stats.diagnostic import acorr_ljungbox\n",
    "from pandas.tseries.offsets import MonthBegin, MonthEnd\n",
    "from datetime import datetime\n",
    "import matplotlib.pyplot as plt\n",
    "from matplotlib.ticker import MaxNLocator\n",
    "import matplotlib.dates as mdates"
   ]
  },
  {
   "cell_type": "markdown",
   "id": "3ed0efc4",
   "metadata": {
    "ExecuteTime": {
     "end_time": "2024-03-31T17:18:32.944917Z",
     "start_time": "2024-03-31T17:18:32.922973Z"
    }
   },
   "source": [
    "If you don't have any of these packages, u can install them using pip if necessary:"
   ]
  },
  {
   "cell_type": "code",
   "execution_count": null,
   "id": "11fe54e8",
   "metadata": {
    "ExecuteTime": {
     "end_time": "2024-03-31T17:39:18.100685Z",
     "start_time": "2024-03-31T17:38:54.352333Z"
    },
    "deletable": false,
    "editable": false,
    "run_control": {
     "frozen": true
    }
   },
   "outputs": [],
   "source": [
    "pip install pandas openpyxl yfinance"
   ]
  },
  {
   "cell_type": "markdown",
   "id": "cbd8913e",
   "metadata": {},
   "source": [
    "## Data Collection "
   ]
  },
  {
   "cell_type": "markdown",
   "id": "a36017c5",
   "metadata": {},
   "source": [
    "### Reading the Data from Excel"
   ]
  },
  {
   "cell_type": "markdown",
   "id": "dac10827",
   "metadata": {
    "ExecuteTime": {
     "end_time": "2024-04-18T18:05:40.554856Z",
     "start_time": "2024-04-18T18:05:40.535894Z"
    },
    "heading_collapsed": true
   },
   "source": [
    "#### Indexes and Dates"
   ]
  },
  {
   "cell_type": "markdown",
   "id": "10414c12",
   "metadata": {
    "ExecuteTime": {
     "end_time": "2024-04-18T19:03:25.336434Z",
     "start_time": "2024-04-18T19:03:25.282713Z"
    },
    "hidden": true
   },
   "source": [
    "Let's first read in the excel where I defined the correct time periods for every monthly data point. In this excel, i defined the month and years to be tested, and the periods that will be used for this month-year in the calculation of various variables. This will later be used to define variables: returns in these periods are used to calculate the frequency of comovement, beta and the return of stocks. Since returns are only available on weekdays, each start- and end date are adjusted in case they are on weekend. "
   ]
  },
  {
   "cell_type": "markdown",
   "id": "9e715b28",
   "metadata": {
    "hidden": true
   },
   "source": [
    "The definitions of the variables for each MMYY from January 2002 to February 2023 are clarified as follows:\n",
    "\n",
    "- **Monthly Stock Return**: This is calculated by determining the percentage difference between the stock's return on the last weekday before the start of the month (StartMonthMinus1_Weekday) and the stock's return on the last weekday of the month (EndMonth_Weekday). For example, the returns of Tuesday 31 December 2019 until Friday 31 January 2020 are used to calculate the return in January 2020. \n",
    "\n",
    "- **Beta and Comovement**: For any given month, these metrics are calculated based on the returns from the index and the stock returns from the year preceding that month. The calculation period begins on the last weekday before the start of the previous year (StartPastYearMinus1_Weekday) and ends on the last weekday before the start of the month in question (EndPastYear_Weekday). In our example of January 2020, returns between Monday 31 December 2018 and Tuesday 31 December 2019 would be considered. \n",
    "\n",
    "While beta is calculated using daily return differences, comovement is measured using weekly return differences. Note the **Minus 1 Day**: The day preceding the start of each period is also considered in the calculations to include the return percentage on the first day of the period."
   ]
  },
  {
   "cell_type": "code",
   "execution_count": 3,
   "id": "8fdc8d70",
   "metadata": {
    "ExecuteTime": {
     "end_time": "2024-05-02T19:49:36.806778Z",
     "start_time": "2024-05-02T19:49:35.520095Z"
    },
    "hidden": true
   },
   "outputs": [
    {
     "data": {
      "text/html": [
       "<div>\n",
       "<style scoped>\n",
       "    .dataframe tbody tr th:only-of-type {\n",
       "        vertical-align: middle;\n",
       "    }\n",
       "\n",
       "    .dataframe tbody tr th {\n",
       "        vertical-align: top;\n",
       "    }\n",
       "\n",
       "    .dataframe thead th {\n",
       "        text-align: right;\n",
       "    }\n",
       "</style>\n",
       "<table border=\"1\" class=\"dataframe\">\n",
       "  <thead>\n",
       "    <tr style=\"text-align: right;\">\n",
       "      <th></th>\n",
       "      <th>Month</th>\n",
       "      <th>Year</th>\n",
       "      <th>Index</th>\n",
       "      <th>StartMonth</th>\n",
       "      <th>StartMonth_Weekday</th>\n",
       "      <th>StartMonthMinus1</th>\n",
       "      <th>StartMonthMinus1_Weekday</th>\n",
       "      <th>EndMonth</th>\n",
       "      <th>EndMonth_Weekday</th>\n",
       "      <th>StartPastYear</th>\n",
       "      <th>StartPastYear_Weekday</th>\n",
       "      <th>StartPastYearMinus1</th>\n",
       "      <th>StartPastYearMinus1_Weekday</th>\n",
       "      <th>EndPastYear</th>\n",
       "      <th>EndPastYear_Weekday</th>\n",
       "    </tr>\n",
       "  </thead>\n",
       "  <tbody>\n",
       "    <tr>\n",
       "      <th>0</th>\n",
       "      <td>1</td>\n",
       "      <td>2002</td>\n",
       "      <td>102</td>\n",
       "      <td>2002-01-01</td>\n",
       "      <td>2002-01-01</td>\n",
       "      <td>2001-12-31</td>\n",
       "      <td>2001-12-31</td>\n",
       "      <td>2002-01-31</td>\n",
       "      <td>2002-01-31</td>\n",
       "      <td>2001-01-01</td>\n",
       "      <td>2001-01-01</td>\n",
       "      <td>2000-12-31</td>\n",
       "      <td>2000-12-29</td>\n",
       "      <td>2001-12-31</td>\n",
       "      <td>2001-12-31</td>\n",
       "    </tr>\n",
       "    <tr>\n",
       "      <th>1</th>\n",
       "      <td>2</td>\n",
       "      <td>2002</td>\n",
       "      <td>102</td>\n",
       "      <td>2002-02-01</td>\n",
       "      <td>2002-02-01</td>\n",
       "      <td>2002-01-31</td>\n",
       "      <td>2002-01-31</td>\n",
       "      <td>2002-02-28</td>\n",
       "      <td>2002-02-28</td>\n",
       "      <td>2001-02-01</td>\n",
       "      <td>2001-02-01</td>\n",
       "      <td>2001-01-31</td>\n",
       "      <td>2001-01-31</td>\n",
       "      <td>2002-01-31</td>\n",
       "      <td>2002-01-31</td>\n",
       "    </tr>\n",
       "  </tbody>\n",
       "</table>\n",
       "</div>"
      ],
      "text/plain": [
       "   Month  Year  Index StartMonth StartMonth_Weekday StartMonthMinus1  \\\n",
       "0      1  2002    102 2002-01-01         2002-01-01       2001-12-31   \n",
       "1      2  2002    102 2002-02-01         2002-02-01       2002-01-31   \n",
       "\n",
       "  StartMonthMinus1_Weekday   EndMonth EndMonth_Weekday StartPastYear  \\\n",
       "0               2001-12-31 2002-01-31       2002-01-31    2001-01-01   \n",
       "1               2002-01-31 2002-02-28       2002-02-28    2001-02-01   \n",
       "\n",
       "  StartPastYear_Weekday StartPastYearMinus1 StartPastYearMinus1_Weekday  \\\n",
       "0            2001-01-01          2000-12-31                  2000-12-29   \n",
       "1            2001-02-01          2001-01-31                  2001-01-31   \n",
       "\n",
       "  EndPastYear EndPastYear_Weekday  \n",
       "0  2001-12-31          2001-12-31  \n",
       "1  2002-01-31          2002-01-31  "
      ]
     },
     "execution_count": 3,
     "metadata": {},
     "output_type": "execute_result"
    }
   ],
   "source": [
    "Dates_ExcelPath = \"Dates.xlsx\"\n",
    "dates = pd.read_excel(Dates_ExcelPath)\n",
    "dates.head(2)"
   ]
  },
  {
   "cell_type": "code",
   "execution_count": 4,
   "id": "1d1c8aaa",
   "metadata": {
    "ExecuteTime": {
     "end_time": "2024-05-02T19:49:36.837702Z",
     "start_time": "2024-05-02T19:49:36.809768Z"
    },
    "hidden": true
   },
   "outputs": [
    {
     "data": {
      "text/html": [
       "<div>\n",
       "<style scoped>\n",
       "    .dataframe tbody tr th:only-of-type {\n",
       "        vertical-align: middle;\n",
       "    }\n",
       "\n",
       "    .dataframe tbody tr th {\n",
       "        vertical-align: top;\n",
       "    }\n",
       "\n",
       "    .dataframe thead th {\n",
       "        text-align: right;\n",
       "    }\n",
       "</style>\n",
       "<table border=\"1\" class=\"dataframe\">\n",
       "  <thead>\n",
       "    <tr style=\"text-align: right;\">\n",
       "      <th></th>\n",
       "      <th>Month</th>\n",
       "      <th>Year</th>\n",
       "      <th>Index</th>\n",
       "      <th>StartMonth</th>\n",
       "      <th>StartMonth_Weekday</th>\n",
       "      <th>StartMonthMinus1</th>\n",
       "      <th>StartMonthMinus1_Weekday</th>\n",
       "      <th>EndMonth</th>\n",
       "      <th>EndMonth_Weekday</th>\n",
       "      <th>StartPastYear</th>\n",
       "      <th>StartPastYear_Weekday</th>\n",
       "      <th>StartPastYearMinus1</th>\n",
       "      <th>StartPastYearMinus1_Weekday</th>\n",
       "      <th>EndPastYear</th>\n",
       "      <th>EndPastYear_Weekday</th>\n",
       "    </tr>\n",
       "  </thead>\n",
       "  <tbody>\n",
       "    <tr>\n",
       "      <th>0</th>\n",
       "      <td>1</td>\n",
       "      <td>2002</td>\n",
       "      <td>0102</td>\n",
       "      <td>2002-01-01</td>\n",
       "      <td>2002-01-01</td>\n",
       "      <td>2001-12-31</td>\n",
       "      <td>2001-12-31</td>\n",
       "      <td>2002-01-31</td>\n",
       "      <td>2002-01-31</td>\n",
       "      <td>2001-01-01</td>\n",
       "      <td>2001-01-01</td>\n",
       "      <td>2000-12-31</td>\n",
       "      <td>2000-12-29</td>\n",
       "      <td>2001-12-31</td>\n",
       "      <td>2001-12-31</td>\n",
       "    </tr>\n",
       "    <tr>\n",
       "      <th>1</th>\n",
       "      <td>2</td>\n",
       "      <td>2002</td>\n",
       "      <td>0102</td>\n",
       "      <td>2002-02-01</td>\n",
       "      <td>2002-02-01</td>\n",
       "      <td>2002-01-31</td>\n",
       "      <td>2002-01-31</td>\n",
       "      <td>2002-02-28</td>\n",
       "      <td>2002-02-28</td>\n",
       "      <td>2001-02-01</td>\n",
       "      <td>2001-02-01</td>\n",
       "      <td>2001-01-31</td>\n",
       "      <td>2001-01-31</td>\n",
       "      <td>2002-01-31</td>\n",
       "      <td>2002-01-31</td>\n",
       "    </tr>\n",
       "  </tbody>\n",
       "</table>\n",
       "</div>"
      ],
      "text/plain": [
       "   Month  Year Index StartMonth StartMonth_Weekday StartMonthMinus1  \\\n",
       "0      1  2002  0102 2002-01-01         2002-01-01       2001-12-31   \n",
       "1      2  2002  0102 2002-02-01         2002-02-01       2002-01-31   \n",
       "\n",
       "  StartMonthMinus1_Weekday   EndMonth EndMonth_Weekday StartPastYear  \\\n",
       "0               2001-12-31 2002-01-31       2002-01-31    2001-01-01   \n",
       "1               2002-01-31 2002-02-28       2002-02-28    2001-02-01   \n",
       "\n",
       "  StartPastYear_Weekday StartPastYearMinus1 StartPastYearMinus1_Weekday  \\\n",
       "0            2001-01-01          2000-12-31                  2000-12-29   \n",
       "1            2001-02-01          2001-01-31                  2001-01-31   \n",
       "\n",
       "  EndPastYear EndPastYear_Weekday  \n",
       "0  2001-12-31          2001-12-31  \n",
       "1  2002-01-31          2002-01-31  "
      ]
     },
     "execution_count": 4,
     "metadata": {},
     "output_type": "execute_result"
    }
   ],
   "source": [
    "# Step 1: Convert 'Index' to string and prepend zeros if less than 4 characters.\n",
    "dates['Index'] = dates['Index'].apply(lambda x: f'{x:04}')\n",
    "dates.head(2)"
   ]
  },
  {
   "cell_type": "markdown",
   "id": "7c6ce6f1",
   "metadata": {
    "heading_collapsed": true
   },
   "source": [
    "#### Daily Stock Returns"
   ]
  },
  {
   "cell_type": "markdown",
   "id": "0b649eb5",
   "metadata": {
    "hidden": true
   },
   "source": [
    "For each month, we have used the dates to construct the following prompt in DataStream:\n",
    "\n",
    "     DSGRID(\"LDJSTOXXMMYY\";\"X(RI)~E\";\"{start_date}\"; \"{end_date}\";\"{row[\"Freq\"]}\";\"RowHeader=true;TimeSeriesList=true;ColHeader=true;Transpose=true;Curn=true;DispSeriesDescription=false;YearlyTSFormat=false;QuarterlyTSFormat=false;MonthlyTSFormat=False\";\"\")'\n",
    "     \n",
    "This is used to save the daily returns of each month and the year prior to this month in an excel called 'Stocks_Return'. For the Index, the code DJSTOXX~01 is used. The ~E after the return index refers to prices that are all in euro. \n",
    "\n",
    "We will first read in the Excel file where the daily returns of the stocks are saved. These are loaded in DataStream and are not modified. The formulas are generated with the other notebook.  The *Stocks_DailyReturn_Dataframes['MMYY']*  are used to save these dataframes."
   ]
  },
  {
   "cell_type": "code",
   "execution_count": 5,
   "id": "9c0c48d6",
   "metadata": {
    "ExecuteTime": {
     "end_time": "2024-05-02T19:53:41.238676Z",
     "start_time": "2024-05-02T19:49:36.841688Z"
    },
    "hidden": true
   },
   "outputs": [],
   "source": [
    "# Path to the Excel file\n",
    "file_path = 'Stocks_DailyReturn.xlsx'\n",
    "\n",
    "# Initialize an empty dictionary to store dataframes\n",
    "Stocks_DailyReturn_Dataframes = {}\n",
    "\n",
    "# Read the unique index values from the 'dates' dataframe\n",
    "unique_indexes = dates['Index'].unique()\n",
    "\n",
    "# Loop through each unique index value\n",
    "for index_value in unique_indexes:\n",
    "    # Construct the sheet name from the index value\n",
    "    sheet_name = str(index_value)\n",
    "    try:\n",
    "        # Attempt to read the sheet into a dataframe\n",
    "        df = pd.read_excel(file_path, sheet_name=sheet_name, index_col=0)\n",
    "        # Store the dataframe in the dictionary with the sheet name as the key\n",
    "        Stocks_DailyReturn_Dataframes[sheet_name] = df\n",
    "    except Exception as e:\n",
    "        # If there's an error reading the sheet, print the error message\n",
    "        print(f\"Error reading sheet {sheet_name}: {e}\")"
   ]
  },
  {
   "cell_type": "code",
   "execution_count": 6,
   "id": "b30a5f72",
   "metadata": {
    "ExecuteTime": {
     "end_time": "2024-05-02T19:53:41.301511Z",
     "start_time": "2024-05-02T19:53:41.240673Z"
    },
    "hidden": true
   },
   "outputs": [
    {
     "data": {
      "text/html": [
       "<div>\n",
       "<style scoped>\n",
       "    .dataframe tbody tr th:only-of-type {\n",
       "        vertical-align: middle;\n",
       "    }\n",
       "\n",
       "    .dataframe tbody tr th {\n",
       "        vertical-align: top;\n",
       "    }\n",
       "\n",
       "    .dataframe thead th {\n",
       "        text-align: right;\n",
       "    }\n",
       "</style>\n",
       "<table border=\"1\" class=\"dataframe\">\n",
       "  <thead>\n",
       "    <tr style=\"text-align: right;\">\n",
       "      <th></th>\n",
       "      <th>CURRENCY</th>\n",
       "      <th>2000-12-29 00:00:00</th>\n",
       "      <th>2001-01-01 00:00:00</th>\n",
       "      <th>2001-01-02 00:00:00</th>\n",
       "      <th>2001-01-03 00:00:00</th>\n",
       "      <th>2001-01-04 00:00:00</th>\n",
       "      <th>2001-01-05 00:00:00</th>\n",
       "      <th>2001-01-08 00:00:00</th>\n",
       "      <th>2001-01-09 00:00:00</th>\n",
       "      <th>2001-01-10 00:00:00</th>\n",
       "      <th>...</th>\n",
       "      <th>2002-03-18 00:00:00</th>\n",
       "      <th>2002-03-19 00:00:00</th>\n",
       "      <th>2002-03-20 00:00:00</th>\n",
       "      <th>2002-03-21 00:00:00</th>\n",
       "      <th>2002-03-22 00:00:00</th>\n",
       "      <th>2002-03-25 00:00:00</th>\n",
       "      <th>2002-03-26 00:00:00</th>\n",
       "      <th>2002-03-27 00:00:00</th>\n",
       "      <th>2002-03-28 00:00:00</th>\n",
       "      <th>2002-03-29 00:00:00</th>\n",
       "    </tr>\n",
       "    <tr>\n",
       "      <th>Name</th>\n",
       "      <th></th>\n",
       "      <th></th>\n",
       "      <th></th>\n",
       "      <th></th>\n",
       "      <th></th>\n",
       "      <th></th>\n",
       "      <th></th>\n",
       "      <th></th>\n",
       "      <th></th>\n",
       "      <th></th>\n",
       "      <th></th>\n",
       "      <th></th>\n",
       "      <th></th>\n",
       "      <th></th>\n",
       "      <th></th>\n",
       "      <th></th>\n",
       "      <th></th>\n",
       "      <th></th>\n",
       "      <th></th>\n",
       "      <th></th>\n",
       "      <th></th>\n",
       "    </tr>\n",
       "  </thead>\n",
       "  <tbody>\n",
       "    <tr>\n",
       "      <th>3I GROUP - TOT RETURN IND</th>\n",
       "      <td>E</td>\n",
       "      <td>823.58</td>\n",
       "      <td>823.58</td>\n",
       "      <td>795.30</td>\n",
       "      <td>758.38</td>\n",
       "      <td>829.48</td>\n",
       "      <td>856.33</td>\n",
       "      <td>844.27</td>\n",
       "      <td>841.79</td>\n",
       "      <td>828.14</td>\n",
       "      <td>...</td>\n",
       "      <td>517.59</td>\n",
       "      <td>527.79</td>\n",
       "      <td>527.27</td>\n",
       "      <td>518.79</td>\n",
       "      <td>519.18</td>\n",
       "      <td>518.21</td>\n",
       "      <td>517.33</td>\n",
       "      <td>520.69</td>\n",
       "      <td>544.36</td>\n",
       "      <td>544.36</td>\n",
       "    </tr>\n",
       "    <tr>\n",
       "      <th>ABB LTD N - TOT RETURN IND</th>\n",
       "      <td>E</td>\n",
       "      <td>1957.55</td>\n",
       "      <td>1957.55</td>\n",
       "      <td>1955.18</td>\n",
       "      <td>1849.66</td>\n",
       "      <td>1925.13</td>\n",
       "      <td>1939.00</td>\n",
       "      <td>1965.14</td>\n",
       "      <td>2007.85</td>\n",
       "      <td>1982.15</td>\n",
       "      <td>...</td>\n",
       "      <td>685.70</td>\n",
       "      <td>677.32</td>\n",
       "      <td>663.43</td>\n",
       "      <td>630.43</td>\n",
       "      <td>616.89</td>\n",
       "      <td>621.83</td>\n",
       "      <td>579.15</td>\n",
       "      <td>622.14</td>\n",
       "      <td>642.96</td>\n",
       "      <td>642.96</td>\n",
       "    </tr>\n",
       "  </tbody>\n",
       "</table>\n",
       "<p>2 rows × 327 columns</p>\n",
       "</div>"
      ],
      "text/plain": [
       "                           CURRENCY  2000-12-29 00:00:00  2001-01-01 00:00:00  \\\n",
       "Name                                                                            \n",
       "3I GROUP - TOT RETURN IND         E               823.58               823.58   \n",
       "ABB LTD N - TOT RETURN IND        E              1957.55              1957.55   \n",
       "\n",
       "                            2001-01-02 00:00:00  2001-01-03 00:00:00  \\\n",
       "Name                                                                   \n",
       "3I GROUP - TOT RETURN IND                795.30               758.38   \n",
       "ABB LTD N - TOT RETURN IND              1955.18              1849.66   \n",
       "\n",
       "                            2001-01-04 00:00:00  2001-01-05 00:00:00  \\\n",
       "Name                                                                   \n",
       "3I GROUP - TOT RETURN IND                829.48               856.33   \n",
       "ABB LTD N - TOT RETURN IND              1925.13              1939.00   \n",
       "\n",
       "                            2001-01-08 00:00:00  2001-01-09 00:00:00  \\\n",
       "Name                                                                   \n",
       "3I GROUP - TOT RETURN IND                844.27               841.79   \n",
       "ABB LTD N - TOT RETURN IND              1965.14              2007.85   \n",
       "\n",
       "                            2001-01-10 00:00:00  ...  2002-03-18 00:00:00  \\\n",
       "Name                                             ...                        \n",
       "3I GROUP - TOT RETURN IND                828.14  ...               517.59   \n",
       "ABB LTD N - TOT RETURN IND              1982.15  ...               685.70   \n",
       "\n",
       "                            2002-03-19 00:00:00  2002-03-20 00:00:00  \\\n",
       "Name                                                                   \n",
       "3I GROUP - TOT RETURN IND                527.79               527.27   \n",
       "ABB LTD N - TOT RETURN IND               677.32               663.43   \n",
       "\n",
       "                            2002-03-21 00:00:00  2002-03-22 00:00:00  \\\n",
       "Name                                                                   \n",
       "3I GROUP - TOT RETURN IND                518.79               519.18   \n",
       "ABB LTD N - TOT RETURN IND               630.43               616.89   \n",
       "\n",
       "                            2002-03-25 00:00:00  2002-03-26 00:00:00  \\\n",
       "Name                                                                   \n",
       "3I GROUP - TOT RETURN IND                518.21               517.33   \n",
       "ABB LTD N - TOT RETURN IND               621.83               579.15   \n",
       "\n",
       "                            2002-03-27 00:00:00  2002-03-28 00:00:00  \\\n",
       "Name                                                                   \n",
       "3I GROUP - TOT RETURN IND                520.69               544.36   \n",
       "ABB LTD N - TOT RETURN IND               622.14               642.96   \n",
       "\n",
       "                            2002-03-29 00:00:00  \n",
       "Name                                             \n",
       "3I GROUP - TOT RETURN IND                544.36  \n",
       "ABB LTD N - TOT RETURN IND               642.96  \n",
       "\n",
       "[2 rows x 327 columns]"
      ]
     },
     "execution_count": 6,
     "metadata": {},
     "output_type": "execute_result"
    }
   ],
   "source": [
    "# At this point, Stocks_DailyReturn_Dataframes will contain all the dataframes keyed by their respective sheet names.\n",
    "Stocks_DailyReturn_Dataframes['0102'].head(2)"
   ]
  },
  {
   "cell_type": "markdown",
   "id": "10fd45b8",
   "metadata": {
    "heading_collapsed": true
   },
   "source": [
    "#### Daily Index Returns"
   ]
  },
  {
   "cell_type": "markdown",
   "id": "63090951",
   "metadata": {
    "hidden": true
   },
   "source": [
    "As explained above, an excel file was also made with the help of datastream to save the daily return index of the EUR600. These are saved in a dataframe called *Index_DailyReturn_Dataframe*. "
   ]
  },
  {
   "cell_type": "code",
   "execution_count": 7,
   "id": "a1a75569",
   "metadata": {
    "ExecuteTime": {
     "end_time": "2024-05-02T19:53:41.757466Z",
     "start_time": "2024-05-02T19:53:41.305499Z"
    },
    "hidden": true
   },
   "outputs": [
    {
     "data": {
      "text/html": [
       "<div>\n",
       "<style scoped>\n",
       "    .dataframe tbody tr th:only-of-type {\n",
       "        vertical-align: middle;\n",
       "    }\n",
       "\n",
       "    .dataframe tbody tr th {\n",
       "        vertical-align: top;\n",
       "    }\n",
       "\n",
       "    .dataframe thead th {\n",
       "        text-align: right;\n",
       "    }\n",
       "</style>\n",
       "<table border=\"1\" class=\"dataframe\">\n",
       "  <thead>\n",
       "    <tr style=\"text-align: right;\">\n",
       "      <th></th>\n",
       "      <th>Date</th>\n",
       "      <th>Return Index</th>\n",
       "    </tr>\n",
       "  </thead>\n",
       "  <tbody>\n",
       "    <tr>\n",
       "      <th>0</th>\n",
       "      <td>2000-12-29</td>\n",
       "      <td>100.0</td>\n",
       "    </tr>\n",
       "    <tr>\n",
       "      <th>1</th>\n",
       "      <td>2001-01-01</td>\n",
       "      <td>100.0</td>\n",
       "    </tr>\n",
       "  </tbody>\n",
       "</table>\n",
       "</div>"
      ],
      "text/plain": [
       "        Date  Return Index \n",
       "0 2000-12-29          100.0\n",
       "1 2001-01-01          100.0"
      ]
     },
     "execution_count": 7,
     "metadata": {},
     "output_type": "execute_result"
    }
   ],
   "source": [
    "# The path to the Excel file\n",
    "Index_DailyReturn_ExcelPath = 'Index_DailyReturn.xlsx'\n",
    "\n",
    "# Read the specified sheet into a DataFrame\n",
    "Index_DailyReturn_Dataframe = pd.read_excel(Index_DailyReturn_ExcelPath)\n",
    "Index_DailyReturn_Dataframe.head(2)"
   ]
  },
  {
   "cell_type": "markdown",
   "id": "62e8d3fb",
   "metadata": {},
   "source": [
    "### Monthly Frequency of Comovement"
   ]
  },
  {
   "cell_type": "markdown",
   "id": "92f61648",
   "metadata": {},
   "source": [
    "To calculate the frequency of comovement of a particular MMYY, we compare the sign of the weekly return percentage on the stock and on the index for each week of the year prior to that month. Then we calculate in how many percent of the 52 week, the same sign is seen for both return percentages."
   ]
  },
  {
   "cell_type": "markdown",
   "id": "2f952a8d",
   "metadata": {
    "ExecuteTime": {
     "end_time": "2024-03-31T17:13:44.588855Z",
     "start_time": "2024-03-31T17:13:44.583869Z"
    },
    "heading_collapsed": true
   },
   "source": [
    "#### Weekly Stock Returns"
   ]
  },
  {
   "cell_type": "markdown",
   "id": "dc7dbb6c",
   "metadata": {
    "heading_collapsed": true,
    "hidden": true
   },
   "source": [
    "##### Weekly Absolute Return Index of Stocks"
   ]
  },
  {
   "cell_type": "markdown",
   "id": "a3d25732",
   "metadata": {
    "ExecuteTime": {
     "end_time": "2024-04-02T16:59:15.913863Z",
     "start_time": "2024-04-02T16:59:15.897902Z"
    },
    "hidden": true
   },
   "source": [
    "First, we will make for each MMYY a dataframe with the absolute return indexes of all the stocks in the past 52 weeks before that month. We will look at the year before the month. We are starting with the first weekday of the previous year (column StartPastYear_Weekday). We will end with the last weekday of the previous year (column EndPastYear_Weekday). We will store them into the *Stocks_WeeklyReturn_Dataframes['MMYY]*. "
   ]
  },
  {
   "cell_type": "code",
   "execution_count": 8,
   "id": "6a2f5e9f",
   "metadata": {
    "ExecuteTime": {
     "end_time": "2024-05-02T19:53:43.052571Z",
     "start_time": "2024-05-02T19:53:41.762454Z"
    },
    "hidden": true
   },
   "outputs": [],
   "source": [
    "# Stocks_DailyReturn_Dataframes = {'IndexName': dataframe, ...}\n",
    "# Initialize the dictionary to store the monthly dataframes\n",
    "Stocks_WeeklyReturn_Dataframes = {}\n",
    "\n",
    "# Define the start and end dates\n",
    "start_date = datetime(2002, 1, 1)\n",
    "end_date = datetime(2024, 3, 31)\n",
    "\n",
    "# Generate the monthly periods\n",
    "monthly_periods = pd.date_range(start_date, end_date, freq='M')\n",
    "\n",
    "for period in monthly_periods:\n",
    "    # Extract the year and month\n",
    "    year = period.year\n",
    "    month = period.month\n",
    "    \n",
    "    # Format the DataFrame name as MMYY\n",
    "    df_name = f\"{month:02d}{year}\"\n",
    "    \n",
    "    # Filter the dates DataFrame for the current month and year\n",
    "    # Assuming 'dates_df' is your DataFrame with 'Month', 'Year', 'Index', \n",
    "    # 'StartPastYear_Weekday', and 'EndPastYear_Weekday' columns\n",
    "    matching_rows = dates[(dates['Month'] == month) & (dates['Year'] == year)]\n",
    "    \n",
    "    # Initialize a list to collect data for the current month\n",
    "    data_for_month = []\n",
    "    \n",
    "    for _, row in matching_rows.iterrows():\n",
    "        index_name = row['Index']\n",
    "        start_date = row['StartPastYear_Weekday']\n",
    "        end_date = row['EndPastYear_Weekday']\n",
    "        \n",
    "        # Access the corresponding daily returns DataFrame\n",
    "        daily_returns_df = Stocks_DailyReturn_Dataframes.get(index_name)\n",
    "        \n",
    "        if daily_returns_df is not None:\n",
    "            \n",
    "            # Find the columns for start and end dates\n",
    "            columns = daily_returns_df.columns\n",
    "            start_col = np.where(columns == pd.Timestamp(start_date))[0][0]\n",
    "            end_col = np.where(columns == pd.Timestamp(end_date))[0][0]\n",
    "            \n",
    "            # Extract the data between these dates\n",
    "            data = daily_returns_df.iloc[:, start_col:end_col+1]\n",
    "            data_for_month.append(data)\n",
    "    \n",
    "    # Concatenate all dataframes for the month (if any) and store in the dictionary\n",
    "    if data_for_month:\n",
    "        Stocks_WeeklyReturn_Dataframes[df_name] = pd.concat(data_for_month, axis=1)"
   ]
  },
  {
   "cell_type": "code",
   "execution_count": 9,
   "id": "d382ecf6",
   "metadata": {
    "ExecuteTime": {
     "end_time": "2024-05-02T19:53:43.083684Z",
     "start_time": "2024-05-02T19:53:43.054567Z"
    },
    "hidden": true
   },
   "outputs": [
    {
     "data": {
      "text/html": [
       "<div>\n",
       "<style scoped>\n",
       "    .dataframe tbody tr th:only-of-type {\n",
       "        vertical-align: middle;\n",
       "    }\n",
       "\n",
       "    .dataframe tbody tr th {\n",
       "        vertical-align: top;\n",
       "    }\n",
       "\n",
       "    .dataframe thead th {\n",
       "        text-align: right;\n",
       "    }\n",
       "</style>\n",
       "<table border=\"1\" class=\"dataframe\">\n",
       "  <thead>\n",
       "    <tr style=\"text-align: right;\">\n",
       "      <th></th>\n",
       "      <th>2001-01-01</th>\n",
       "      <th>2001-01-02</th>\n",
       "      <th>2001-01-03</th>\n",
       "      <th>2001-01-04</th>\n",
       "      <th>2001-01-05</th>\n",
       "      <th>2001-01-08</th>\n",
       "      <th>2001-01-09</th>\n",
       "      <th>2001-01-10</th>\n",
       "      <th>2001-01-11</th>\n",
       "      <th>2001-01-12</th>\n",
       "      <th>...</th>\n",
       "      <th>2001-12-18</th>\n",
       "      <th>2001-12-19</th>\n",
       "      <th>2001-12-20</th>\n",
       "      <th>2001-12-21</th>\n",
       "      <th>2001-12-24</th>\n",
       "      <th>2001-12-25</th>\n",
       "      <th>2001-12-26</th>\n",
       "      <th>2001-12-27</th>\n",
       "      <th>2001-12-28</th>\n",
       "      <th>2001-12-31</th>\n",
       "    </tr>\n",
       "    <tr>\n",
       "      <th>Name</th>\n",
       "      <th></th>\n",
       "      <th></th>\n",
       "      <th></th>\n",
       "      <th></th>\n",
       "      <th></th>\n",
       "      <th></th>\n",
       "      <th></th>\n",
       "      <th></th>\n",
       "      <th></th>\n",
       "      <th></th>\n",
       "      <th></th>\n",
       "      <th></th>\n",
       "      <th></th>\n",
       "      <th></th>\n",
       "      <th></th>\n",
       "      <th></th>\n",
       "      <th></th>\n",
       "      <th></th>\n",
       "      <th></th>\n",
       "      <th></th>\n",
       "      <th></th>\n",
       "    </tr>\n",
       "  </thead>\n",
       "  <tbody>\n",
       "    <tr>\n",
       "      <th>3I GROUP - TOT RETURN IND</th>\n",
       "      <td>823.58</td>\n",
       "      <td>795.30</td>\n",
       "      <td>758.38</td>\n",
       "      <td>829.48</td>\n",
       "      <td>856.33</td>\n",
       "      <td>844.27</td>\n",
       "      <td>841.79</td>\n",
       "      <td>828.14</td>\n",
       "      <td>852.13</td>\n",
       "      <td>847.95</td>\n",
       "      <td>...</td>\n",
       "      <td>588.90</td>\n",
       "      <td>577.88</td>\n",
       "      <td>574.09</td>\n",
       "      <td>563.69</td>\n",
       "      <td>585.58</td>\n",
       "      <td>585.58</td>\n",
       "      <td>588.48</td>\n",
       "      <td>587.67</td>\n",
       "      <td>594.49</td>\n",
       "      <td>595.39</td>\n",
       "    </tr>\n",
       "    <tr>\n",
       "      <th>ABB LTD N - TOT RETURN IND</th>\n",
       "      <td>1957.55</td>\n",
       "      <td>1955.18</td>\n",
       "      <td>1849.66</td>\n",
       "      <td>1925.13</td>\n",
       "      <td>1939.00</td>\n",
       "      <td>1965.14</td>\n",
       "      <td>2007.85</td>\n",
       "      <td>1982.15</td>\n",
       "      <td>1883.67</td>\n",
       "      <td>1853.54</td>\n",
       "      <td>...</td>\n",
       "      <td>771.79</td>\n",
       "      <td>736.28</td>\n",
       "      <td>722.58</td>\n",
       "      <td>771.57</td>\n",
       "      <td>762.66</td>\n",
       "      <td>762.66</td>\n",
       "      <td>761.82</td>\n",
       "      <td>756.93</td>\n",
       "      <td>763.85</td>\n",
       "      <td>764.85</td>\n",
       "    </tr>\n",
       "  </tbody>\n",
       "</table>\n",
       "<p>2 rows × 261 columns</p>\n",
       "</div>"
      ],
      "text/plain": [
       "                            2001-01-01  2001-01-02  2001-01-03  2001-01-04  \\\n",
       "Name                                                                         \n",
       "3I GROUP - TOT RETURN IND       823.58      795.30      758.38      829.48   \n",
       "ABB LTD N - TOT RETURN IND     1957.55     1955.18     1849.66     1925.13   \n",
       "\n",
       "                            2001-01-05  2001-01-08  2001-01-09  2001-01-10  \\\n",
       "Name                                                                         \n",
       "3I GROUP - TOT RETURN IND       856.33      844.27      841.79      828.14   \n",
       "ABB LTD N - TOT RETURN IND     1939.00     1965.14     2007.85     1982.15   \n",
       "\n",
       "                            2001-01-11  2001-01-12  ...  2001-12-18  \\\n",
       "Name                                                ...               \n",
       "3I GROUP - TOT RETURN IND       852.13      847.95  ...      588.90   \n",
       "ABB LTD N - TOT RETURN IND     1883.67     1853.54  ...      771.79   \n",
       "\n",
       "                            2001-12-19  2001-12-20  2001-12-21  2001-12-24  \\\n",
       "Name                                                                         \n",
       "3I GROUP - TOT RETURN IND       577.88      574.09      563.69      585.58   \n",
       "ABB LTD N - TOT RETURN IND      736.28      722.58      771.57      762.66   \n",
       "\n",
       "                            2001-12-25  2001-12-26  2001-12-27  2001-12-28  \\\n",
       "Name                                                                         \n",
       "3I GROUP - TOT RETURN IND       585.58      588.48      587.67      594.49   \n",
       "ABB LTD N - TOT RETURN IND      762.66      761.82      756.93      763.85   \n",
       "\n",
       "                            2001-12-31  \n",
       "Name                                    \n",
       "3I GROUP - TOT RETURN IND       595.39  \n",
       "ABB LTD N - TOT RETURN IND      764.85  \n",
       "\n",
       "[2 rows x 261 columns]"
      ]
     },
     "execution_count": 9,
     "metadata": {},
     "output_type": "execute_result"
    }
   ],
   "source": [
    "# At this point, Stocks_WeeklyReturn_Dataframes will have all the MMYY dataframes as required.\n",
    "Stocks_WeeklyReturn_Dataframes[\"012002\"].head(2)"
   ]
  },
  {
   "cell_type": "markdown",
   "id": "cf593cfb",
   "metadata": {
    "hidden": true
   },
   "source": [
    "Secondly, we need to calculate the average per week. Note that the year not always starts on a monday and ends on a friday, so we do not always have five daily returns to calculate the weekly average. The 52 weekly averages are stored in *Stocks_WeeklyReturnAverages_Dataframes['MMYY']*. "
   ]
  },
  {
   "cell_type": "code",
   "execution_count": 10,
   "id": "5944add7",
   "metadata": {
    "ExecuteTime": {
     "end_time": "2024-05-02T19:53:44.079501Z",
     "start_time": "2024-05-02T19:53:43.085649Z"
    },
    "hidden": true
   },
   "outputs": [],
   "source": [
    "Stocks_WeeklyReturnAverages_Dataframes = {}\n",
    "\n",
    "for key, df in Stocks_WeeklyReturn_Dataframes.items():\n",
    "    Stocks_WeeklyReturnAverages_Dataframes[key] = df.resample('W', axis=1).mean()\n"
   ]
  },
  {
   "cell_type": "code",
   "execution_count": 11,
   "id": "f4bcb2cb",
   "metadata": {
    "ExecuteTime": {
     "end_time": "2024-05-02T19:53:44.127482Z",
     "start_time": "2024-05-02T19:53:44.081427Z"
    },
    "hidden": true,
    "scrolled": false
   },
   "outputs": [
    {
     "data": {
      "text/html": [
       "<div>\n",
       "<style scoped>\n",
       "    .dataframe tbody tr th:only-of-type {\n",
       "        vertical-align: middle;\n",
       "    }\n",
       "\n",
       "    .dataframe tbody tr th {\n",
       "        vertical-align: top;\n",
       "    }\n",
       "\n",
       "    .dataframe thead th {\n",
       "        text-align: right;\n",
       "    }\n",
       "</style>\n",
       "<table border=\"1\" class=\"dataframe\">\n",
       "  <thead>\n",
       "    <tr style=\"text-align: right;\">\n",
       "      <th></th>\n",
       "      <th>2001-01-07</th>\n",
       "      <th>2001-01-14</th>\n",
       "      <th>2001-01-21</th>\n",
       "      <th>2001-01-28</th>\n",
       "      <th>2001-02-04</th>\n",
       "      <th>2001-02-11</th>\n",
       "      <th>2001-02-18</th>\n",
       "      <th>2001-02-25</th>\n",
       "      <th>2001-03-04</th>\n",
       "      <th>2001-03-11</th>\n",
       "      <th>...</th>\n",
       "      <th>2001-11-04</th>\n",
       "      <th>2001-11-11</th>\n",
       "      <th>2001-11-18</th>\n",
       "      <th>2001-11-25</th>\n",
       "      <th>2001-12-02</th>\n",
       "      <th>2001-12-09</th>\n",
       "      <th>2001-12-16</th>\n",
       "      <th>2001-12-23</th>\n",
       "      <th>2001-12-30</th>\n",
       "      <th>2002-01-06</th>\n",
       "    </tr>\n",
       "    <tr>\n",
       "      <th>Name</th>\n",
       "      <th></th>\n",
       "      <th></th>\n",
       "      <th></th>\n",
       "      <th></th>\n",
       "      <th></th>\n",
       "      <th></th>\n",
       "      <th></th>\n",
       "      <th></th>\n",
       "      <th></th>\n",
       "      <th></th>\n",
       "      <th></th>\n",
       "      <th></th>\n",
       "      <th></th>\n",
       "      <th></th>\n",
       "      <th></th>\n",
       "      <th></th>\n",
       "      <th></th>\n",
       "      <th></th>\n",
       "      <th></th>\n",
       "      <th></th>\n",
       "      <th></th>\n",
       "    </tr>\n",
       "  </thead>\n",
       "  <tbody>\n",
       "    <tr>\n",
       "      <th>3I GROUP - TOT RETURN IND</th>\n",
       "      <td>812.614</td>\n",
       "      <td>842.856</td>\n",
       "      <td>925.586</td>\n",
       "      <td>950.270</td>\n",
       "      <td>943.480</td>\n",
       "      <td>888.874</td>\n",
       "      <td>892.544</td>\n",
       "      <td>884.386</td>\n",
       "      <td>865.820</td>\n",
       "      <td>868.544</td>\n",
       "      <td>...</td>\n",
       "      <td>505.250</td>\n",
       "      <td>541.838</td>\n",
       "      <td>589.898</td>\n",
       "      <td>605.742</td>\n",
       "      <td>591.070</td>\n",
       "      <td>599.432</td>\n",
       "      <td>577.338</td>\n",
       "      <td>578.946</td>\n",
       "      <td>588.360</td>\n",
       "      <td>595.39</td>\n",
       "    </tr>\n",
       "    <tr>\n",
       "      <th>ABB LTD N - TOT RETURN IND</th>\n",
       "      <td>1925.304</td>\n",
       "      <td>1938.470</td>\n",
       "      <td>1862.414</td>\n",
       "      <td>1843.808</td>\n",
       "      <td>1825.868</td>\n",
       "      <td>1789.072</td>\n",
       "      <td>1608.592</td>\n",
       "      <td>1524.972</td>\n",
       "      <td>1558.942</td>\n",
       "      <td>1579.038</td>\n",
       "      <td>...</td>\n",
       "      <td>673.882</td>\n",
       "      <td>742.138</td>\n",
       "      <td>806.912</td>\n",
       "      <td>885.270</td>\n",
       "      <td>857.592</td>\n",
       "      <td>867.496</td>\n",
       "      <td>809.318</td>\n",
       "      <td>758.412</td>\n",
       "      <td>761.584</td>\n",
       "      <td>764.85</td>\n",
       "    </tr>\n",
       "  </tbody>\n",
       "</table>\n",
       "<p>2 rows × 53 columns</p>\n",
       "</div>"
      ],
      "text/plain": [
       "                            2001-01-07  2001-01-14  2001-01-21  2001-01-28  \\\n",
       "Name                                                                         \n",
       "3I GROUP - TOT RETURN IND      812.614     842.856     925.586     950.270   \n",
       "ABB LTD N - TOT RETURN IND    1925.304    1938.470    1862.414    1843.808   \n",
       "\n",
       "                            2001-02-04  2001-02-11  2001-02-18  2001-02-25  \\\n",
       "Name                                                                         \n",
       "3I GROUP - TOT RETURN IND      943.480     888.874     892.544     884.386   \n",
       "ABB LTD N - TOT RETURN IND    1825.868    1789.072    1608.592    1524.972   \n",
       "\n",
       "                            2001-03-04  2001-03-11  ...  2001-11-04  \\\n",
       "Name                                                ...               \n",
       "3I GROUP - TOT RETURN IND      865.820     868.544  ...     505.250   \n",
       "ABB LTD N - TOT RETURN IND    1558.942    1579.038  ...     673.882   \n",
       "\n",
       "                            2001-11-11  2001-11-18  2001-11-25  2001-12-02  \\\n",
       "Name                                                                         \n",
       "3I GROUP - TOT RETURN IND      541.838     589.898     605.742     591.070   \n",
       "ABB LTD N - TOT RETURN IND     742.138     806.912     885.270     857.592   \n",
       "\n",
       "                            2001-12-09  2001-12-16  2001-12-23  2001-12-30  \\\n",
       "Name                                                                         \n",
       "3I GROUP - TOT RETURN IND      599.432     577.338     578.946     588.360   \n",
       "ABB LTD N - TOT RETURN IND     867.496     809.318     758.412     761.584   \n",
       "\n",
       "                            2002-01-06  \n",
       "Name                                    \n",
       "3I GROUP - TOT RETURN IND       595.39  \n",
       "ABB LTD N - TOT RETURN IND      764.85  \n",
       "\n",
       "[2 rows x 53 columns]"
      ]
     },
     "execution_count": 11,
     "metadata": {},
     "output_type": "execute_result"
    }
   ],
   "source": [
    "Stocks_WeeklyReturnAverages_Dataframes[\"012002\"].head(2) #toevallig start 2001 op een maandag, maar werkt ook als eerste week niet begint op eerste weekdag"
   ]
  },
  {
   "cell_type": "markdown",
   "id": "303fcf89",
   "metadata": {
    "heading_collapsed": true,
    "hidden": true
   },
   "source": [
    "##### Weekly Relative Return Index of Stocks"
   ]
  },
  {
   "cell_type": "markdown",
   "id": "aa30f26a",
   "metadata": {
    "hidden": true
   },
   "source": [
    "For each MMYY, we now have a dataframe with the weekly average stock prices of each stock in the STOXX 600 in the year prior to MMYY. We will compare each week to the previous week in the dataframe. The first week will be compared to the last weekday before the previous year period starts (StartPastYearMinus1_Weekday). We will calculate percent of change in absolute return index. The week-on-week differences are stored in *Stocks_WeeklyReturnPercentages_Dataframes['MMYY']*. "
   ]
  },
  {
   "cell_type": "code",
   "execution_count": 12,
   "id": "57073e38",
   "metadata": {
    "ExecuteTime": {
     "end_time": "2024-05-02T19:53:44.966504Z",
     "start_time": "2024-05-02T19:53:44.129493Z"
    },
    "hidden": true
   },
   "outputs": [],
   "source": [
    "# Placeholder for the new dictionary to store percentage returns DataFrames\n",
    "Stocks_WeeklyReturnPercentages_Dataframes = {}\n",
    "\n",
    "for key, weekly_returns_df in Stocks_WeeklyReturnAverages_Dataframes.items():\n",
    "    # Find the corresponding row in the dates DataFrame\n",
    "    month, year = int(key[:2]), int(key[2:])\n",
    "    date_info = dates[(dates['Month'] == month) & (dates['Year'] == year)]\n",
    "\n",
    "    if not date_info.empty:\n",
    "        # There should only be one row per month/year, but loop to handle unexpected data\n",
    "        for _, row in date_info.iterrows():\n",
    "            index_name = row['Index']\n",
    "            start_date = row['StartPastYearMinus1_Weekday']\n",
    "            \n",
    "            # Access the daily return on the start date from the corresponding DataFrame\n",
    "            daily_return_df = Stocks_DailyReturn_Dataframes.get(index_name)\n",
    "            if daily_return_df is not None:\n",
    "                start_return = daily_return_df.loc[:, pd.Timestamp(start_date)]\n",
    "        \n",
    "                # Calculate the percentage return for the first week compared to the start date\n",
    "                first_week_return = weekly_returns_df.iloc[:, 0]\n",
    "               \n",
    "                first_week_percentage = (first_week_return - start_return) / start_return * 100\n",
    "                \n",
    "                # Calculate the week-on-week percentage returns for the rest of the weeks\n",
    "                weekly_percentage_changes = weekly_returns_df.pct_change(axis=1) * 100\n",
    "                \n",
    "                # Replace the first column with the calculated first week percentage\n",
    "                weekly_percentage_changes.iloc[:, 0] = first_week_percentage\n",
    "                \n",
    "                # Store the result in the new dictionary\n",
    "                Stocks_WeeklyReturnPercentages_Dataframes[key] = weekly_percentage_changes"
   ]
  },
  {
   "cell_type": "code",
   "execution_count": 13,
   "id": "24398365",
   "metadata": {
    "ExecuteTime": {
     "end_time": "2024-05-02T19:53:44.997921Z",
     "start_time": "2024-05-02T19:53:44.968516Z"
    },
    "hidden": true
   },
   "outputs": [
    {
     "data": {
      "text/html": [
       "<div>\n",
       "<style scoped>\n",
       "    .dataframe tbody tr th:only-of-type {\n",
       "        vertical-align: middle;\n",
       "    }\n",
       "\n",
       "    .dataframe tbody tr th {\n",
       "        vertical-align: top;\n",
       "    }\n",
       "\n",
       "    .dataframe thead th {\n",
       "        text-align: right;\n",
       "    }\n",
       "</style>\n",
       "<table border=\"1\" class=\"dataframe\">\n",
       "  <thead>\n",
       "    <tr style=\"text-align: right;\">\n",
       "      <th></th>\n",
       "      <th>2001-01-07</th>\n",
       "      <th>2001-01-14</th>\n",
       "      <th>2001-01-21</th>\n",
       "      <th>2001-01-28</th>\n",
       "      <th>2001-02-04</th>\n",
       "      <th>2001-02-11</th>\n",
       "      <th>2001-02-18</th>\n",
       "      <th>2001-02-25</th>\n",
       "      <th>2001-03-04</th>\n",
       "      <th>2001-03-11</th>\n",
       "      <th>...</th>\n",
       "      <th>2001-11-04</th>\n",
       "      <th>2001-11-11</th>\n",
       "      <th>2001-11-18</th>\n",
       "      <th>2001-11-25</th>\n",
       "      <th>2001-12-02</th>\n",
       "      <th>2001-12-09</th>\n",
       "      <th>2001-12-16</th>\n",
       "      <th>2001-12-23</th>\n",
       "      <th>2001-12-30</th>\n",
       "      <th>2002-01-06</th>\n",
       "    </tr>\n",
       "    <tr>\n",
       "      <th>Name</th>\n",
       "      <th></th>\n",
       "      <th></th>\n",
       "      <th></th>\n",
       "      <th></th>\n",
       "      <th></th>\n",
       "      <th></th>\n",
       "      <th></th>\n",
       "      <th></th>\n",
       "      <th></th>\n",
       "      <th></th>\n",
       "      <th></th>\n",
       "      <th></th>\n",
       "      <th></th>\n",
       "      <th></th>\n",
       "      <th></th>\n",
       "      <th></th>\n",
       "      <th></th>\n",
       "      <th></th>\n",
       "      <th></th>\n",
       "      <th></th>\n",
       "      <th></th>\n",
       "    </tr>\n",
       "  </thead>\n",
       "  <tbody>\n",
       "    <tr>\n",
       "      <th>3I GROUP - TOT RETURN IND</th>\n",
       "      <td>-1.331504</td>\n",
       "      <td>3.72157</td>\n",
       "      <td>9.815437</td>\n",
       "      <td>2.666851</td>\n",
       "      <td>-0.714534</td>\n",
       "      <td>-5.787722</td>\n",
       "      <td>0.412882</td>\n",
       "      <td>-0.914017</td>\n",
       "      <td>-2.099310</td>\n",
       "      <td>0.314615</td>\n",
       "      <td>...</td>\n",
       "      <td>-6.933265</td>\n",
       "      <td>7.241564</td>\n",
       "      <td>8.869810</td>\n",
       "      <td>2.685888</td>\n",
       "      <td>-2.422153</td>\n",
       "      <td>1.414722</td>\n",
       "      <td>-3.685823</td>\n",
       "      <td>0.278520</td>\n",
       "      <td>1.626058</td>\n",
       "      <td>1.194847</td>\n",
       "    </tr>\n",
       "    <tr>\n",
       "      <th>ABB LTD N - TOT RETURN IND</th>\n",
       "      <td>-1.647263</td>\n",
       "      <td>0.68384</td>\n",
       "      <td>-3.923507</td>\n",
       "      <td>-0.999026</td>\n",
       "      <td>-0.972986</td>\n",
       "      <td>-2.015261</td>\n",
       "      <td>-10.087911</td>\n",
       "      <td>-5.198335</td>\n",
       "      <td>2.227582</td>\n",
       "      <td>1.289079</td>\n",
       "      <td>...</td>\n",
       "      <td>5.157030</td>\n",
       "      <td>10.128776</td>\n",
       "      <td>8.728026</td>\n",
       "      <td>9.710848</td>\n",
       "      <td>-3.126504</td>\n",
       "      <td>1.154862</td>\n",
       "      <td>-6.706429</td>\n",
       "      <td>-6.289987</td>\n",
       "      <td>0.418242</td>\n",
       "      <td>0.428843</td>\n",
       "    </tr>\n",
       "  </tbody>\n",
       "</table>\n",
       "<p>2 rows × 53 columns</p>\n",
       "</div>"
      ],
      "text/plain": [
       "                            2001-01-07  2001-01-14  2001-01-21  2001-01-28  \\\n",
       "Name                                                                         \n",
       "3I GROUP - TOT RETURN IND    -1.331504     3.72157    9.815437    2.666851   \n",
       "ABB LTD N - TOT RETURN IND   -1.647263     0.68384   -3.923507   -0.999026   \n",
       "\n",
       "                            2001-02-04  2001-02-11  2001-02-18  2001-02-25  \\\n",
       "Name                                                                         \n",
       "3I GROUP - TOT RETURN IND    -0.714534   -5.787722    0.412882   -0.914017   \n",
       "ABB LTD N - TOT RETURN IND   -0.972986   -2.015261  -10.087911   -5.198335   \n",
       "\n",
       "                            2001-03-04  2001-03-11  ...  2001-11-04  \\\n",
       "Name                                                ...               \n",
       "3I GROUP - TOT RETURN IND    -2.099310    0.314615  ...   -6.933265   \n",
       "ABB LTD N - TOT RETURN IND    2.227582    1.289079  ...    5.157030   \n",
       "\n",
       "                            2001-11-11  2001-11-18  2001-11-25  2001-12-02  \\\n",
       "Name                                                                         \n",
       "3I GROUP - TOT RETURN IND     7.241564    8.869810    2.685888   -2.422153   \n",
       "ABB LTD N - TOT RETURN IND   10.128776    8.728026    9.710848   -3.126504   \n",
       "\n",
       "                            2001-12-09  2001-12-16  2001-12-23  2001-12-30  \\\n",
       "Name                                                                         \n",
       "3I GROUP - TOT RETURN IND     1.414722   -3.685823    0.278520    1.626058   \n",
       "ABB LTD N - TOT RETURN IND    1.154862   -6.706429   -6.289987    0.418242   \n",
       "\n",
       "                            2002-01-06  \n",
       "Name                                    \n",
       "3I GROUP - TOT RETURN IND     1.194847  \n",
       "ABB LTD N - TOT RETURN IND    0.428843  \n",
       "\n",
       "[2 rows x 53 columns]"
      ]
     },
     "execution_count": 13,
     "metadata": {},
     "output_type": "execute_result"
    }
   ],
   "source": [
    "# Now, Stocks_WeeklyReturnPercentages_Dataframes contains the week-on-week percentage returns for each month/year, \n",
    "# including the first week's percentage calculated from the StartPastYearMinus1_Weekday.\n",
    "Stocks_WeeklyReturnPercentages_Dataframes[\"012002\"].head(2) "
   ]
  },
  {
   "cell_type": "markdown",
   "id": "2ea861e0",
   "metadata": {
    "heading_collapsed": true
   },
   "source": [
    "#### Weekly Index Returns"
   ]
  },
  {
   "cell_type": "markdown",
   "id": "1312e4f9",
   "metadata": {
    "heading_collapsed": true,
    "hidden": true
   },
   "source": [
    "##### Weekly Absolute Return Index of EUR600"
   ]
  },
  {
   "cell_type": "markdown",
   "id": "175ba303",
   "metadata": {
    "hidden": true
   },
   "source": [
    "We follow the same steps as with the stocks. First, we will make for each MMYY a dataframe with the absolute return indexes of the index in the past 52 weeks prior to MMYY. We are starting with the first weekday of the previous year (column StartPastYear_Weekday). We will end with the last weekday of the previous year (column EndPastYear_Weekday). These are stored in *Index_WeeklyReturn_Dataframes['MMYY']*. "
   ]
  },
  {
   "cell_type": "code",
   "execution_count": 14,
   "id": "cc63e128",
   "metadata": {
    "ExecuteTime": {
     "end_time": "2024-05-02T19:53:45.551738Z",
     "start_time": "2024-05-02T19:53:44.999913Z"
    },
    "hidden": true
   },
   "outputs": [],
   "source": [
    "# Initialize the dictionary to store the DataFrames\n",
    "Index_WeeklyReturn_Dataframes = {}\n",
    "\n",
    "# Create date range\n",
    "start_date = datetime(2002, 1, 1)\n",
    "end_date = datetime(2024, 3, 31)\n",
    "date_range = pd.date_range(start_date, end_date, freq='MS')  # 'MS' is month start frequency\n",
    "\n",
    "for single_date in date_range:\n",
    "    month, year = single_date.month, single_date.year\n",
    "    df_name = f\"{month:02d}{year}\"\n",
    "\n",
    "    # Find the corresponding row in the dates DataFrame\n",
    "    matching_rows = dates[(dates['Month'] == month) & (dates['Year'] == year)]\n",
    "\n",
    "    for _, row in matching_rows.iterrows():\n",
    "        index_name = row['Index']  # Though you mentioned Index, it seems like it's not used directly here.\n",
    "        start_date = row['StartPastYear_Weekday']\n",
    "        end_date = row['EndPastYear_Weekday']\n",
    "\n",
    "        # Filter the Index_DailyReturn_Dataframe to get rows within the start and end date\n",
    "        mask = (Index_DailyReturn_Dataframe['Date'] >= start_date) & (Index_DailyReturn_Dataframe['Date'] <= end_date)\n",
    "        filtered_data = Index_DailyReturn_Dataframe.loc[mask, ['Date', 'Return Index ']]\n",
    "\n",
    "        # Store this filtered data in the Index_WeeklyReturn_Dataframes dictionary\n",
    "        Index_WeeklyReturn_Dataframes[df_name] = filtered_data"
   ]
  },
  {
   "cell_type": "code",
   "execution_count": 15,
   "id": "f6c567f4",
   "metadata": {
    "ExecuteTime": {
     "end_time": "2024-05-02T19:53:45.566949Z",
     "start_time": "2024-05-02T19:53:45.552694Z"
    },
    "hidden": true
   },
   "outputs": [
    {
     "data": {
      "text/html": [
       "<div>\n",
       "<style scoped>\n",
       "    .dataframe tbody tr th:only-of-type {\n",
       "        vertical-align: middle;\n",
       "    }\n",
       "\n",
       "    .dataframe tbody tr th {\n",
       "        vertical-align: top;\n",
       "    }\n",
       "\n",
       "    .dataframe thead th {\n",
       "        text-align: right;\n",
       "    }\n",
       "</style>\n",
       "<table border=\"1\" class=\"dataframe\">\n",
       "  <thead>\n",
       "    <tr style=\"text-align: right;\">\n",
       "      <th></th>\n",
       "      <th>Date</th>\n",
       "      <th>Return Index</th>\n",
       "    </tr>\n",
       "  </thead>\n",
       "  <tbody>\n",
       "    <tr>\n",
       "      <th>1</th>\n",
       "      <td>2001-01-01</td>\n",
       "      <td>100.00</td>\n",
       "    </tr>\n",
       "    <tr>\n",
       "      <th>2</th>\n",
       "      <td>2001-01-02</td>\n",
       "      <td>99.09</td>\n",
       "    </tr>\n",
       "  </tbody>\n",
       "</table>\n",
       "</div>"
      ],
      "text/plain": [
       "        Date  Return Index \n",
       "1 2001-01-01         100.00\n",
       "2 2001-01-02          99.09"
      ]
     },
     "execution_count": 15,
     "metadata": {},
     "output_type": "execute_result"
    }
   ],
   "source": [
    "# At this point, Index_WeeklyReturn_Dataframes will contain your required DataFrames.\n",
    "Index_WeeklyReturn_Dataframes[\"012002\"].head(2)"
   ]
  },
  {
   "cell_type": "markdown",
   "id": "e8d7025c",
   "metadata": {
    "hidden": true
   },
   "source": [
    "Now we need to calculate the average per week. Note that the year not always starts on a monday and ends on a friday, so we do not always have five daily returns to calculate the weekly ones. We store these in *Index_WeeklyReturnAverages_Dataframes['MMYY'].*"
   ]
  },
  {
   "cell_type": "code",
   "execution_count": 16,
   "id": "93787442",
   "metadata": {
    "ExecuteTime": {
     "end_time": "2024-05-02T19:53:46.376225Z",
     "start_time": "2024-05-02T19:53:45.568944Z"
    },
    "hidden": true
   },
   "outputs": [],
   "source": [
    "Index_WeeklyReturnAverages_Dataframes = {}\n",
    "\n",
    "for key, df in Index_WeeklyReturn_Dataframes.items():\n",
    "     # Ensure the 'Date' column is of datetime type and set it as the index\n",
    "    df['Date'] = pd.to_datetime(df['Date'])\n",
    "    df.set_index('Date', inplace=True)\n",
    "    \n",
    "    # Now that 'Date' is the index, resample the DataFrame to get weekly averages.\n",
    "    # Note: This assumes that you want to calculate the mean of the 'Return' column on a weekly basis.\n",
    "    # If your DataFrame contains multiple columns you want to average, you might need to adjust this.\n",
    "    weekly_avg_df = df.resample('W').mean()\n",
    "    \n",
    "    # Store the resulting DataFrame of weekly averages in the new dictionary\n",
    "    Index_WeeklyReturnAverages_Dataframes[key] = weekly_avg_df\n"
   ]
  },
  {
   "cell_type": "code",
   "execution_count": 17,
   "id": "206fbe75",
   "metadata": {
    "ExecuteTime": {
     "end_time": "2024-05-02T19:53:46.391824Z",
     "start_time": "2024-05-02T19:53:46.377895Z"
    },
    "hidden": true
   },
   "outputs": [
    {
     "data": {
      "text/html": [
       "<div>\n",
       "<style scoped>\n",
       "    .dataframe tbody tr th:only-of-type {\n",
       "        vertical-align: middle;\n",
       "    }\n",
       "\n",
       "    .dataframe tbody tr th {\n",
       "        vertical-align: top;\n",
       "    }\n",
       "\n",
       "    .dataframe thead th {\n",
       "        text-align: right;\n",
       "    }\n",
       "</style>\n",
       "<table border=\"1\" class=\"dataframe\">\n",
       "  <thead>\n",
       "    <tr style=\"text-align: right;\">\n",
       "      <th></th>\n",
       "      <th>Return Index</th>\n",
       "    </tr>\n",
       "    <tr>\n",
       "      <th>Date</th>\n",
       "      <th></th>\n",
       "    </tr>\n",
       "  </thead>\n",
       "  <tbody>\n",
       "    <tr>\n",
       "      <th>2001-01-07</th>\n",
       "      <td>99.188</td>\n",
       "    </tr>\n",
       "    <tr>\n",
       "      <th>2001-01-14</th>\n",
       "      <td>98.274</td>\n",
       "    </tr>\n",
       "  </tbody>\n",
       "</table>\n",
       "</div>"
      ],
      "text/plain": [
       "            Return Index \n",
       "Date                     \n",
       "2001-01-07         99.188\n",
       "2001-01-14         98.274"
      ]
     },
     "execution_count": 17,
     "metadata": {},
     "output_type": "execute_result"
    }
   ],
   "source": [
    "Index_WeeklyReturnAverages_Dataframes[\"012002\"].head(2)"
   ]
  },
  {
   "cell_type": "markdown",
   "id": "3e3f70a0",
   "metadata": {
    "heading_collapsed": true,
    "hidden": true
   },
   "source": [
    "##### Weekly Relative Return Index of EUR600"
   ]
  },
  {
   "cell_type": "markdown",
   "id": "82b4d2b6",
   "metadata": {
    "hidden": true
   },
   "source": [
    "For each MMYY, we now have a dataframe with the weekly average return index of the STOXX 600 in the year prior to MMYY. We will compare each week to the previous week in the dataframe. The first week will be compared to the last weekday before the previous year period starts. We will calculate percent of change in total return index. These will be saved in *Index_WeeklyReturnPercentages_Dataframes['MMYY']*. "
   ]
  },
  {
   "cell_type": "code",
   "execution_count": 18,
   "id": "3361ca17",
   "metadata": {
    "ExecuteTime": {
     "end_time": "2024-05-02T19:53:47.515336Z",
     "start_time": "2024-05-02T19:53:46.393817Z"
    },
    "hidden": true
   },
   "outputs": [],
   "source": [
    "Index_WeeklyReturnPercentages_Dataframes = {}\n",
    "\n",
    "for key, weekly_returns_df in Index_WeeklyReturnAverages_Dataframes.items():\n",
    "    # Convert key to month and year\n",
    "    month, year = int(key[:2]), int(key[2:])\n",
    "    # Find the corresponding information in the dates DataFrame\n",
    "    date_info = dates[(dates['Month'] == month) & (dates['Year'] == year)]\n",
    "\n",
    "    if not date_info.empty:\n",
    "        for _, row in date_info.iterrows():\n",
    "            index_name = row['Index']\n",
    "            start_past_year_date = pd.to_datetime(row['StartPastYearMinus1_Weekday'])\n",
    "            \n",
    "            # Access the daily return on the start date from the corresponding DataFrame\n",
    "            daily_return_df = Index_DailyReturn_Dataframe\n",
    "     \n",
    "            if daily_return_df is not None and start_past_year_date in daily_return_df['Date'].values:\n",
    "                # Reset index if 'Date' is the index column\n",
    "                daily_return_df_reset = daily_return_df.reset_index()\n",
    "                start_return = daily_return_df_reset.loc[daily_return_df_reset['Date'] == start_past_year_date, 'Return Index '].values[0]\n",
    "\n",
    "                # Reset index for weekly_returns_df to manipulate 'Date' as a column\n",
    "                weekly_returns_df_reset = weekly_returns_df.reset_index()\n",
    "                first_week_return = weekly_returns_df_reset.iloc[0]['Return Index ']\n",
    "                # Calculate the percentage return for the first week compared to the start date\n",
    "                first_week_percentage = ((first_week_return - start_return) / start_return) * 100\n",
    "\n",
    "                # Calculate the week-on-week percentage returns for the rest of the weeks\n",
    "                weekly_returns_df_reset['Weekly_Percentage_Change'] = weekly_returns_df_reset['Return Index '].pct_change() * 100\n",
    "                # Replace the first percentage change with the calculated first week percentage\n",
    "                weekly_returns_df_reset.loc[0, 'Weekly_Percentage_Change'] = first_week_percentage\n",
    "                \n",
    "                # Store the result in the new dictionary without resetting index\n",
    "                Index_WeeklyReturnPercentages_Dataframes[key] = weekly_returns_df_reset.set_index('Date')[['Weekly_Percentage_Change']]\n",
    "\n"
   ]
  },
  {
   "cell_type": "code",
   "execution_count": 19,
   "id": "9a8a867f",
   "metadata": {
    "ExecuteTime": {
     "end_time": "2024-05-02T19:53:47.531033Z",
     "start_time": "2024-05-02T19:53:47.517077Z"
    },
    "hidden": true
   },
   "outputs": [
    {
     "data": {
      "text/html": [
       "<div>\n",
       "<style scoped>\n",
       "    .dataframe tbody tr th:only-of-type {\n",
       "        vertical-align: middle;\n",
       "    }\n",
       "\n",
       "    .dataframe tbody tr th {\n",
       "        vertical-align: top;\n",
       "    }\n",
       "\n",
       "    .dataframe thead th {\n",
       "        text-align: right;\n",
       "    }\n",
       "</style>\n",
       "<table border=\"1\" class=\"dataframe\">\n",
       "  <thead>\n",
       "    <tr style=\"text-align: right;\">\n",
       "      <th></th>\n",
       "      <th>Weekly_Percentage_Change</th>\n",
       "    </tr>\n",
       "    <tr>\n",
       "      <th>Date</th>\n",
       "      <th></th>\n",
       "    </tr>\n",
       "  </thead>\n",
       "  <tbody>\n",
       "    <tr>\n",
       "      <th>2001-01-07</th>\n",
       "      <td>-0.812000</td>\n",
       "    </tr>\n",
       "    <tr>\n",
       "      <th>2001-01-14</th>\n",
       "      <td>-0.921482</td>\n",
       "    </tr>\n",
       "  </tbody>\n",
       "</table>\n",
       "</div>"
      ],
      "text/plain": [
       "            Weekly_Percentage_Change\n",
       "Date                                \n",
       "2001-01-07                 -0.812000\n",
       "2001-01-14                 -0.921482"
      ]
     },
     "execution_count": 19,
     "metadata": {},
     "output_type": "execute_result"
    }
   ],
   "source": [
    "Index_WeeklyReturnPercentages_Dataframes[\"012002\"].head(2)"
   ]
  },
  {
   "cell_type": "markdown",
   "id": "daa2eb6e",
   "metadata": {},
   "source": [
    "#### Comparing Weekly Returns"
   ]
  },
  {
   "cell_type": "markdown",
   "id": "5c893b4d",
   "metadata": {
    "ExecuteTime": {
     "end_time": "2024-03-31T18:23:09.190228Z",
     "start_time": "2024-03-31T18:23:09.183249Z"
    }
   },
   "source": [
    "For each stock of EUR600 in MMYY, we now will make a dataframe *Stocks_Monthly_Dataframes['MMYY']*. The column *Comove* indicates how many of the weekly returns in Stocks_WeeklyReturnPercentages_Dataframes[MMYY] of that particular stock have the same sign as the weekly returns in Index_WeeklyReturnPercentages_Dataframes[MMYY]. "
   ]
  },
  {
   "cell_type": "markdown",
   "id": "18421ca7",
   "metadata": {},
   "source": [
    "Let's first make a function to calculate comove based on two series of weekly return percentages:"
   ]
  },
  {
   "cell_type": "code",
   "execution_count": 20,
   "id": "1db0e941",
   "metadata": {
    "ExecuteTime": {
     "end_time": "2024-05-02T19:53:47.546991Z",
     "start_time": "2024-05-02T19:53:47.534025Z"
    }
   },
   "outputs": [],
   "source": [
    "# Example function to calculate the Comove value for a stock based on its weekly returns and the index's weekly returns\n",
    "def calculate_comove(stock_weekly_returns, index_weekly_returns):\n",
    "    \n",
    "    # Calculate the signs (True if positive, False if negative) of the stock's weekly returns\n",
    "    stock_signs = np.array(stock_weekly_returns > 0)\n",
    "    \n",
    "    # Calculate the signs of the index's weekly returns\n",
    "    index_signs = np.array(index_weekly_returns > 0)\n",
    "    \n",
    "    # Determine the percentage of weeks where the stock's return sign matches the index's return sign\n",
    "    matching_signs = np.equal(stock_signs, index_signs)\n",
    "    matching_signs_percentage = np.mean(matching_signs) * 100\n",
    "    return matching_signs_percentage"
   ]
  },
  {
   "cell_type": "markdown",
   "id": "44dbde54",
   "metadata": {},
   "source": [
    "Let's apply the funciton on the data we have so far:"
   ]
  },
  {
   "cell_type": "code",
   "execution_count": 21,
   "id": "c650d158",
   "metadata": {
    "ExecuteTime": {
     "end_time": "2024-05-02T19:54:31.853442Z",
     "start_time": "2024-05-02T19:53:47.549984Z"
    },
    "scrolled": false
   },
   "outputs": [],
   "source": [
    "# Create an empty dictionary to store the dataframes with monthly data of individual stocks\n",
    "Stocks_Monthly_Dataframes = {}\n",
    "\n",
    "# Define the start and end dates\n",
    "start_date = datetime(2002, 1, 1)\n",
    "end_date = datetime(2024, 3, 31)\n",
    "# Generate the monthly periods\n",
    "monthly_periods = pd.date_range(start_date, end_date, freq='M')\n",
    "\n",
    "for period in monthly_periods:\n",
    "    \n",
    "   # Find dataframe names we need, based on the year\n",
    "    df_name = str(period.month).zfill(2) + str(period.year)\n",
    "    \n",
    "    # Check if we have the data for the MMYY in question\n",
    "    if df_name in Stocks_WeeklyReturnPercentages_Dataframes and df_name in Index_WeeklyReturnPercentages_Dataframes:\n",
    "        \n",
    "        # 1) Get the stock and index dataframes\n",
    "        stocks_df = Stocks_WeeklyReturnPercentages_Dataframes[df_name]\n",
    "        index_df = Index_WeeklyReturnPercentages_Dataframes[df_name]\n",
    "        \n",
    "        # 2) Calculate the 'Comove' values\n",
    "        comove_values = stocks_df.apply(lambda row: calculate_comove(row, index_df.iloc[0]), axis=1) #for each row of the stocks_df (axis=1), apply the function \n",
    "        # calculate_comove with as first parameter the row itself and as second parameter the first row of the index_df\n",
    "        \n",
    "        # 3) Create a DataFrame for the Comove values with the stock names as the index\n",
    "        comove_df = pd.DataFrame({\n",
    "            'Comove': comove_values\n",
    "        }, index=stocks_df.index)\n",
    "        \n",
    "        # 4) Add to the dictionary\n",
    "        Stocks_Monthly_Dataframes[df_name] = comove_df\n",
    "        "
   ]
  },
  {
   "cell_type": "code",
   "execution_count": 22,
   "id": "11493e3a",
   "metadata": {
    "ExecuteTime": {
     "end_time": "2024-05-02T19:54:31.869400Z",
     "start_time": "2024-05-02T19:54:31.855437Z"
    }
   },
   "outputs": [
    {
     "data": {
      "text/html": [
       "<div>\n",
       "<style scoped>\n",
       "    .dataframe tbody tr th:only-of-type {\n",
       "        vertical-align: middle;\n",
       "    }\n",
       "\n",
       "    .dataframe tbody tr th {\n",
       "        vertical-align: top;\n",
       "    }\n",
       "\n",
       "    .dataframe thead th {\n",
       "        text-align: right;\n",
       "    }\n",
       "</style>\n",
       "<table border=\"1\" class=\"dataframe\">\n",
       "  <thead>\n",
       "    <tr style=\"text-align: right;\">\n",
       "      <th></th>\n",
       "      <th>Comove</th>\n",
       "    </tr>\n",
       "    <tr>\n",
       "      <th>Name</th>\n",
       "      <th></th>\n",
       "    </tr>\n",
       "  </thead>\n",
       "  <tbody>\n",
       "    <tr>\n",
       "      <th>3I GROUP - TOT RETURN IND</th>\n",
       "      <td>47.169811</td>\n",
       "    </tr>\n",
       "    <tr>\n",
       "      <th>ABB LTD N - TOT RETURN IND</th>\n",
       "      <td>60.377358</td>\n",
       "    </tr>\n",
       "  </tbody>\n",
       "</table>\n",
       "</div>"
      ],
      "text/plain": [
       "                               Comove\n",
       "Name                                 \n",
       "3I GROUP - TOT RETURN IND   47.169811\n",
       "ABB LTD N - TOT RETURN IND  60.377358"
      ]
     },
     "execution_count": 22,
     "metadata": {},
     "output_type": "execute_result"
    }
   ],
   "source": [
    "# This code would result in the Yearly_Dataframes dictionary being populated with a dataframe for each year from 2005 to 2024.\n",
    "Stocks_Monthly_Dataframes[\"012002\"].head(2)"
   ]
  },
  {
   "cell_type": "markdown",
   "id": "5cca3990",
   "metadata": {
    "heading_collapsed": true
   },
   "source": [
    "### Monthly Beta"
   ]
  },
  {
   "cell_type": "markdown",
   "id": "fceecb16",
   "metadata": {
    "ExecuteTime": {
     "end_time": "2024-03-31T19:19:54.672046Z",
     "start_time": "2024-03-31T19:19:54.654094Z"
    },
    "hidden": true
   },
   "source": [
    "Later on, we will sort the individual stocks of each year into portfolios, based on the frequency of comovement and the beta. Therefore, we will need to add a column *Beta* to our *Stocks_Monthly_Dataframes['MMYY']* where we find the beta of each stock in that month. This is calculated using the daily returns in the year prior to MMYY. "
   ]
  },
  {
   "cell_type": "markdown",
   "id": "7470ea6f",
   "metadata": {
    "hidden": true
   },
   "source": [
    "**TODO:** Names of these intermediate dataframes can be adjusted to align with comovement more. "
   ]
  },
  {
   "cell_type": "markdown",
   "id": "3ed5c314",
   "metadata": {
    "heading_collapsed": true,
    "hidden": true
   },
   "source": [
    "#### Daily Stock Returns"
   ]
  },
  {
   "cell_type": "markdown",
   "id": "3981be51",
   "metadata": {
    "ExecuteTime": {
     "end_time": "2024-04-24T15:05:33.375650Z",
     "start_time": "2024-04-24T15:05:33.357705Z"
    },
    "heading_collapsed": true,
    "hidden": true
   },
   "source": [
    "##### Daily Absolute Return Index of Stocks"
   ]
  },
  {
   "cell_type": "markdown",
   "id": "31b60d8d",
   "metadata": {
    "hidden": true
   },
   "source": [
    "First we find the data we need for each month for stock return index. We do this using the same period as explained in 2.2 about frequency of comovement. In this case, we will use daily return indexes and therefore not calculate weekly averages. Since we do not calculate weekly average, it is easier to already include the day prior to the start date now instead of later. The results are stored in *Stocks_DailyReturnPastYear_Dataframes['MMYYYY']*. "
   ]
  },
  {
   "cell_type": "code",
   "execution_count": 23,
   "id": "214c37f0",
   "metadata": {
    "ExecuteTime": {
     "end_time": "2024-05-02T19:54:33.058837Z",
     "start_time": "2024-05-02T19:54:31.877380Z"
    },
    "hidden": true
   },
   "outputs": [],
   "source": [
    "# Stocks_DailyReturn_Dataframes = {'IndexName': dataframe, ...}\n",
    "# Initialize the dictionary to store the monthly dataframes\n",
    "Stocks_DailyReturnPastYear_Dataframes = {}\n",
    "\n",
    "# Define the start and end dates\n",
    "start_date = datetime(2002, 1, 1)\n",
    "end_date = datetime(2024, 3, 31)\n",
    "\n",
    "# Generate the monthly periods\n",
    "monthly_periods = pd.date_range(start_date, end_date, freq='M')\n",
    "\n",
    "for period in monthly_periods:\n",
    "    # Extract the year and month\n",
    "    year = period.year\n",
    "    month = period.month\n",
    "    \n",
    "    # Format the DataFrame name as MMYY\n",
    "    df_name = f\"{month:02d}{year}\"\n",
    "    \n",
    "    # Filter the dates DataFrame for the current month and year\n",
    "    # Assuming 'dates_df' is your DataFrame with 'Month', 'Year', 'Index', \n",
    "    # 'StartPastYear_Weekday', and 'EndPastYear_Weekday' columns\n",
    "    matching_rows = dates[(dates['Month'] == month) & (dates['Year'] == year)]\n",
    "    \n",
    "    # Initialize a list to collect data for the current month\n",
    "    data_for_month = []\n",
    "    \n",
    "    for _, row in matching_rows.iterrows():\n",
    "        index_name = row['Index']\n",
    "        start_date = row['StartPastYearMinus1_Weekday'] #HIER WEL ER AL BIJ DOEN MAKKELIJKER\n",
    "        end_date = row['EndPastYear_Weekday']\n",
    "        \n",
    "        # Access the corresponding daily returns DataFrame\n",
    "        daily_returns_df = Stocks_DailyReturn_Dataframes.get(index_name)\n",
    "        \n",
    "        if daily_returns_df is not None:\n",
    "            \n",
    "            # Find the columns for start and end dates\n",
    "            columns = daily_returns_df.columns\n",
    "            start_col = np.where(columns == pd.Timestamp(start_date))[0][0]\n",
    "            end_col = np.where(columns == pd.Timestamp(end_date))[0][0]\n",
    "            \n",
    "            # Extract the data between these dates\n",
    "            data = daily_returns_df.iloc[:, start_col:end_col+1]\n",
    "            data_for_month.append(data)\n",
    "    \n",
    "    # Concatenate all dataframes for the month (if any) and store in the dictionary\n",
    "    if data_for_month:\n",
    "        Stocks_DailyReturnPastYear_Dataframes[df_name] = pd.concat(data_for_month, axis=1)"
   ]
  },
  {
   "cell_type": "code",
   "execution_count": 24,
   "id": "6fcd158c",
   "metadata": {
    "ExecuteTime": {
     "end_time": "2024-05-02T19:54:33.106710Z",
     "start_time": "2024-05-02T19:54:33.061829Z"
    },
    "hidden": true,
    "scrolled": true
   },
   "outputs": [
    {
     "data": {
      "text/html": [
       "<div>\n",
       "<style scoped>\n",
       "    .dataframe tbody tr th:only-of-type {\n",
       "        vertical-align: middle;\n",
       "    }\n",
       "\n",
       "    .dataframe tbody tr th {\n",
       "        vertical-align: top;\n",
       "    }\n",
       "\n",
       "    .dataframe thead th {\n",
       "        text-align: right;\n",
       "    }\n",
       "</style>\n",
       "<table border=\"1\" class=\"dataframe\">\n",
       "  <thead>\n",
       "    <tr style=\"text-align: right;\">\n",
       "      <th></th>\n",
       "      <th>2001-01-31</th>\n",
       "      <th>2001-02-01</th>\n",
       "      <th>2001-02-02</th>\n",
       "      <th>2001-02-05</th>\n",
       "      <th>2001-02-06</th>\n",
       "      <th>2001-02-07</th>\n",
       "      <th>2001-02-08</th>\n",
       "      <th>2001-02-09</th>\n",
       "      <th>2001-02-12</th>\n",
       "      <th>2001-02-13</th>\n",
       "      <th>...</th>\n",
       "      <th>2002-01-18</th>\n",
       "      <th>2002-01-21</th>\n",
       "      <th>2002-01-22</th>\n",
       "      <th>2002-01-23</th>\n",
       "      <th>2002-01-24</th>\n",
       "      <th>2002-01-25</th>\n",
       "      <th>2002-01-28</th>\n",
       "      <th>2002-01-29</th>\n",
       "      <th>2002-01-30</th>\n",
       "      <th>2002-01-31</th>\n",
       "    </tr>\n",
       "    <tr>\n",
       "      <th>Name</th>\n",
       "      <th></th>\n",
       "      <th></th>\n",
       "      <th></th>\n",
       "      <th></th>\n",
       "      <th></th>\n",
       "      <th></th>\n",
       "      <th></th>\n",
       "      <th></th>\n",
       "      <th></th>\n",
       "      <th></th>\n",
       "      <th></th>\n",
       "      <th></th>\n",
       "      <th></th>\n",
       "      <th></th>\n",
       "      <th></th>\n",
       "      <th></th>\n",
       "      <th></th>\n",
       "      <th></th>\n",
       "      <th></th>\n",
       "      <th></th>\n",
       "      <th></th>\n",
       "    </tr>\n",
       "  </thead>\n",
       "  <tbody>\n",
       "    <tr>\n",
       "      <th>3I GROUP - TOT RETURN IND</th>\n",
       "      <td>949.86</td>\n",
       "      <td>936.80</td>\n",
       "      <td>927.67</td>\n",
       "      <td>907.48</td>\n",
       "      <td>914.20</td>\n",
       "      <td>883.26</td>\n",
       "      <td>885.28</td>\n",
       "      <td>854.15</td>\n",
       "      <td>866.79</td>\n",
       "      <td>894.87</td>\n",
       "      <td>...</td>\n",
       "      <td>550.93</td>\n",
       "      <td>553.35</td>\n",
       "      <td>553.84</td>\n",
       "      <td>528.21</td>\n",
       "      <td>528.55</td>\n",
       "      <td>539.08</td>\n",
       "      <td>531.66</td>\n",
       "      <td>525.50</td>\n",
       "      <td>523.93</td>\n",
       "      <td>532.88</td>\n",
       "    </tr>\n",
       "    <tr>\n",
       "      <th>ABB LTD N - TOT RETURN IND</th>\n",
       "      <td>1837.97</td>\n",
       "      <td>1802.15</td>\n",
       "      <td>1817.31</td>\n",
       "      <td>1819.32</td>\n",
       "      <td>1829.76</td>\n",
       "      <td>1805.90</td>\n",
       "      <td>1753.66</td>\n",
       "      <td>1736.72</td>\n",
       "      <td>1755.70</td>\n",
       "      <td>1606.52</td>\n",
       "      <td>...</td>\n",
       "      <td>780.79</td>\n",
       "      <td>777.30</td>\n",
       "      <td>762.67</td>\n",
       "      <td>739.33</td>\n",
       "      <td>763.83</td>\n",
       "      <td>799.80</td>\n",
       "      <td>806.49</td>\n",
       "      <td>797.24</td>\n",
       "      <td>741.32</td>\n",
       "      <td>707.26</td>\n",
       "    </tr>\n",
       "  </tbody>\n",
       "</table>\n",
       "<p>2 rows × 262 columns</p>\n",
       "</div>"
      ],
      "text/plain": [
       "                            2001-01-31  2001-02-01  2001-02-02  2001-02-05  \\\n",
       "Name                                                                         \n",
       "3I GROUP - TOT RETURN IND       949.86      936.80      927.67      907.48   \n",
       "ABB LTD N - TOT RETURN IND     1837.97     1802.15     1817.31     1819.32   \n",
       "\n",
       "                            2001-02-06  2001-02-07  2001-02-08  2001-02-09  \\\n",
       "Name                                                                         \n",
       "3I GROUP - TOT RETURN IND       914.20      883.26      885.28      854.15   \n",
       "ABB LTD N - TOT RETURN IND     1829.76     1805.90     1753.66     1736.72   \n",
       "\n",
       "                            2001-02-12  2001-02-13  ...  2002-01-18  \\\n",
       "Name                                                ...               \n",
       "3I GROUP - TOT RETURN IND       866.79      894.87  ...      550.93   \n",
       "ABB LTD N - TOT RETURN IND     1755.70     1606.52  ...      780.79   \n",
       "\n",
       "                            2002-01-21  2002-01-22  2002-01-23  2002-01-24  \\\n",
       "Name                                                                         \n",
       "3I GROUP - TOT RETURN IND       553.35      553.84      528.21      528.55   \n",
       "ABB LTD N - TOT RETURN IND      777.30      762.67      739.33      763.83   \n",
       "\n",
       "                            2002-01-25  2002-01-28  2002-01-29  2002-01-30  \\\n",
       "Name                                                                         \n",
       "3I GROUP - TOT RETURN IND       539.08      531.66      525.50      523.93   \n",
       "ABB LTD N - TOT RETURN IND      799.80      806.49      797.24      741.32   \n",
       "\n",
       "                            2002-01-31  \n",
       "Name                                    \n",
       "3I GROUP - TOT RETURN IND       532.88  \n",
       "ABB LTD N - TOT RETURN IND      707.26  \n",
       "\n",
       "[2 rows x 262 columns]"
      ]
     },
     "execution_count": 24,
     "metadata": {},
     "output_type": "execute_result"
    }
   ],
   "source": [
    "Stocks_DailyReturnPastYear_Dataframes[\"022002\"].head(2)"
   ]
  },
  {
   "cell_type": "markdown",
   "id": "db211341",
   "metadata": {
    "heading_collapsed": true,
    "hidden": true
   },
   "source": [
    "##### Daily Relative Return Index of Stocks"
   ]
  },
  {
   "cell_type": "markdown",
   "id": "c739f8a7",
   "metadata": {
    "hidden": true
   },
   "source": [
    "Then we find the daily return % for stocks, which will be stored in the dataframes *Stocks_DailyReturnPastYearPercentages_Dataframes['MMYYYY']*. "
   ]
  },
  {
   "cell_type": "code",
   "execution_count": 25,
   "id": "7f278fcd",
   "metadata": {
    "ExecuteTime": {
     "end_time": "2024-05-02T19:54:34.827433Z",
     "start_time": "2024-05-02T19:54:33.109702Z"
    },
    "hidden": true
   },
   "outputs": [],
   "source": [
    "# Placeholder for the new dictionary to store percentage returns DataFrames\n",
    "Stocks_DailyReturnPastYearPercentages_Dataframes = {}\n",
    "\n",
    "for key, weekly_returns_df in Stocks_DailyReturnPastYear_Dataframes.items():\n",
    "                # Calculate the week-on-week percentage returns for all days -- firt day problem already civered\n",
    "                weekly_percentage_changes = weekly_returns_df.pct_change(axis=1) * 100\n",
    "                \n",
    "                # Store the result in the new dictionary\n",
    "                Stocks_DailyReturnPastYearPercentages_Dataframes[key] = weekly_percentage_changes.iloc[:,1:]"
   ]
  },
  {
   "cell_type": "code",
   "execution_count": 26,
   "id": "b84c5165",
   "metadata": {
    "ExecuteTime": {
     "end_time": "2024-05-02T19:54:34.859348Z",
     "start_time": "2024-05-02T19:54:34.829432Z"
    },
    "hidden": true,
    "scrolled": true
   },
   "outputs": [
    {
     "data": {
      "text/html": [
       "<div>\n",
       "<style scoped>\n",
       "    .dataframe tbody tr th:only-of-type {\n",
       "        vertical-align: middle;\n",
       "    }\n",
       "\n",
       "    .dataframe tbody tr th {\n",
       "        vertical-align: top;\n",
       "    }\n",
       "\n",
       "    .dataframe thead th {\n",
       "        text-align: right;\n",
       "    }\n",
       "</style>\n",
       "<table border=\"1\" class=\"dataframe\">\n",
       "  <thead>\n",
       "    <tr style=\"text-align: right;\">\n",
       "      <th></th>\n",
       "      <th>2001-02-01</th>\n",
       "      <th>2001-02-02</th>\n",
       "      <th>2001-02-05</th>\n",
       "      <th>2001-02-06</th>\n",
       "      <th>2001-02-07</th>\n",
       "      <th>2001-02-08</th>\n",
       "      <th>2001-02-09</th>\n",
       "      <th>2001-02-12</th>\n",
       "      <th>2001-02-13</th>\n",
       "      <th>2001-02-14</th>\n",
       "      <th>...</th>\n",
       "      <th>2002-01-18</th>\n",
       "      <th>2002-01-21</th>\n",
       "      <th>2002-01-22</th>\n",
       "      <th>2002-01-23</th>\n",
       "      <th>2002-01-24</th>\n",
       "      <th>2002-01-25</th>\n",
       "      <th>2002-01-28</th>\n",
       "      <th>2002-01-29</th>\n",
       "      <th>2002-01-30</th>\n",
       "      <th>2002-01-31</th>\n",
       "    </tr>\n",
       "    <tr>\n",
       "      <th>Name</th>\n",
       "      <th></th>\n",
       "      <th></th>\n",
       "      <th></th>\n",
       "      <th></th>\n",
       "      <th></th>\n",
       "      <th></th>\n",
       "      <th></th>\n",
       "      <th></th>\n",
       "      <th></th>\n",
       "      <th></th>\n",
       "      <th></th>\n",
       "      <th></th>\n",
       "      <th></th>\n",
       "      <th></th>\n",
       "      <th></th>\n",
       "      <th></th>\n",
       "      <th></th>\n",
       "      <th></th>\n",
       "      <th></th>\n",
       "      <th></th>\n",
       "      <th></th>\n",
       "    </tr>\n",
       "  </thead>\n",
       "  <tbody>\n",
       "    <tr>\n",
       "      <th>3I GROUP - TOT RETURN IND</th>\n",
       "      <td>-1.374939</td>\n",
       "      <td>-0.974594</td>\n",
       "      <td>-2.176420</td>\n",
       "      <td>0.740512</td>\n",
       "      <td>-3.384380</td>\n",
       "      <td>0.228698</td>\n",
       "      <td>-3.516402</td>\n",
       "      <td>1.479834</td>\n",
       "      <td>3.239539</td>\n",
       "      <td>-2.171265</td>\n",
       "      <td>...</td>\n",
       "      <td>-3.071834</td>\n",
       "      <td>0.439257</td>\n",
       "      <td>0.088552</td>\n",
       "      <td>-4.627690</td>\n",
       "      <td>0.064368</td>\n",
       "      <td>1.992243</td>\n",
       "      <td>-1.376419</td>\n",
       "      <td>-1.158635</td>\n",
       "      <td>-0.298763</td>\n",
       "      <td>1.708243</td>\n",
       "    </tr>\n",
       "    <tr>\n",
       "      <th>ABB LTD N - TOT RETURN IND</th>\n",
       "      <td>-1.948889</td>\n",
       "      <td>0.841217</td>\n",
       "      <td>0.110603</td>\n",
       "      <td>0.573841</td>\n",
       "      <td>-1.303996</td>\n",
       "      <td>-2.892740</td>\n",
       "      <td>-0.965980</td>\n",
       "      <td>1.092865</td>\n",
       "      <td>-8.496896</td>\n",
       "      <td>-4.175485</td>\n",
       "      <td>...</td>\n",
       "      <td>-3.703658</td>\n",
       "      <td>-0.446983</td>\n",
       "      <td>-1.882156</td>\n",
       "      <td>-3.060301</td>\n",
       "      <td>3.313811</td>\n",
       "      <td>4.709163</td>\n",
       "      <td>0.836459</td>\n",
       "      <td>-1.146945</td>\n",
       "      <td>-7.014199</td>\n",
       "      <td>-4.594507</td>\n",
       "    </tr>\n",
       "  </tbody>\n",
       "</table>\n",
       "<p>2 rows × 261 columns</p>\n",
       "</div>"
      ],
      "text/plain": [
       "                            2001-02-01  2001-02-02  2001-02-05  2001-02-06  \\\n",
       "Name                                                                         \n",
       "3I GROUP - TOT RETURN IND    -1.374939   -0.974594   -2.176420    0.740512   \n",
       "ABB LTD N - TOT RETURN IND   -1.948889    0.841217    0.110603    0.573841   \n",
       "\n",
       "                            2001-02-07  2001-02-08  2001-02-09  2001-02-12  \\\n",
       "Name                                                                         \n",
       "3I GROUP - TOT RETURN IND    -3.384380    0.228698   -3.516402    1.479834   \n",
       "ABB LTD N - TOT RETURN IND   -1.303996   -2.892740   -0.965980    1.092865   \n",
       "\n",
       "                            2001-02-13  2001-02-14  ...  2002-01-18  \\\n",
       "Name                                                ...               \n",
       "3I GROUP - TOT RETURN IND     3.239539   -2.171265  ...   -3.071834   \n",
       "ABB LTD N - TOT RETURN IND   -8.496896   -4.175485  ...   -3.703658   \n",
       "\n",
       "                            2002-01-21  2002-01-22  2002-01-23  2002-01-24  \\\n",
       "Name                                                                         \n",
       "3I GROUP - TOT RETURN IND     0.439257    0.088552   -4.627690    0.064368   \n",
       "ABB LTD N - TOT RETURN IND   -0.446983   -1.882156   -3.060301    3.313811   \n",
       "\n",
       "                            2002-01-25  2002-01-28  2002-01-29  2002-01-30  \\\n",
       "Name                                                                         \n",
       "3I GROUP - TOT RETURN IND     1.992243   -1.376419   -1.158635   -0.298763   \n",
       "ABB LTD N - TOT RETURN IND    4.709163    0.836459   -1.146945   -7.014199   \n",
       "\n",
       "                            2002-01-31  \n",
       "Name                                    \n",
       "3I GROUP - TOT RETURN IND     1.708243  \n",
       "ABB LTD N - TOT RETURN IND   -4.594507  \n",
       "\n",
       "[2 rows x 261 columns]"
      ]
     },
     "execution_count": 26,
     "metadata": {},
     "output_type": "execute_result"
    }
   ],
   "source": [
    "Stocks_DailyReturnPastYearPercentages_Dataframes[\"022002\"].head(2)"
   ]
  },
  {
   "cell_type": "markdown",
   "id": "2255520e",
   "metadata": {
    "heading_collapsed": true,
    "hidden": true
   },
   "source": [
    "#### Daily Index Returns"
   ]
  },
  {
   "cell_type": "markdown",
   "id": "28fe7d2d",
   "metadata": {
    "heading_collapsed": true,
    "hidden": true
   },
   "source": [
    "##### Daily Absolute Return Index of EUR600"
   ]
  },
  {
   "cell_type": "markdown",
   "id": "c68faedd",
   "metadata": {
    "hidden": true
   },
   "source": [
    "Secondly, we find the data we need for the index analogue to what we did with the stocks. We save the results in *Index_DailyReturnPastYear_Dataframes[\"MMYYYY\"]*. Note that again, since we are using daily returns, we already include the day prior to this period."
   ]
  },
  {
   "cell_type": "code",
   "execution_count": 27,
   "id": "1ace95b0",
   "metadata": {
    "ExecuteTime": {
     "end_time": "2024-05-02T19:54:35.428131Z",
     "start_time": "2024-05-02T19:54:34.861379Z"
    },
    "hidden": true
   },
   "outputs": [],
   "source": [
    "# Initialize the dictionary to store the DataFrames\n",
    "Index_DailyReturnPastYear_Dataframes = {}\n",
    "\n",
    "# Create date range\n",
    "start_date = datetime(2002, 1, 1)\n",
    "end_date = datetime(2024, 3, 31)\n",
    "date_range = pd.date_range(start_date, end_date, freq='MS')  # 'MS' is month start frequency\n",
    "\n",
    "for single_date in date_range:\n",
    "    month, year = single_date.month, single_date.year\n",
    "    df_name = f\"{month:02d}{year}\"\n",
    "\n",
    "    # Find the corresponding row in the dates DataFrame\n",
    "    matching_rows = dates[(dates['Month'] == month) & (dates['Year'] == year)]\n",
    "\n",
    "    for _, row in matching_rows.iterrows():\n",
    "        index_name = row['Index']  # Though you mentioned Index, it seems like it's not used directly here.\n",
    "        start_date = row['StartPastYearMinus1_Weekday'] #HIER ER AL IN VEEL MAKKELIJKER\n",
    "        end_date = row['EndPastYear_Weekday']\n",
    "\n",
    "        # Filter the Index_DailyReturn_Dataframe to get rows within the start and end date\n",
    "        mask = (Index_DailyReturn_Dataframe['Date'] >= start_date) & (Index_DailyReturn_Dataframe['Date'] <= end_date)\n",
    "        filtered_data = Index_DailyReturn_Dataframe.loc[mask, ['Date', 'Return Index ']]\n",
    "\n",
    "        # Store this filtered data in the Index_WeeklyReturn_Dataframes dictionary\n",
    "        Index_DailyReturnPastYear_Dataframes[df_name] = filtered_data"
   ]
  },
  {
   "cell_type": "code",
   "execution_count": 28,
   "id": "ac44d656",
   "metadata": {
    "ExecuteTime": {
     "end_time": "2024-05-02T19:54:35.444091Z",
     "start_time": "2024-05-02T19:54:35.430127Z"
    },
    "hidden": true
   },
   "outputs": [
    {
     "data": {
      "text/html": [
       "<div>\n",
       "<style scoped>\n",
       "    .dataframe tbody tr th:only-of-type {\n",
       "        vertical-align: middle;\n",
       "    }\n",
       "\n",
       "    .dataframe tbody tr th {\n",
       "        vertical-align: top;\n",
       "    }\n",
       "\n",
       "    .dataframe thead th {\n",
       "        text-align: right;\n",
       "    }\n",
       "</style>\n",
       "<table border=\"1\" class=\"dataframe\">\n",
       "  <thead>\n",
       "    <tr style=\"text-align: right;\">\n",
       "      <th></th>\n",
       "      <th>Date</th>\n",
       "      <th>Return Index</th>\n",
       "    </tr>\n",
       "  </thead>\n",
       "  <tbody>\n",
       "    <tr>\n",
       "      <th>0</th>\n",
       "      <td>2000-12-29</td>\n",
       "      <td>100.0</td>\n",
       "    </tr>\n",
       "    <tr>\n",
       "      <th>1</th>\n",
       "      <td>2001-01-01</td>\n",
       "      <td>100.0</td>\n",
       "    </tr>\n",
       "  </tbody>\n",
       "</table>\n",
       "</div>"
      ],
      "text/plain": [
       "        Date  Return Index \n",
       "0 2000-12-29          100.0\n",
       "1 2001-01-01          100.0"
      ]
     },
     "execution_count": 28,
     "metadata": {},
     "output_type": "execute_result"
    }
   ],
   "source": [
    "Index_DailyReturnPastYear_Dataframes[\"012002\"].head(2)"
   ]
  },
  {
   "cell_type": "markdown",
   "id": "4e0f2768",
   "metadata": {
    "heading_collapsed": true,
    "hidden": true
   },
   "source": [
    "##### Daily Relative Return Index of EUR600"
   ]
  },
  {
   "cell_type": "markdown",
   "id": "f9b5a4a6",
   "metadata": {
    "hidden": true
   },
   "source": [
    "We now try to find the day-on-day percentual difference again. We store the results in *Index_DailyReturnPastYearPercentages_Dataframes[\"MMYYYY\"]*."
   ]
  },
  {
   "cell_type": "code",
   "execution_count": 29,
   "id": "4cab9311",
   "metadata": {
    "ExecuteTime": {
     "end_time": "2024-05-02T19:54:35.950810Z",
     "start_time": "2024-05-02T19:54:35.449075Z"
    },
    "hidden": true
   },
   "outputs": [],
   "source": [
    "Index_DailyReturnPastYearPercentages_Dataframes = {}\n",
    "\n",
    "for key, weekly_returns_df in Index_DailyReturnPastYear_Dataframes.items():\n",
    "\n",
    "    # Calculate the week-on-week percentage returns for the rest of the weeks\n",
    "    weekly_returns_df['Daily_Percentage_Change'] = weekly_returns_df['Return Index '].pct_change() * 100\n",
    "           \n",
    "    # Store the result in the new dictionary without resetting index\n",
    "    Index_DailyReturnPastYearPercentages_Dataframes[key] = weekly_returns_df.set_index('Date')[['Daily_Percentage_Change']].iloc[1:, :]"
   ]
  },
  {
   "cell_type": "code",
   "execution_count": 30,
   "id": "10c3fdad",
   "metadata": {
    "ExecuteTime": {
     "end_time": "2024-05-02T19:54:35.966620Z",
     "start_time": "2024-05-02T19:54:35.952655Z"
    },
    "hidden": true
   },
   "outputs": [
    {
     "data": {
      "text/html": [
       "<div>\n",
       "<style scoped>\n",
       "    .dataframe tbody tr th:only-of-type {\n",
       "        vertical-align: middle;\n",
       "    }\n",
       "\n",
       "    .dataframe tbody tr th {\n",
       "        vertical-align: top;\n",
       "    }\n",
       "\n",
       "    .dataframe thead th {\n",
       "        text-align: right;\n",
       "    }\n",
       "</style>\n",
       "<table border=\"1\" class=\"dataframe\">\n",
       "  <thead>\n",
       "    <tr style=\"text-align: right;\">\n",
       "      <th></th>\n",
       "      <th>Daily_Percentage_Change</th>\n",
       "    </tr>\n",
       "    <tr>\n",
       "      <th>Date</th>\n",
       "      <th></th>\n",
       "    </tr>\n",
       "  </thead>\n",
       "  <tbody>\n",
       "    <tr>\n",
       "      <th>2001-01-01</th>\n",
       "      <td>0.00</td>\n",
       "    </tr>\n",
       "    <tr>\n",
       "      <th>2001-01-02</th>\n",
       "      <td>-0.91</td>\n",
       "    </tr>\n",
       "  </tbody>\n",
       "</table>\n",
       "</div>"
      ],
      "text/plain": [
       "            Daily_Percentage_Change\n",
       "Date                               \n",
       "2001-01-01                     0.00\n",
       "2001-01-02                    -0.91"
      ]
     },
     "execution_count": 30,
     "metadata": {},
     "output_type": "execute_result"
    }
   ],
   "source": [
    "Index_DailyReturnPastYearPercentages_Dataframes[\"012002\"].head(2)"
   ]
  },
  {
   "cell_type": "markdown",
   "id": "cd95ec05",
   "metadata": {
    "heading_collapsed": true,
    "hidden": true
   },
   "source": [
    "#### Comparing Daily Returns"
   ]
  },
  {
   "cell_type": "markdown",
   "id": "8e1a0576",
   "metadata": {
    "hidden": true
   },
   "source": [
    "Using the daily relative returns of each stock in Stocks_DailyReturnPastYearPercentages_Dataframes['MMYYYY']  with the daily relative returns of the index in Index_DailyReturnPastYearPercentages_Dataframes[\"MMYYYY\"], we calculate beta with its historical regression formula. This formula is set out in the following function:"
   ]
  },
  {
   "cell_type": "code",
   "execution_count": 31,
   "id": "3617ae73",
   "metadata": {
    "ExecuteTime": {
     "end_time": "2024-05-02T19:54:35.982576Z",
     "start_time": "2024-05-02T19:54:35.969614Z"
    },
    "hidden": true
   },
   "outputs": [],
   "source": [
    "# Example function to calculate the Comove value for a stock based on its weekly returns and the index's weekly returns\n",
    "def calculate_beta(stock_daily_returns, market_daily_returns):\n",
    "    \n",
    "    # Calculate covariance between stock and market\n",
    "    covariance = stock_daily_returns.cov(market_daily_returns)\n",
    "    \n",
    "    # Calculate variance of the market\n",
    "    variance = market_daily_returns.var()\n",
    "    \n",
    "    # Calculate beta\n",
    "    beta = covariance / variance\n",
    "    \n",
    "    return beta"
   ]
  },
  {
   "cell_type": "markdown",
   "id": "f9a22a78",
   "metadata": {
    "hidden": true
   },
   "source": [
    "When applying the function, results are calculated and stored in the column *Beta* of the *Stocks_Monthly_Dataframes['MMYY']*."
   ]
  },
  {
   "cell_type": "code",
   "execution_count": 32,
   "id": "facd02e9",
   "metadata": {
    "ExecuteTime": {
     "end_time": "2024-05-02T19:55:24.870399Z",
     "start_time": "2024-05-02T19:54:35.985569Z"
    },
    "hidden": true
   },
   "outputs": [
    {
     "name": "stderr",
     "output_type": "stream",
     "text": [
      "C:\\Users\\lunag\\AppData\\Roaming\\Python\\Python39\\site-packages\\pandas\\core\\nanops.py:1609: RuntimeWarning: Degrees of freedom <= 0 for slice\n",
      "  return np.cov(a, b, ddof=ddof)[0, 1]\n",
      "C:\\Users\\lunag\\AppData\\Roaming\\Python\\Python39\\site-packages\\numpy\\lib\\function_base.py:2704: RuntimeWarning: divide by zero encountered in divide\n",
      "  c *= np.true_divide(1, fact)\n",
      "C:\\Users\\lunag\\AppData\\Roaming\\Python\\Python39\\site-packages\\pandas\\core\\nanops.py:1609: RuntimeWarning: Degrees of freedom <= 0 for slice\n",
      "  return np.cov(a, b, ddof=ddof)[0, 1]\n",
      "C:\\Users\\lunag\\AppData\\Roaming\\Python\\Python39\\site-packages\\numpy\\lib\\function_base.py:2704: RuntimeWarning: divide by zero encountered in divide\n",
      "  c *= np.true_divide(1, fact)\n"
     ]
    }
   ],
   "source": [
    "# Loop through the years \n",
    "\n",
    "# Define the start and end dates\n",
    "start_date = datetime(2002, 1, 1)\n",
    "end_date = datetime(2024, 3, 31)\n",
    "\n",
    "# Generate the monthly periods\n",
    "monthly_periods = pd.date_range(start_date, end_date, freq='M')\n",
    "\n",
    "for period in monthly_periods:\n",
    "    \n",
    "   # Find dataframe names we need, based on the year\n",
    "    df_name = str(period.month).zfill(2) + str(period.year)\n",
    "    \n",
    "    # Check if we have the data for the year in question\n",
    "    if df_name in Stocks_DailyReturnPastYearPercentages_Dataframes and df_name in Index_DailyReturnPastYearPercentages_Dataframes:\n",
    "        \n",
    "        # 1) Get the stock and index dataframes\n",
    "        stocks_df = Stocks_DailyReturnPastYearPercentages_Dataframes[df_name]\n",
    "        index_df = Index_DailyReturnPastYearPercentages_Dataframes[df_name]\n",
    "        \n",
    "        # 2) Calculate the beta values\n",
    "        beta_values = stocks_df.apply(lambda row: calculate_beta(row, index_df.iloc[:,0]), axis=1) #for each row of the stocks_df (axis=1), apply the function \n",
    "        # calculate_beta with as first parameter the row itself and as second parameter the first column of the index_df\n",
    "        \n",
    "        # 3) Add this columnn to the comove values we already had\n",
    "        Stocks_Monthly_Dataframes[df_name]['Beta'] = beta_values"
   ]
  },
  {
   "cell_type": "code",
   "execution_count": 33,
   "id": "1a833b38",
   "metadata": {
    "ExecuteTime": {
     "end_time": "2024-05-02T19:55:24.886386Z",
     "start_time": "2024-05-02T19:55:24.872398Z"
    },
    "hidden": true
   },
   "outputs": [
    {
     "data": {
      "text/html": [
       "<div>\n",
       "<style scoped>\n",
       "    .dataframe tbody tr th:only-of-type {\n",
       "        vertical-align: middle;\n",
       "    }\n",
       "\n",
       "    .dataframe tbody tr th {\n",
       "        vertical-align: top;\n",
       "    }\n",
       "\n",
       "    .dataframe thead th {\n",
       "        text-align: right;\n",
       "    }\n",
       "</style>\n",
       "<table border=\"1\" class=\"dataframe\">\n",
       "  <thead>\n",
       "    <tr style=\"text-align: right;\">\n",
       "      <th></th>\n",
       "      <th>Comove</th>\n",
       "      <th>Beta</th>\n",
       "    </tr>\n",
       "    <tr>\n",
       "      <th>Name</th>\n",
       "      <th></th>\n",
       "      <th></th>\n",
       "    </tr>\n",
       "  </thead>\n",
       "  <tbody>\n",
       "    <tr>\n",
       "      <th>3I GROUP - TOT RETURN IND</th>\n",
       "      <td>47.169811</td>\n",
       "      <td>1.405906</td>\n",
       "    </tr>\n",
       "    <tr>\n",
       "      <th>ABB LTD N - TOT RETURN IND</th>\n",
       "      <td>60.377358</td>\n",
       "      <td>1.675130</td>\n",
       "    </tr>\n",
       "  </tbody>\n",
       "</table>\n",
       "</div>"
      ],
      "text/plain": [
       "                               Comove      Beta\n",
       "Name                                           \n",
       "3I GROUP - TOT RETURN IND   47.169811  1.405906\n",
       "ABB LTD N - TOT RETURN IND  60.377358  1.675130"
      ]
     },
     "execution_count": 33,
     "metadata": {},
     "output_type": "execute_result"
    }
   ],
   "source": [
    "# This code would result in the Yearly_Dataframes dictionary being populated with a dataframe for each year from 2005 to 2024.\n",
    "Stocks_Monthly_Dataframes[\"012002\"].head(2)"
   ]
  },
  {
   "cell_type": "markdown",
   "id": "078fee18",
   "metadata": {
    "heading_collapsed": true
   },
   "source": [
    "### Monthly Returns"
   ]
  },
  {
   "cell_type": "markdown",
   "id": "e14d6112",
   "metadata": {
    "hidden": true
   },
   "source": [
    "After sorting the data, we will need the monthly return of the market (approximated by the index) and each stock. Let's already collect this data as well. Instead of the previous year returns we worked with for comove and beta, we now use the returns of the actual month.  "
   ]
  },
  {
   "cell_type": "markdown",
   "id": "ae8b8909",
   "metadata": {
    "heading_collapsed": true,
    "hidden": true
   },
   "source": [
    "#### Monthly Stock Return"
   ]
  },
  {
   "cell_type": "markdown",
   "id": "9a561f12",
   "metadata": {
    "ExecuteTime": {
     "end_time": "2024-04-24T15:18:38.988875Z",
     "start_time": "2024-04-24T15:18:38.974881Z"
    },
    "heading_collapsed": true,
    "hidden": true
   },
   "source": [
    "##### Absolute Monthly Return Index of Stocks"
   ]
  },
  {
   "cell_type": "markdown",
   "id": "57fec345",
   "metadata": {
    "hidden": true
   },
   "source": [
    "Let's first look at the daily returns from the last weekday before the start of the month until last day of the month. We store the results in   *Stocks_DailyReturnThisMonth_Dataframes[\"MMYYYY\"]*. Since we use daily returns, we also already include the return index of the day prior to that month."
   ]
  },
  {
   "cell_type": "code",
   "execution_count": 34,
   "id": "48973ddd",
   "metadata": {
    "ExecuteTime": {
     "end_time": "2024-05-02T19:55:25.549130Z",
     "start_time": "2024-05-02T19:55:24.888356Z"
    },
    "hidden": true
   },
   "outputs": [],
   "source": [
    "# Stocks_DailyReturn_Dataframes = {'IndexName': dataframe, ...}\n",
    "# Initialize the dictionary to store the monthly dataframes\n",
    "Stocks_DailyReturnThisMonth_Dataframes = {}\n",
    "\n",
    "# Define the start and end dates\n",
    "start_date = datetime(2002, 1, 1)\n",
    "end_date = datetime(2024, 3, 31)\n",
    "\n",
    "# Generate the monthly periods\n",
    "monthly_periods = pd.date_range(start_date, end_date, freq='M')\n",
    "\n",
    "for period in monthly_periods:\n",
    "    # Extract the year and month\n",
    "    year = period.year\n",
    "    month = period.month\n",
    "    \n",
    "    # Format the DataFrame name as MMYY\n",
    "    df_name = f\"{month:02d}{year}\"\n",
    "    \n",
    "    # Filter the dates DataFrame for the current month and year\n",
    "    # Assuming 'dates_df' is your DataFrame with 'Month', 'Year', 'Index', \n",
    "    # 'StartPastYear_Weekday', and 'EndPastYear_Weekday' columns\n",
    "    matching_rows = dates[(dates['Month'] == month) & (dates['Year'] == year)]\n",
    "    \n",
    "    # Initialize a list to collect data for the current month\n",
    "    data_for_month = []\n",
    "    \n",
    "    for _, row in matching_rows.iterrows():\n",
    "        index_name = row['Index']\n",
    "        start_date = row['StartMonthMinus1_Weekday'] #HIER ER DUS WEL OOK AL BIJ\n",
    "        end_date = row['EndMonth_Weekday']\n",
    "        \n",
    "        # Access the corresponding daily returns DataFrame\n",
    "        daily_returns_df = Stocks_DailyReturn_Dataframes.get(index_name)\n",
    "        \n",
    "        if daily_returns_df is not None:\n",
    "            \n",
    "            # Find the columns for start and end dates\n",
    "            columns = daily_returns_df.columns\n",
    "            start_col = np.where(columns == pd.Timestamp(start_date))[0][0]\n",
    "            end_col = np.where(columns == pd.Timestamp(end_date))[0][0]\n",
    "            \n",
    "            # Extract the data between these dates\n",
    "            data = daily_returns_df.iloc[:, start_col:end_col+1]\n",
    "            data_for_month.append(data)\n",
    "    \n",
    "    # Concatenate all dataframes for the month (if any) and store in the dictionary\n",
    "    if data_for_month:\n",
    "        Stocks_DailyReturnThisMonth_Dataframes[df_name] = pd.concat(data_for_month, axis=1)\n",
    "    "
   ]
  },
  {
   "cell_type": "code",
   "execution_count": 35,
   "id": "5a80a6bd",
   "metadata": {
    "ExecuteTime": {
     "end_time": "2024-05-02T19:55:25.580165Z",
     "start_time": "2024-05-02T19:55:25.551152Z"
    },
    "hidden": true,
    "scrolled": true
   },
   "outputs": [
    {
     "data": {
      "text/html": [
       "<div>\n",
       "<style scoped>\n",
       "    .dataframe tbody tr th:only-of-type {\n",
       "        vertical-align: middle;\n",
       "    }\n",
       "\n",
       "    .dataframe tbody tr th {\n",
       "        vertical-align: top;\n",
       "    }\n",
       "\n",
       "    .dataframe thead th {\n",
       "        text-align: right;\n",
       "    }\n",
       "</style>\n",
       "<table border=\"1\" class=\"dataframe\">\n",
       "  <thead>\n",
       "    <tr style=\"text-align: right;\">\n",
       "      <th></th>\n",
       "      <th>2001-12-31</th>\n",
       "      <th>2002-01-01</th>\n",
       "      <th>2002-01-02</th>\n",
       "      <th>2002-01-03</th>\n",
       "      <th>2002-01-04</th>\n",
       "      <th>2002-01-07</th>\n",
       "      <th>2002-01-08</th>\n",
       "      <th>2002-01-09</th>\n",
       "      <th>2002-01-10</th>\n",
       "      <th>2002-01-11</th>\n",
       "      <th>...</th>\n",
       "      <th>2002-01-18</th>\n",
       "      <th>2002-01-21</th>\n",
       "      <th>2002-01-22</th>\n",
       "      <th>2002-01-23</th>\n",
       "      <th>2002-01-24</th>\n",
       "      <th>2002-01-25</th>\n",
       "      <th>2002-01-28</th>\n",
       "      <th>2002-01-29</th>\n",
       "      <th>2002-01-30</th>\n",
       "      <th>2002-01-31</th>\n",
       "    </tr>\n",
       "    <tr>\n",
       "      <th>Name</th>\n",
       "      <th></th>\n",
       "      <th></th>\n",
       "      <th></th>\n",
       "      <th></th>\n",
       "      <th></th>\n",
       "      <th></th>\n",
       "      <th></th>\n",
       "      <th></th>\n",
       "      <th></th>\n",
       "      <th></th>\n",
       "      <th></th>\n",
       "      <th></th>\n",
       "      <th></th>\n",
       "      <th></th>\n",
       "      <th></th>\n",
       "      <th></th>\n",
       "      <th></th>\n",
       "      <th></th>\n",
       "      <th></th>\n",
       "      <th></th>\n",
       "      <th></th>\n",
       "    </tr>\n",
       "  </thead>\n",
       "  <tbody>\n",
       "    <tr>\n",
       "      <th>3I GROUP - TOT RETURN IND</th>\n",
       "      <td>595.39</td>\n",
       "      <td>595.39</td>\n",
       "      <td>578.56</td>\n",
       "      <td>590.31</td>\n",
       "      <td>605.97</td>\n",
       "      <td>604.36</td>\n",
       "      <td>602.20</td>\n",
       "      <td>591.70</td>\n",
       "      <td>571.40</td>\n",
       "      <td>574.98</td>\n",
       "      <td>...</td>\n",
       "      <td>550.93</td>\n",
       "      <td>553.35</td>\n",
       "      <td>553.84</td>\n",
       "      <td>528.21</td>\n",
       "      <td>528.55</td>\n",
       "      <td>539.08</td>\n",
       "      <td>531.66</td>\n",
       "      <td>525.50</td>\n",
       "      <td>523.93</td>\n",
       "      <td>532.88</td>\n",
       "    </tr>\n",
       "    <tr>\n",
       "      <th>ABB LTD N - TOT RETURN IND</th>\n",
       "      <td>764.85</td>\n",
       "      <td>764.85</td>\n",
       "      <td>776.60</td>\n",
       "      <td>836.05</td>\n",
       "      <td>875.67</td>\n",
       "      <td>856.11</td>\n",
       "      <td>845.33</td>\n",
       "      <td>863.46</td>\n",
       "      <td>857.59</td>\n",
       "      <td>862.19</td>\n",
       "      <td>...</td>\n",
       "      <td>780.79</td>\n",
       "      <td>777.30</td>\n",
       "      <td>762.67</td>\n",
       "      <td>739.33</td>\n",
       "      <td>763.83</td>\n",
       "      <td>799.80</td>\n",
       "      <td>806.49</td>\n",
       "      <td>797.24</td>\n",
       "      <td>741.32</td>\n",
       "      <td>707.26</td>\n",
       "    </tr>\n",
       "  </tbody>\n",
       "</table>\n",
       "<p>2 rows × 24 columns</p>\n",
       "</div>"
      ],
      "text/plain": [
       "                            2001-12-31  2002-01-01  2002-01-02  2002-01-03  \\\n",
       "Name                                                                         \n",
       "3I GROUP - TOT RETURN IND       595.39      595.39      578.56      590.31   \n",
       "ABB LTD N - TOT RETURN IND      764.85      764.85      776.60      836.05   \n",
       "\n",
       "                            2002-01-04  2002-01-07  2002-01-08  2002-01-09  \\\n",
       "Name                                                                         \n",
       "3I GROUP - TOT RETURN IND       605.97      604.36      602.20      591.70   \n",
       "ABB LTD N - TOT RETURN IND      875.67      856.11      845.33      863.46   \n",
       "\n",
       "                            2002-01-10  2002-01-11  ...  2002-01-18  \\\n",
       "Name                                                ...               \n",
       "3I GROUP - TOT RETURN IND       571.40      574.98  ...      550.93   \n",
       "ABB LTD N - TOT RETURN IND      857.59      862.19  ...      780.79   \n",
       "\n",
       "                            2002-01-21  2002-01-22  2002-01-23  2002-01-24  \\\n",
       "Name                                                                         \n",
       "3I GROUP - TOT RETURN IND       553.35      553.84      528.21      528.55   \n",
       "ABB LTD N - TOT RETURN IND      777.30      762.67      739.33      763.83   \n",
       "\n",
       "                            2002-01-25  2002-01-28  2002-01-29  2002-01-30  \\\n",
       "Name                                                                         \n",
       "3I GROUP - TOT RETURN IND       539.08      531.66      525.50      523.93   \n",
       "ABB LTD N - TOT RETURN IND      799.80      806.49      797.24      741.32   \n",
       "\n",
       "                            2002-01-31  \n",
       "Name                                    \n",
       "3I GROUP - TOT RETURN IND       532.88  \n",
       "ABB LTD N - TOT RETURN IND      707.26  \n",
       "\n",
       "[2 rows x 24 columns]"
      ]
     },
     "execution_count": 35,
     "metadata": {},
     "output_type": "execute_result"
    }
   ],
   "source": [
    "  Stocks_DailyReturnThisMonth_Dataframes[\"012002\"].head(2)"
   ]
  },
  {
   "cell_type": "markdown",
   "id": "c123229c",
   "metadata": {
    "heading_collapsed": true,
    "hidden": true
   },
   "source": [
    "##### Relative Monthly Return Index of Stocks"
   ]
  },
  {
   "cell_type": "markdown",
   "id": "476d7f0e",
   "metadata": {
    "hidden": true
   },
   "source": [
    "We take the return of the first and last day, and compare them in order to calculate the monthly stock return. Then we add it to our *Stocks_Monthly_Dataframes[\"MMYYYY\"]* in the column *Return*. "
   ]
  },
  {
   "cell_type": "code",
   "execution_count": 36,
   "id": "ed9748da",
   "metadata": {
    "ExecuteTime": {
     "end_time": "2024-05-02T19:55:25.883533Z",
     "start_time": "2024-05-02T19:55:25.581165Z"
    },
    "hidden": true
   },
   "outputs": [
    {
     "name": "stdout",
     "output_type": "stream",
     "text": [
      "DataFrame 032024 not found in Stocks_DailyReturnThisMonth_Dataframes.\n"
     ]
    }
   ],
   "source": [
    "import pandas as pd\n",
    "from datetime import datetime\n",
    "\n",
    "# Assuming Stocks_DailyReturnThisMonth_Dataframes and Stock_Monthly_Dataframes are defined\n",
    "# Example: Stocks_DailyReturnThisMonth_Dataframes = {'012002': df1, '022002': df2, ...}\n",
    "\n",
    "# Define the start and end dates and generate monthly periods\n",
    "start_date = datetime(2002, 1, 1)\n",
    "end_date = datetime(2024, 3, 31)\n",
    "monthly_periods = pd.date_range(start_date, end_date, freq='M')\n",
    "\n",
    "# Iterate over each period\n",
    "for period in monthly_periods:\n",
    "    # Format MMYYYY for the dataframe names\n",
    "    df_name = period.strftime(\"%m%Y\")\n",
    "\n",
    "    # Find the DataFrame for the current period in Stocks_DailyReturnThisMonth_Dataframes\n",
    "    if df_name in Stocks_DailyReturnThisMonth_Dataframes:\n",
    "        daily_return_df = Stocks_DailyReturnThisMonth_Dataframes[df_name]\n",
    "\n",
    "        # Ensure there is more than one column to calculate return\n",
    "        if len(daily_return_df.columns) > 1:\n",
    "            # Get the start and end return\n",
    "            start_return = daily_return_df.iloc[:, 0]  # First column\n",
    "            end_return = daily_return_df.iloc[:, -1]  # Last column\n",
    "\n",
    "            # Calculate the monthly return for each stock\n",
    "            monthly_return = (end_return - start_return) / start_return * 100\n",
    "\n",
    "            # Prepare the DataFrame for monthly returns if it does not exist\n",
    "            if df_name not in Stocks_Monthly_Dataframes:\n",
    "                Stocks_Monthly_Dataframes[df_name] = pd.DataFrame(index=daily_return_df.index)\n",
    "            \n",
    "            # Add the 'Monthly Return' column to the MMYYYY DataFrame in Stock_Monthly_Dataframes\n",
    "            Stocks_Monthly_Dataframes[df_name]['Return'] = monthly_return\n",
    "        else:\n",
    "            print(f\"DataFrame {df_name} does not have enough data to calculate monthly returns.\")\n",
    "    else:\n",
    "        print(f\"DataFrame {df_name} not found in Stocks_DailyReturnThisMonth_Dataframes.\")\n"
   ]
  },
  {
   "cell_type": "code",
   "execution_count": 37,
   "id": "ea3af699",
   "metadata": {
    "ExecuteTime": {
     "end_time": "2024-05-02T19:55:25.898491Z",
     "start_time": "2024-05-02T19:55:25.885529Z"
    },
    "hidden": true,
    "scrolled": true
   },
   "outputs": [
    {
     "data": {
      "text/html": [
       "<div>\n",
       "<style scoped>\n",
       "    .dataframe tbody tr th:only-of-type {\n",
       "        vertical-align: middle;\n",
       "    }\n",
       "\n",
       "    .dataframe tbody tr th {\n",
       "        vertical-align: top;\n",
       "    }\n",
       "\n",
       "    .dataframe thead th {\n",
       "        text-align: right;\n",
       "    }\n",
       "</style>\n",
       "<table border=\"1\" class=\"dataframe\">\n",
       "  <thead>\n",
       "    <tr style=\"text-align: right;\">\n",
       "      <th></th>\n",
       "      <th>Comove</th>\n",
       "      <th>Beta</th>\n",
       "      <th>Return</th>\n",
       "    </tr>\n",
       "    <tr>\n",
       "      <th>Name</th>\n",
       "      <th></th>\n",
       "      <th></th>\n",
       "      <th></th>\n",
       "    </tr>\n",
       "  </thead>\n",
       "  <tbody>\n",
       "    <tr>\n",
       "      <th>3I GROUP - TOT RETURN IND</th>\n",
       "      <td>47.169811</td>\n",
       "      <td>1.405906</td>\n",
       "      <td>-10.499001</td>\n",
       "    </tr>\n",
       "    <tr>\n",
       "      <th>ABB LTD N - TOT RETURN IND</th>\n",
       "      <td>60.377358</td>\n",
       "      <td>1.675130</td>\n",
       "      <td>-7.529581</td>\n",
       "    </tr>\n",
       "  </tbody>\n",
       "</table>\n",
       "</div>"
      ],
      "text/plain": [
       "                               Comove      Beta     Return\n",
       "Name                                                      \n",
       "3I GROUP - TOT RETURN IND   47.169811  1.405906 -10.499001\n",
       "ABB LTD N - TOT RETURN IND  60.377358  1.675130  -7.529581"
      ]
     },
     "execution_count": 37,
     "metadata": {},
     "output_type": "execute_result"
    }
   ],
   "source": [
    "Stocks_Monthly_Dataframes[\"012002\"].head(2)"
   ]
  },
  {
   "cell_type": "markdown",
   "id": "8a0dc276",
   "metadata": {
    "heading_collapsed": true,
    "hidden": true
   },
   "source": [
    "####  Monthly Index Return"
   ]
  },
  {
   "cell_type": "markdown",
   "id": "52b12078",
   "metadata": {
    "hidden": true
   },
   "source": [
    "In the dataframe Index_DailyReturn_Dataframe, the absolute return index of every possible date is already given. For each MMY, we look up the date of last weekday before that month starts, and the last weekday of that month. These two dates are used to look up the absolute return index in this dataframe Index_DailyReturn_Dataframe. The two absolute return indexes are used to calculate the monthly relative difference. The results are stored in a dataframe *Index_MonthlyReturn_Dataframe* , with each MMYYY a row."
   ]
  },
  {
   "cell_type": "code",
   "execution_count": 38,
   "id": "a61209db",
   "metadata": {
    "ExecuteTime": {
     "end_time": "2024-05-02T19:55:26.465707Z",
     "start_time": "2024-05-02T19:55:25.902483Z"
    },
    "hidden": true
   },
   "outputs": [],
   "source": [
    "# Initialize an empty dictionary to store the yearly market returns\n",
    "monthly_market_returns = {}\n",
    "\n",
    "# Define the start and end dates\n",
    "start_date = datetime(2002, 1, 1)\n",
    "end_date = datetime(2024, 3, 31)\n",
    "# Generate the monthly periods\n",
    "monthly_periods = pd.date_range(start_date, end_date, freq='M')\n",
    "\n",
    "for period in monthly_periods:\n",
    "    \n",
    "     # Extract the year and month\n",
    "    year = period.year\n",
    "    month = period.month\n",
    "    \n",
    "    # Format the DataFrame name as MMYY\n",
    "    df_name = f\"{month:02d}{year}\"\n",
    "    \n",
    "    # Filter the dates DataFrame for the current month and year\n",
    "    # Assuming 'dates_df' is your DataFrame with 'Month', 'Year', 'Index', \n",
    "    # 'StartPastYear_Weekday', and 'EndPastYear_Weekday' columns\n",
    "    matching_rows = dates[(dates['Month'] == month) & (dates['Year'] == year)]\n",
    "    \n",
    "    # Initialize a list to collect data for the current month\n",
    "    data_for_month = []\n",
    "    \n",
    "    for _, row in matching_rows.iterrows():\n",
    "        index_name = row['Index']\n",
    "        start_date = row['StartMonthMinus1_Weekday']\n",
    "        end_date = row['EndMonth_Weekday']\n",
    "        \n",
    "        mask = (Index_DailyReturn_Dataframe['Date'] >= start_date) & (Index_DailyReturn_Dataframe['Date'] <= end_date)\n",
    "        filtered_data = Index_DailyReturn_Dataframe.loc[mask, ['Date', 'Return Index ']]\n",
    "        \n",
    "        #now take % diff between first and last row of filtered data\n",
    "        first_value = filtered_data['Return Index '].iloc[0]\n",
    "        last_value = filtered_data['Return Index '].iloc[-1]\n",
    "        percentage_change = (last_value - first_value) / first_value * 100\n",
    "        \n",
    "        # Store the result in the dictionary\n",
    "        monthly_market_returns[df_name] = percentage_change\n",
    "    \n",
    "        \n",
    "# Convert the dictionary to a DataFrame\n",
    "Index_MonthlyReturn_Dataframe = pd.DataFrame(list(monthly_market_returns.items()), columns=['MMYYYY', 'Monthly Market Return'])\n",
    "\n",
    "# Set the 'MMYYYY' column as the index\n",
    "Index_MonthlyReturn_Dataframe.set_index('MMYYYY', inplace=True)"
   ]
  },
  {
   "cell_type": "code",
   "execution_count": 39,
   "id": "743dd28b",
   "metadata": {
    "ExecuteTime": {
     "end_time": "2024-05-02T19:55:26.481433Z",
     "start_time": "2024-05-02T19:55:26.467466Z"
    },
    "hidden": true
   },
   "outputs": [
    {
     "data": {
      "text/html": [
       "<div>\n",
       "<style scoped>\n",
       "    .dataframe tbody tr th:only-of-type {\n",
       "        vertical-align: middle;\n",
       "    }\n",
       "\n",
       "    .dataframe tbody tr th {\n",
       "        vertical-align: top;\n",
       "    }\n",
       "\n",
       "    .dataframe thead th {\n",
       "        text-align: right;\n",
       "    }\n",
       "</style>\n",
       "<table border=\"1\" class=\"dataframe\">\n",
       "  <thead>\n",
       "    <tr style=\"text-align: right;\">\n",
       "      <th></th>\n",
       "      <th>Monthly Market Return</th>\n",
       "    </tr>\n",
       "    <tr>\n",
       "      <th>MMYYYY</th>\n",
       "      <th></th>\n",
       "    </tr>\n",
       "  </thead>\n",
       "  <tbody>\n",
       "    <tr>\n",
       "      <th>012002</th>\n",
       "      <td>-2.030278</td>\n",
       "    </tr>\n",
       "    <tr>\n",
       "      <th>022002</th>\n",
       "      <td>-0.742693</td>\n",
       "    </tr>\n",
       "  </tbody>\n",
       "</table>\n",
       "</div>"
      ],
      "text/plain": [
       "        Monthly Market Return\n",
       "MMYYYY                       \n",
       "012002              -2.030278\n",
       "022002              -0.742693"
      ]
     },
     "execution_count": 39,
     "metadata": {},
     "output_type": "execute_result"
    }
   ],
   "source": [
    "# Display the resulting DataFrame\n",
    "Index_MonthlyReturn_Dataframe.head(2)"
   ]
  },
  {
   "cell_type": "markdown",
   "id": "053a95d1",
   "metadata": {
    "heading_collapsed": true
   },
   "source": [
    "### Monthly Control Factors"
   ]
  },
  {
   "cell_type": "markdown",
   "id": "e0ff7e27",
   "metadata": {
    "hidden": true
   },
   "source": [
    "The factor data comes from various sources, and are saved in one excel called Factors_Monthly. For data definitions and sources of the factors, see the appendix. The sheet where all factors are on there together is saved as a dataframe called *Factors_Monthly_Dataframe*."
   ]
  },
  {
   "cell_type": "markdown",
   "id": "6307111d",
   "metadata": {
    "hidden": true
   },
   "source": [
    "**TODO:** Nu zijn ze niet maal 100 gedaan, nakijken wat nu eigenlijk juist is. Ik denk dat die orginele 5 factors ook nog gedeeld moeten door 100. Ik heb dat nu gedaan dus we zullen kijken."
   ]
  },
  {
   "cell_type": "code",
   "execution_count": 40,
   "id": "4edc6f4a",
   "metadata": {
    "ExecuteTime": {
     "end_time": "2024-05-02T19:55:26.688907Z",
     "start_time": "2024-05-02T19:55:26.483424Z"
    },
    "hidden": true
   },
   "outputs": [],
   "source": [
    "# The path to the Excel file\n",
    "Factors_Yearly_ExcelPath = 'Factors_Monthly.xlsx'\n",
    "Factors_Monthly_SheetName = 'Factors_Monthly'\n",
    "\n",
    "# Read the specified sheet into a DataFrame\n",
    "Factors_Monthly_Dataframe = pd.read_excel(Factors_Yearly_ExcelPath, sheet_name=Factors_Monthly_SheetName)"
   ]
  },
  {
   "cell_type": "code",
   "execution_count": 41,
   "id": "99b9e727",
   "metadata": {
    "ExecuteTime": {
     "end_time": "2024-05-02T19:55:26.704514Z",
     "start_time": "2024-05-02T19:55:26.690557Z"
    },
    "hidden": true
   },
   "outputs": [
    {
     "data": {
      "text/html": [
       "<div>\n",
       "<style scoped>\n",
       "    .dataframe tbody tr th:only-of-type {\n",
       "        vertical-align: middle;\n",
       "    }\n",
       "\n",
       "    .dataframe tbody tr th {\n",
       "        vertical-align: top;\n",
       "    }\n",
       "\n",
       "    .dataframe thead th {\n",
       "        text-align: right;\n",
       "    }\n",
       "</style>\n",
       "<table border=\"1\" class=\"dataframe\">\n",
       "  <thead>\n",
       "    <tr style=\"text-align: right;\">\n",
       "      <th></th>\n",
       "      <th>Year</th>\n",
       "      <th>Month</th>\n",
       "      <th>MMYYYY</th>\n",
       "      <th>Mkt-RF</th>\n",
       "      <th>RF</th>\n",
       "      <th>SMB</th>\n",
       "      <th>HML</th>\n",
       "      <th>HML_Devil</th>\n",
       "      <th>RMW</th>\n",
       "      <th>CMA</th>\n",
       "      <th>UMD</th>\n",
       "      <th>UMD_Trend</th>\n",
       "      <th>BAB</th>\n",
       "      <th>QMJ</th>\n",
       "      <th>Carry</th>\n",
       "      <th>Seasonal</th>\n",
       "    </tr>\n",
       "  </thead>\n",
       "  <tbody>\n",
       "    <tr>\n",
       "      <th>0</th>\n",
       "      <td>2000</td>\n",
       "      <td>1</td>\n",
       "      <td>12000</td>\n",
       "      <td>-0.0712</td>\n",
       "      <td>0.0041</td>\n",
       "      <td>0.0883</td>\n",
       "      <td>-0.0612</td>\n",
       "      <td>-0.075695</td>\n",
       "      <td>0.0265</td>\n",
       "      <td>-0.0428</td>\n",
       "      <td>0.069240</td>\n",
       "      <td>-0.034088</td>\n",
       "      <td>0.086910</td>\n",
       "      <td>0.016577</td>\n",
       "      <td>-0.011955</td>\n",
       "      <td>-0.003817</td>\n",
       "    </tr>\n",
       "    <tr>\n",
       "      <th>1</th>\n",
       "      <td>2000</td>\n",
       "      <td>2</td>\n",
       "      <td>22000</td>\n",
       "      <td>0.0587</td>\n",
       "      <td>0.0043</td>\n",
       "      <td>0.0083</td>\n",
       "      <td>-0.0950</td>\n",
       "      <td>-0.176450</td>\n",
       "      <td>0.0363</td>\n",
       "      <td>-0.0730</td>\n",
       "      <td>0.109318</td>\n",
       "      <td>0.039829</td>\n",
       "      <td>-0.044927</td>\n",
       "      <td>0.023143</td>\n",
       "      <td>0.058344</td>\n",
       "      <td>0.094229</td>\n",
       "    </tr>\n",
       "  </tbody>\n",
       "</table>\n",
       "</div>"
      ],
      "text/plain": [
       "   Year  Month  MMYYYY  Mkt-RF      RF     SMB     HML  HML_Devil     RMW  \\\n",
       "0  2000      1   12000 -0.0712  0.0041  0.0883 -0.0612  -0.075695  0.0265   \n",
       "1  2000      2   22000  0.0587  0.0043  0.0083 -0.0950  -0.176450  0.0363   \n",
       "\n",
       "      CMA       UMD  UMD_Trend       BAB       QMJ     Carry  Seasonal  \n",
       "0 -0.0428  0.069240  -0.034088  0.086910  0.016577 -0.011955 -0.003817  \n",
       "1 -0.0730  0.109318   0.039829 -0.044927  0.023143  0.058344  0.094229  "
      ]
     },
     "execution_count": 41,
     "metadata": {},
     "output_type": "execute_result"
    }
   ],
   "source": [
    "Factors_Monthly_Dataframe.head(2)"
   ]
  },
  {
   "cell_type": "markdown",
   "id": "04fd5f8f",
   "metadata": {},
   "source": [
    "## Data Preparation"
   ]
  },
  {
   "cell_type": "markdown",
   "id": "dc396627",
   "metadata": {},
   "source": [
    "We have now collected all the data of individual stocks. We need to sort the stocks in portfolios and write this to an excel before we can start our regression."
   ]
  },
  {
   "cell_type": "markdown",
   "id": "45909c01",
   "metadata": {},
   "source": [
    "### Sorting the Stocks into Portfolio's"
   ]
  },
  {
   "cell_type": "markdown",
   "id": "86bc7fe3",
   "metadata": {},
   "source": [
    "#### Defining Ranks"
   ]
  },
  {
   "cell_type": "markdown",
   "id": "7fc5b4bc",
   "metadata": {
    "ExecuteTime": {
     "end_time": "2024-03-31T20:34:57.492750Z",
     "start_time": "2024-03-31T20:34:57.471803Z"
    }
   },
   "source": [
    "We now have a dataframe for each MMYY called Stocks_Monthly_Dataframes[\"MMYYYY\"] with the column name, Comove and Beta. What i want to do now is the following:\n",
    "- Step 1: Rank the stocks on beta. Divide the stocks into quintiles based on their beta value. Add a additional column called Beta rank where each stock gets a number between 1 and 5, based on the quintile they are in. This is 1 indicating the quintile with the lowest betas and 5 the highest.\n",
    "- Step 2: For each quintile, filter the dataframe for only stocks within this quintile. Rank the filtered stocks on Comove. Divide the filtered stocks into quintiles based on their comove value. Add a additional column to the intial dataframe called Comove rank where each stock gets a number between 1 and 5, based on the quintile they are in. This is 1 indicating the quintile with the lowest comove and 5 the highest within each beta quintile.\n",
    "\n",
    "This results in two extra columns in *Stocks_Monthly_Dataframes[\"MMYYYY\"]*: *Comove rank* and *Beta rank*. "
   ]
  },
  {
   "cell_type": "code",
   "execution_count": 42,
   "id": "7d1ea99b",
   "metadata": {
    "ExecuteTime": {
     "end_time": "2024-05-02T19:55:29.141373Z",
     "start_time": "2024-05-02T19:55:26.708510Z"
    }
   },
   "outputs": [],
   "source": [
    "# Define the start and end dates\n",
    "start_date = datetime(2002, 1, 1)\n",
    "end_date = datetime(2024, 3, 30)\n",
    "# Generate the monthly periods\n",
    "monthly_periods = pd.date_range(start_date, end_date, freq='M')\n",
    "\n",
    "for period in monthly_periods:\n",
    "    # Extract the year and month\n",
    "    year = period.year\n",
    "    month = period.month\n",
    "    \n",
    "    # Format the DataFrame name as MMYY and find the correct dataframe\n",
    "    df_name = f\"{month:02d}{year}\"\n",
    "    df = Stocks_Monthly_Dataframes[df_name]\n",
    "    \n",
    "     # Step 1: Rank stocks on Beta and assign quintile ranks (1 to 5)\n",
    "    df['Beta rank'] = pd.qcut(df['Beta'], 5, labels=False) + 1 #Note that when doing this, it will automatically ignore the remaining Nan values for beta\n",
    "    \n",
    "    # Step 2: For each Beta quintile, rank stocks on Comove within the quintile\n",
    "    # Prepare a column for Comove ranks\n",
    "    df['Comove rank'] = pd.NA\n",
    "    for quintile in range(1, 6):\n",
    "        # Filter for stocks in the current Beta quintile\n",
    "        quintile_df = df[df['Beta rank'] == quintile]\n",
    "            \n",
    "        # Rank the filtered stocks on Comove and divide into quintiles\n",
    "        comove_ranks = pd.qcut(quintile_df['Comove'], 5, labels=False) + 1\n",
    "            \n",
    "        # Assign the Comove ranks back to the original DataFrame\n",
    "        df.loc[df['Beta rank'] == quintile, 'Comove rank'] = comove_ranks\n",
    "        \n",
    "        # Update the DataFrame in the dictionary\n",
    "        Stocks_Monthly_Dataframes[df_name] = df\n",
    "    "
   ]
  },
  {
   "cell_type": "code",
   "execution_count": 43,
   "id": "b5341553",
   "metadata": {
    "ExecuteTime": {
     "end_time": "2024-05-02T19:55:29.157340Z",
     "start_time": "2024-05-02T19:55:29.142381Z"
    }
   },
   "outputs": [
    {
     "data": {
      "text/html": [
       "<div>\n",
       "<style scoped>\n",
       "    .dataframe tbody tr th:only-of-type {\n",
       "        vertical-align: middle;\n",
       "    }\n",
       "\n",
       "    .dataframe tbody tr th {\n",
       "        vertical-align: top;\n",
       "    }\n",
       "\n",
       "    .dataframe thead th {\n",
       "        text-align: right;\n",
       "    }\n",
       "</style>\n",
       "<table border=\"1\" class=\"dataframe\">\n",
       "  <thead>\n",
       "    <tr style=\"text-align: right;\">\n",
       "      <th></th>\n",
       "      <th>Comove</th>\n",
       "      <th>Beta</th>\n",
       "      <th>Return</th>\n",
       "      <th>Beta rank</th>\n",
       "      <th>Comove rank</th>\n",
       "    </tr>\n",
       "    <tr>\n",
       "      <th>Name</th>\n",
       "      <th></th>\n",
       "      <th></th>\n",
       "      <th></th>\n",
       "      <th></th>\n",
       "      <th></th>\n",
       "    </tr>\n",
       "  </thead>\n",
       "  <tbody>\n",
       "    <tr>\n",
       "      <th>3I GROUP - TOT RETURN IND</th>\n",
       "      <td>47.169811</td>\n",
       "      <td>1.405906</td>\n",
       "      <td>-10.499001</td>\n",
       "      <td>5</td>\n",
       "      <td>1</td>\n",
       "    </tr>\n",
       "    <tr>\n",
       "      <th>ABB LTD N - TOT RETURN IND</th>\n",
       "      <td>60.377358</td>\n",
       "      <td>1.675130</td>\n",
       "      <td>-7.529581</td>\n",
       "      <td>5</td>\n",
       "      <td>5</td>\n",
       "    </tr>\n",
       "  </tbody>\n",
       "</table>\n",
       "</div>"
      ],
      "text/plain": [
       "                               Comove      Beta     Return  Beta rank  \\\n",
       "Name                                                                    \n",
       "3I GROUP - TOT RETURN IND   47.169811  1.405906 -10.499001          5   \n",
       "ABB LTD N - TOT RETURN IND  60.377358  1.675130  -7.529581          5   \n",
       "\n",
       "                           Comove rank  \n",
       "Name                                    \n",
       "3I GROUP - TOT RETURN IND            1  \n",
       "ABB LTD N - TOT RETURN IND           5  "
      ]
     },
     "execution_count": 43,
     "metadata": {},
     "output_type": "execute_result"
    }
   ],
   "source": [
    "# At this point, each DataFrame in Monthly_Dataframes has been updated with 'Beta rank' and 'Comove rank' columns.\n",
    "Stocks_Monthly_Dataframes['012002'].head(2)"
   ]
  },
  {
   "cell_type": "markdown",
   "id": "37ed8c3f",
   "metadata": {},
   "source": [
    "#### Showing Beta and Comove across Portfolios"
   ]
  },
  {
   "cell_type": "markdown",
   "id": "aa0a9571",
   "metadata": {},
   "source": [
    "##### Beta and Comove across portfolios per month"
   ]
  },
  {
   "cell_type": "markdown",
   "id": "071396dd",
   "metadata": {},
   "source": [
    "We can use the Comove rank column to define our portfolio's for each month. By sorting in this matter, we have a strong exposure to Comove while holding Beta relatively constant across portfolio's. For every comove rank of this month, we calculate the average comove and return of all stocks in that portfolio. Apart from the mean, we also calculate the standard deviation of beta and comove of stocks in that portfolio. "
   ]
  },
  {
   "cell_type": "code",
   "execution_count": 44,
   "id": "1400ce13",
   "metadata": {
    "ExecuteTime": {
     "end_time": "2024-05-02T19:55:30.110450Z",
     "start_time": "2024-05-02T19:55:29.161333Z"
    },
    "scrolled": true
   },
   "outputs": [],
   "source": [
    "# Define the start and end dates\n",
    "start_date = datetime(2002, 1, 1)\n",
    "end_date = datetime(2024, 3, 30)\n",
    "# Generate the monthly periods\n",
    "monthly_periods = pd.date_range(start_date, end_date, freq='M')\n",
    "\n",
    "# Initialize lists to store the monthly differences for each statistic between the highest and the lowest comove\n",
    "diff_mean_beta = []\n",
    "diff_std_beta = []\n",
    "diff_mean_comove = []\n",
    "diff_std_comove = []\n",
    "\n",
    "for period in monthly_periods:\n",
    "    # Extract the year and month\n",
    "    year = period.year\n",
    "    month = period.month\n",
    "    \n",
    "    # Format the DataFrame name as MMYY and find the correct dataframe\n",
    "    df_name = f\"{month:02d}{year}\"\n",
    "    \n",
    "    if df_name in Stocks_Monthly_Dataframes:\n",
    "        df = Stocks_Monthly_Dataframes[df_name]\n",
    "        \n",
    "        # Ensure 'Comove rank' is not NA and is an integer for grouping\n",
    "        df['Comove rank'] = df['Comove rank'].astype(pd.Int64Dtype()).dropna()\n",
    "        \n",
    "        # Group by 'Comove rank'\n",
    "        grouped = df.groupby('Comove rank')\n",
    "        \n",
    "        # Calculate statistics for each group\n",
    "        stats = grouped.agg({\n",
    "            'Beta': ['mean', 'std'],\n",
    "            'Comove': ['mean', 'std']\n",
    "        })\n",
    "        \n",
    "        # Rename columns for clarity\n",
    "        stats.columns = ['Mean Beta', 'Std Beta', 'Mean Comove', 'Std Comove']\n",
    "        \n",
    "        # Calculate differences between the highest and lowest Comove rank groups\n",
    "        highest_rank = stats.iloc[-1]  # Stats for the highest Comove rank group\n",
    "        lowest_rank = stats.iloc[0]   # Stats for the lowest Comove rank group\n",
    "        differences = highest_rank - lowest_rank\n",
    "\n",
    "        # Store the differences\n",
    "        diff_mean_beta.append(differences['Mean Beta'])\n",
    "        diff_std_beta.append(differences['Std Beta'])\n",
    "        diff_mean_comove.append(differences['Mean Comove'])\n",
    "        diff_std_comove.append(differences['Std Comove'])"
   ]
  },
  {
   "cell_type": "code",
   "execution_count": 45,
   "id": "648b8ff2",
   "metadata": {
    "ExecuteTime": {
     "end_time": "2024-05-02T19:55:30.126435Z",
     "start_time": "2024-05-02T19:55:30.113470Z"
    }
   },
   "outputs": [
    {
     "name": "stdout",
     "output_type": "stream",
     "text": [
      "Month Year: 2 2024\n",
      "             Mean Beta  Std Beta  Mean Comove  Std Comove\n",
      "Comove rank                                              \n",
      "1             1.121668  0.466866    43.063263    5.921676\n",
      "2             1.170942  0.462772    50.356394    1.907332\n",
      "3             1.196805  0.429447    54.491951    1.916688\n",
      "4             1.056555  0.393514    58.898113    1.802499\n",
      "5             1.103318  0.406629    64.552389    3.432242\n"
     ]
    }
   ],
   "source": [
    "#Print stats of the latest MMYYY as an example\n",
    "print(f\"Month Year: {month} {year}\")\n",
    "print(stats)"
   ]
  },
  {
   "cell_type": "markdown",
   "id": "0ccc88fd",
   "metadata": {},
   "source": [
    "##### Beta and Comove across portfolios and months"
   ]
  },
  {
   "cell_type": "markdown",
   "id": "5d3a01d6",
   "metadata": {
    "ExecuteTime": {
     "end_time": "2024-04-24T16:09:18.117116Z",
     "start_time": "2024-04-24T16:09:18.098166Z"
    }
   },
   "source": [
    "We can now look at these beta and comove statistics across different months. For example, we can take the mean and standard deviations of comove and beta in the highest and lowest comove portfolio. We can then calculate the averaged difference over months."
   ]
  },
  {
   "cell_type": "code",
   "execution_count": 46,
   "id": "a92ef9a4",
   "metadata": {
    "ExecuteTime": {
     "end_time": "2024-05-02T19:55:30.141394Z",
     "start_time": "2024-05-02T19:55:30.130435Z"
    },
    "scrolled": true
   },
   "outputs": [
    {
     "name": "stdout",
     "output_type": "stream",
     "text": [
      "Averaged differences between the highest and lowest Comove rank groups across all years:\n",
      "Mean Beta: -0.005891 - The average difference in mean Beta values.\n",
      "Std Beta: 0.001958 - The average difference in standard deviation of Beta values.\n",
      "Mean Comove: 20.065246 - The average difference in mean Comove values.\n",
      "Std Comove: -0.511704 - The average difference in standard deviation of Comove values.\n"
     ]
    }
   ],
   "source": [
    "# Calculate the average of the differences across all years\n",
    "avg_diff_mean_beta = np.mean(diff_mean_beta)\n",
    "avg_diff_std_beta = np.mean(diff_std_beta)\n",
    "avg_diff_mean_comove = np.mean(diff_mean_comove)\n",
    "avg_diff_std_comove = np.mean(diff_std_comove)\n",
    "\n",
    "# Print the averaged statistics with explanations\n",
    "print(\"Averaged differences between the highest and lowest Comove rank groups across all years:\")\n",
    "print(f\"Mean Beta: {avg_diff_mean_beta:.6f} - The average difference in mean Beta values.\")\n",
    "print(f\"Std Beta: {avg_diff_std_beta:.6f} - The average difference in standard deviation of Beta values.\")\n",
    "print(f\"Mean Comove: {avg_diff_mean_comove:.6f} - The average difference in mean Comove values.\")\n",
    "print(f\"Std Comove: {avg_diff_std_comove:.6f} - The average difference in standard deviation of Comove values.\")"
   ]
  },
  {
   "cell_type": "markdown",
   "id": "432661cf",
   "metadata": {},
   "source": [
    "###### Plots"
   ]
  },
  {
   "cell_type": "markdown",
   "id": "89becec8",
   "metadata": {
    "ExecuteTime": {
     "end_time": "2024-04-24T16:30:42.904548Z",
     "start_time": "2024-04-24T16:30:42.886566Z"
    }
   },
   "source": [
    "If you look at trends of beta and comovement of each portfolio, we should be able to see similar trends across months in beta when looking at comove rank 1 versus 5. This means that beta remains relatively stable across portfolios. For comovement, comove ranks should have a lot of other trends.  "
   ]
  },
  {
   "cell_type": "code",
   "execution_count": 47,
   "id": "441bcff6",
   "metadata": {
    "ExecuteTime": {
     "end_time": "2024-05-02T19:55:30.886029Z",
     "start_time": "2024-05-02T19:55:30.143390Z"
    },
    "scrolled": false
   },
   "outputs": [],
   "source": [
    "#Data you need for plots\n",
    "\n",
    "# Define the start and end dates\n",
    "start_date = datetime(2002, 1, 1)\n",
    "end_date = datetime(2024, 3, 30)\n",
    "# Generate the monthly periods\n",
    "monthly_periods = pd.date_range(start_date, end_date, freq='M')\n",
    "\n",
    "# Dictionary to store stats by comove rank across months\n",
    "comove_stats = {}\n",
    "\n",
    "for period in monthly_periods:\n",
    "    year = period.year\n",
    "    month = period.month\n",
    "    df_name = f\"{month:02d}{year}\"\n",
    "    \n",
    "    if df_name in Stocks_Monthly_Dataframes:\n",
    "        df = Stocks_Monthly_Dataframes[df_name]\n",
    "        df['Comove rank'] = df['Comove rank'].astype(pd.Int64Dtype()).dropna()\n",
    "\n",
    "        # Group by 'Comove rank' = portfolio\n",
    "        grouped = df.groupby('Comove rank')\n",
    "\n",
    "        for rank, group in grouped:\n",
    "            if rank not in comove_stats:\n",
    "                comove_stats[rank] = {'Beta': [], 'Comove': [], 'Months': []}\n",
    "\n",
    "            # Store beta and comove means for each month\n",
    "            mean_beta = group['Beta'].mean()\n",
    "            mean_comove = group['Comove'].mean()\n",
    "\n",
    "            comove_stats[rank]['Beta'].append(mean_beta)\n",
    "            comove_stats[rank]['Comove'].append(mean_comove)\n",
    "            comove_stats[rank]['Months'].append(period)\n",
    "\n",
    "            #Comove stats holds per rank the avg beta and comove of stocks, over the different months. "
   ]
  },
  {
   "cell_type": "markdown",
   "id": "0d041a47",
   "metadata": {},
   "source": [
    "For example, in the following graph you can see that average beta of stocks in the monthly portfolio with comove rank 1 and comove rank 5 does not differ much, whereas the comove differs greatly."
   ]
  },
  {
   "cell_type": "code",
   "execution_count": 63,
   "id": "4842d621",
   "metadata": {
    "ExecuteTime": {
     "end_time": "2024-05-02T19:56:50.791374Z",
     "start_time": "2024-05-02T19:56:48.683877Z"
    },
    "scrolled": false
   },
   "outputs": [
    {
     "data": {
      "image/png": "[encoded data removed]",
      "text/plain": [
       "<Figure size 1008x504 with 2 Axes>"
      ]
     },
     "metadata": {},
     "output_type": "display_data"
    }
   ],
   "source": [
    "# Set the aesthetic style of the plots\n",
    "sns.set(style='whitegrid')\n",
    "\n",
    "# Create additional plots for Comove ranks 1 and 5 on the same graph\n",
    "plt.figure(figsize=(14, 7))\n",
    "colors = {1: '#002E65', 5: '#65A812'}  # Map comove ranks to specific colors\n",
    "\n",
    "# Beta comparison plot\n",
    "plt.subplot(1, 2, 1)\n",
    "for rank in [1, 5]:\n",
    "    data = comove_stats[rank]\n",
    "    plt.plot(data['Months'], data['Beta'], marker='o', linestyle='-', label=f'Comove Rank {rank}', color=colors[rank])\n",
    "plt.title('Beta Comparison for Comove Ranks 1 and 5')\n",
    "plt.xlabel('Time')\n",
    "plt.ylabel('Beta (Correlation in returns; over the past 52 weeks)')\n",
    "plt.legend()\n",
    "plt.gca().xaxis.set_major_locator(mdates.YearLocator())  # Set locator to each January\n",
    "plt.gca().xaxis.set_major_formatter(mdates.DateFormatter('%Y'))  # Show only year\n",
    "plt.xticks(rotation=45)\n",
    "\n",
    "# Comove comparison plot\n",
    "plt.subplot(1, 2, 2)\n",
    "for rank in [1, 5]:\n",
    "    data = comove_stats[rank]\n",
    "    plt.plot(data['Months'], data['Comove'], marker='o', linestyle='-', label=f'Comove Rank {rank}', color=colors[rank])\n",
    "plt.title('Comove Comparison for Comove Ranks 1 and 5')\n",
    "plt.xlabel('Time')\n",
    "plt.ylabel('Comove (Percentage of weeks with same sign in return; over the past 52 weeks)')\n",
    "plt.legend()\n",
    "plt.gca().xaxis.set_major_locator(mdates.YearLocator())  # Set locator to each January\n",
    "plt.gca().xaxis.set_major_formatter(mdates.DateFormatter('%Y'))  # Show only year\n",
    "plt.xticks(rotation=45)\n",
    "\n",
    "plt.tight_layout()\n",
    "plt.savefig(\"ComoveBeta_Ranks1and5.png\")\n",
    "plt.show()"
   ]
  },
  {
   "cell_type": "markdown",
   "id": "6b15827f",
   "metadata": {},
   "source": [
    "Despite fluctuations, the beta values for both ranks generally appear to stay within a certain range, suggesting that while the market risk (measured as beta) varies over time, it doesn’t exhibit extremely high volatility within these comove ranks. The right plot shows the comovement values for the same ranks. While same trends are followed (in market risk, perhaps), we can see that comovement in rank 5 is generally higher as in rank 1."
   ]
  },
  {
   "cell_type": "markdown",
   "id": "296a735f",
   "metadata": {},
   "source": [
    "###### Statistics"
   ]
  },
  {
   "cell_type": "markdown",
   "id": "3dab0e97",
   "metadata": {
    "ExecuteTime": {
     "end_time": "2024-04-24T16:56:57.152151Z",
     "start_time": "2024-04-24T16:56:57.138190Z"
    }
   },
   "source": [
    "Let's look at some of the most important statistics. For each month and rank, we have an average beta and comove of the stocks in that portfolio. We will look at the average of those average beta and comove per portfolio across the months."
   ]
  },
  {
   "cell_type": "code",
   "execution_count": 49,
   "id": "8438a9b3",
   "metadata": {
    "ExecuteTime": {
     "end_time": "2024-05-02T19:55:33.241926Z",
     "start_time": "2024-05-02T19:55:33.227962Z"
    }
   },
   "outputs": [
    {
     "name": "stdout",
     "output_type": "stream",
     "text": [
      "This can also be illustrated by looking at the exposure of our portfolio sort to β and Comove. Our dependent double sort by first β and then Comove results in negligible exposure to β, but a strong variation in Comove between the long and the short leg of our strategy. The high Comove quintile exhibits an average β of 0.9871, whereas the low Comove quintile exhibits an average β of 0.9930, so that β varies by -0.0059 or -300.89% of β’s standard deviation (0.0020). In contrast, the high Comove quintile exhibits an average Comove of 62.3631, whereas the low Comove quintile exhibits an average Comove of 42.2978, so that Comove varies by 20.07 or -3921.26% of Comove’s standard deviation (-0.5117). Hence, real historical stock returns do exhibit significant variation in Comove beyond dependence captured by β.\n"
     ]
    }
   ],
   "source": [
    "# Calculate average beta and comove for the highest and lowest comove ranks across all months\n",
    "avg_high_rank_beta = np.mean(comove_stats[5]['Beta'])  # Assuming rank 5 is the highest\n",
    "avg_low_rank_beta = np.mean(comove_stats[1]['Beta'])  # Assuming rank 1 is the lowest\n",
    "\n",
    "avg_high_rank_comove = np.mean(comove_stats[5]['Comove'])\n",
    "avg_low_rank_comove = np.mean(comove_stats[1]['Comove'])\n",
    "\n",
    "# Calculate the differences and percentage variations\n",
    "beta_difference = avg_high_rank_beta - avg_low_rank_beta\n",
    "beta_variation_pct = (beta_difference / avg_diff_std_beta) * 100\n",
    "\n",
    "comove_difference = avg_high_rank_comove - avg_low_rank_comove\n",
    "comove_variation_pct = (comove_difference / avg_diff_std_comove) * 100\n",
    "\n",
    "# Generate the summary text\n",
    "summary_text = f\"\"\"This can also be illustrated by looking at the exposure of our portfolio sort to β and Comove. \\\n",
    "Our dependent double sort by first β and then Comove results in negligible exposure to β, but a strong variation in Comove between the long and the short leg of our strategy. \\\n",
    "The high Comove quintile exhibits an average β of {avg_high_rank_beta:.4f}, whereas the low Comove quintile exhibits an average β of {avg_low_rank_beta:.4f}, so that β varies by {beta_difference:.4f} or {beta_variation_pct:.2f}% of β’s standard deviation ({avg_diff_std_beta:.4f}). \\\n",
    "In contrast, the high Comove quintile exhibits an average Comove of {avg_high_rank_comove:.4f}, whereas the low Comove quintile exhibits an average Comove of {avg_low_rank_comove:.4f}, so that Comove varies by {comove_difference:.2f} or {comove_variation_pct:.2f}% of Comove’s standard deviation ({avg_diff_std_comove:.4f}). \\\n",
    "Hence, real historical stock returns do exhibit significant variation in Comove beyond dependence captured by β.\"\"\"\n",
    "\n",
    "print(summary_text)"
   ]
  },
  {
   "cell_type": "markdown",
   "id": "2ee52fe8",
   "metadata": {},
   "source": [
    "### Calculating Averages per Portfolio per Month"
   ]
  },
  {
   "cell_type": "markdown",
   "id": "b76ed879",
   "metadata": {},
   "source": [
    "Let's now calculate average statistics of each portfolio. We take the stocks in Stocks_Monthly_Dataframes['MMYYYY'] and calculate the averages of comove, beta and return of stocks with the same Comove rank in that year. We store the results in *Portfolios_Monthly_Dataframes['MMYYYY']*, where the average comove, beta, and return of each portfolio is given for that MMYYYY."
   ]
  },
  {
   "cell_type": "code",
   "execution_count": 50,
   "id": "4fa9d5d2",
   "metadata": {
    "ExecuteTime": {
     "end_time": "2024-05-02T19:55:33.257881Z",
     "start_time": "2024-05-02T19:55:33.243919Z"
    }
   },
   "outputs": [
    {
     "data": {
      "text/html": [
       "<div>\n",
       "<style scoped>\n",
       "    .dataframe tbody tr th:only-of-type {\n",
       "        vertical-align: middle;\n",
       "    }\n",
       "\n",
       "    .dataframe tbody tr th {\n",
       "        vertical-align: top;\n",
       "    }\n",
       "\n",
       "    .dataframe thead th {\n",
       "        text-align: right;\n",
       "    }\n",
       "</style>\n",
       "<table border=\"1\" class=\"dataframe\">\n",
       "  <thead>\n",
       "    <tr style=\"text-align: right;\">\n",
       "      <th></th>\n",
       "      <th>Comove</th>\n",
       "      <th>Beta</th>\n",
       "      <th>Return</th>\n",
       "      <th>Beta rank</th>\n",
       "      <th>Comove rank</th>\n",
       "    </tr>\n",
       "    <tr>\n",
       "      <th>Name</th>\n",
       "      <th></th>\n",
       "      <th></th>\n",
       "      <th></th>\n",
       "      <th></th>\n",
       "      <th></th>\n",
       "    </tr>\n",
       "  </thead>\n",
       "  <tbody>\n",
       "    <tr>\n",
       "      <th>3I GROUP - TOT RETURN IND</th>\n",
       "      <td>47.169811</td>\n",
       "      <td>1.405906</td>\n",
       "      <td>-10.499001</td>\n",
       "      <td>5</td>\n",
       "      <td>1</td>\n",
       "    </tr>\n",
       "    <tr>\n",
       "      <th>ABB LTD N - TOT RETURN IND</th>\n",
       "      <td>60.377358</td>\n",
       "      <td>1.675130</td>\n",
       "      <td>-7.529581</td>\n",
       "      <td>5</td>\n",
       "      <td>5</td>\n",
       "    </tr>\n",
       "  </tbody>\n",
       "</table>\n",
       "</div>"
      ],
      "text/plain": [
       "                               Comove      Beta     Return  Beta rank  \\\n",
       "Name                                                                    \n",
       "3I GROUP - TOT RETURN IND   47.169811  1.405906 -10.499001          5   \n",
       "ABB LTD N - TOT RETURN IND  60.377358  1.675130  -7.529581          5   \n",
       "\n",
       "                            Comove rank  \n",
       "Name                                     \n",
       "3I GROUP - TOT RETURN IND             1  \n",
       "ABB LTD N - TOT RETURN IND            5  "
      ]
     },
     "execution_count": 50,
     "metadata": {},
     "output_type": "execute_result"
    }
   ],
   "source": [
    "# At this point, each DataFrame in Monthly_Dataframes has been updated with 'Beta rank' and 'Comove rank' columns.\n",
    "Stocks_Monthly_Dataframes['012002'].head(2)  # For the year 2023 data"
   ]
  },
  {
   "cell_type": "code",
   "execution_count": 51,
   "id": "57e9c644",
   "metadata": {
    "ExecuteTime": {
     "end_time": "2024-05-02T19:55:33.970395Z",
     "start_time": "2024-05-02T19:55:33.261871Z"
    }
   },
   "outputs": [
    {
     "name": "stderr",
     "output_type": "stream",
     "text": [
      "C:\\Users\\lunag\\AppData\\Local\\Temp\\ipykernel_3812\\826608691.py:8: FutureWarning: Indexing with multiple keys (implicitly converted to a tuple of keys) will be deprecated, use a list instead.\n",
      "  grouped = df.groupby('Comove rank')['Comove', 'Beta', 'Return'].mean()\n",
      "C:\\Users\\lunag\\AppData\\Local\\Temp\\ipykernel_3812\\826608691.py:8: FutureWarning: Indexing with multiple keys (implicitly converted to a tuple of keys) will be deprecated, use a list instead.\n",
      "  grouped = df.groupby('Comove rank')['Comove', 'Beta', 'Return'].mean()\n",
      "C:\\Users\\lunag\\AppData\\Local\\Temp\\ipykernel_3812\\826608691.py:8: FutureWarning: Indexing with multiple keys (implicitly converted to a tuple of keys) will be deprecated, use a list instead.\n",
      "  grouped = df.groupby('Comove rank')['Comove', 'Beta', 'Return'].mean()\n",
      "C:\\Users\\lunag\\AppData\\Local\\Temp\\ipykernel_3812\\826608691.py:8: FutureWarning: Indexing with multiple keys (implicitly converted to a tuple of keys) will be deprecated, use a list instead.\n",
      "  grouped = df.groupby('Comove rank')['Comove', 'Beta', 'Return'].mean()\n",
      "C:\\Users\\lunag\\AppData\\Local\\Temp\\ipykernel_3812\\826608691.py:8: FutureWarning: Indexing with multiple keys (implicitly converted to a tuple of keys) will be deprecated, use a list instead.\n",
      "  grouped = df.groupby('Comove rank')['Comove', 'Beta', 'Return'].mean()\n",
      "C:\\Users\\lunag\\AppData\\Local\\Temp\\ipykernel_3812\\826608691.py:8: FutureWarning: Indexing with multiple keys (implicitly converted to a tuple of keys) will be deprecated, use a list instead.\n",
      "  grouped = df.groupby('Comove rank')['Comove', 'Beta', 'Return'].mean()\n",
      "C:\\Users\\lunag\\AppData\\Local\\Temp\\ipykernel_3812\\826608691.py:8: FutureWarning: Indexing with multiple keys (implicitly converted to a tuple of keys) will be deprecated, use a list instead.\n",
      "  grouped = df.groupby('Comove rank')['Comove', 'Beta', 'Return'].mean()\n",
      "C:\\Users\\lunag\\AppData\\Local\\Temp\\ipykernel_3812\\826608691.py:8: FutureWarning: Indexing with multiple keys (implicitly converted to a tuple of keys) will be deprecated, use a list instead.\n",
      "  grouped = df.groupby('Comove rank')['Comove', 'Beta', 'Return'].mean()\n",
      "C:\\Users\\lunag\\AppData\\Local\\Temp\\ipykernel_3812\\826608691.py:8: FutureWarning: Indexing with multiple keys (implicitly converted to a tuple of keys) will be deprecated, use a list instead.\n",
      "  grouped = df.groupby('Comove rank')['Comove', 'Beta', 'Return'].mean()\n",
      "C:\\Users\\lunag\\AppData\\Local\\Temp\\ipykernel_3812\\826608691.py:8: FutureWarning: Indexing with multiple keys (implicitly converted to a tuple of keys) will be deprecated, use a list instead.\n",
      "  grouped = df.groupby('Comove rank')['Comove', 'Beta', 'Return'].mean()\n",
      "C:\\Users\\lunag\\AppData\\Local\\Temp\\ipykernel_3812\\826608691.py:8: FutureWarning: Indexing with multiple keys (implicitly converted to a tuple of keys) will be deprecated, use a list instead.\n",
      "  grouped = df.groupby('Comove rank')['Comove', 'Beta', 'Return'].mean()\n",
      "C:\\Users\\lunag\\AppData\\Local\\Temp\\ipykernel_3812\\826608691.py:8: FutureWarning: Indexing with multiple keys (implicitly converted to a tuple of keys) will be deprecated, use a list instead.\n",
      "  grouped = df.groupby('Comove rank')['Comove', 'Beta', 'Return'].mean()\n",
      "C:\\Users\\lunag\\AppData\\Local\\Temp\\ipykernel_3812\\826608691.py:8: FutureWarning: Indexing with multiple keys (implicitly converted to a tuple of keys) will be deprecated, use a list instead.\n",
      "  grouped = df.groupby('Comove rank')['Comove', 'Beta', 'Return'].mean()\n",
      "C:\\Users\\lunag\\AppData\\Local\\Temp\\ipykernel_3812\\826608691.py:8: FutureWarning: Indexing with multiple keys (implicitly converted to a tuple of keys) will be deprecated, use a list instead.\n",
      "  grouped = df.groupby('Comove rank')['Comove', 'Beta', 'Return'].mean()\n",
      "C:\\Users\\lunag\\AppData\\Local\\Temp\\ipykernel_3812\\826608691.py:8: FutureWarning: Indexing with multiple keys (implicitly converted to a tuple of keys) will be deprecated, use a list instead.\n",
      "  grouped = df.groupby('Comove rank')['Comove', 'Beta', 'Return'].mean()\n",
      "C:\\Users\\lunag\\AppData\\Local\\Temp\\ipykernel_3812\\826608691.py:8: FutureWarning: Indexing with multiple keys (implicitly converted to a tuple of keys) will be deprecated, use a list instead.\n",
      "  grouped = df.groupby('Comove rank')['Comove', 'Beta', 'Return'].mean()\n",
      "C:\\Users\\lunag\\AppData\\Local\\Temp\\ipykernel_3812\\826608691.py:8: FutureWarning: Indexing with multiple keys (implicitly converted to a tuple of keys) will be deprecated, use a list instead.\n",
      "  grouped = df.groupby('Comove rank')['Comove', 'Beta', 'Return'].mean()\n",
      "C:\\Users\\lunag\\AppData\\Local\\Temp\\ipykernel_3812\\826608691.py:8: FutureWarning: Indexing with multiple keys (implicitly converted to a tuple of keys) will be deprecated, use a list instead.\n",
      "  grouped = df.groupby('Comove rank')['Comove', 'Beta', 'Return'].mean()\n",
      "C:\\Users\\lunag\\AppData\\Local\\Temp\\ipykernel_3812\\826608691.py:8: FutureWarning: Indexing with multiple keys (implicitly converted to a tuple of keys) will be deprecated, use a list instead.\n",
      "  grouped = df.groupby('Comove rank')['Comove', 'Beta', 'Return'].mean()\n",
      "C:\\Users\\lunag\\AppData\\Local\\Temp\\ipykernel_3812\\826608691.py:8: FutureWarning: Indexing with multiple keys (implicitly converted to a tuple of keys) will be deprecated, use a list instead.\n",
      "  grouped = df.groupby('Comove rank')['Comove', 'Beta', 'Return'].mean()\n",
      "C:\\Users\\lunag\\AppData\\Local\\Temp\\ipykernel_3812\\826608691.py:8: FutureWarning: Indexing with multiple keys (implicitly converted to a tuple of keys) will be deprecated, use a list instead.\n",
      "  grouped = df.groupby('Comove rank')['Comove', 'Beta', 'Return'].mean()\n",
      "C:\\Users\\lunag\\AppData\\Local\\Temp\\ipykernel_3812\\826608691.py:8: FutureWarning: Indexing with multiple keys (implicitly converted to a tuple of keys) will be deprecated, use a list instead.\n",
      "  grouped = df.groupby('Comove rank')['Comove', 'Beta', 'Return'].mean()\n",
      "C:\\Users\\lunag\\AppData\\Local\\Temp\\ipykernel_3812\\826608691.py:8: FutureWarning: Indexing with multiple keys (implicitly converted to a tuple of keys) will be deprecated, use a list instead.\n",
      "  grouped = df.groupby('Comove rank')['Comove', 'Beta', 'Return'].mean()\n",
      "C:\\Users\\lunag\\AppData\\Local\\Temp\\ipykernel_3812\\826608691.py:8: FutureWarning: Indexing with multiple keys (implicitly converted to a tuple of keys) will be deprecated, use a list instead.\n",
      "  grouped = df.groupby('Comove rank')['Comove', 'Beta', 'Return'].mean()\n",
      "C:\\Users\\lunag\\AppData\\Local\\Temp\\ipykernel_3812\\826608691.py:8: FutureWarning: Indexing with multiple keys (implicitly converted to a tuple of keys) will be deprecated, use a list instead.\n",
      "  grouped = df.groupby('Comove rank')['Comove', 'Beta', 'Return'].mean()\n",
      "C:\\Users\\lunag\\AppData\\Local\\Temp\\ipykernel_3812\\826608691.py:8: FutureWarning: Indexing with multiple keys (implicitly converted to a tuple of keys) will be deprecated, use a list instead.\n",
      "  grouped = df.groupby('Comove rank')['Comove', 'Beta', 'Return'].mean()\n",
      "C:\\Users\\lunag\\AppData\\Local\\Temp\\ipykernel_3812\\826608691.py:8: FutureWarning: Indexing with multiple keys (implicitly converted to a tuple of keys) will be deprecated, use a list instead.\n",
      "  grouped = df.groupby('Comove rank')['Comove', 'Beta', 'Return'].mean()\n",
      "C:\\Users\\lunag\\AppData\\Local\\Temp\\ipykernel_3812\\826608691.py:8: FutureWarning: Indexing with multiple keys (implicitly converted to a tuple of keys) will be deprecated, use a list instead.\n",
      "  grouped = df.groupby('Comove rank')['Comove', 'Beta', 'Return'].mean()\n",
      "C:\\Users\\lunag\\AppData\\Local\\Temp\\ipykernel_3812\\826608691.py:8: FutureWarning: Indexing with multiple keys (implicitly converted to a tuple of keys) will be deprecated, use a list instead.\n",
      "  grouped = df.groupby('Comove rank')['Comove', 'Beta', 'Return'].mean()\n",
      "C:\\Users\\lunag\\AppData\\Local\\Temp\\ipykernel_3812\\826608691.py:8: FutureWarning: Indexing with multiple keys (implicitly converted to a tuple of keys) will be deprecated, use a list instead.\n",
      "  grouped = df.groupby('Comove rank')['Comove', 'Beta', 'Return'].mean()\n",
      "C:\\Users\\lunag\\AppData\\Local\\Temp\\ipykernel_3812\\826608691.py:8: FutureWarning: Indexing with multiple keys (implicitly converted to a tuple of keys) will be deprecated, use a list instead.\n",
      "  grouped = df.groupby('Comove rank')['Comove', 'Beta', 'Return'].mean()\n",
      "C:\\Users\\lunag\\AppData\\Local\\Temp\\ipykernel_3812\\826608691.py:8: FutureWarning: Indexing with multiple keys (implicitly converted to a tuple of keys) will be deprecated, use a list instead.\n",
      "  grouped = df.groupby('Comove rank')['Comove', 'Beta', 'Return'].mean()\n",
      "C:\\Users\\lunag\\AppData\\Local\\Temp\\ipykernel_3812\\826608691.py:8: FutureWarning: Indexing with multiple keys (implicitly converted to a tuple of keys) will be deprecated, use a list instead.\n",
      "  grouped = df.groupby('Comove rank')['Comove', 'Beta', 'Return'].mean()\n",
      "C:\\Users\\lunag\\AppData\\Local\\Temp\\ipykernel_3812\\826608691.py:8: FutureWarning: Indexing with multiple keys (implicitly converted to a tuple of keys) will be deprecated, use a list instead.\n",
      "  grouped = df.groupby('Comove rank')['Comove', 'Beta', 'Return'].mean()\n",
      "C:\\Users\\lunag\\AppData\\Local\\Temp\\ipykernel_3812\\826608691.py:8: FutureWarning: Indexing with multiple keys (implicitly converted to a tuple of keys) will be deprecated, use a list instead.\n",
      "  grouped = df.groupby('Comove rank')['Comove', 'Beta', 'Return'].mean()\n",
      "C:\\Users\\lunag\\AppData\\Local\\Temp\\ipykernel_3812\\826608691.py:8: FutureWarning: Indexing with multiple keys (implicitly converted to a tuple of keys) will be deprecated, use a list instead.\n",
      "  grouped = df.groupby('Comove rank')['Comove', 'Beta', 'Return'].mean()\n",
      "C:\\Users\\lunag\\AppData\\Local\\Temp\\ipykernel_3812\\826608691.py:8: FutureWarning: Indexing with multiple keys (implicitly converted to a tuple of keys) will be deprecated, use a list instead.\n",
      "  grouped = df.groupby('Comove rank')['Comove', 'Beta', 'Return'].mean()\n",
      "C:\\Users\\lunag\\AppData\\Local\\Temp\\ipykernel_3812\\826608691.py:8: FutureWarning: Indexing with multiple keys (implicitly converted to a tuple of keys) will be deprecated, use a list instead.\n",
      "  grouped = df.groupby('Comove rank')['Comove', 'Beta', 'Return'].mean()\n",
      "C:\\Users\\lunag\\AppData\\Local\\Temp\\ipykernel_3812\\826608691.py:8: FutureWarning: Indexing with multiple keys (implicitly converted to a tuple of keys) will be deprecated, use a list instead.\n",
      "  grouped = df.groupby('Comove rank')['Comove', 'Beta', 'Return'].mean()\n",
      "C:\\Users\\lunag\\AppData\\Local\\Temp\\ipykernel_3812\\826608691.py:8: FutureWarning: Indexing with multiple keys (implicitly converted to a tuple of keys) will be deprecated, use a list instead.\n",
      "  grouped = df.groupby('Comove rank')['Comove', 'Beta', 'Return'].mean()\n",
      "C:\\Users\\lunag\\AppData\\Local\\Temp\\ipykernel_3812\\826608691.py:8: FutureWarning: Indexing with multiple keys (implicitly converted to a tuple of keys) will be deprecated, use a list instead.\n",
      "  grouped = df.groupby('Comove rank')['Comove', 'Beta', 'Return'].mean()\n",
      "C:\\Users\\lunag\\AppData\\Local\\Temp\\ipykernel_3812\\826608691.py:8: FutureWarning: Indexing with multiple keys (implicitly converted to a tuple of keys) will be deprecated, use a list instead.\n",
      "  grouped = df.groupby('Comove rank')['Comove', 'Beta', 'Return'].mean()\n",
      "C:\\Users\\lunag\\AppData\\Local\\Temp\\ipykernel_3812\\826608691.py:8: FutureWarning: Indexing with multiple keys (implicitly converted to a tuple of keys) will be deprecated, use a list instead.\n",
      "  grouped = df.groupby('Comove rank')['Comove', 'Beta', 'Return'].mean()\n",
      "C:\\Users\\lunag\\AppData\\Local\\Temp\\ipykernel_3812\\826608691.py:8: FutureWarning: Indexing with multiple keys (implicitly converted to a tuple of keys) will be deprecated, use a list instead.\n",
      "  grouped = df.groupby('Comove rank')['Comove', 'Beta', 'Return'].mean()\n",
      "C:\\Users\\lunag\\AppData\\Local\\Temp\\ipykernel_3812\\826608691.py:8: FutureWarning: Indexing with multiple keys (implicitly converted to a tuple of keys) will be deprecated, use a list instead.\n",
      "  grouped = df.groupby('Comove rank')['Comove', 'Beta', 'Return'].mean()\n",
      "C:\\Users\\lunag\\AppData\\Local\\Temp\\ipykernel_3812\\826608691.py:8: FutureWarning: Indexing with multiple keys (implicitly converted to a tuple of keys) will be deprecated, use a list instead.\n",
      "  grouped = df.groupby('Comove rank')['Comove', 'Beta', 'Return'].mean()\n",
      "C:\\Users\\lunag\\AppData\\Local\\Temp\\ipykernel_3812\\826608691.py:8: FutureWarning: Indexing with multiple keys (implicitly converted to a tuple of keys) will be deprecated, use a list instead.\n",
      "  grouped = df.groupby('Comove rank')['Comove', 'Beta', 'Return'].mean()\n",
      "C:\\Users\\lunag\\AppData\\Local\\Temp\\ipykernel_3812\\826608691.py:8: FutureWarning: Indexing with multiple keys (implicitly converted to a tuple of keys) will be deprecated, use a list instead.\n",
      "  grouped = df.groupby('Comove rank')['Comove', 'Beta', 'Return'].mean()\n",
      "C:\\Users\\lunag\\AppData\\Local\\Temp\\ipykernel_3812\\826608691.py:8: FutureWarning: Indexing with multiple keys (implicitly converted to a tuple of keys) will be deprecated, use a list instead.\n",
      "  grouped = df.groupby('Comove rank')['Comove', 'Beta', 'Return'].mean()\n",
      "C:\\Users\\lunag\\AppData\\Local\\Temp\\ipykernel_3812\\826608691.py:8: FutureWarning: Indexing with multiple keys (implicitly converted to a tuple of keys) will be deprecated, use a list instead.\n",
      "  grouped = df.groupby('Comove rank')['Comove', 'Beta', 'Return'].mean()\n",
      "C:\\Users\\lunag\\AppData\\Local\\Temp\\ipykernel_3812\\826608691.py:8: FutureWarning: Indexing with multiple keys (implicitly converted to a tuple of keys) will be deprecated, use a list instead.\n",
      "  grouped = df.groupby('Comove rank')['Comove', 'Beta', 'Return'].mean()\n",
      "C:\\Users\\lunag\\AppData\\Local\\Temp\\ipykernel_3812\\826608691.py:8: FutureWarning: Indexing with multiple keys (implicitly converted to a tuple of keys) will be deprecated, use a list instead.\n",
      "  grouped = df.groupby('Comove rank')['Comove', 'Beta', 'Return'].mean()\n",
      "C:\\Users\\lunag\\AppData\\Local\\Temp\\ipykernel_3812\\826608691.py:8: FutureWarning: Indexing with multiple keys (implicitly converted to a tuple of keys) will be deprecated, use a list instead.\n",
      "  grouped = df.groupby('Comove rank')['Comove', 'Beta', 'Return'].mean()\n",
      "C:\\Users\\lunag\\AppData\\Local\\Temp\\ipykernel_3812\\826608691.py:8: FutureWarning: Indexing with multiple keys (implicitly converted to a tuple of keys) will be deprecated, use a list instead.\n",
      "  grouped = df.groupby('Comove rank')['Comove', 'Beta', 'Return'].mean()\n",
      "C:\\Users\\lunag\\AppData\\Local\\Temp\\ipykernel_3812\\826608691.py:8: FutureWarning: Indexing with multiple keys (implicitly converted to a tuple of keys) will be deprecated, use a list instead.\n",
      "  grouped = df.groupby('Comove rank')['Comove', 'Beta', 'Return'].mean()\n",
      "C:\\Users\\lunag\\AppData\\Local\\Temp\\ipykernel_3812\\826608691.py:8: FutureWarning: Indexing with multiple keys (implicitly converted to a tuple of keys) will be deprecated, use a list instead.\n",
      "  grouped = df.groupby('Comove rank')['Comove', 'Beta', 'Return'].mean()\n",
      "C:\\Users\\lunag\\AppData\\Local\\Temp\\ipykernel_3812\\826608691.py:8: FutureWarning: Indexing with multiple keys (implicitly converted to a tuple of keys) will be deprecated, use a list instead.\n",
      "  grouped = df.groupby('Comove rank')['Comove', 'Beta', 'Return'].mean()\n",
      "C:\\Users\\lunag\\AppData\\Local\\Temp\\ipykernel_3812\\826608691.py:8: FutureWarning: Indexing with multiple keys (implicitly converted to a tuple of keys) will be deprecated, use a list instead.\n",
      "  grouped = df.groupby('Comove rank')['Comove', 'Beta', 'Return'].mean()\n",
      "C:\\Users\\lunag\\AppData\\Local\\Temp\\ipykernel_3812\\826608691.py:8: FutureWarning: Indexing with multiple keys (implicitly converted to a tuple of keys) will be deprecated, use a list instead.\n",
      "  grouped = df.groupby('Comove rank')['Comove', 'Beta', 'Return'].mean()\n",
      "C:\\Users\\lunag\\AppData\\Local\\Temp\\ipykernel_3812\\826608691.py:8: FutureWarning: Indexing with multiple keys (implicitly converted to a tuple of keys) will be deprecated, use a list instead.\n",
      "  grouped = df.groupby('Comove rank')['Comove', 'Beta', 'Return'].mean()\n",
      "C:\\Users\\lunag\\AppData\\Local\\Temp\\ipykernel_3812\\826608691.py:8: FutureWarning: Indexing with multiple keys (implicitly converted to a tuple of keys) will be deprecated, use a list instead.\n",
      "  grouped = df.groupby('Comove rank')['Comove', 'Beta', 'Return'].mean()\n",
      "C:\\Users\\lunag\\AppData\\Local\\Temp\\ipykernel_3812\\826608691.py:8: FutureWarning: Indexing with multiple keys (implicitly converted to a tuple of keys) will be deprecated, use a list instead.\n",
      "  grouped = df.groupby('Comove rank')['Comove', 'Beta', 'Return'].mean()\n"
     ]
    },
    {
     "name": "stderr",
     "output_type": "stream",
     "text": [
      "C:\\Users\\lunag\\AppData\\Local\\Temp\\ipykernel_3812\\826608691.py:8: FutureWarning: Indexing with multiple keys (implicitly converted to a tuple of keys) will be deprecated, use a list instead.\n",
      "  grouped = df.groupby('Comove rank')['Comove', 'Beta', 'Return'].mean()\n",
      "C:\\Users\\lunag\\AppData\\Local\\Temp\\ipykernel_3812\\826608691.py:8: FutureWarning: Indexing with multiple keys (implicitly converted to a tuple of keys) will be deprecated, use a list instead.\n",
      "  grouped = df.groupby('Comove rank')['Comove', 'Beta', 'Return'].mean()\n",
      "C:\\Users\\lunag\\AppData\\Local\\Temp\\ipykernel_3812\\826608691.py:8: FutureWarning: Indexing with multiple keys (implicitly converted to a tuple of keys) will be deprecated, use a list instead.\n",
      "  grouped = df.groupby('Comove rank')['Comove', 'Beta', 'Return'].mean()\n",
      "C:\\Users\\lunag\\AppData\\Local\\Temp\\ipykernel_3812\\826608691.py:8: FutureWarning: Indexing with multiple keys (implicitly converted to a tuple of keys) will be deprecated, use a list instead.\n",
      "  grouped = df.groupby('Comove rank')['Comove', 'Beta', 'Return'].mean()\n",
      "C:\\Users\\lunag\\AppData\\Local\\Temp\\ipykernel_3812\\826608691.py:8: FutureWarning: Indexing with multiple keys (implicitly converted to a tuple of keys) will be deprecated, use a list instead.\n",
      "  grouped = df.groupby('Comove rank')['Comove', 'Beta', 'Return'].mean()\n",
      "C:\\Users\\lunag\\AppData\\Local\\Temp\\ipykernel_3812\\826608691.py:8: FutureWarning: Indexing with multiple keys (implicitly converted to a tuple of keys) will be deprecated, use a list instead.\n",
      "  grouped = df.groupby('Comove rank')['Comove', 'Beta', 'Return'].mean()\n",
      "C:\\Users\\lunag\\AppData\\Local\\Temp\\ipykernel_3812\\826608691.py:8: FutureWarning: Indexing with multiple keys (implicitly converted to a tuple of keys) will be deprecated, use a list instead.\n",
      "  grouped = df.groupby('Comove rank')['Comove', 'Beta', 'Return'].mean()\n",
      "C:\\Users\\lunag\\AppData\\Local\\Temp\\ipykernel_3812\\826608691.py:8: FutureWarning: Indexing with multiple keys (implicitly converted to a tuple of keys) will be deprecated, use a list instead.\n",
      "  grouped = df.groupby('Comove rank')['Comove', 'Beta', 'Return'].mean()\n",
      "C:\\Users\\lunag\\AppData\\Local\\Temp\\ipykernel_3812\\826608691.py:8: FutureWarning: Indexing with multiple keys (implicitly converted to a tuple of keys) will be deprecated, use a list instead.\n",
      "  grouped = df.groupby('Comove rank')['Comove', 'Beta', 'Return'].mean()\n",
      "C:\\Users\\lunag\\AppData\\Local\\Temp\\ipykernel_3812\\826608691.py:8: FutureWarning: Indexing with multiple keys (implicitly converted to a tuple of keys) will be deprecated, use a list instead.\n",
      "  grouped = df.groupby('Comove rank')['Comove', 'Beta', 'Return'].mean()\n",
      "C:\\Users\\lunag\\AppData\\Local\\Temp\\ipykernel_3812\\826608691.py:8: FutureWarning: Indexing with multiple keys (implicitly converted to a tuple of keys) will be deprecated, use a list instead.\n",
      "  grouped = df.groupby('Comove rank')['Comove', 'Beta', 'Return'].mean()\n",
      "C:\\Users\\lunag\\AppData\\Local\\Temp\\ipykernel_3812\\826608691.py:8: FutureWarning: Indexing with multiple keys (implicitly converted to a tuple of keys) will be deprecated, use a list instead.\n",
      "  grouped = df.groupby('Comove rank')['Comove', 'Beta', 'Return'].mean()\n",
      "C:\\Users\\lunag\\AppData\\Local\\Temp\\ipykernel_3812\\826608691.py:8: FutureWarning: Indexing with multiple keys (implicitly converted to a tuple of keys) will be deprecated, use a list instead.\n",
      "  grouped = df.groupby('Comove rank')['Comove', 'Beta', 'Return'].mean()\n",
      "C:\\Users\\lunag\\AppData\\Local\\Temp\\ipykernel_3812\\826608691.py:8: FutureWarning: Indexing with multiple keys (implicitly converted to a tuple of keys) will be deprecated, use a list instead.\n",
      "  grouped = df.groupby('Comove rank')['Comove', 'Beta', 'Return'].mean()\n",
      "C:\\Users\\lunag\\AppData\\Local\\Temp\\ipykernel_3812\\826608691.py:8: FutureWarning: Indexing with multiple keys (implicitly converted to a tuple of keys) will be deprecated, use a list instead.\n",
      "  grouped = df.groupby('Comove rank')['Comove', 'Beta', 'Return'].mean()\n",
      "C:\\Users\\lunag\\AppData\\Local\\Temp\\ipykernel_3812\\826608691.py:8: FutureWarning: Indexing with multiple keys (implicitly converted to a tuple of keys) will be deprecated, use a list instead.\n",
      "  grouped = df.groupby('Comove rank')['Comove', 'Beta', 'Return'].mean()\n",
      "C:\\Users\\lunag\\AppData\\Local\\Temp\\ipykernel_3812\\826608691.py:8: FutureWarning: Indexing with multiple keys (implicitly converted to a tuple of keys) will be deprecated, use a list instead.\n",
      "  grouped = df.groupby('Comove rank')['Comove', 'Beta', 'Return'].mean()\n",
      "C:\\Users\\lunag\\AppData\\Local\\Temp\\ipykernel_3812\\826608691.py:8: FutureWarning: Indexing with multiple keys (implicitly converted to a tuple of keys) will be deprecated, use a list instead.\n",
      "  grouped = df.groupby('Comove rank')['Comove', 'Beta', 'Return'].mean()\n",
      "C:\\Users\\lunag\\AppData\\Local\\Temp\\ipykernel_3812\\826608691.py:8: FutureWarning: Indexing with multiple keys (implicitly converted to a tuple of keys) will be deprecated, use a list instead.\n",
      "  grouped = df.groupby('Comove rank')['Comove', 'Beta', 'Return'].mean()\n",
      "C:\\Users\\lunag\\AppData\\Local\\Temp\\ipykernel_3812\\826608691.py:8: FutureWarning: Indexing with multiple keys (implicitly converted to a tuple of keys) will be deprecated, use a list instead.\n",
      "  grouped = df.groupby('Comove rank')['Comove', 'Beta', 'Return'].mean()\n",
      "C:\\Users\\lunag\\AppData\\Local\\Temp\\ipykernel_3812\\826608691.py:8: FutureWarning: Indexing with multiple keys (implicitly converted to a tuple of keys) will be deprecated, use a list instead.\n",
      "  grouped = df.groupby('Comove rank')['Comove', 'Beta', 'Return'].mean()\n",
      "C:\\Users\\lunag\\AppData\\Local\\Temp\\ipykernel_3812\\826608691.py:8: FutureWarning: Indexing with multiple keys (implicitly converted to a tuple of keys) will be deprecated, use a list instead.\n",
      "  grouped = df.groupby('Comove rank')['Comove', 'Beta', 'Return'].mean()\n",
      "C:\\Users\\lunag\\AppData\\Local\\Temp\\ipykernel_3812\\826608691.py:8: FutureWarning: Indexing with multiple keys (implicitly converted to a tuple of keys) will be deprecated, use a list instead.\n",
      "  grouped = df.groupby('Comove rank')['Comove', 'Beta', 'Return'].mean()\n",
      "C:\\Users\\lunag\\AppData\\Local\\Temp\\ipykernel_3812\\826608691.py:8: FutureWarning: Indexing with multiple keys (implicitly converted to a tuple of keys) will be deprecated, use a list instead.\n",
      "  grouped = df.groupby('Comove rank')['Comove', 'Beta', 'Return'].mean()\n",
      "C:\\Users\\lunag\\AppData\\Local\\Temp\\ipykernel_3812\\826608691.py:8: FutureWarning: Indexing with multiple keys (implicitly converted to a tuple of keys) will be deprecated, use a list instead.\n",
      "  grouped = df.groupby('Comove rank')['Comove', 'Beta', 'Return'].mean()\n",
      "C:\\Users\\lunag\\AppData\\Local\\Temp\\ipykernel_3812\\826608691.py:8: FutureWarning: Indexing with multiple keys (implicitly converted to a tuple of keys) will be deprecated, use a list instead.\n",
      "  grouped = df.groupby('Comove rank')['Comove', 'Beta', 'Return'].mean()\n",
      "C:\\Users\\lunag\\AppData\\Local\\Temp\\ipykernel_3812\\826608691.py:8: FutureWarning: Indexing with multiple keys (implicitly converted to a tuple of keys) will be deprecated, use a list instead.\n",
      "  grouped = df.groupby('Comove rank')['Comove', 'Beta', 'Return'].mean()\n",
      "C:\\Users\\lunag\\AppData\\Local\\Temp\\ipykernel_3812\\826608691.py:8: FutureWarning: Indexing with multiple keys (implicitly converted to a tuple of keys) will be deprecated, use a list instead.\n",
      "  grouped = df.groupby('Comove rank')['Comove', 'Beta', 'Return'].mean()\n",
      "C:\\Users\\lunag\\AppData\\Local\\Temp\\ipykernel_3812\\826608691.py:8: FutureWarning: Indexing with multiple keys (implicitly converted to a tuple of keys) will be deprecated, use a list instead.\n",
      "  grouped = df.groupby('Comove rank')['Comove', 'Beta', 'Return'].mean()\n",
      "C:\\Users\\lunag\\AppData\\Local\\Temp\\ipykernel_3812\\826608691.py:8: FutureWarning: Indexing with multiple keys (implicitly converted to a tuple of keys) will be deprecated, use a list instead.\n",
      "  grouped = df.groupby('Comove rank')['Comove', 'Beta', 'Return'].mean()\n",
      "C:\\Users\\lunag\\AppData\\Local\\Temp\\ipykernel_3812\\826608691.py:8: FutureWarning: Indexing with multiple keys (implicitly converted to a tuple of keys) will be deprecated, use a list instead.\n",
      "  grouped = df.groupby('Comove rank')['Comove', 'Beta', 'Return'].mean()\n",
      "C:\\Users\\lunag\\AppData\\Local\\Temp\\ipykernel_3812\\826608691.py:8: FutureWarning: Indexing with multiple keys (implicitly converted to a tuple of keys) will be deprecated, use a list instead.\n",
      "  grouped = df.groupby('Comove rank')['Comove', 'Beta', 'Return'].mean()\n",
      "C:\\Users\\lunag\\AppData\\Local\\Temp\\ipykernel_3812\\826608691.py:8: FutureWarning: Indexing with multiple keys (implicitly converted to a tuple of keys) will be deprecated, use a list instead.\n",
      "  grouped = df.groupby('Comove rank')['Comove', 'Beta', 'Return'].mean()\n",
      "C:\\Users\\lunag\\AppData\\Local\\Temp\\ipykernel_3812\\826608691.py:8: FutureWarning: Indexing with multiple keys (implicitly converted to a tuple of keys) will be deprecated, use a list instead.\n",
      "  grouped = df.groupby('Comove rank')['Comove', 'Beta', 'Return'].mean()\n",
      "C:\\Users\\lunag\\AppData\\Local\\Temp\\ipykernel_3812\\826608691.py:8: FutureWarning: Indexing with multiple keys (implicitly converted to a tuple of keys) will be deprecated, use a list instead.\n",
      "  grouped = df.groupby('Comove rank')['Comove', 'Beta', 'Return'].mean()\n",
      "C:\\Users\\lunag\\AppData\\Local\\Temp\\ipykernel_3812\\826608691.py:8: FutureWarning: Indexing with multiple keys (implicitly converted to a tuple of keys) will be deprecated, use a list instead.\n",
      "  grouped = df.groupby('Comove rank')['Comove', 'Beta', 'Return'].mean()\n",
      "C:\\Users\\lunag\\AppData\\Local\\Temp\\ipykernel_3812\\826608691.py:8: FutureWarning: Indexing with multiple keys (implicitly converted to a tuple of keys) will be deprecated, use a list instead.\n",
      "  grouped = df.groupby('Comove rank')['Comove', 'Beta', 'Return'].mean()\n",
      "C:\\Users\\lunag\\AppData\\Local\\Temp\\ipykernel_3812\\826608691.py:8: FutureWarning: Indexing with multiple keys (implicitly converted to a tuple of keys) will be deprecated, use a list instead.\n",
      "  grouped = df.groupby('Comove rank')['Comove', 'Beta', 'Return'].mean()\n",
      "C:\\Users\\lunag\\AppData\\Local\\Temp\\ipykernel_3812\\826608691.py:8: FutureWarning: Indexing with multiple keys (implicitly converted to a tuple of keys) will be deprecated, use a list instead.\n",
      "  grouped = df.groupby('Comove rank')['Comove', 'Beta', 'Return'].mean()\n",
      "C:\\Users\\lunag\\AppData\\Local\\Temp\\ipykernel_3812\\826608691.py:8: FutureWarning: Indexing with multiple keys (implicitly converted to a tuple of keys) will be deprecated, use a list instead.\n",
      "  grouped = df.groupby('Comove rank')['Comove', 'Beta', 'Return'].mean()\n",
      "C:\\Users\\lunag\\AppData\\Local\\Temp\\ipykernel_3812\\826608691.py:8: FutureWarning: Indexing with multiple keys (implicitly converted to a tuple of keys) will be deprecated, use a list instead.\n",
      "  grouped = df.groupby('Comove rank')['Comove', 'Beta', 'Return'].mean()\n",
      "C:\\Users\\lunag\\AppData\\Local\\Temp\\ipykernel_3812\\826608691.py:8: FutureWarning: Indexing with multiple keys (implicitly converted to a tuple of keys) will be deprecated, use a list instead.\n",
      "  grouped = df.groupby('Comove rank')['Comove', 'Beta', 'Return'].mean()\n",
      "C:\\Users\\lunag\\AppData\\Local\\Temp\\ipykernel_3812\\826608691.py:8: FutureWarning: Indexing with multiple keys (implicitly converted to a tuple of keys) will be deprecated, use a list instead.\n",
      "  grouped = df.groupby('Comove rank')['Comove', 'Beta', 'Return'].mean()\n",
      "C:\\Users\\lunag\\AppData\\Local\\Temp\\ipykernel_3812\\826608691.py:8: FutureWarning: Indexing with multiple keys (implicitly converted to a tuple of keys) will be deprecated, use a list instead.\n",
      "  grouped = df.groupby('Comove rank')['Comove', 'Beta', 'Return'].mean()\n",
      "C:\\Users\\lunag\\AppData\\Local\\Temp\\ipykernel_3812\\826608691.py:8: FutureWarning: Indexing with multiple keys (implicitly converted to a tuple of keys) will be deprecated, use a list instead.\n",
      "  grouped = df.groupby('Comove rank')['Comove', 'Beta', 'Return'].mean()\n",
      "C:\\Users\\lunag\\AppData\\Local\\Temp\\ipykernel_3812\\826608691.py:8: FutureWarning: Indexing with multiple keys (implicitly converted to a tuple of keys) will be deprecated, use a list instead.\n",
      "  grouped = df.groupby('Comove rank')['Comove', 'Beta', 'Return'].mean()\n",
      "C:\\Users\\lunag\\AppData\\Local\\Temp\\ipykernel_3812\\826608691.py:8: FutureWarning: Indexing with multiple keys (implicitly converted to a tuple of keys) will be deprecated, use a list instead.\n",
      "  grouped = df.groupby('Comove rank')['Comove', 'Beta', 'Return'].mean()\n",
      "C:\\Users\\lunag\\AppData\\Local\\Temp\\ipykernel_3812\\826608691.py:8: FutureWarning: Indexing with multiple keys (implicitly converted to a tuple of keys) will be deprecated, use a list instead.\n",
      "  grouped = df.groupby('Comove rank')['Comove', 'Beta', 'Return'].mean()\n",
      "C:\\Users\\lunag\\AppData\\Local\\Temp\\ipykernel_3812\\826608691.py:8: FutureWarning: Indexing with multiple keys (implicitly converted to a tuple of keys) will be deprecated, use a list instead.\n",
      "  grouped = df.groupby('Comove rank')['Comove', 'Beta', 'Return'].mean()\n",
      "C:\\Users\\lunag\\AppData\\Local\\Temp\\ipykernel_3812\\826608691.py:8: FutureWarning: Indexing with multiple keys (implicitly converted to a tuple of keys) will be deprecated, use a list instead.\n",
      "  grouped = df.groupby('Comove rank')['Comove', 'Beta', 'Return'].mean()\n",
      "C:\\Users\\lunag\\AppData\\Local\\Temp\\ipykernel_3812\\826608691.py:8: FutureWarning: Indexing with multiple keys (implicitly converted to a tuple of keys) will be deprecated, use a list instead.\n",
      "  grouped = df.groupby('Comove rank')['Comove', 'Beta', 'Return'].mean()\n",
      "C:\\Users\\lunag\\AppData\\Local\\Temp\\ipykernel_3812\\826608691.py:8: FutureWarning: Indexing with multiple keys (implicitly converted to a tuple of keys) will be deprecated, use a list instead.\n",
      "  grouped = df.groupby('Comove rank')['Comove', 'Beta', 'Return'].mean()\n",
      "C:\\Users\\lunag\\AppData\\Local\\Temp\\ipykernel_3812\\826608691.py:8: FutureWarning: Indexing with multiple keys (implicitly converted to a tuple of keys) will be deprecated, use a list instead.\n",
      "  grouped = df.groupby('Comove rank')['Comove', 'Beta', 'Return'].mean()\n",
      "C:\\Users\\lunag\\AppData\\Local\\Temp\\ipykernel_3812\\826608691.py:8: FutureWarning: Indexing with multiple keys (implicitly converted to a tuple of keys) will be deprecated, use a list instead.\n",
      "  grouped = df.groupby('Comove rank')['Comove', 'Beta', 'Return'].mean()\n",
      "C:\\Users\\lunag\\AppData\\Local\\Temp\\ipykernel_3812\\826608691.py:8: FutureWarning: Indexing with multiple keys (implicitly converted to a tuple of keys) will be deprecated, use a list instead.\n",
      "  grouped = df.groupby('Comove rank')['Comove', 'Beta', 'Return'].mean()\n",
      "C:\\Users\\lunag\\AppData\\Local\\Temp\\ipykernel_3812\\826608691.py:8: FutureWarning: Indexing with multiple keys (implicitly converted to a tuple of keys) will be deprecated, use a list instead.\n",
      "  grouped = df.groupby('Comove rank')['Comove', 'Beta', 'Return'].mean()\n",
      "C:\\Users\\lunag\\AppData\\Local\\Temp\\ipykernel_3812\\826608691.py:8: FutureWarning: Indexing with multiple keys (implicitly converted to a tuple of keys) will be deprecated, use a list instead.\n",
      "  grouped = df.groupby('Comove rank')['Comove', 'Beta', 'Return'].mean()\n",
      "C:\\Users\\lunag\\AppData\\Local\\Temp\\ipykernel_3812\\826608691.py:8: FutureWarning: Indexing with multiple keys (implicitly converted to a tuple of keys) will be deprecated, use a list instead.\n",
      "  grouped = df.groupby('Comove rank')['Comove', 'Beta', 'Return'].mean()\n",
      "C:\\Users\\lunag\\AppData\\Local\\Temp\\ipykernel_3812\\826608691.py:8: FutureWarning: Indexing with multiple keys (implicitly converted to a tuple of keys) will be deprecated, use a list instead.\n",
      "  grouped = df.groupby('Comove rank')['Comove', 'Beta', 'Return'].mean()\n",
      "C:\\Users\\lunag\\AppData\\Local\\Temp\\ipykernel_3812\\826608691.py:8: FutureWarning: Indexing with multiple keys (implicitly converted to a tuple of keys) will be deprecated, use a list instead.\n",
      "  grouped = df.groupby('Comove rank')['Comove', 'Beta', 'Return'].mean()\n",
      "C:\\Users\\lunag\\AppData\\Local\\Temp\\ipykernel_3812\\826608691.py:8: FutureWarning: Indexing with multiple keys (implicitly converted to a tuple of keys) will be deprecated, use a list instead.\n",
      "  grouped = df.groupby('Comove rank')['Comove', 'Beta', 'Return'].mean()\n",
      "C:\\Users\\lunag\\AppData\\Local\\Temp\\ipykernel_3812\\826608691.py:8: FutureWarning: Indexing with multiple keys (implicitly converted to a tuple of keys) will be deprecated, use a list instead.\n",
      "  grouped = df.groupby('Comove rank')['Comove', 'Beta', 'Return'].mean()\n",
      "C:\\Users\\lunag\\AppData\\Local\\Temp\\ipykernel_3812\\826608691.py:8: FutureWarning: Indexing with multiple keys (implicitly converted to a tuple of keys) will be deprecated, use a list instead.\n",
      "  grouped = df.groupby('Comove rank')['Comove', 'Beta', 'Return'].mean()\n",
      "C:\\Users\\lunag\\AppData\\Local\\Temp\\ipykernel_3812\\826608691.py:8: FutureWarning: Indexing with multiple keys (implicitly converted to a tuple of keys) will be deprecated, use a list instead.\n",
      "  grouped = df.groupby('Comove rank')['Comove', 'Beta', 'Return'].mean()\n",
      "C:\\Users\\lunag\\AppData\\Local\\Temp\\ipykernel_3812\\826608691.py:8: FutureWarning: Indexing with multiple keys (implicitly converted to a tuple of keys) will be deprecated, use a list instead.\n",
      "  grouped = df.groupby('Comove rank')['Comove', 'Beta', 'Return'].mean()\n",
      "C:\\Users\\lunag\\AppData\\Local\\Temp\\ipykernel_3812\\826608691.py:8: FutureWarning: Indexing with multiple keys (implicitly converted to a tuple of keys) will be deprecated, use a list instead.\n",
      "  grouped = df.groupby('Comove rank')['Comove', 'Beta', 'Return'].mean()\n",
      "C:\\Users\\lunag\\AppData\\Local\\Temp\\ipykernel_3812\\826608691.py:8: FutureWarning: Indexing with multiple keys (implicitly converted to a tuple of keys) will be deprecated, use a list instead.\n",
      "  grouped = df.groupby('Comove rank')['Comove', 'Beta', 'Return'].mean()\n",
      "C:\\Users\\lunag\\AppData\\Local\\Temp\\ipykernel_3812\\826608691.py:8: FutureWarning: Indexing with multiple keys (implicitly converted to a tuple of keys) will be deprecated, use a list instead.\n",
      "  grouped = df.groupby('Comove rank')['Comove', 'Beta', 'Return'].mean()\n",
      "C:\\Users\\lunag\\AppData\\Local\\Temp\\ipykernel_3812\\826608691.py:8: FutureWarning: Indexing with multiple keys (implicitly converted to a tuple of keys) will be deprecated, use a list instead.\n",
      "  grouped = df.groupby('Comove rank')['Comove', 'Beta', 'Return'].mean()\n",
      "C:\\Users\\lunag\\AppData\\Local\\Temp\\ipykernel_3812\\826608691.py:8: FutureWarning: Indexing with multiple keys (implicitly converted to a tuple of keys) will be deprecated, use a list instead.\n",
      "  grouped = df.groupby('Comove rank')['Comove', 'Beta', 'Return'].mean()\n",
      "C:\\Users\\lunag\\AppData\\Local\\Temp\\ipykernel_3812\\826608691.py:8: FutureWarning: Indexing with multiple keys (implicitly converted to a tuple of keys) will be deprecated, use a list instead.\n",
      "  grouped = df.groupby('Comove rank')['Comove', 'Beta', 'Return'].mean()\n",
      "C:\\Users\\lunag\\AppData\\Local\\Temp\\ipykernel_3812\\826608691.py:8: FutureWarning: Indexing with multiple keys (implicitly converted to a tuple of keys) will be deprecated, use a list instead.\n",
      "  grouped = df.groupby('Comove rank')['Comove', 'Beta', 'Return'].mean()\n"
     ]
    },
    {
     "name": "stderr",
     "output_type": "stream",
     "text": [
      "C:\\Users\\lunag\\AppData\\Local\\Temp\\ipykernel_3812\\826608691.py:8: FutureWarning: Indexing with multiple keys (implicitly converted to a tuple of keys) will be deprecated, use a list instead.\n",
      "  grouped = df.groupby('Comove rank')['Comove', 'Beta', 'Return'].mean()\n",
      "C:\\Users\\lunag\\AppData\\Local\\Temp\\ipykernel_3812\\826608691.py:8: FutureWarning: Indexing with multiple keys (implicitly converted to a tuple of keys) will be deprecated, use a list instead.\n",
      "  grouped = df.groupby('Comove rank')['Comove', 'Beta', 'Return'].mean()\n",
      "C:\\Users\\lunag\\AppData\\Local\\Temp\\ipykernel_3812\\826608691.py:8: FutureWarning: Indexing with multiple keys (implicitly converted to a tuple of keys) will be deprecated, use a list instead.\n",
      "  grouped = df.groupby('Comove rank')['Comove', 'Beta', 'Return'].mean()\n",
      "C:\\Users\\lunag\\AppData\\Local\\Temp\\ipykernel_3812\\826608691.py:8: FutureWarning: Indexing with multiple keys (implicitly converted to a tuple of keys) will be deprecated, use a list instead.\n",
      "  grouped = df.groupby('Comove rank')['Comove', 'Beta', 'Return'].mean()\n",
      "C:\\Users\\lunag\\AppData\\Local\\Temp\\ipykernel_3812\\826608691.py:8: FutureWarning: Indexing with multiple keys (implicitly converted to a tuple of keys) will be deprecated, use a list instead.\n",
      "  grouped = df.groupby('Comove rank')['Comove', 'Beta', 'Return'].mean()\n",
      "C:\\Users\\lunag\\AppData\\Local\\Temp\\ipykernel_3812\\826608691.py:8: FutureWarning: Indexing with multiple keys (implicitly converted to a tuple of keys) will be deprecated, use a list instead.\n",
      "  grouped = df.groupby('Comove rank')['Comove', 'Beta', 'Return'].mean()\n",
      "C:\\Users\\lunag\\AppData\\Local\\Temp\\ipykernel_3812\\826608691.py:8: FutureWarning: Indexing with multiple keys (implicitly converted to a tuple of keys) will be deprecated, use a list instead.\n",
      "  grouped = df.groupby('Comove rank')['Comove', 'Beta', 'Return'].mean()\n",
      "C:\\Users\\lunag\\AppData\\Local\\Temp\\ipykernel_3812\\826608691.py:8: FutureWarning: Indexing with multiple keys (implicitly converted to a tuple of keys) will be deprecated, use a list instead.\n",
      "  grouped = df.groupby('Comove rank')['Comove', 'Beta', 'Return'].mean()\n",
      "C:\\Users\\lunag\\AppData\\Local\\Temp\\ipykernel_3812\\826608691.py:8: FutureWarning: Indexing with multiple keys (implicitly converted to a tuple of keys) will be deprecated, use a list instead.\n",
      "  grouped = df.groupby('Comove rank')['Comove', 'Beta', 'Return'].mean()\n",
      "C:\\Users\\lunag\\AppData\\Local\\Temp\\ipykernel_3812\\826608691.py:8: FutureWarning: Indexing with multiple keys (implicitly converted to a tuple of keys) will be deprecated, use a list instead.\n",
      "  grouped = df.groupby('Comove rank')['Comove', 'Beta', 'Return'].mean()\n",
      "C:\\Users\\lunag\\AppData\\Local\\Temp\\ipykernel_3812\\826608691.py:8: FutureWarning: Indexing with multiple keys (implicitly converted to a tuple of keys) will be deprecated, use a list instead.\n",
      "  grouped = df.groupby('Comove rank')['Comove', 'Beta', 'Return'].mean()\n",
      "C:\\Users\\lunag\\AppData\\Local\\Temp\\ipykernel_3812\\826608691.py:8: FutureWarning: Indexing with multiple keys (implicitly converted to a tuple of keys) will be deprecated, use a list instead.\n",
      "  grouped = df.groupby('Comove rank')['Comove', 'Beta', 'Return'].mean()\n",
      "C:\\Users\\lunag\\AppData\\Local\\Temp\\ipykernel_3812\\826608691.py:8: FutureWarning: Indexing with multiple keys (implicitly converted to a tuple of keys) will be deprecated, use a list instead.\n",
      "  grouped = df.groupby('Comove rank')['Comove', 'Beta', 'Return'].mean()\n",
      "C:\\Users\\lunag\\AppData\\Local\\Temp\\ipykernel_3812\\826608691.py:8: FutureWarning: Indexing with multiple keys (implicitly converted to a tuple of keys) will be deprecated, use a list instead.\n",
      "  grouped = df.groupby('Comove rank')['Comove', 'Beta', 'Return'].mean()\n",
      "C:\\Users\\lunag\\AppData\\Local\\Temp\\ipykernel_3812\\826608691.py:8: FutureWarning: Indexing with multiple keys (implicitly converted to a tuple of keys) will be deprecated, use a list instead.\n",
      "  grouped = df.groupby('Comove rank')['Comove', 'Beta', 'Return'].mean()\n",
      "C:\\Users\\lunag\\AppData\\Local\\Temp\\ipykernel_3812\\826608691.py:8: FutureWarning: Indexing with multiple keys (implicitly converted to a tuple of keys) will be deprecated, use a list instead.\n",
      "  grouped = df.groupby('Comove rank')['Comove', 'Beta', 'Return'].mean()\n",
      "C:\\Users\\lunag\\AppData\\Local\\Temp\\ipykernel_3812\\826608691.py:8: FutureWarning: Indexing with multiple keys (implicitly converted to a tuple of keys) will be deprecated, use a list instead.\n",
      "  grouped = df.groupby('Comove rank')['Comove', 'Beta', 'Return'].mean()\n",
      "C:\\Users\\lunag\\AppData\\Local\\Temp\\ipykernel_3812\\826608691.py:8: FutureWarning: Indexing with multiple keys (implicitly converted to a tuple of keys) will be deprecated, use a list instead.\n",
      "  grouped = df.groupby('Comove rank')['Comove', 'Beta', 'Return'].mean()\n",
      "C:\\Users\\lunag\\AppData\\Local\\Temp\\ipykernel_3812\\826608691.py:8: FutureWarning: Indexing with multiple keys (implicitly converted to a tuple of keys) will be deprecated, use a list instead.\n",
      "  grouped = df.groupby('Comove rank')['Comove', 'Beta', 'Return'].mean()\n",
      "C:\\Users\\lunag\\AppData\\Local\\Temp\\ipykernel_3812\\826608691.py:8: FutureWarning: Indexing with multiple keys (implicitly converted to a tuple of keys) will be deprecated, use a list instead.\n",
      "  grouped = df.groupby('Comove rank')['Comove', 'Beta', 'Return'].mean()\n",
      "C:\\Users\\lunag\\AppData\\Local\\Temp\\ipykernel_3812\\826608691.py:8: FutureWarning: Indexing with multiple keys (implicitly converted to a tuple of keys) will be deprecated, use a list instead.\n",
      "  grouped = df.groupby('Comove rank')['Comove', 'Beta', 'Return'].mean()\n",
      "C:\\Users\\lunag\\AppData\\Local\\Temp\\ipykernel_3812\\826608691.py:8: FutureWarning: Indexing with multiple keys (implicitly converted to a tuple of keys) will be deprecated, use a list instead.\n",
      "  grouped = df.groupby('Comove rank')['Comove', 'Beta', 'Return'].mean()\n",
      "C:\\Users\\lunag\\AppData\\Local\\Temp\\ipykernel_3812\\826608691.py:8: FutureWarning: Indexing with multiple keys (implicitly converted to a tuple of keys) will be deprecated, use a list instead.\n",
      "  grouped = df.groupby('Comove rank')['Comove', 'Beta', 'Return'].mean()\n",
      "C:\\Users\\lunag\\AppData\\Local\\Temp\\ipykernel_3812\\826608691.py:8: FutureWarning: Indexing with multiple keys (implicitly converted to a tuple of keys) will be deprecated, use a list instead.\n",
      "  grouped = df.groupby('Comove rank')['Comove', 'Beta', 'Return'].mean()\n",
      "C:\\Users\\lunag\\AppData\\Local\\Temp\\ipykernel_3812\\826608691.py:8: FutureWarning: Indexing with multiple keys (implicitly converted to a tuple of keys) will be deprecated, use a list instead.\n",
      "  grouped = df.groupby('Comove rank')['Comove', 'Beta', 'Return'].mean()\n",
      "C:\\Users\\lunag\\AppData\\Local\\Temp\\ipykernel_3812\\826608691.py:8: FutureWarning: Indexing with multiple keys (implicitly converted to a tuple of keys) will be deprecated, use a list instead.\n",
      "  grouped = df.groupby('Comove rank')['Comove', 'Beta', 'Return'].mean()\n",
      "C:\\Users\\lunag\\AppData\\Local\\Temp\\ipykernel_3812\\826608691.py:8: FutureWarning: Indexing with multiple keys (implicitly converted to a tuple of keys) will be deprecated, use a list instead.\n",
      "  grouped = df.groupby('Comove rank')['Comove', 'Beta', 'Return'].mean()\n",
      "C:\\Users\\lunag\\AppData\\Local\\Temp\\ipykernel_3812\\826608691.py:8: FutureWarning: Indexing with multiple keys (implicitly converted to a tuple of keys) will be deprecated, use a list instead.\n",
      "  grouped = df.groupby('Comove rank')['Comove', 'Beta', 'Return'].mean()\n",
      "C:\\Users\\lunag\\AppData\\Local\\Temp\\ipykernel_3812\\826608691.py:8: FutureWarning: Indexing with multiple keys (implicitly converted to a tuple of keys) will be deprecated, use a list instead.\n",
      "  grouped = df.groupby('Comove rank')['Comove', 'Beta', 'Return'].mean()\n",
      "C:\\Users\\lunag\\AppData\\Local\\Temp\\ipykernel_3812\\826608691.py:8: FutureWarning: Indexing with multiple keys (implicitly converted to a tuple of keys) will be deprecated, use a list instead.\n",
      "  grouped = df.groupby('Comove rank')['Comove', 'Beta', 'Return'].mean()\n",
      "C:\\Users\\lunag\\AppData\\Local\\Temp\\ipykernel_3812\\826608691.py:8: FutureWarning: Indexing with multiple keys (implicitly converted to a tuple of keys) will be deprecated, use a list instead.\n",
      "  grouped = df.groupby('Comove rank')['Comove', 'Beta', 'Return'].mean()\n",
      "C:\\Users\\lunag\\AppData\\Local\\Temp\\ipykernel_3812\\826608691.py:8: FutureWarning: Indexing with multiple keys (implicitly converted to a tuple of keys) will be deprecated, use a list instead.\n",
      "  grouped = df.groupby('Comove rank')['Comove', 'Beta', 'Return'].mean()\n",
      "C:\\Users\\lunag\\AppData\\Local\\Temp\\ipykernel_3812\\826608691.py:8: FutureWarning: Indexing with multiple keys (implicitly converted to a tuple of keys) will be deprecated, use a list instead.\n",
      "  grouped = df.groupby('Comove rank')['Comove', 'Beta', 'Return'].mean()\n",
      "C:\\Users\\lunag\\AppData\\Local\\Temp\\ipykernel_3812\\826608691.py:8: FutureWarning: Indexing with multiple keys (implicitly converted to a tuple of keys) will be deprecated, use a list instead.\n",
      "  grouped = df.groupby('Comove rank')['Comove', 'Beta', 'Return'].mean()\n",
      "C:\\Users\\lunag\\AppData\\Local\\Temp\\ipykernel_3812\\826608691.py:8: FutureWarning: Indexing with multiple keys (implicitly converted to a tuple of keys) will be deprecated, use a list instead.\n",
      "  grouped = df.groupby('Comove rank')['Comove', 'Beta', 'Return'].mean()\n",
      "C:\\Users\\lunag\\AppData\\Local\\Temp\\ipykernel_3812\\826608691.py:8: FutureWarning: Indexing with multiple keys (implicitly converted to a tuple of keys) will be deprecated, use a list instead.\n",
      "  grouped = df.groupby('Comove rank')['Comove', 'Beta', 'Return'].mean()\n",
      "C:\\Users\\lunag\\AppData\\Local\\Temp\\ipykernel_3812\\826608691.py:8: FutureWarning: Indexing with multiple keys (implicitly converted to a tuple of keys) will be deprecated, use a list instead.\n",
      "  grouped = df.groupby('Comove rank')['Comove', 'Beta', 'Return'].mean()\n",
      "C:\\Users\\lunag\\AppData\\Local\\Temp\\ipykernel_3812\\826608691.py:8: FutureWarning: Indexing with multiple keys (implicitly converted to a tuple of keys) will be deprecated, use a list instead.\n",
      "  grouped = df.groupby('Comove rank')['Comove', 'Beta', 'Return'].mean()\n",
      "C:\\Users\\lunag\\AppData\\Local\\Temp\\ipykernel_3812\\826608691.py:8: FutureWarning: Indexing with multiple keys (implicitly converted to a tuple of keys) will be deprecated, use a list instead.\n",
      "  grouped = df.groupby('Comove rank')['Comove', 'Beta', 'Return'].mean()\n",
      "C:\\Users\\lunag\\AppData\\Local\\Temp\\ipykernel_3812\\826608691.py:8: FutureWarning: Indexing with multiple keys (implicitly converted to a tuple of keys) will be deprecated, use a list instead.\n",
      "  grouped = df.groupby('Comove rank')['Comove', 'Beta', 'Return'].mean()\n",
      "C:\\Users\\lunag\\AppData\\Local\\Temp\\ipykernel_3812\\826608691.py:8: FutureWarning: Indexing with multiple keys (implicitly converted to a tuple of keys) will be deprecated, use a list instead.\n",
      "  grouped = df.groupby('Comove rank')['Comove', 'Beta', 'Return'].mean()\n",
      "C:\\Users\\lunag\\AppData\\Local\\Temp\\ipykernel_3812\\826608691.py:8: FutureWarning: Indexing with multiple keys (implicitly converted to a tuple of keys) will be deprecated, use a list instead.\n",
      "  grouped = df.groupby('Comove rank')['Comove', 'Beta', 'Return'].mean()\n",
      "C:\\Users\\lunag\\AppData\\Local\\Temp\\ipykernel_3812\\826608691.py:8: FutureWarning: Indexing with multiple keys (implicitly converted to a tuple of keys) will be deprecated, use a list instead.\n",
      "  grouped = df.groupby('Comove rank')['Comove', 'Beta', 'Return'].mean()\n",
      "C:\\Users\\lunag\\AppData\\Local\\Temp\\ipykernel_3812\\826608691.py:8: FutureWarning: Indexing with multiple keys (implicitly converted to a tuple of keys) will be deprecated, use a list instead.\n",
      "  grouped = df.groupby('Comove rank')['Comove', 'Beta', 'Return'].mean()\n",
      "C:\\Users\\lunag\\AppData\\Local\\Temp\\ipykernel_3812\\826608691.py:8: FutureWarning: Indexing with multiple keys (implicitly converted to a tuple of keys) will be deprecated, use a list instead.\n",
      "  grouped = df.groupby('Comove rank')['Comove', 'Beta', 'Return'].mean()\n",
      "C:\\Users\\lunag\\AppData\\Local\\Temp\\ipykernel_3812\\826608691.py:8: FutureWarning: Indexing with multiple keys (implicitly converted to a tuple of keys) will be deprecated, use a list instead.\n",
      "  grouped = df.groupby('Comove rank')['Comove', 'Beta', 'Return'].mean()\n",
      "C:\\Users\\lunag\\AppData\\Local\\Temp\\ipykernel_3812\\826608691.py:8: FutureWarning: Indexing with multiple keys (implicitly converted to a tuple of keys) will be deprecated, use a list instead.\n",
      "  grouped = df.groupby('Comove rank')['Comove', 'Beta', 'Return'].mean()\n",
      "C:\\Users\\lunag\\AppData\\Local\\Temp\\ipykernel_3812\\826608691.py:8: FutureWarning: Indexing with multiple keys (implicitly converted to a tuple of keys) will be deprecated, use a list instead.\n",
      "  grouped = df.groupby('Comove rank')['Comove', 'Beta', 'Return'].mean()\n",
      "C:\\Users\\lunag\\AppData\\Local\\Temp\\ipykernel_3812\\826608691.py:8: FutureWarning: Indexing with multiple keys (implicitly converted to a tuple of keys) will be deprecated, use a list instead.\n",
      "  grouped = df.groupby('Comove rank')['Comove', 'Beta', 'Return'].mean()\n",
      "C:\\Users\\lunag\\AppData\\Local\\Temp\\ipykernel_3812\\826608691.py:8: FutureWarning: Indexing with multiple keys (implicitly converted to a tuple of keys) will be deprecated, use a list instead.\n",
      "  grouped = df.groupby('Comove rank')['Comove', 'Beta', 'Return'].mean()\n",
      "C:\\Users\\lunag\\AppData\\Local\\Temp\\ipykernel_3812\\826608691.py:8: FutureWarning: Indexing with multiple keys (implicitly converted to a tuple of keys) will be deprecated, use a list instead.\n",
      "  grouped = df.groupby('Comove rank')['Comove', 'Beta', 'Return'].mean()\n",
      "C:\\Users\\lunag\\AppData\\Local\\Temp\\ipykernel_3812\\826608691.py:8: FutureWarning: Indexing with multiple keys (implicitly converted to a tuple of keys) will be deprecated, use a list instead.\n",
      "  grouped = df.groupby('Comove rank')['Comove', 'Beta', 'Return'].mean()\n",
      "C:\\Users\\lunag\\AppData\\Local\\Temp\\ipykernel_3812\\826608691.py:8: FutureWarning: Indexing with multiple keys (implicitly converted to a tuple of keys) will be deprecated, use a list instead.\n",
      "  grouped = df.groupby('Comove rank')['Comove', 'Beta', 'Return'].mean()\n",
      "C:\\Users\\lunag\\AppData\\Local\\Temp\\ipykernel_3812\\826608691.py:8: FutureWarning: Indexing with multiple keys (implicitly converted to a tuple of keys) will be deprecated, use a list instead.\n",
      "  grouped = df.groupby('Comove rank')['Comove', 'Beta', 'Return'].mean()\n",
      "C:\\Users\\lunag\\AppData\\Local\\Temp\\ipykernel_3812\\826608691.py:8: FutureWarning: Indexing with multiple keys (implicitly converted to a tuple of keys) will be deprecated, use a list instead.\n",
      "  grouped = df.groupby('Comove rank')['Comove', 'Beta', 'Return'].mean()\n",
      "C:\\Users\\lunag\\AppData\\Local\\Temp\\ipykernel_3812\\826608691.py:8: FutureWarning: Indexing with multiple keys (implicitly converted to a tuple of keys) will be deprecated, use a list instead.\n",
      "  grouped = df.groupby('Comove rank')['Comove', 'Beta', 'Return'].mean()\n",
      "C:\\Users\\lunag\\AppData\\Local\\Temp\\ipykernel_3812\\826608691.py:8: FutureWarning: Indexing with multiple keys (implicitly converted to a tuple of keys) will be deprecated, use a list instead.\n",
      "  grouped = df.groupby('Comove rank')['Comove', 'Beta', 'Return'].mean()\n",
      "C:\\Users\\lunag\\AppData\\Local\\Temp\\ipykernel_3812\\826608691.py:8: FutureWarning: Indexing with multiple keys (implicitly converted to a tuple of keys) will be deprecated, use a list instead.\n",
      "  grouped = df.groupby('Comove rank')['Comove', 'Beta', 'Return'].mean()\n",
      "C:\\Users\\lunag\\AppData\\Local\\Temp\\ipykernel_3812\\826608691.py:8: FutureWarning: Indexing with multiple keys (implicitly converted to a tuple of keys) will be deprecated, use a list instead.\n",
      "  grouped = df.groupby('Comove rank')['Comove', 'Beta', 'Return'].mean()\n",
      "C:\\Users\\lunag\\AppData\\Local\\Temp\\ipykernel_3812\\826608691.py:8: FutureWarning: Indexing with multiple keys (implicitly converted to a tuple of keys) will be deprecated, use a list instead.\n",
      "  grouped = df.groupby('Comove rank')['Comove', 'Beta', 'Return'].mean()\n",
      "C:\\Users\\lunag\\AppData\\Local\\Temp\\ipykernel_3812\\826608691.py:8: FutureWarning: Indexing with multiple keys (implicitly converted to a tuple of keys) will be deprecated, use a list instead.\n",
      "  grouped = df.groupby('Comove rank')['Comove', 'Beta', 'Return'].mean()\n",
      "C:\\Users\\lunag\\AppData\\Local\\Temp\\ipykernel_3812\\826608691.py:8: FutureWarning: Indexing with multiple keys (implicitly converted to a tuple of keys) will be deprecated, use a list instead.\n",
      "  grouped = df.groupby('Comove rank')['Comove', 'Beta', 'Return'].mean()\n",
      "C:\\Users\\lunag\\AppData\\Local\\Temp\\ipykernel_3812\\826608691.py:8: FutureWarning: Indexing with multiple keys (implicitly converted to a tuple of keys) will be deprecated, use a list instead.\n",
      "  grouped = df.groupby('Comove rank')['Comove', 'Beta', 'Return'].mean()\n",
      "C:\\Users\\lunag\\AppData\\Local\\Temp\\ipykernel_3812\\826608691.py:8: FutureWarning: Indexing with multiple keys (implicitly converted to a tuple of keys) will be deprecated, use a list instead.\n",
      "  grouped = df.groupby('Comove rank')['Comove', 'Beta', 'Return'].mean()\n",
      "C:\\Users\\lunag\\AppData\\Local\\Temp\\ipykernel_3812\\826608691.py:8: FutureWarning: Indexing with multiple keys (implicitly converted to a tuple of keys) will be deprecated, use a list instead.\n",
      "  grouped = df.groupby('Comove rank')['Comove', 'Beta', 'Return'].mean()\n",
      "C:\\Users\\lunag\\AppData\\Local\\Temp\\ipykernel_3812\\826608691.py:8: FutureWarning: Indexing with multiple keys (implicitly converted to a tuple of keys) will be deprecated, use a list instead.\n",
      "  grouped = df.groupby('Comove rank')['Comove', 'Beta', 'Return'].mean()\n",
      "C:\\Users\\lunag\\AppData\\Local\\Temp\\ipykernel_3812\\826608691.py:8: FutureWarning: Indexing with multiple keys (implicitly converted to a tuple of keys) will be deprecated, use a list instead.\n",
      "  grouped = df.groupby('Comove rank')['Comove', 'Beta', 'Return'].mean()\n",
      "C:\\Users\\lunag\\AppData\\Local\\Temp\\ipykernel_3812\\826608691.py:8: FutureWarning: Indexing with multiple keys (implicitly converted to a tuple of keys) will be deprecated, use a list instead.\n",
      "  grouped = df.groupby('Comove rank')['Comove', 'Beta', 'Return'].mean()\n",
      "C:\\Users\\lunag\\AppData\\Local\\Temp\\ipykernel_3812\\826608691.py:8: FutureWarning: Indexing with multiple keys (implicitly converted to a tuple of keys) will be deprecated, use a list instead.\n",
      "  grouped = df.groupby('Comove rank')['Comove', 'Beta', 'Return'].mean()\n",
      "C:\\Users\\lunag\\AppData\\Local\\Temp\\ipykernel_3812\\826608691.py:8: FutureWarning: Indexing with multiple keys (implicitly converted to a tuple of keys) will be deprecated, use a list instead.\n",
      "  grouped = df.groupby('Comove rank')['Comove', 'Beta', 'Return'].mean()\n",
      "C:\\Users\\lunag\\AppData\\Local\\Temp\\ipykernel_3812\\826608691.py:8: FutureWarning: Indexing with multiple keys (implicitly converted to a tuple of keys) will be deprecated, use a list instead.\n",
      "  grouped = df.groupby('Comove rank')['Comove', 'Beta', 'Return'].mean()\n",
      "C:\\Users\\lunag\\AppData\\Local\\Temp\\ipykernel_3812\\826608691.py:8: FutureWarning: Indexing with multiple keys (implicitly converted to a tuple of keys) will be deprecated, use a list instead.\n",
      "  grouped = df.groupby('Comove rank')['Comove', 'Beta', 'Return'].mean()\n",
      "C:\\Users\\lunag\\AppData\\Local\\Temp\\ipykernel_3812\\826608691.py:8: FutureWarning: Indexing with multiple keys (implicitly converted to a tuple of keys) will be deprecated, use a list instead.\n",
      "  grouped = df.groupby('Comove rank')['Comove', 'Beta', 'Return'].mean()\n",
      "C:\\Users\\lunag\\AppData\\Local\\Temp\\ipykernel_3812\\826608691.py:8: FutureWarning: Indexing with multiple keys (implicitly converted to a tuple of keys) will be deprecated, use a list instead.\n",
      "  grouped = df.groupby('Comove rank')['Comove', 'Beta', 'Return'].mean()\n",
      "C:\\Users\\lunag\\AppData\\Local\\Temp\\ipykernel_3812\\826608691.py:8: FutureWarning: Indexing with multiple keys (implicitly converted to a tuple of keys) will be deprecated, use a list instead.\n",
      "  grouped = df.groupby('Comove rank')['Comove', 'Beta', 'Return'].mean()\n",
      "C:\\Users\\lunag\\AppData\\Local\\Temp\\ipykernel_3812\\826608691.py:8: FutureWarning: Indexing with multiple keys (implicitly converted to a tuple of keys) will be deprecated, use a list instead.\n",
      "  grouped = df.groupby('Comove rank')['Comove', 'Beta', 'Return'].mean()\n",
      "C:\\Users\\lunag\\AppData\\Local\\Temp\\ipykernel_3812\\826608691.py:8: FutureWarning: Indexing with multiple keys (implicitly converted to a tuple of keys) will be deprecated, use a list instead.\n",
      "  grouped = df.groupby('Comove rank')['Comove', 'Beta', 'Return'].mean()\n",
      "C:\\Users\\lunag\\AppData\\Local\\Temp\\ipykernel_3812\\826608691.py:8: FutureWarning: Indexing with multiple keys (implicitly converted to a tuple of keys) will be deprecated, use a list instead.\n",
      "  grouped = df.groupby('Comove rank')['Comove', 'Beta', 'Return'].mean()\n",
      "C:\\Users\\lunag\\AppData\\Local\\Temp\\ipykernel_3812\\826608691.py:8: FutureWarning: Indexing with multiple keys (implicitly converted to a tuple of keys) will be deprecated, use a list instead.\n",
      "  grouped = df.groupby('Comove rank')['Comove', 'Beta', 'Return'].mean()\n",
      "C:\\Users\\lunag\\AppData\\Local\\Temp\\ipykernel_3812\\826608691.py:8: FutureWarning: Indexing with multiple keys (implicitly converted to a tuple of keys) will be deprecated, use a list instead.\n",
      "  grouped = df.groupby('Comove rank')['Comove', 'Beta', 'Return'].mean()\n",
      "C:\\Users\\lunag\\AppData\\Local\\Temp\\ipykernel_3812\\826608691.py:8: FutureWarning: Indexing with multiple keys (implicitly converted to a tuple of keys) will be deprecated, use a list instead.\n",
      "  grouped = df.groupby('Comove rank')['Comove', 'Beta', 'Return'].mean()\n",
      "C:\\Users\\lunag\\AppData\\Local\\Temp\\ipykernel_3812\\826608691.py:8: FutureWarning: Indexing with multiple keys (implicitly converted to a tuple of keys) will be deprecated, use a list instead.\n",
      "  grouped = df.groupby('Comove rank')['Comove', 'Beta', 'Return'].mean()\n",
      "C:\\Users\\lunag\\AppData\\Local\\Temp\\ipykernel_3812\\826608691.py:8: FutureWarning: Indexing with multiple keys (implicitly converted to a tuple of keys) will be deprecated, use a list instead.\n",
      "  grouped = df.groupby('Comove rank')['Comove', 'Beta', 'Return'].mean()\n",
      "C:\\Users\\lunag\\AppData\\Local\\Temp\\ipykernel_3812\\826608691.py:8: FutureWarning: Indexing with multiple keys (implicitly converted to a tuple of keys) will be deprecated, use a list instead.\n",
      "  grouped = df.groupby('Comove rank')['Comove', 'Beta', 'Return'].mean()\n",
      "C:\\Users\\lunag\\AppData\\Local\\Temp\\ipykernel_3812\\826608691.py:8: FutureWarning: Indexing with multiple keys (implicitly converted to a tuple of keys) will be deprecated, use a list instead.\n",
      "  grouped = df.groupby('Comove rank')['Comove', 'Beta', 'Return'].mean()\n",
      "C:\\Users\\lunag\\AppData\\Local\\Temp\\ipykernel_3812\\826608691.py:8: FutureWarning: Indexing with multiple keys (implicitly converted to a tuple of keys) will be deprecated, use a list instead.\n",
      "  grouped = df.groupby('Comove rank')['Comove', 'Beta', 'Return'].mean()\n"
     ]
    },
    {
     "name": "stderr",
     "output_type": "stream",
     "text": [
      "C:\\Users\\lunag\\AppData\\Local\\Temp\\ipykernel_3812\\826608691.py:8: FutureWarning: Indexing with multiple keys (implicitly converted to a tuple of keys) will be deprecated, use a list instead.\n",
      "  grouped = df.groupby('Comove rank')['Comove', 'Beta', 'Return'].mean()\n",
      "C:\\Users\\lunag\\AppData\\Local\\Temp\\ipykernel_3812\\826608691.py:8: FutureWarning: Indexing with multiple keys (implicitly converted to a tuple of keys) will be deprecated, use a list instead.\n",
      "  grouped = df.groupby('Comove rank')['Comove', 'Beta', 'Return'].mean()\n",
      "C:\\Users\\lunag\\AppData\\Local\\Temp\\ipykernel_3812\\826608691.py:8: FutureWarning: Indexing with multiple keys (implicitly converted to a tuple of keys) will be deprecated, use a list instead.\n",
      "  grouped = df.groupby('Comove rank')['Comove', 'Beta', 'Return'].mean()\n",
      "C:\\Users\\lunag\\AppData\\Local\\Temp\\ipykernel_3812\\826608691.py:8: FutureWarning: Indexing with multiple keys (implicitly converted to a tuple of keys) will be deprecated, use a list instead.\n",
      "  grouped = df.groupby('Comove rank')['Comove', 'Beta', 'Return'].mean()\n",
      "C:\\Users\\lunag\\AppData\\Local\\Temp\\ipykernel_3812\\826608691.py:8: FutureWarning: Indexing with multiple keys (implicitly converted to a tuple of keys) will be deprecated, use a list instead.\n",
      "  grouped = df.groupby('Comove rank')['Comove', 'Beta', 'Return'].mean()\n",
      "C:\\Users\\lunag\\AppData\\Local\\Temp\\ipykernel_3812\\826608691.py:8: FutureWarning: Indexing with multiple keys (implicitly converted to a tuple of keys) will be deprecated, use a list instead.\n",
      "  grouped = df.groupby('Comove rank')['Comove', 'Beta', 'Return'].mean()\n",
      "C:\\Users\\lunag\\AppData\\Local\\Temp\\ipykernel_3812\\826608691.py:8: FutureWarning: Indexing with multiple keys (implicitly converted to a tuple of keys) will be deprecated, use a list instead.\n",
      "  grouped = df.groupby('Comove rank')['Comove', 'Beta', 'Return'].mean()\n",
      "C:\\Users\\lunag\\AppData\\Local\\Temp\\ipykernel_3812\\826608691.py:8: FutureWarning: Indexing with multiple keys (implicitly converted to a tuple of keys) will be deprecated, use a list instead.\n",
      "  grouped = df.groupby('Comove rank')['Comove', 'Beta', 'Return'].mean()\n",
      "C:\\Users\\lunag\\AppData\\Local\\Temp\\ipykernel_3812\\826608691.py:8: FutureWarning: Indexing with multiple keys (implicitly converted to a tuple of keys) will be deprecated, use a list instead.\n",
      "  grouped = df.groupby('Comove rank')['Comove', 'Beta', 'Return'].mean()\n",
      "C:\\Users\\lunag\\AppData\\Local\\Temp\\ipykernel_3812\\826608691.py:8: FutureWarning: Indexing with multiple keys (implicitly converted to a tuple of keys) will be deprecated, use a list instead.\n",
      "  grouped = df.groupby('Comove rank')['Comove', 'Beta', 'Return'].mean()\n",
      "C:\\Users\\lunag\\AppData\\Local\\Temp\\ipykernel_3812\\826608691.py:8: FutureWarning: Indexing with multiple keys (implicitly converted to a tuple of keys) will be deprecated, use a list instead.\n",
      "  grouped = df.groupby('Comove rank')['Comove', 'Beta', 'Return'].mean()\n",
      "C:\\Users\\lunag\\AppData\\Local\\Temp\\ipykernel_3812\\826608691.py:8: FutureWarning: Indexing with multiple keys (implicitly converted to a tuple of keys) will be deprecated, use a list instead.\n",
      "  grouped = df.groupby('Comove rank')['Comove', 'Beta', 'Return'].mean()\n",
      "C:\\Users\\lunag\\AppData\\Local\\Temp\\ipykernel_3812\\826608691.py:8: FutureWarning: Indexing with multiple keys (implicitly converted to a tuple of keys) will be deprecated, use a list instead.\n",
      "  grouped = df.groupby('Comove rank')['Comove', 'Beta', 'Return'].mean()\n",
      "C:\\Users\\lunag\\AppData\\Local\\Temp\\ipykernel_3812\\826608691.py:8: FutureWarning: Indexing with multiple keys (implicitly converted to a tuple of keys) will be deprecated, use a list instead.\n",
      "  grouped = df.groupby('Comove rank')['Comove', 'Beta', 'Return'].mean()\n",
      "C:\\Users\\lunag\\AppData\\Local\\Temp\\ipykernel_3812\\826608691.py:8: FutureWarning: Indexing with multiple keys (implicitly converted to a tuple of keys) will be deprecated, use a list instead.\n",
      "  grouped = df.groupby('Comove rank')['Comove', 'Beta', 'Return'].mean()\n",
      "C:\\Users\\lunag\\AppData\\Local\\Temp\\ipykernel_3812\\826608691.py:8: FutureWarning: Indexing with multiple keys (implicitly converted to a tuple of keys) will be deprecated, use a list instead.\n",
      "  grouped = df.groupby('Comove rank')['Comove', 'Beta', 'Return'].mean()\n",
      "C:\\Users\\lunag\\AppData\\Local\\Temp\\ipykernel_3812\\826608691.py:8: FutureWarning: Indexing with multiple keys (implicitly converted to a tuple of keys) will be deprecated, use a list instead.\n",
      "  grouped = df.groupby('Comove rank')['Comove', 'Beta', 'Return'].mean()\n",
      "C:\\Users\\lunag\\AppData\\Local\\Temp\\ipykernel_3812\\826608691.py:8: FutureWarning: Indexing with multiple keys (implicitly converted to a tuple of keys) will be deprecated, use a list instead.\n",
      "  grouped = df.groupby('Comove rank')['Comove', 'Beta', 'Return'].mean()\n",
      "C:\\Users\\lunag\\AppData\\Local\\Temp\\ipykernel_3812\\826608691.py:8: FutureWarning: Indexing with multiple keys (implicitly converted to a tuple of keys) will be deprecated, use a list instead.\n",
      "  grouped = df.groupby('Comove rank')['Comove', 'Beta', 'Return'].mean()\n",
      "C:\\Users\\lunag\\AppData\\Local\\Temp\\ipykernel_3812\\826608691.py:8: FutureWarning: Indexing with multiple keys (implicitly converted to a tuple of keys) will be deprecated, use a list instead.\n",
      "  grouped = df.groupby('Comove rank')['Comove', 'Beta', 'Return'].mean()\n",
      "C:\\Users\\lunag\\AppData\\Local\\Temp\\ipykernel_3812\\826608691.py:8: FutureWarning: Indexing with multiple keys (implicitly converted to a tuple of keys) will be deprecated, use a list instead.\n",
      "  grouped = df.groupby('Comove rank')['Comove', 'Beta', 'Return'].mean()\n",
      "C:\\Users\\lunag\\AppData\\Local\\Temp\\ipykernel_3812\\826608691.py:8: FutureWarning: Indexing with multiple keys (implicitly converted to a tuple of keys) will be deprecated, use a list instead.\n",
      "  grouped = df.groupby('Comove rank')['Comove', 'Beta', 'Return'].mean()\n",
      "C:\\Users\\lunag\\AppData\\Local\\Temp\\ipykernel_3812\\826608691.py:8: FutureWarning: Indexing with multiple keys (implicitly converted to a tuple of keys) will be deprecated, use a list instead.\n",
      "  grouped = df.groupby('Comove rank')['Comove', 'Beta', 'Return'].mean()\n",
      "C:\\Users\\lunag\\AppData\\Local\\Temp\\ipykernel_3812\\826608691.py:8: FutureWarning: Indexing with multiple keys (implicitly converted to a tuple of keys) will be deprecated, use a list instead.\n",
      "  grouped = df.groupby('Comove rank')['Comove', 'Beta', 'Return'].mean()\n",
      "C:\\Users\\lunag\\AppData\\Local\\Temp\\ipykernel_3812\\826608691.py:8: FutureWarning: Indexing with multiple keys (implicitly converted to a tuple of keys) will be deprecated, use a list instead.\n",
      "  grouped = df.groupby('Comove rank')['Comove', 'Beta', 'Return'].mean()\n",
      "C:\\Users\\lunag\\AppData\\Local\\Temp\\ipykernel_3812\\826608691.py:8: FutureWarning: Indexing with multiple keys (implicitly converted to a tuple of keys) will be deprecated, use a list instead.\n",
      "  grouped = df.groupby('Comove rank')['Comove', 'Beta', 'Return'].mean()\n",
      "C:\\Users\\lunag\\AppData\\Local\\Temp\\ipykernel_3812\\826608691.py:8: FutureWarning: Indexing with multiple keys (implicitly converted to a tuple of keys) will be deprecated, use a list instead.\n",
      "  grouped = df.groupby('Comove rank')['Comove', 'Beta', 'Return'].mean()\n",
      "C:\\Users\\lunag\\AppData\\Local\\Temp\\ipykernel_3812\\826608691.py:8: FutureWarning: Indexing with multiple keys (implicitly converted to a tuple of keys) will be deprecated, use a list instead.\n",
      "  grouped = df.groupby('Comove rank')['Comove', 'Beta', 'Return'].mean()\n",
      "C:\\Users\\lunag\\AppData\\Local\\Temp\\ipykernel_3812\\826608691.py:8: FutureWarning: Indexing with multiple keys (implicitly converted to a tuple of keys) will be deprecated, use a list instead.\n",
      "  grouped = df.groupby('Comove rank')['Comove', 'Beta', 'Return'].mean()\n",
      "C:\\Users\\lunag\\AppData\\Local\\Temp\\ipykernel_3812\\826608691.py:8: FutureWarning: Indexing with multiple keys (implicitly converted to a tuple of keys) will be deprecated, use a list instead.\n",
      "  grouped = df.groupby('Comove rank')['Comove', 'Beta', 'Return'].mean()\n",
      "C:\\Users\\lunag\\AppData\\Local\\Temp\\ipykernel_3812\\826608691.py:8: FutureWarning: Indexing with multiple keys (implicitly converted to a tuple of keys) will be deprecated, use a list instead.\n",
      "  grouped = df.groupby('Comove rank')['Comove', 'Beta', 'Return'].mean()\n",
      "C:\\Users\\lunag\\AppData\\Local\\Temp\\ipykernel_3812\\826608691.py:8: FutureWarning: Indexing with multiple keys (implicitly converted to a tuple of keys) will be deprecated, use a list instead.\n",
      "  grouped = df.groupby('Comove rank')['Comove', 'Beta', 'Return'].mean()\n",
      "C:\\Users\\lunag\\AppData\\Local\\Temp\\ipykernel_3812\\826608691.py:8: FutureWarning: Indexing with multiple keys (implicitly converted to a tuple of keys) will be deprecated, use a list instead.\n",
      "  grouped = df.groupby('Comove rank')['Comove', 'Beta', 'Return'].mean()\n",
      "C:\\Users\\lunag\\AppData\\Local\\Temp\\ipykernel_3812\\826608691.py:8: FutureWarning: Indexing with multiple keys (implicitly converted to a tuple of keys) will be deprecated, use a list instead.\n",
      "  grouped = df.groupby('Comove rank')['Comove', 'Beta', 'Return'].mean()\n",
      "C:\\Users\\lunag\\AppData\\Local\\Temp\\ipykernel_3812\\826608691.py:8: FutureWarning: Indexing with multiple keys (implicitly converted to a tuple of keys) will be deprecated, use a list instead.\n",
      "  grouped = df.groupby('Comove rank')['Comove', 'Beta', 'Return'].mean()\n",
      "C:\\Users\\lunag\\AppData\\Local\\Temp\\ipykernel_3812\\826608691.py:8: FutureWarning: Indexing with multiple keys (implicitly converted to a tuple of keys) will be deprecated, use a list instead.\n",
      "  grouped = df.groupby('Comove rank')['Comove', 'Beta', 'Return'].mean()\n",
      "C:\\Users\\lunag\\AppData\\Local\\Temp\\ipykernel_3812\\826608691.py:8: FutureWarning: Indexing with multiple keys (implicitly converted to a tuple of keys) will be deprecated, use a list instead.\n",
      "  grouped = df.groupby('Comove rank')['Comove', 'Beta', 'Return'].mean()\n",
      "C:\\Users\\lunag\\AppData\\Local\\Temp\\ipykernel_3812\\826608691.py:8: FutureWarning: Indexing with multiple keys (implicitly converted to a tuple of keys) will be deprecated, use a list instead.\n",
      "  grouped = df.groupby('Comove rank')['Comove', 'Beta', 'Return'].mean()\n",
      "C:\\Users\\lunag\\AppData\\Local\\Temp\\ipykernel_3812\\826608691.py:8: FutureWarning: Indexing with multiple keys (implicitly converted to a tuple of keys) will be deprecated, use a list instead.\n",
      "  grouped = df.groupby('Comove rank')['Comove', 'Beta', 'Return'].mean()\n",
      "C:\\Users\\lunag\\AppData\\Local\\Temp\\ipykernel_3812\\826608691.py:8: FutureWarning: Indexing with multiple keys (implicitly converted to a tuple of keys) will be deprecated, use a list instead.\n",
      "  grouped = df.groupby('Comove rank')['Comove', 'Beta', 'Return'].mean()\n",
      "C:\\Users\\lunag\\AppData\\Local\\Temp\\ipykernel_3812\\826608691.py:8: FutureWarning: Indexing with multiple keys (implicitly converted to a tuple of keys) will be deprecated, use a list instead.\n",
      "  grouped = df.groupby('Comove rank')['Comove', 'Beta', 'Return'].mean()\n",
      "C:\\Users\\lunag\\AppData\\Local\\Temp\\ipykernel_3812\\826608691.py:8: FutureWarning: Indexing with multiple keys (implicitly converted to a tuple of keys) will be deprecated, use a list instead.\n",
      "  grouped = df.groupby('Comove rank')['Comove', 'Beta', 'Return'].mean()\n",
      "C:\\Users\\lunag\\AppData\\Local\\Temp\\ipykernel_3812\\826608691.py:8: FutureWarning: Indexing with multiple keys (implicitly converted to a tuple of keys) will be deprecated, use a list instead.\n",
      "  grouped = df.groupby('Comove rank')['Comove', 'Beta', 'Return'].mean()\n",
      "C:\\Users\\lunag\\AppData\\Local\\Temp\\ipykernel_3812\\826608691.py:8: FutureWarning: Indexing with multiple keys (implicitly converted to a tuple of keys) will be deprecated, use a list instead.\n",
      "  grouped = df.groupby('Comove rank')['Comove', 'Beta', 'Return'].mean()\n",
      "C:\\Users\\lunag\\AppData\\Local\\Temp\\ipykernel_3812\\826608691.py:8: FutureWarning: Indexing with multiple keys (implicitly converted to a tuple of keys) will be deprecated, use a list instead.\n",
      "  grouped = df.groupby('Comove rank')['Comove', 'Beta', 'Return'].mean()\n",
      "C:\\Users\\lunag\\AppData\\Local\\Temp\\ipykernel_3812\\826608691.py:8: FutureWarning: Indexing with multiple keys (implicitly converted to a tuple of keys) will be deprecated, use a list instead.\n",
      "  grouped = df.groupby('Comove rank')['Comove', 'Beta', 'Return'].mean()\n"
     ]
    }
   ],
   "source": [
    "Portfolios_Monthly_Dataframes = {}\n",
    "\n",
    "for key, df in Stocks_Monthly_Dataframes.items():\n",
    "   \n",
    "    \n",
    "    if 'Comove rank' in df.columns:\n",
    "        # Group by 'Comove Rank' and calculate the mean of 'Comove', 'Beta', and 'Yearly Return' for each group.\n",
    "        grouped = df.groupby('Comove rank')['Comove', 'Beta', 'Return'].mean()\n",
    "    \n",
    "        # Rename the columns by prefixing with \"Avg.\".\n",
    "        # Method 1: Using rename() with a dictionary comprehension for dynamic column renaming.\n",
    "        grouped = grouped.rename(columns={col: f'Avg. {col}' for col in grouped.columns})\n",
    "    \n",
    "        # Add the grouped and averaged dataframe to the new dictionary.\n",
    "        Portfolios_Monthly_Dataframes[key] = grouped"
   ]
  },
  {
   "cell_type": "code",
   "execution_count": 52,
   "id": "a8f8ad17",
   "metadata": {
    "ExecuteTime": {
     "end_time": "2024-05-02T19:55:34.001312Z",
     "start_time": "2024-05-02T19:55:33.974392Z"
    }
   },
   "outputs": [
    {
     "data": {
      "text/html": [
       "<div>\n",
       "<style scoped>\n",
       "    .dataframe tbody tr th:only-of-type {\n",
       "        vertical-align: middle;\n",
       "    }\n",
       "\n",
       "    .dataframe tbody tr th {\n",
       "        vertical-align: top;\n",
       "    }\n",
       "\n",
       "    .dataframe thead th {\n",
       "        text-align: right;\n",
       "    }\n",
       "</style>\n",
       "<table border=\"1\" class=\"dataframe\">\n",
       "  <thead>\n",
       "    <tr style=\"text-align: right;\">\n",
       "      <th></th>\n",
       "      <th>Avg. Comove</th>\n",
       "      <th>Avg. Beta</th>\n",
       "      <th>Avg. Return</th>\n",
       "    </tr>\n",
       "    <tr>\n",
       "      <th>Comove rank</th>\n",
       "      <th></th>\n",
       "      <th></th>\n",
       "      <th></th>\n",
       "    </tr>\n",
       "  </thead>\n",
       "  <tbody>\n",
       "    <tr>\n",
       "      <th>1</th>\n",
       "      <td>40.776435</td>\n",
       "      <td>0.754675</td>\n",
       "      <td>1.038957</td>\n",
       "    </tr>\n",
       "    <tr>\n",
       "      <th>2</th>\n",
       "      <td>47.036102</td>\n",
       "      <td>0.852650</td>\n",
       "      <td>-1.133048</td>\n",
       "    </tr>\n",
       "    <tr>\n",
       "      <th>3</th>\n",
       "      <td>50.648072</td>\n",
       "      <td>0.813622</td>\n",
       "      <td>0.657551</td>\n",
       "    </tr>\n",
       "    <tr>\n",
       "      <th>4</th>\n",
       "      <td>53.959039</td>\n",
       "      <td>0.819501</td>\n",
       "      <td>-0.573638</td>\n",
       "    </tr>\n",
       "    <tr>\n",
       "      <th>5</th>\n",
       "      <td>61.450240</td>\n",
       "      <td>0.857848</td>\n",
       "      <td>-1.517494</td>\n",
       "    </tr>\n",
       "  </tbody>\n",
       "</table>\n",
       "</div>"
      ],
      "text/plain": [
       "             Avg. Comove  Avg. Beta  Avg. Return\n",
       "Comove rank                                     \n",
       "1              40.776435   0.754675     1.038957\n",
       "2              47.036102   0.852650    -1.133048\n",
       "3              50.648072   0.813622     0.657551\n",
       "4              53.959039   0.819501    -0.573638\n",
       "5              61.450240   0.857848    -1.517494"
      ]
     },
     "execution_count": 52,
     "metadata": {},
     "output_type": "execute_result"
    }
   ],
   "source": [
    "# Now, Portfolios_Yearly_Dataframes contains the required dataframes for each year,\n",
    "# with the comove rank as the index and the average values of 'Comove', 'Beta', and 'Yearly Return' as columns.\n",
    "Portfolios_Monthly_Dataframes['012002']"
   ]
  },
  {
   "cell_type": "markdown",
   "id": "b9f1d7ed",
   "metadata": {},
   "source": [
    "### Calculating Differences in those Averages between High-Low Portfolio's per Month"
   ]
  },
  {
   "cell_type": "markdown",
   "id": "d5bf5b92",
   "metadata": {},
   "source": [
    "Let's now, for each year, calculate the difference in statistics between the lowest and highest comove portfolio. We store the results in one big dataframe called *Monthly*. "
   ]
  },
  {
   "cell_type": "code",
   "execution_count": 53,
   "id": "b234cb7e",
   "metadata": {
    "ExecuteTime": {
     "end_time": "2024-05-02T19:55:34.366548Z",
     "start_time": "2024-05-02T19:55:34.004305Z"
    }
   },
   "outputs": [],
   "source": [
    "# Initialize an empty list to hold the data for the new dataframe.\n",
    "data_for_monthly_df = []\n",
    "\n",
    "# Extract the year suffix from each key and the corresponding differences.\n",
    "for key, df in Portfolios_Monthly_Dataframes.items():\n",
    "    \n",
    "    # Calculate the difference between the highest and lowest Comove Ranks for each variable.\n",
    "    # Ensure that both Comove Rank 5 and 1 exist in the dataframe to avoid KeyErrors.\n",
    "    if 5 in df.index and 1 in df.index:\n",
    "        diff = df.loc[5] - df.loc[1]\n",
    "    else:\n",
    "        # In case one of the ranks is missing, fill with NaN or some default value.\n",
    "        diff = pd.Series([pd.NA, pd.NA, pd.NA], index=df.columns)\n",
    "    \n",
    "    # Append a dictionary with the year and the calculated differences to the list.\n",
    "    data_for_monthly_df.append(diff.rename(key))\n",
    "\n",
    "# Create the 'Yearly' dataframe from the list of dictionaries.\n",
    "Monthly = pd.DataFrame(data_for_monthly_df)\n",
    "\n",
    "# If the columns are not already named correctly (with 'Avg.' prefix from the previous step), rename them.\n",
    "# This step might not be necessary if columns are already correctly named.\n",
    "Monthly.columns = [f'Diff. {col}' for col in Monthly.columns]"
   ]
  },
  {
   "cell_type": "code",
   "execution_count": 54,
   "id": "b08a21df",
   "metadata": {
    "ExecuteTime": {
     "end_time": "2024-05-02T19:55:34.382502Z",
     "start_time": "2024-05-02T19:55:34.368540Z"
    }
   },
   "outputs": [
    {
     "data": {
      "text/html": [
       "<div>\n",
       "<style scoped>\n",
       "    .dataframe tbody tr th:only-of-type {\n",
       "        vertical-align: middle;\n",
       "    }\n",
       "\n",
       "    .dataframe tbody tr th {\n",
       "        vertical-align: top;\n",
       "    }\n",
       "\n",
       "    .dataframe thead th {\n",
       "        text-align: right;\n",
       "    }\n",
       "</style>\n",
       "<table border=\"1\" class=\"dataframe\">\n",
       "  <thead>\n",
       "    <tr style=\"text-align: right;\">\n",
       "      <th></th>\n",
       "      <th>Diff. Avg. Comove</th>\n",
       "      <th>Diff. Avg. Beta</th>\n",
       "      <th>Diff. Avg. Return</th>\n",
       "    </tr>\n",
       "  </thead>\n",
       "  <tbody>\n",
       "    <tr>\n",
       "      <th>012002</th>\n",
       "      <td>20.673805</td>\n",
       "      <td>0.103173</td>\n",
       "      <td>-2.556451</td>\n",
       "    </tr>\n",
       "    <tr>\n",
       "      <th>022002</th>\n",
       "      <td>20.975327</td>\n",
       "      <td>0.112973</td>\n",
       "      <td>-5.336219</td>\n",
       "    </tr>\n",
       "  </tbody>\n",
       "</table>\n",
       "</div>"
      ],
      "text/plain": [
       "        Diff. Avg. Comove  Diff. Avg. Beta  Diff. Avg. Return\n",
       "012002          20.673805         0.103173          -2.556451\n",
       "022002          20.975327         0.112973          -5.336219"
      ]
     },
     "execution_count": 54,
     "metadata": {},
     "output_type": "execute_result"
    }
   ],
   "source": [
    "# Display or return the 'Yearly' dataframe.\n",
    "Monthly.head(2)"
   ]
  },
  {
   "cell_type": "markdown",
   "id": "c762c131",
   "metadata": {},
   "source": [
    "### Writing the Data for the Statistical Tests Away"
   ]
  },
  {
   "cell_type": "markdown",
   "id": "172277d4",
   "metadata": {},
   "source": [
    "#### Variables that differ across portfolios and months\n",
    "MMYYYY, Avg. Comove, Avg. Beta, Avg. Return, Comove rank and HighestComove_Dummy"
   ]
  },
  {
   "cell_type": "markdown",
   "id": "2f7bd413",
   "metadata": {},
   "source": [
    "We will now make one big dataframe *final_df* where we have the column of the MMYYYY, the column of the comove rank, Dummy variable 'HighestComove_Dummy', and the average of the monthly return, comove and beta of this particular portfolio. "
   ]
  },
  {
   "cell_type": "code",
   "execution_count": 55,
   "id": "2e7e2037",
   "metadata": {
    "ExecuteTime": {
     "end_time": "2024-05-02T19:55:35.048042Z",
     "start_time": "2024-05-02T19:55:34.385495Z"
    },
    "scrolled": true
   },
   "outputs": [],
   "source": [
    "# Initialize an empty list to store the filtered and transformed dataframes\n",
    "transformed_dfs = []\n",
    "\n",
    "# Iterate through the dictionary\n",
    "for name_df, df in Portfolios_Monthly_Dataframes.items():\n",
    "  \n",
    "    # Reset the index to filter on Comove rank, keeping the index as a column\n",
    "    df_reset = df.reset_index()\n",
    "    filtered_df = df_reset\n",
    "  \n",
    "    # Add a HighestComove_Dummy column: 0 if Comove rank is 1, 1 if Comove rank is 5\n",
    "    filtered_df['HighestComove_Dummy'] = filtered_df['Comove rank'].apply(lambda x: 0 if x == 1 else 1)\n",
    "    \n",
    "    # Add a MMYYYY column: name of the dataframe\n",
    "    filtered_df['MMYYYY'] = name_df\n",
    "    \n",
    "    # Select the necessary columns\n",
    "    filtered_df = filtered_df[['MMYYYY', 'Avg. Comove', 'Comove rank', 'HighestComove_Dummy', 'Avg. Beta', 'Avg. Return']]\n",
    "    \n",
    "    # Append the transformed dataframe to the list\n",
    "    transformed_dfs.append(filtered_df)\n",
    "\n",
    "# Concatenate all transformed dataframes into one\n",
    "final_df = pd.concat(transformed_dfs, ignore_index=True)"
   ]
  },
  {
   "cell_type": "code",
   "execution_count": 56,
   "id": "2665a704",
   "metadata": {
    "ExecuteTime": {
     "end_time": "2024-05-02T19:55:35.079957Z",
     "start_time": "2024-05-02T19:55:35.050041Z"
    }
   },
   "outputs": [
    {
     "data": {
      "text/html": [
       "<div>\n",
       "<style scoped>\n",
       "    .dataframe tbody tr th:only-of-type {\n",
       "        vertical-align: middle;\n",
       "    }\n",
       "\n",
       "    .dataframe tbody tr th {\n",
       "        vertical-align: top;\n",
       "    }\n",
       "\n",
       "    .dataframe thead th {\n",
       "        text-align: right;\n",
       "    }\n",
       "</style>\n",
       "<table border=\"1\" class=\"dataframe\">\n",
       "  <thead>\n",
       "    <tr style=\"text-align: right;\">\n",
       "      <th></th>\n",
       "      <th>MMYYYY</th>\n",
       "      <th>Avg. Comove</th>\n",
       "      <th>Comove rank</th>\n",
       "      <th>HighestComove_Dummy</th>\n",
       "      <th>Avg. Beta</th>\n",
       "      <th>Avg. Return</th>\n",
       "    </tr>\n",
       "  </thead>\n",
       "  <tbody>\n",
       "    <tr>\n",
       "      <th>0</th>\n",
       "      <td>012002</td>\n",
       "      <td>40.776435</td>\n",
       "      <td>1</td>\n",
       "      <td>0</td>\n",
       "      <td>0.754675</td>\n",
       "      <td>1.038957</td>\n",
       "    </tr>\n",
       "    <tr>\n",
       "      <th>1</th>\n",
       "      <td>012002</td>\n",
       "      <td>47.036102</td>\n",
       "      <td>2</td>\n",
       "      <td>1</td>\n",
       "      <td>0.852650</td>\n",
       "      <td>-1.133048</td>\n",
       "    </tr>\n",
       "    <tr>\n",
       "      <th>2</th>\n",
       "      <td>012002</td>\n",
       "      <td>50.648072</td>\n",
       "      <td>3</td>\n",
       "      <td>1</td>\n",
       "      <td>0.813622</td>\n",
       "      <td>0.657551</td>\n",
       "    </tr>\n",
       "    <tr>\n",
       "      <th>3</th>\n",
       "      <td>012002</td>\n",
       "      <td>53.959039</td>\n",
       "      <td>4</td>\n",
       "      <td>1</td>\n",
       "      <td>0.819501</td>\n",
       "      <td>-0.573638</td>\n",
       "    </tr>\n",
       "    <tr>\n",
       "      <th>4</th>\n",
       "      <td>012002</td>\n",
       "      <td>61.450240</td>\n",
       "      <td>5</td>\n",
       "      <td>1</td>\n",
       "      <td>0.857848</td>\n",
       "      <td>-1.517494</td>\n",
       "    </tr>\n",
       "    <tr>\n",
       "      <th>...</th>\n",
       "      <td>...</td>\n",
       "      <td>...</td>\n",
       "      <td>...</td>\n",
       "      <td>...</td>\n",
       "      <td>...</td>\n",
       "      <td>...</td>\n",
       "    </tr>\n",
       "    <tr>\n",
       "      <th>1325</th>\n",
       "      <td>022024</td>\n",
       "      <td>43.063263</td>\n",
       "      <td>1</td>\n",
       "      <td>0</td>\n",
       "      <td>1.121668</td>\n",
       "      <td>-0.610936</td>\n",
       "    </tr>\n",
       "    <tr>\n",
       "      <th>1326</th>\n",
       "      <td>022024</td>\n",
       "      <td>50.356394</td>\n",
       "      <td>2</td>\n",
       "      <td>1</td>\n",
       "      <td>1.170942</td>\n",
       "      <td>-0.523685</td>\n",
       "    </tr>\n",
       "    <tr>\n",
       "      <th>1327</th>\n",
       "      <td>022024</td>\n",
       "      <td>54.491951</td>\n",
       "      <td>3</td>\n",
       "      <td>1</td>\n",
       "      <td>1.196805</td>\n",
       "      <td>0.776255</td>\n",
       "    </tr>\n",
       "    <tr>\n",
       "      <th>1328</th>\n",
       "      <td>022024</td>\n",
       "      <td>58.898113</td>\n",
       "      <td>4</td>\n",
       "      <td>1</td>\n",
       "      <td>1.056555</td>\n",
       "      <td>1.371779</td>\n",
       "    </tr>\n",
       "    <tr>\n",
       "      <th>1329</th>\n",
       "      <td>022024</td>\n",
       "      <td>64.552389</td>\n",
       "      <td>5</td>\n",
       "      <td>1</td>\n",
       "      <td>1.103318</td>\n",
       "      <td>5.160275</td>\n",
       "    </tr>\n",
       "  </tbody>\n",
       "</table>\n",
       "<p>1330 rows × 6 columns</p>\n",
       "</div>"
      ],
      "text/plain": [
       "      MMYYYY  Avg. Comove  Comove rank  HighestComove_Dummy  Avg. Beta  \\\n",
       "0     012002    40.776435            1                    0   0.754675   \n",
       "1     012002    47.036102            2                    1   0.852650   \n",
       "2     012002    50.648072            3                    1   0.813622   \n",
       "3     012002    53.959039            4                    1   0.819501   \n",
       "4     012002    61.450240            5                    1   0.857848   \n",
       "...      ...          ...          ...                  ...        ...   \n",
       "1325  022024    43.063263            1                    0   1.121668   \n",
       "1326  022024    50.356394            2                    1   1.170942   \n",
       "1327  022024    54.491951            3                    1   1.196805   \n",
       "1328  022024    58.898113            4                    1   1.056555   \n",
       "1329  022024    64.552389            5                    1   1.103318   \n",
       "\n",
       "      Avg. Return  \n",
       "0        1.038957  \n",
       "1       -1.133048  \n",
       "2        0.657551  \n",
       "3       -0.573638  \n",
       "4       -1.517494  \n",
       "...           ...  \n",
       "1325    -0.610936  \n",
       "1326    -0.523685  \n",
       "1327     0.776255  \n",
       "1328     1.371779  \n",
       "1329     5.160275  \n",
       "\n",
       "[1330 rows x 6 columns]"
      ]
     },
     "execution_count": 56,
     "metadata": {},
     "output_type": "execute_result"
    }
   ],
   "source": [
    "# Display the final dataframe\n",
    "final_df"
   ]
  },
  {
   "cell_type": "markdown",
   "id": "2a666893",
   "metadata": {},
   "source": [
    "We have used Comovement and Beta to sort and form our portfolio's, but we will not use it in our regressions. As explained in the other notebook, the avg. return of stocks in a particular portfolio of a particular month is used a y variable. Our return column is still in %, so lets divide it by 100. "
   ]
  },
  {
   "cell_type": "code",
   "execution_count": 57,
   "id": "f0f1448c",
   "metadata": {
    "ExecuteTime": {
     "end_time": "2024-05-02T19:55:35.095916Z",
     "start_time": "2024-05-02T19:55:35.082949Z"
    }
   },
   "outputs": [],
   "source": [
    "final_df['Avg. Return'] = final_df['Avg. Return'] / 100"
   ]
  },
  {
   "cell_type": "markdown",
   "id": "2f2ca105",
   "metadata": {
    "heading_collapsed": true
   },
   "source": [
    "#### Variables that differ over months, but not portfolios\n",
    "Monthly Market Return, Month, Year & Factors"
   ]
  },
  {
   "cell_type": "markdown",
   "id": "3d93ac4a",
   "metadata": {
    "hidden": true
   },
   "source": [
    "Let's now add the statistics to the dataframe that are the same for all portfolios of a certain year."
   ]
  },
  {
   "cell_type": "code",
   "execution_count": 58,
   "id": "3434db20",
   "metadata": {
    "ExecuteTime": {
     "end_time": "2024-05-02T19:55:35.127829Z",
     "start_time": "2024-05-02T19:55:35.098909Z"
    },
    "hidden": true
   },
   "outputs": [],
   "source": [
    "#Adding Monthly Market Return\n",
    "\n",
    "# Convert the 'MMYYYY' column in final_df to string so its the same datatype\n",
    "final_df['MMYYYY'] = final_df['MMYYYY'].astype(str)\n",
    "\n",
    "# Reset the index of Index_YearlyReturn_Dataframe to use it for merging\n",
    "Index_MonthlyReturn_Dataframe_reset = Index_MonthlyReturn_Dataframe.reset_index()\n",
    "\n",
    "# Merge final_df with Index_YearlyReturn_Dataframe on the Year column\n",
    "final_df = final_df.merge(Index_MonthlyReturn_Dataframe_reset, on='MMYYYY', how='left')\n",
    "\n",
    "#Divide the monthly market return column by 100 so it is not in percentage anymore\n",
    "final_df['Monthly Market Return'] = final_df['Monthly Market Return'] / 100"
   ]
  },
  {
   "cell_type": "code",
   "execution_count": 59,
   "id": "e4ba5585",
   "metadata": {
    "ExecuteTime": {
     "end_time": "2024-05-02T19:55:35.159252Z",
     "start_time": "2024-05-02T19:55:35.129824Z"
    },
    "hidden": true
   },
   "outputs": [],
   "source": [
    "# Adding Factors\n",
    "\n",
    "final_df['MMYYYY'] = final_df['MMYYYY'].astype(int)\n",
    "\n",
    "# Merge final_df with Index_YearlyReturn_Dataframe on the Year column\n",
    "final_df = final_df.merge(Factors_Monthly_Dataframe, on='MMYYYY', how='left')\n",
    "\n",
    "#All factors and rates of this dataframe are already in the correct format"
   ]
  },
  {
   "cell_type": "code",
   "execution_count": 60,
   "id": "c753ee5f",
   "metadata": {
    "ExecuteTime": {
     "end_time": "2024-05-02T19:55:35.239115Z",
     "start_time": "2024-05-02T19:55:35.165329Z"
    },
    "hidden": true
   },
   "outputs": [
    {
     "data": {
      "text/html": [
       "<div>\n",
       "<style scoped>\n",
       "    .dataframe tbody tr th:only-of-type {\n",
       "        vertical-align: middle;\n",
       "    }\n",
       "\n",
       "    .dataframe tbody tr th {\n",
       "        vertical-align: top;\n",
       "    }\n",
       "\n",
       "    .dataframe thead th {\n",
       "        text-align: right;\n",
       "    }\n",
       "</style>\n",
       "<table border=\"1\" class=\"dataframe\">\n",
       "  <thead>\n",
       "    <tr style=\"text-align: right;\">\n",
       "      <th></th>\n",
       "      <th>MMYYYY</th>\n",
       "      <th>Avg. Comove</th>\n",
       "      <th>Comove rank</th>\n",
       "      <th>HighestComove_Dummy</th>\n",
       "      <th>Avg. Beta</th>\n",
       "      <th>Avg. Return</th>\n",
       "      <th>Monthly Market Return</th>\n",
       "      <th>Year</th>\n",
       "      <th>Month</th>\n",
       "      <th>Mkt-RF</th>\n",
       "      <th>...</th>\n",
       "      <th>HML</th>\n",
       "      <th>HML_Devil</th>\n",
       "      <th>RMW</th>\n",
       "      <th>CMA</th>\n",
       "      <th>UMD</th>\n",
       "      <th>UMD_Trend</th>\n",
       "      <th>BAB</th>\n",
       "      <th>QMJ</th>\n",
       "      <th>Carry</th>\n",
       "      <th>Seasonal</th>\n",
       "    </tr>\n",
       "  </thead>\n",
       "  <tbody>\n",
       "    <tr>\n",
       "      <th>0</th>\n",
       "      <td>12002</td>\n",
       "      <td>40.776435</td>\n",
       "      <td>1</td>\n",
       "      <td>0</td>\n",
       "      <td>0.754675</td>\n",
       "      <td>0.010390</td>\n",
       "      <td>-0.020303</td>\n",
       "      <td>2002</td>\n",
       "      <td>1</td>\n",
       "      <td>-0.0470</td>\n",
       "      <td>...</td>\n",
       "      <td>0.0183</td>\n",
       "      <td>0.002349</td>\n",
       "      <td>0.0313</td>\n",
       "      <td>0.0258</td>\n",
       "      <td>0.057496</td>\n",
       "      <td>0.023426</td>\n",
       "      <td>0.000910</td>\n",
       "      <td>0.024064</td>\n",
       "      <td>0.01884</td>\n",
       "      <td>0.002665</td>\n",
       "    </tr>\n",
       "    <tr>\n",
       "      <th>1</th>\n",
       "      <td>12002</td>\n",
       "      <td>47.036102</td>\n",
       "      <td>2</td>\n",
       "      <td>1</td>\n",
       "      <td>0.852650</td>\n",
       "      <td>-0.011330</td>\n",
       "      <td>-0.020303</td>\n",
       "      <td>2002</td>\n",
       "      <td>1</td>\n",
       "      <td>-0.0470</td>\n",
       "      <td>...</td>\n",
       "      <td>0.0183</td>\n",
       "      <td>0.002349</td>\n",
       "      <td>0.0313</td>\n",
       "      <td>0.0258</td>\n",
       "      <td>0.057496</td>\n",
       "      <td>0.023426</td>\n",
       "      <td>0.000910</td>\n",
       "      <td>0.024064</td>\n",
       "      <td>0.01884</td>\n",
       "      <td>0.002665</td>\n",
       "    </tr>\n",
       "    <tr>\n",
       "      <th>2</th>\n",
       "      <td>12002</td>\n",
       "      <td>50.648072</td>\n",
       "      <td>3</td>\n",
       "      <td>1</td>\n",
       "      <td>0.813622</td>\n",
       "      <td>0.006576</td>\n",
       "      <td>-0.020303</td>\n",
       "      <td>2002</td>\n",
       "      <td>1</td>\n",
       "      <td>-0.0470</td>\n",
       "      <td>...</td>\n",
       "      <td>0.0183</td>\n",
       "      <td>0.002349</td>\n",
       "      <td>0.0313</td>\n",
       "      <td>0.0258</td>\n",
       "      <td>0.057496</td>\n",
       "      <td>0.023426</td>\n",
       "      <td>0.000910</td>\n",
       "      <td>0.024064</td>\n",
       "      <td>0.01884</td>\n",
       "      <td>0.002665</td>\n",
       "    </tr>\n",
       "    <tr>\n",
       "      <th>3</th>\n",
       "      <td>12002</td>\n",
       "      <td>53.959039</td>\n",
       "      <td>4</td>\n",
       "      <td>1</td>\n",
       "      <td>0.819501</td>\n",
       "      <td>-0.005736</td>\n",
       "      <td>-0.020303</td>\n",
       "      <td>2002</td>\n",
       "      <td>1</td>\n",
       "      <td>-0.0470</td>\n",
       "      <td>...</td>\n",
       "      <td>0.0183</td>\n",
       "      <td>0.002349</td>\n",
       "      <td>0.0313</td>\n",
       "      <td>0.0258</td>\n",
       "      <td>0.057496</td>\n",
       "      <td>0.023426</td>\n",
       "      <td>0.000910</td>\n",
       "      <td>0.024064</td>\n",
       "      <td>0.01884</td>\n",
       "      <td>0.002665</td>\n",
       "    </tr>\n",
       "    <tr>\n",
       "      <th>4</th>\n",
       "      <td>12002</td>\n",
       "      <td>61.450240</td>\n",
       "      <td>5</td>\n",
       "      <td>1</td>\n",
       "      <td>0.857848</td>\n",
       "      <td>-0.015175</td>\n",
       "      <td>-0.020303</td>\n",
       "      <td>2002</td>\n",
       "      <td>1</td>\n",
       "      <td>-0.0470</td>\n",
       "      <td>...</td>\n",
       "      <td>0.0183</td>\n",
       "      <td>0.002349</td>\n",
       "      <td>0.0313</td>\n",
       "      <td>0.0258</td>\n",
       "      <td>0.057496</td>\n",
       "      <td>0.023426</td>\n",
       "      <td>0.000910</td>\n",
       "      <td>0.024064</td>\n",
       "      <td>0.01884</td>\n",
       "      <td>0.002665</td>\n",
       "    </tr>\n",
       "    <tr>\n",
       "      <th>...</th>\n",
       "      <td>...</td>\n",
       "      <td>...</td>\n",
       "      <td>...</td>\n",
       "      <td>...</td>\n",
       "      <td>...</td>\n",
       "      <td>...</td>\n",
       "      <td>...</td>\n",
       "      <td>...</td>\n",
       "      <td>...</td>\n",
       "      <td>...</td>\n",
       "      <td>...</td>\n",
       "      <td>...</td>\n",
       "      <td>...</td>\n",
       "      <td>...</td>\n",
       "      <td>...</td>\n",
       "      <td>...</td>\n",
       "      <td>...</td>\n",
       "      <td>...</td>\n",
       "      <td>...</td>\n",
       "      <td>...</td>\n",
       "      <td>...</td>\n",
       "    </tr>\n",
       "    <tr>\n",
       "      <th>1325</th>\n",
       "      <td>22024</td>\n",
       "      <td>43.063263</td>\n",
       "      <td>1</td>\n",
       "      <td>0</td>\n",
       "      <td>1.121668</td>\n",
       "      <td>-0.006109</td>\n",
       "      <td>0.019989</td>\n",
       "      <td>2024</td>\n",
       "      <td>2</td>\n",
       "      <td>0.0127</td>\n",
       "      <td>...</td>\n",
       "      <td>-0.0076</td>\n",
       "      <td>-0.035207</td>\n",
       "      <td>0.0109</td>\n",
       "      <td>-0.0195</td>\n",
       "      <td>0.040707</td>\n",
       "      <td>NaN</td>\n",
       "      <td>-0.008973</td>\n",
       "      <td>0.034313</td>\n",
       "      <td>NaN</td>\n",
       "      <td>NaN</td>\n",
       "    </tr>\n",
       "    <tr>\n",
       "      <th>1326</th>\n",
       "      <td>22024</td>\n",
       "      <td>50.356394</td>\n",
       "      <td>2</td>\n",
       "      <td>1</td>\n",
       "      <td>1.170942</td>\n",
       "      <td>-0.005237</td>\n",
       "      <td>0.019989</td>\n",
       "      <td>2024</td>\n",
       "      <td>2</td>\n",
       "      <td>0.0127</td>\n",
       "      <td>...</td>\n",
       "      <td>-0.0076</td>\n",
       "      <td>-0.035207</td>\n",
       "      <td>0.0109</td>\n",
       "      <td>-0.0195</td>\n",
       "      <td>0.040707</td>\n",
       "      <td>NaN</td>\n",
       "      <td>-0.008973</td>\n",
       "      <td>0.034313</td>\n",
       "      <td>NaN</td>\n",
       "      <td>NaN</td>\n",
       "    </tr>\n",
       "    <tr>\n",
       "      <th>1327</th>\n",
       "      <td>22024</td>\n",
       "      <td>54.491951</td>\n",
       "      <td>3</td>\n",
       "      <td>1</td>\n",
       "      <td>1.196805</td>\n",
       "      <td>0.007763</td>\n",
       "      <td>0.019989</td>\n",
       "      <td>2024</td>\n",
       "      <td>2</td>\n",
       "      <td>0.0127</td>\n",
       "      <td>...</td>\n",
       "      <td>-0.0076</td>\n",
       "      <td>-0.035207</td>\n",
       "      <td>0.0109</td>\n",
       "      <td>-0.0195</td>\n",
       "      <td>0.040707</td>\n",
       "      <td>NaN</td>\n",
       "      <td>-0.008973</td>\n",
       "      <td>0.034313</td>\n",
       "      <td>NaN</td>\n",
       "      <td>NaN</td>\n",
       "    </tr>\n",
       "    <tr>\n",
       "      <th>1328</th>\n",
       "      <td>22024</td>\n",
       "      <td>58.898113</td>\n",
       "      <td>4</td>\n",
       "      <td>1</td>\n",
       "      <td>1.056555</td>\n",
       "      <td>0.013718</td>\n",
       "      <td>0.019989</td>\n",
       "      <td>2024</td>\n",
       "      <td>2</td>\n",
       "      <td>0.0127</td>\n",
       "      <td>...</td>\n",
       "      <td>-0.0076</td>\n",
       "      <td>-0.035207</td>\n",
       "      <td>0.0109</td>\n",
       "      <td>-0.0195</td>\n",
       "      <td>0.040707</td>\n",
       "      <td>NaN</td>\n",
       "      <td>-0.008973</td>\n",
       "      <td>0.034313</td>\n",
       "      <td>NaN</td>\n",
       "      <td>NaN</td>\n",
       "    </tr>\n",
       "    <tr>\n",
       "      <th>1329</th>\n",
       "      <td>22024</td>\n",
       "      <td>64.552389</td>\n",
       "      <td>5</td>\n",
       "      <td>1</td>\n",
       "      <td>1.103318</td>\n",
       "      <td>0.051603</td>\n",
       "      <td>0.019989</td>\n",
       "      <td>2024</td>\n",
       "      <td>2</td>\n",
       "      <td>0.0127</td>\n",
       "      <td>...</td>\n",
       "      <td>-0.0076</td>\n",
       "      <td>-0.035207</td>\n",
       "      <td>0.0109</td>\n",
       "      <td>-0.0195</td>\n",
       "      <td>0.040707</td>\n",
       "      <td>NaN</td>\n",
       "      <td>-0.008973</td>\n",
       "      <td>0.034313</td>\n",
       "      <td>NaN</td>\n",
       "      <td>NaN</td>\n",
       "    </tr>\n",
       "  </tbody>\n",
       "</table>\n",
       "<p>1330 rows × 22 columns</p>\n",
       "</div>"
      ],
      "text/plain": [
       "      MMYYYY  Avg. Comove  Comove rank  HighestComove_Dummy  Avg. Beta  \\\n",
       "0      12002    40.776435            1                    0   0.754675   \n",
       "1      12002    47.036102            2                    1   0.852650   \n",
       "2      12002    50.648072            3                    1   0.813622   \n",
       "3      12002    53.959039            4                    1   0.819501   \n",
       "4      12002    61.450240            5                    1   0.857848   \n",
       "...      ...          ...          ...                  ...        ...   \n",
       "1325   22024    43.063263            1                    0   1.121668   \n",
       "1326   22024    50.356394            2                    1   1.170942   \n",
       "1327   22024    54.491951            3                    1   1.196805   \n",
       "1328   22024    58.898113            4                    1   1.056555   \n",
       "1329   22024    64.552389            5                    1   1.103318   \n",
       "\n",
       "      Avg. Return  Monthly Market Return  Year  Month  Mkt-RF  ...     HML  \\\n",
       "0        0.010390              -0.020303  2002      1 -0.0470  ...  0.0183   \n",
       "1       -0.011330              -0.020303  2002      1 -0.0470  ...  0.0183   \n",
       "2        0.006576              -0.020303  2002      1 -0.0470  ...  0.0183   \n",
       "3       -0.005736              -0.020303  2002      1 -0.0470  ...  0.0183   \n",
       "4       -0.015175              -0.020303  2002      1 -0.0470  ...  0.0183   \n",
       "...           ...                    ...   ...    ...     ...  ...     ...   \n",
       "1325    -0.006109               0.019989  2024      2  0.0127  ... -0.0076   \n",
       "1326    -0.005237               0.019989  2024      2  0.0127  ... -0.0076   \n",
       "1327     0.007763               0.019989  2024      2  0.0127  ... -0.0076   \n",
       "1328     0.013718               0.019989  2024      2  0.0127  ... -0.0076   \n",
       "1329     0.051603               0.019989  2024      2  0.0127  ... -0.0076   \n",
       "\n",
       "      HML_Devil     RMW     CMA       UMD  UMD_Trend       BAB       QMJ  \\\n",
       "0      0.002349  0.0313  0.0258  0.057496   0.023426  0.000910  0.024064   \n",
       "1      0.002349  0.0313  0.0258  0.057496   0.023426  0.000910  0.024064   \n",
       "2      0.002349  0.0313  0.0258  0.057496   0.023426  0.000910  0.024064   \n",
       "3      0.002349  0.0313  0.0258  0.057496   0.023426  0.000910  0.024064   \n",
       "4      0.002349  0.0313  0.0258  0.057496   0.023426  0.000910  0.024064   \n",
       "...         ...     ...     ...       ...        ...       ...       ...   \n",
       "1325  -0.035207  0.0109 -0.0195  0.040707        NaN -0.008973  0.034313   \n",
       "1326  -0.035207  0.0109 -0.0195  0.040707        NaN -0.008973  0.034313   \n",
       "1327  -0.035207  0.0109 -0.0195  0.040707        NaN -0.008973  0.034313   \n",
       "1328  -0.035207  0.0109 -0.0195  0.040707        NaN -0.008973  0.034313   \n",
       "1329  -0.035207  0.0109 -0.0195  0.040707        NaN -0.008973  0.034313   \n",
       "\n",
       "        Carry  Seasonal  \n",
       "0     0.01884  0.002665  \n",
       "1     0.01884  0.002665  \n",
       "2     0.01884  0.002665  \n",
       "3     0.01884  0.002665  \n",
       "4     0.01884  0.002665  \n",
       "...       ...       ...  \n",
       "1325      NaN       NaN  \n",
       "1326      NaN       NaN  \n",
       "1327      NaN       NaN  \n",
       "1328      NaN       NaN  \n",
       "1329      NaN       NaN  \n",
       "\n",
       "[1330 rows x 22 columns]"
      ]
     },
     "execution_count": 60,
     "metadata": {},
     "output_type": "execute_result"
    }
   ],
   "source": [
    "# Display the final dataframe\n",
    "final_df"
   ]
  },
  {
   "cell_type": "markdown",
   "id": "309293d4",
   "metadata": {},
   "source": [
    "#### Writing to Excel"
   ]
  },
  {
   "cell_type": "markdown",
   "id": "0f0ec56f",
   "metadata": {},
   "source": [
    "Now, we will try to write this into an Excel file. "
   ]
  },
  {
   "cell_type": "code",
   "execution_count": 61,
   "id": "88fe2537",
   "metadata": {
    "ExecuteTime": {
     "end_time": "2024-05-02T19:55:35.918469Z",
     "start_time": "2024-05-02T19:55:35.241078Z"
    }
   },
   "outputs": [],
   "source": [
    "# Write the DataFrame to an Excel file\n",
    "final_df.to_excel('Monthly Data.xlsx', sheet_name='Portfolios', index=True)"
   ]
  }
 ],
 "metadata": {
  "kernelspec": {
   "display_name": "Python 3 (ipykernel)",
   "language": "python",
   "name": "python3"
  },
  "language_info": {
   "codemirror_mode": {
    "name": "ipython",
    "version": 3
   },
   "file_extension": ".py",
   "mimetype": "text/x-python",
   "name": "python",
   "nbconvert_exporter": "python",
   "pygments_lexer": "ipython3",
   "version": "3.9.12"
  },
  "toc": {
   "base_numbering": 1,
   "nav_menu": {},
   "number_sections": true,
   "sideBar": true,
   "skip_h1_title": true,
   "title_cell": "Table of Contents",
   "title_sidebar": "Contents",
   "toc_cell": false,
   "toc_position": {
    "height": "2217.33px",
    "left": "34px",
    "top": "112.23px",
    "width": "450.625px"
   },
   "toc_section_display": true,
   "toc_window_display": true
  },
  "varInspector": {
   "cols": {
    "lenName": 16,
    "lenType": 16,
    "lenVar": 40
   },
   "kernels_config": {
    "python": {
     "delete_cmd_postfix": "",
     "delete_cmd_prefix": "del ",
     "library": "var_list.py",
     "varRefreshCmd": "print(var_dic_list())"
    },
    "r": {
     "delete_cmd_postfix": ") ",
     "delete_cmd_prefix": "rm(",
     "library": "var_list.r",
     "varRefreshCmd": "cat(var_dic_list()) "
    }
   },
   "types_to_exclude": [
    "module",
    "function",
    "builtin_function_or_method",
    "instance",
    "_Feature"
   ],
   "window_display": false
  }
 },
 "nbformat": 4,
 "nbformat_minor": 5
}
