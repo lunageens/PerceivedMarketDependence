{
 "cells": [
  {
   "cell_type": "markdown",
   "id": "14a8fbf3",
   "metadata": {},
   "source": [
    "# Perceived Dependence of Stocks and Correlation: Plotting Alpha's of Sample Split"
   ]
  },
  {
   "cell_type": "markdown",
   "id": "22dbdb41",
   "metadata": {},
   "source": [
    "For my thesis, i will look into the difference between the perceived dependence and the actual correlation of the return of stocks with the market return. In this notebook, we will import the results of our sample split and plot them in a barchart. "
   ]
  },
  {
   "cell_type": "markdown",
   "id": "7299277a",
   "metadata": {},
   "source": [
    "## 1. Imports"
   ]
  },
  {
   "cell_type": "markdown",
   "id": "cb6dcfc4",
   "metadata": {},
   "source": [
    "We will need the following libs:"
   ]
  },
  {
   "cell_type": "code",
   "execution_count": 1,
   "id": "54ff8cb5",
   "metadata": {
    "ExecuteTime": {
     "end_time": "2024-05-07T20:54:05.381083Z",
     "start_time": "2024-05-07T20:54:03.822258Z"
    }
   },
   "outputs": [],
   "source": [
    "import pandas as pd\n",
    "import matplotlib.pyplot as plt\n",
    "import seaborn as sns\n",
    "from matplotlib.ticker import PercentFormatter\n",
    "import matplotlib.patches as mpatches\n",
    "import matplotlib.colors as mcolors\n",
    "import numpy as np"
   ]
  },
  {
   "cell_type": "markdown",
   "id": "c05b9937",
   "metadata": {},
   "source": [
    "Now, we will read in a simple excel file in which the results of the sample split are copy pasted."
   ]
  },
  {
   "cell_type": "code",
   "execution_count": 2,
   "id": "9ba1b420",
   "metadata": {
    "ExecuteTime": {
     "end_time": "2024-05-07T20:54:05.837012Z",
     "start_time": "2024-05-07T20:54:05.382984Z"
    },
    "scrolled": true
   },
   "outputs": [
    {
     "data": {
      "text/html": [
       "<div>\n",
       "<style scoped>\n",
       "    .dataframe tbody tr th:only-of-type {\n",
       "        vertical-align: middle;\n",
       "    }\n",
       "\n",
       "    .dataframe tbody tr th {\n",
       "        vertical-align: top;\n",
       "    }\n",
       "\n",
       "    .dataframe thead th {\n",
       "        text-align: right;\n",
       "    }\n",
       "</style>\n",
       "<table border=\"1\" class=\"dataframe\">\n",
       "  <thead>\n",
       "    <tr style=\"text-align: right;\">\n",
       "      <th></th>\n",
       "      <th>Jan 2002 - Feb 2024</th>\n",
       "      <th>Jan 2002 - Dec 2012</th>\n",
       "      <th>Jan 2013 - Feb 2024</th>\n",
       "    </tr>\n",
       "    <tr>\n",
       "      <th>Factor Model</th>\n",
       "      <th></th>\n",
       "      <th></th>\n",
       "      <th></th>\n",
       "    </tr>\n",
       "  </thead>\n",
       "  <tbody>\n",
       "    <tr>\n",
       "      <th>Raw</th>\n",
       "      <td>0.005045</td>\n",
       "      <td>0.006274</td>\n",
       "      <td>0.003834</td>\n",
       "    </tr>\n",
       "    <tr>\n",
       "      <th>CAPM</th>\n",
       "      <td>0.005638</td>\n",
       "      <td>0.006428</td>\n",
       "      <td>0.005052</td>\n",
       "    </tr>\n",
       "    <tr>\n",
       "      <th>3F</th>\n",
       "      <td>0.006226</td>\n",
       "      <td>0.007524</td>\n",
       "      <td>0.005038</td>\n",
       "    </tr>\n",
       "    <tr>\n",
       "      <th>4F</th>\n",
       "      <td>0.004510</td>\n",
       "      <td>0.006704</td>\n",
       "      <td>0.000582</td>\n",
       "    </tr>\n",
       "    <tr>\n",
       "      <th>4F + QMJ</th>\n",
       "      <td>0.007085</td>\n",
       "      <td>0.010388</td>\n",
       "      <td>0.000888</td>\n",
       "    </tr>\n",
       "    <tr>\n",
       "      <th>4F + BAB</th>\n",
       "      <td>0.004518</td>\n",
       "      <td>0.006833</td>\n",
       "      <td>0.000581</td>\n",
       "    </tr>\n",
       "    <tr>\n",
       "      <th>4F + Carry</th>\n",
       "      <td>0.005725</td>\n",
       "      <td>0.007825</td>\n",
       "      <td>-0.001730</td>\n",
       "    </tr>\n",
       "    <tr>\n",
       "      <th>4F + Seasonality</th>\n",
       "      <td>0.006451</td>\n",
       "      <td>0.008425</td>\n",
       "      <td>0.003054</td>\n",
       "    </tr>\n",
       "    <tr>\n",
       "      <th>5F</th>\n",
       "      <td>0.008821</td>\n",
       "      <td>0.010597</td>\n",
       "      <td>0.006505</td>\n",
       "    </tr>\n",
       "  </tbody>\n",
       "</table>\n",
       "</div>"
      ],
      "text/plain": [
       "                  Jan 2002 - Feb 2024  Jan 2002 - Dec 2012  \\\n",
       "Factor Model                                                 \n",
       "Raw                          0.005045             0.006274   \n",
       "CAPM                         0.005638             0.006428   \n",
       "3F                           0.006226             0.007524   \n",
       "4F                           0.004510             0.006704   \n",
       "4F + QMJ                     0.007085             0.010388   \n",
       "4F + BAB                     0.004518             0.006833   \n",
       "4F + Carry                   0.005725             0.007825   \n",
       "4F + Seasonality             0.006451             0.008425   \n",
       "5F                           0.008821             0.010597   \n",
       "\n",
       "                  Jan 2013 - Feb 2024  \n",
       "Factor Model                           \n",
       "Raw                          0.003834  \n",
       "CAPM                         0.005052  \n",
       "3F                           0.005038  \n",
       "4F                           0.000582  \n",
       "4F + QMJ                     0.000888  \n",
       "4F + BAB                     0.000581  \n",
       "4F + Carry                  -0.001730  \n",
       "4F + Seasonality             0.003054  \n",
       "5F                           0.006505  "
      ]
     },
     "execution_count": 2,
     "metadata": {},
     "output_type": "execute_result"
    }
   ],
   "source": [
    "Data_ExcelFile ='ResultsSampleSplit.xlsx'\n",
    "data =  pd.read_excel(Data_ExcelFile, sheet_name='Alpha')\n",
    "data.set_index('Factor Model', inplace=True)\n",
    "data"
   ]
  },
  {
   "cell_type": "markdown",
   "id": "dfb07d6b",
   "metadata": {
    "ExecuteTime": {
     "end_time": "2024-05-07T19:54:57.080921Z",
     "start_time": "2024-05-07T19:54:57.062680Z"
    }
   },
   "source": [
    "Then i also had a simple table in the excel where i indicated the number of significance stars. So, for 3, the coefficient is accepted on a 1% significance level. For 2, the coefficient is accepted on a 5% significance level. For 1, the coefficient is accepted on a 10% significance level. For 4, the p-value was higher as 10%."
   ]
  },
  {
   "cell_type": "code",
   "execution_count": 3,
   "id": "f4cf2c0b",
   "metadata": {
    "ExecuteTime": {
     "end_time": "2024-05-07T20:54:05.868895Z",
     "start_time": "2024-05-07T20:54:05.838970Z"
    }
   },
   "outputs": [
    {
     "data": {
      "text/html": [
       "<div>\n",
       "<style scoped>\n",
       "    .dataframe tbody tr th:only-of-type {\n",
       "        vertical-align: middle;\n",
       "    }\n",
       "\n",
       "    .dataframe tbody tr th {\n",
       "        vertical-align: top;\n",
       "    }\n",
       "\n",
       "    .dataframe thead th {\n",
       "        text-align: right;\n",
       "    }\n",
       "</style>\n",
       "<table border=\"1\" class=\"dataframe\">\n",
       "  <thead>\n",
       "    <tr style=\"text-align: right;\">\n",
       "      <th></th>\n",
       "      <th>Jan 2002 - Feb 2024</th>\n",
       "      <th>Jan 2002 - Dec 2012</th>\n",
       "      <th>Jan 2013 - Feb 2024</th>\n",
       "    </tr>\n",
       "    <tr>\n",
       "      <th>Factor Model</th>\n",
       "      <th></th>\n",
       "      <th></th>\n",
       "      <th></th>\n",
       "    </tr>\n",
       "  </thead>\n",
       "  <tbody>\n",
       "    <tr>\n",
       "      <th>Raw</th>\n",
       "      <td>0</td>\n",
       "      <td>0</td>\n",
       "      <td>0</td>\n",
       "    </tr>\n",
       "    <tr>\n",
       "      <th>CAPM</th>\n",
       "      <td>3</td>\n",
       "      <td>2</td>\n",
       "      <td>1</td>\n",
       "    </tr>\n",
       "    <tr>\n",
       "      <th>3F</th>\n",
       "      <td>3</td>\n",
       "      <td>3</td>\n",
       "      <td>2</td>\n",
       "    </tr>\n",
       "    <tr>\n",
       "      <th>4F</th>\n",
       "      <td>1</td>\n",
       "      <td>1</td>\n",
       "      <td>0</td>\n",
       "    </tr>\n",
       "    <tr>\n",
       "      <th>4F + QMJ</th>\n",
       "      <td>2</td>\n",
       "      <td>3</td>\n",
       "      <td>0</td>\n",
       "    </tr>\n",
       "    <tr>\n",
       "      <th>4F + BAB</th>\n",
       "      <td>1</td>\n",
       "      <td>1</td>\n",
       "      <td>0</td>\n",
       "    </tr>\n",
       "    <tr>\n",
       "      <th>4F + Carry</th>\n",
       "      <td>1</td>\n",
       "      <td>2</td>\n",
       "      <td>0</td>\n",
       "    </tr>\n",
       "    <tr>\n",
       "      <th>4F + Seasonality</th>\n",
       "      <td>2</td>\n",
       "      <td>2</td>\n",
       "      <td>0</td>\n",
       "    </tr>\n",
       "    <tr>\n",
       "      <th>5F</th>\n",
       "      <td>3</td>\n",
       "      <td>3</td>\n",
       "      <td>3</td>\n",
       "    </tr>\n",
       "  </tbody>\n",
       "</table>\n",
       "</div>"
      ],
      "text/plain": [
       "                  Jan 2002 - Feb 2024  Jan 2002 - Dec 2012  \\\n",
       "Factor Model                                                 \n",
       "Raw                                 0                    0   \n",
       "CAPM                                3                    2   \n",
       "3F                                  3                    3   \n",
       "4F                                  1                    1   \n",
       "4F + QMJ                            2                    3   \n",
       "4F + BAB                            1                    1   \n",
       "4F + Carry                          1                    2   \n",
       "4F + Seasonality                    2                    2   \n",
       "5F                                  3                    3   \n",
       "\n",
       "                  Jan 2013 - Feb 2024  \n",
       "Factor Model                           \n",
       "Raw                                 0  \n",
       "CAPM                                1  \n",
       "3F                                  2  \n",
       "4F                                  0  \n",
       "4F + QMJ                            0  \n",
       "4F + BAB                            0  \n",
       "4F + Carry                          0  \n",
       "4F + Seasonality                    0  \n",
       "5F                                  3  "
      ]
     },
     "execution_count": 3,
     "metadata": {},
     "output_type": "execute_result"
    }
   ],
   "source": [
    "significance =  pd.read_excel(Data_ExcelFile, sheet_name='Significance')\n",
    "significance.set_index('Factor Model', inplace=True)\n",
    "significance"
   ]
  },
  {
   "cell_type": "markdown",
   "id": "d23bbc7e",
   "metadata": {},
   "source": [
    "## 2. Plotting"
   ]
  },
  {
   "cell_type": "markdown",
   "id": "f1df93fb",
   "metadata": {},
   "source": [
    "Now we will create a bar chart to depict the alphas per model across different periods. "
   ]
  },
  {
   "cell_type": "code",
   "execution_count": 10,
   "id": "69e14600",
   "metadata": {
    "ExecuteTime": {
     "end_time": "2024-05-07T21:18:31.242384Z",
     "start_time": "2024-05-07T21:18:30.707512Z"
    }
   },
   "outputs": [
    {
     "data": {
      "image/png": "[encoded data removed]",
      "text/plain": [
       "<Figure size 720x432 with 1 Axes>"
      ]
     },
     "metadata": {},
     "output_type": "display_data"
    }
   ],
   "source": [
    "# Convert DataFrame from wide to long format\n",
    "df_long = data.stack().reset_index()\n",
    "df_long.columns = ['Factor Model', 'Period', 'Alpha']\n",
    "\n",
    "# Convert Alpha to percentage\n",
    "df_long['Alpha'] = df_long['Alpha'] * 100\n",
    "\n",
    "# Define colors\n",
    "palette = ['#BEBEBE', '#002E65', '#65A812']\n",
    "\n",
    "# Set the style\n",
    "sns.set_style(\"whitegrid\")\n",
    "\n",
    "# Create the bar plot\n",
    "plt.figure(figsize=(10, 6))\n",
    "barplot = sns.barplot(x='Factor Model', y='Alpha', hue='Period', data=df_long, palette=palette)\n",
    "\n",
    "# Add labels and title\n",
    "plt.xlabel('Factor Model')\n",
    "plt.ylabel('Monthly Alpha (%)')\n",
    "plt.title('Alpha per Factor Model, Across Different Periods')\n",
    "\n",
    "# Rotate x labels for better visibility\n",
    "plt.xticks(rotation=45)\n",
    "\n",
    "# Save the plot\n",
    "plt.savefig(\"alphas_per_model.png\")\n",
    "\n",
    "# Show the plot\n",
    "plt.show()"
   ]
  },
  {
   "cell_type": "code",
   "execution_count": 5,
   "id": "6dbec1da",
   "metadata": {
    "ExecuteTime": {
     "end_time": "2024-05-07T20:54:06.391432Z",
     "start_time": "2024-05-07T20:54:06.377437Z"
    }
   },
   "outputs": [],
   "source": [
    "# TODO I want the transparency of the bar to be correlated with the significance, making higher p-values less transparent bars. "
   ]
  }
 ],
 "metadata": {
  "kernelspec": {
   "display_name": "Python 3 (ipykernel)",
   "language": "python",
   "name": "python3"
  },
  "language_info": {
   "codemirror_mode": {
    "name": "ipython",
    "version": 3
   },
   "file_extension": ".py",
   "mimetype": "text/x-python",
   "name": "python",
   "nbconvert_exporter": "python",
   "pygments_lexer": "ipython3",
   "version": "3.9.12"
  },
  "toc": {
   "base_numbering": 1,
   "nav_menu": {},
   "number_sections": false,
   "sideBar": true,
   "skip_h1_title": false,
   "title_cell": "Table of Contents",
   "title_sidebar": "Contents",
   "toc_cell": false,
   "toc_position": {},
   "toc_section_display": true,
   "toc_window_display": false
  },
  "varInspector": {
   "cols": {
    "lenName": 16,
    "lenType": 16,
    "lenVar": 40
   },
   "kernels_config": {
    "python": {
     "delete_cmd_postfix": "",
     "delete_cmd_prefix": "del ",
     "library": "var_list.py",
     "varRefreshCmd": "print(var_dic_list())"
    },
    "r": {
     "delete_cmd_postfix": ") ",
     "delete_cmd_prefix": "rm(",
     "library": "var_list.r",
     "varRefreshCmd": "cat(var_dic_list()) "
    }
   },
   "types_to_exclude": [
    "module",
    "function",
    "builtin_function_or_method",
    "instance",
    "_Feature"
   ],
   "window_display": false
  }
 },
 "nbformat": 4,
 "nbformat_minor": 5
}
