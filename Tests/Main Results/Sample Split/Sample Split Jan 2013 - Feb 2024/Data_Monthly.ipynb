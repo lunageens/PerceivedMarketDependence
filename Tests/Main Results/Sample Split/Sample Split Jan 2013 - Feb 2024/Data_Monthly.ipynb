{
 "cells": [
  {
   "cell_type": "markdown",
   "id": "99c47eb0",
   "metadata": {},
   "source": [
    "# Perceived Dependence of Stocks and Correlation: Monthly Regression"
   ]
  },
  {
   "cell_type": "markdown",
   "id": "d629aff3",
   "metadata": {},
   "source": [
    "For my thesis, i will look into the difference between the perceived dependence and the actual correlation of the return of stocks with the market return. In this notebook, we aim to integrate data from different sources and prepare it for analysis."
   ]
  },
  {
   "cell_type": "markdown",
   "id": "f2b22c0e",
   "metadata": {},
   "source": [
    "**Difference with main results: Only analyzes the period of Jan 2013-Feb 2024, instead of starting from Jan 2002. The dates Excel and Section 3 (only the variables start_date and end_date) is altered. In other sections, some example displays are changes since I cannot show the dataframe of Jan 2002 anymore as example.**"
   ]
  },
  {
   "cell_type": "code",
   "execution_count": 1,
   "id": "fbac07d1",
   "metadata": {
    "ExecuteTime": {
     "end_time": "2024-05-07T16:59:30.475070Z",
     "start_time": "2024-05-07T16:59:30.463104Z"
    }
   },
   "outputs": [],
   "source": [
    "# TODO Datums overal aanpassen zodat March 2024 nergens meer included is en het nog steeds werkt. Mss Periode Variabiliseren?\n",
    "# TODO Nakijken wat die NaN is in de stocks return data en of dat uitmaakt\n",
    "#TODO Als ik tijd heb die statistics bereken opcleanen want nu verwarrend"
   ]
  },
  {
   "cell_type": "markdown",
   "id": "5a801a97",
   "metadata": {},
   "source": [
    "## Imports"
   ]
  },
  {
   "cell_type": "markdown",
   "id": "35ff46ac",
   "metadata": {},
   "source": [
    "We will need the following imports:"
   ]
  },
  {
   "cell_type": "code",
   "execution_count": 2,
   "id": "2402e551",
   "metadata": {
    "ExecuteTime": {
     "end_time": "2024-05-07T16:59:33.383089Z",
     "start_time": "2024-05-07T16:59:30.478064Z"
    }
   },
   "outputs": [],
   "source": [
    "import pandas as pd\n",
    "import yfinance as yf\n",
    "import numpy as np\n",
    "import statsmodels.api as sm\n",
    "import seaborn as sns\n",
    "from statsmodels.regression.linear_model import OLS\n",
    "from statsmodels.stats.sandwich_covariance import cov_hac\n",
    "from statsmodels.stats.stattools import durbin_watson\n",
    "from statsmodels.stats.diagnostic import acorr_ljungbox\n",
    "from pandas.tseries.offsets import MonthBegin, MonthEnd\n",
    "from datetime import datetime\n",
    "import matplotlib.pyplot as plt\n",
    "from matplotlib.ticker import MaxNLocator\n",
    "import matplotlib.dates as mdates"
   ]
  },
  {
   "cell_type": "markdown",
   "id": "3ed0efc4",
   "metadata": {
    "ExecuteTime": {
     "end_time": "2024-03-31T17:18:32.944917Z",
     "start_time": "2024-03-31T17:18:32.922973Z"
    }
   },
   "source": [
    "If you don't have any of these packages, u can install them using pip if necessary:"
   ]
  },
  {
   "cell_type": "code",
   "execution_count": null,
   "id": "11fe54e8",
   "metadata": {
    "ExecuteTime": {
     "end_time": "2024-03-31T17:39:18.100685Z",
     "start_time": "2024-03-31T17:38:54.352333Z"
    },
    "deletable": false,
    "editable": false,
    "run_control": {
     "frozen": true
    }
   },
   "outputs": [],
   "source": [
    "pip install pandas openpyxl yfinance"
   ]
  },
  {
   "cell_type": "markdown",
   "id": "cbd8913e",
   "metadata": {},
   "source": [
    "## Data Collection "
   ]
  },
  {
   "cell_type": "markdown",
   "id": "a36017c5",
   "metadata": {},
   "source": [
    "### Reading the Data from Excel"
   ]
  },
  {
   "cell_type": "markdown",
   "id": "dac10827",
   "metadata": {
    "ExecuteTime": {
     "end_time": "2024-04-18T18:05:40.554856Z",
     "start_time": "2024-04-18T18:05:40.535894Z"
    },
    "heading_collapsed": true
   },
   "source": [
    "#### Indexes and Dates"
   ]
  },
  {
   "cell_type": "markdown",
   "id": "10414c12",
   "metadata": {
    "ExecuteTime": {
     "end_time": "2024-04-18T19:03:25.336434Z",
     "start_time": "2024-04-18T19:03:25.282713Z"
    },
    "hidden": true
   },
   "source": [
    "Let's first read in the excel where I defined the correct time periods for every monthly data point. In this excel, i defined the month and years to be tested, and the periods that will be used for this month-year in the calculation of various variables. This will later be used to define variables: returns in these periods are used to calculate the frequency of comovement, beta and the return of stocks. Since returns are only available on weekdays, each start- and end date are adjusted in case they are on weekend. "
   ]
  },
  {
   "cell_type": "markdown",
   "id": "9e715b28",
   "metadata": {
    "hidden": true
   },
   "source": [
    "The definitions of the variables for each MMYY from January 2002 to February 2023 are clarified as follows:\n",
    "\n",
    "- **Monthly Stock Return**: This is calculated by determining the percentage difference between the stock's return on the last weekday before the start of the month (StartMonthMinus1_Weekday) and the stock's return on the last weekday of the month (EndMonth_Weekday). For example, the returns of Tuesday 31 December 2019 until Friday 31 January 2020 are used to calculate the return in January 2020. \n",
    "\n",
    "- **Beta and Comovement**: For any given month, these metrics are calculated based on the returns from the index and the stock returns from the year preceding that month. The calculation period begins on the last weekday before the start of the previous year (StartPastYearMinus1_Weekday) and ends on the last weekday before the start of the month in question (EndPastYear_Weekday). In our example of January 2020, returns between Monday 31 December 2018 and Tuesday 31 December 2019 would be considered. \n",
    "\n",
    "While beta is calculated using daily return differences, comovement is measured using weekly return differences. Note the **Minus 1 Day**: The day preceding the start of each period is also considered in the calculations to include the return percentage on the first day of the period."
   ]
  },
  {
   "cell_type": "code",
   "execution_count": 3,
   "id": "8fdc8d70",
   "metadata": {
    "ExecuteTime": {
     "end_time": "2024-05-07T16:59:34.008807Z",
     "start_time": "2024-05-07T16:59:33.385052Z"
    },
    "hidden": true
   },
   "outputs": [
    {
     "data": {
      "text/html": [
       "<div>\n",
       "<style scoped>\n",
       "    .dataframe tbody tr th:only-of-type {\n",
       "        vertical-align: middle;\n",
       "    }\n",
       "\n",
       "    .dataframe tbody tr th {\n",
       "        vertical-align: top;\n",
       "    }\n",
       "\n",
       "    .dataframe thead th {\n",
       "        text-align: right;\n",
       "    }\n",
       "</style>\n",
       "<table border=\"1\" class=\"dataframe\">\n",
       "  <thead>\n",
       "    <tr style=\"text-align: right;\">\n",
       "      <th></th>\n",
       "      <th>Month</th>\n",
       "      <th>Year</th>\n",
       "      <th>Index</th>\n",
       "      <th>StartMonth</th>\n",
       "      <th>StartMonth_Weekday</th>\n",
       "      <th>StartMonthMinus1</th>\n",
       "      <th>StartMonthMinus1_Weekday</th>\n",
       "      <th>EndMonth</th>\n",
       "      <th>EndMonth_Weekday</th>\n",
       "      <th>StartPastYear</th>\n",
       "      <th>StartPastYear_Weekday</th>\n",
       "      <th>StartPastYearMinus1</th>\n",
       "      <th>StartPastYearMinus1_Weekday</th>\n",
       "      <th>EndPastYear</th>\n",
       "      <th>EndPastYear_Weekday</th>\n",
       "    </tr>\n",
       "  </thead>\n",
       "  <tbody>\n",
       "    <tr>\n",
       "      <th>0</th>\n",
       "      <td>1</td>\n",
       "      <td>2013</td>\n",
       "      <td>113</td>\n",
       "      <td>2013-01-01</td>\n",
       "      <td>2013-01-01</td>\n",
       "      <td>2012-12-31</td>\n",
       "      <td>2012-12-31</td>\n",
       "      <td>2013-01-31</td>\n",
       "      <td>2013-01-31</td>\n",
       "      <td>2012-01-01</td>\n",
       "      <td>2012-01-02</td>\n",
       "      <td>2011-12-31</td>\n",
       "      <td>2011-12-30</td>\n",
       "      <td>2012-12-31</td>\n",
       "      <td>2012-12-31</td>\n",
       "    </tr>\n",
       "    <tr>\n",
       "      <th>1</th>\n",
       "      <td>2</td>\n",
       "      <td>2013</td>\n",
       "      <td>113</td>\n",
       "      <td>2013-02-01</td>\n",
       "      <td>2013-02-01</td>\n",
       "      <td>2013-01-31</td>\n",
       "      <td>2013-01-31</td>\n",
       "      <td>2013-02-28</td>\n",
       "      <td>2013-02-28</td>\n",
       "      <td>2012-02-01</td>\n",
       "      <td>2012-02-01</td>\n",
       "      <td>2012-01-31</td>\n",
       "      <td>2012-01-31</td>\n",
       "      <td>2013-01-31</td>\n",
       "      <td>2013-01-31</td>\n",
       "    </tr>\n",
       "  </tbody>\n",
       "</table>\n",
       "</div>"
      ],
      "text/plain": [
       "   Month  Year  Index StartMonth StartMonth_Weekday StartMonthMinus1  \\\n",
       "0      1  2013    113 2013-01-01         2013-01-01       2012-12-31   \n",
       "1      2  2013    113 2013-02-01         2013-02-01       2013-01-31   \n",
       "\n",
       "  StartMonthMinus1_Weekday   EndMonth EndMonth_Weekday StartPastYear  \\\n",
       "0               2012-12-31 2013-01-31       2013-01-31    2012-01-01   \n",
       "1               2013-01-31 2013-02-28       2013-02-28    2012-02-01   \n",
       "\n",
       "  StartPastYear_Weekday StartPastYearMinus1 StartPastYearMinus1_Weekday  \\\n",
       "0            2012-01-02          2011-12-31                  2011-12-30   \n",
       "1            2012-02-01          2012-01-31                  2012-01-31   \n",
       "\n",
       "  EndPastYear EndPastYear_Weekday  \n",
       "0  2012-12-31          2012-12-31  \n",
       "1  2013-01-31          2013-01-31  "
      ]
     },
     "execution_count": 3,
     "metadata": {},
     "output_type": "execute_result"
    }
   ],
   "source": [
    "Dates_ExcelPath = \"Dates.xlsx\"\n",
    "dates = pd.read_excel(Dates_ExcelPath)\n",
    "dates.head(2)"
   ]
  },
  {
   "cell_type": "code",
   "execution_count": 4,
   "id": "1d1c8aaa",
   "metadata": {
    "ExecuteTime": {
     "end_time": "2024-05-07T16:59:34.024754Z",
     "start_time": "2024-05-07T16:59:34.010793Z"
    },
    "hidden": true
   },
   "outputs": [
    {
     "data": {
      "text/html": [
       "<div>\n",
       "<style scoped>\n",
       "    .dataframe tbody tr th:only-of-type {\n",
       "        vertical-align: middle;\n",
       "    }\n",
       "\n",
       "    .dataframe tbody tr th {\n",
       "        vertical-align: top;\n",
       "    }\n",
       "\n",
       "    .dataframe thead th {\n",
       "        text-align: right;\n",
       "    }\n",
       "</style>\n",
       "<table border=\"1\" class=\"dataframe\">\n",
       "  <thead>\n",
       "    <tr style=\"text-align: right;\">\n",
       "      <th></th>\n",
       "      <th>Month</th>\n",
       "      <th>Year</th>\n",
       "      <th>Index</th>\n",
       "      <th>StartMonth</th>\n",
       "      <th>StartMonth_Weekday</th>\n",
       "      <th>StartMonthMinus1</th>\n",
       "      <th>StartMonthMinus1_Weekday</th>\n",
       "      <th>EndMonth</th>\n",
       "      <th>EndMonth_Weekday</th>\n",
       "      <th>StartPastYear</th>\n",
       "      <th>StartPastYear_Weekday</th>\n",
       "      <th>StartPastYearMinus1</th>\n",
       "      <th>StartPastYearMinus1_Weekday</th>\n",
       "      <th>EndPastYear</th>\n",
       "      <th>EndPastYear_Weekday</th>\n",
       "    </tr>\n",
       "  </thead>\n",
       "  <tbody>\n",
       "    <tr>\n",
       "      <th>0</th>\n",
       "      <td>1</td>\n",
       "      <td>2013</td>\n",
       "      <td>0113</td>\n",
       "      <td>2013-01-01</td>\n",
       "      <td>2013-01-01</td>\n",
       "      <td>2012-12-31</td>\n",
       "      <td>2012-12-31</td>\n",
       "      <td>2013-01-31</td>\n",
       "      <td>2013-01-31</td>\n",
       "      <td>2012-01-01</td>\n",
       "      <td>2012-01-02</td>\n",
       "      <td>2011-12-31</td>\n",
       "      <td>2011-12-30</td>\n",
       "      <td>2012-12-31</td>\n",
       "      <td>2012-12-31</td>\n",
       "    </tr>\n",
       "    <tr>\n",
       "      <th>1</th>\n",
       "      <td>2</td>\n",
       "      <td>2013</td>\n",
       "      <td>0113</td>\n",
       "      <td>2013-02-01</td>\n",
       "      <td>2013-02-01</td>\n",
       "      <td>2013-01-31</td>\n",
       "      <td>2013-01-31</td>\n",
       "      <td>2013-02-28</td>\n",
       "      <td>2013-02-28</td>\n",
       "      <td>2012-02-01</td>\n",
       "      <td>2012-02-01</td>\n",
       "      <td>2012-01-31</td>\n",
       "      <td>2012-01-31</td>\n",
       "      <td>2013-01-31</td>\n",
       "      <td>2013-01-31</td>\n",
       "    </tr>\n",
       "  </tbody>\n",
       "</table>\n",
       "</div>"
      ],
      "text/plain": [
       "   Month  Year Index StartMonth StartMonth_Weekday StartMonthMinus1  \\\n",
       "0      1  2013  0113 2013-01-01         2013-01-01       2012-12-31   \n",
       "1      2  2013  0113 2013-02-01         2013-02-01       2013-01-31   \n",
       "\n",
       "  StartMonthMinus1_Weekday   EndMonth EndMonth_Weekday StartPastYear  \\\n",
       "0               2012-12-31 2013-01-31       2013-01-31    2012-01-01   \n",
       "1               2013-01-31 2013-02-28       2013-02-28    2012-02-01   \n",
       "\n",
       "  StartPastYear_Weekday StartPastYearMinus1 StartPastYearMinus1_Weekday  \\\n",
       "0            2012-01-02          2011-12-31                  2011-12-30   \n",
       "1            2012-02-01          2012-01-31                  2012-01-31   \n",
       "\n",
       "  EndPastYear EndPastYear_Weekday  \n",
       "0  2012-12-31          2012-12-31  \n",
       "1  2013-01-31          2013-01-31  "
      ]
     },
     "execution_count": 4,
     "metadata": {},
     "output_type": "execute_result"
    }
   ],
   "source": [
    "# Step 1: Convert 'Index' to string and prepend zeros if less than 4 characters.\n",
    "dates['Index'] = dates['Index'].apply(lambda x: f'{x:04}')\n",
    "dates.head(2)"
   ]
  },
  {
   "cell_type": "markdown",
   "id": "7c6ce6f1",
   "metadata": {},
   "source": [
    "#### Daily Stock Returns"
   ]
  },
  {
   "cell_type": "markdown",
   "id": "0b649eb5",
   "metadata": {},
   "source": [
    "For each month, we have used the dates to construct the following prompt in DataStream:\n",
    "\n",
    "     DSGRID(\"LDJSTOXXMMYY\";\"X(RI)~E\";\"{start_date}\"; \"{end_date}\";\"{row[\"Freq\"]}\";\"RowHeader=true;TimeSeriesList=true;ColHeader=true;Transpose=true;Curn=true;DispSeriesDescription=false;YearlyTSFormat=false;QuarterlyTSFormat=false;MonthlyTSFormat=False\";\"\")'\n",
    "     \n",
    "This is used to save the daily returns of each month and the year prior to this month in an excel called 'Stocks_Return'. For the Index, the code DJSTOXX~01 is used. The ~E after the return index refers to prices that are all in euro. \n",
    "\n",
    "We will first read in the Excel file where the daily returns of the stocks are saved. These are loaded in DataStream and are not modified. The formulas are generated with the other notebook.  The *Stocks_DailyReturn_Dataframes['MMYY']*  are used to save these dataframes."
   ]
  },
  {
   "cell_type": "code",
   "execution_count": 5,
   "id": "9c0c48d6",
   "metadata": {
    "ExecuteTime": {
     "end_time": "2024-05-07T17:01:44.213681Z",
     "start_time": "2024-05-07T16:59:34.026751Z"
    }
   },
   "outputs": [],
   "source": [
    "# Path to the Excel file\n",
    "file_path = 'Stocks_DailyReturn.xlsx'\n",
    "\n",
    "# Initialize an empty dictionary to store dataframes\n",
    "Stocks_DailyReturn_Dataframes = {}\n",
    "\n",
    "# Read the unique index values from the 'dates' dataframe\n",
    "unique_indexes = dates['Index'].unique()\n",
    "\n",
    "# Loop through each unique index value\n",
    "for index_value in unique_indexes:\n",
    "    # Construct the sheet name from the index value\n",
    "    sheet_name = str(index_value)\n",
    "    try:\n",
    "        # Attempt to read the sheet into a dataframe\n",
    "        df = pd.read_excel(file_path, sheet_name=sheet_name, index_col=0)\n",
    "        # Store the dataframe in the dictionary with the sheet name as the key\n",
    "        Stocks_DailyReturn_Dataframes[sheet_name] = df\n",
    "    except Exception as e:\n",
    "        # If there's an error reading the sheet, print the error message\n",
    "        print(f\"Error reading sheet {sheet_name}: {e}\")"
   ]
  },
  {
   "cell_type": "code",
   "execution_count": 6,
   "id": "b30a5f72",
   "metadata": {
    "ExecuteTime": {
     "end_time": "2024-05-07T17:01:44.245622Z",
     "start_time": "2024-05-07T17:01:44.215694Z"
    }
   },
   "outputs": [
    {
     "data": {
      "text/html": [
       "<div>\n",
       "<style scoped>\n",
       "    .dataframe tbody tr th:only-of-type {\n",
       "        vertical-align: middle;\n",
       "    }\n",
       "\n",
       "    .dataframe tbody tr th {\n",
       "        vertical-align: top;\n",
       "    }\n",
       "\n",
       "    .dataframe thead th {\n",
       "        text-align: right;\n",
       "    }\n",
       "</style>\n",
       "<table border=\"1\" class=\"dataframe\">\n",
       "  <thead>\n",
       "    <tr style=\"text-align: right;\">\n",
       "      <th></th>\n",
       "      <th>CURRENCY</th>\n",
       "      <th>2011-12-30 00:00:00</th>\n",
       "      <th>2012-01-02 00:00:00</th>\n",
       "      <th>2012-01-03 00:00:00</th>\n",
       "      <th>2012-01-04 00:00:00</th>\n",
       "      <th>2012-01-05 00:00:00</th>\n",
       "      <th>2012-01-06 00:00:00</th>\n",
       "      <th>2012-01-09 00:00:00</th>\n",
       "      <th>2012-01-10 00:00:00</th>\n",
       "      <th>2012-01-11 00:00:00</th>\n",
       "      <th>...</th>\n",
       "      <th>2013-03-18 00:00:00</th>\n",
       "      <th>2013-03-19 00:00:00</th>\n",
       "      <th>2013-03-20 00:00:00</th>\n",
       "      <th>2013-03-21 00:00:00</th>\n",
       "      <th>2013-03-22 00:00:00</th>\n",
       "      <th>2013-03-25 00:00:00</th>\n",
       "      <th>2013-03-26 00:00:00</th>\n",
       "      <th>2013-03-27 00:00:00</th>\n",
       "      <th>2013-03-28 00:00:00</th>\n",
       "      <th>2013-03-29 00:00:00</th>\n",
       "    </tr>\n",
       "    <tr>\n",
       "      <th>Name</th>\n",
       "      <th></th>\n",
       "      <th></th>\n",
       "      <th></th>\n",
       "      <th></th>\n",
       "      <th></th>\n",
       "      <th></th>\n",
       "      <th></th>\n",
       "      <th></th>\n",
       "      <th></th>\n",
       "      <th></th>\n",
       "      <th></th>\n",
       "      <th></th>\n",
       "      <th></th>\n",
       "      <th></th>\n",
       "      <th></th>\n",
       "      <th></th>\n",
       "      <th></th>\n",
       "      <th></th>\n",
       "      <th></th>\n",
       "      <th></th>\n",
       "      <th></th>\n",
       "    </tr>\n",
       "  </thead>\n",
       "  <tbody>\n",
       "    <tr>\n",
       "      <th>3I GROUP - TOT RETURN IND</th>\n",
       "      <td>E</td>\n",
       "      <td>177.83</td>\n",
       "      <td>177.83</td>\n",
       "      <td>184.62</td>\n",
       "      <td>182.5</td>\n",
       "      <td>175.57</td>\n",
       "      <td>177.34</td>\n",
       "      <td>174.76</td>\n",
       "      <td>173.57</td>\n",
       "      <td>172.74</td>\n",
       "      <td>...</td>\n",
       "      <td>323.96</td>\n",
       "      <td>322.82</td>\n",
       "      <td>316.27</td>\n",
       "      <td>314.33</td>\n",
       "      <td>313.53</td>\n",
       "      <td>316.86</td>\n",
       "      <td>316.54</td>\n",
       "      <td>313.57</td>\n",
       "      <td>319.85</td>\n",
       "      <td>319.85</td>\n",
       "    </tr>\n",
       "    <tr>\n",
       "      <th>A P MOLLER MAERSK B - TOT RETURN IND</th>\n",
       "      <td>E</td>\n",
       "      <td>771.89</td>\n",
       "      <td>783.69</td>\n",
       "      <td>788.15</td>\n",
       "      <td>785.6</td>\n",
       "      <td>803.25</td>\n",
       "      <td>785.09</td>\n",
       "      <td>780.92</td>\n",
       "      <td>783.77</td>\n",
       "      <td>774.77</td>\n",
       "      <td>...</td>\n",
       "      <td>964.46</td>\n",
       "      <td>963.71</td>\n",
       "      <td>971.34</td>\n",
       "      <td>970.59</td>\n",
       "      <td>964.63</td>\n",
       "      <td>958.91</td>\n",
       "      <td>954.80</td>\n",
       "      <td>943.92</td>\n",
       "      <td>943.69</td>\n",
       "      <td>943.69</td>\n",
       "    </tr>\n",
       "  </tbody>\n",
       "</table>\n",
       "<p>2 rows × 327 columns</p>\n",
       "</div>"
      ],
      "text/plain": [
       "                                     CURRENCY  2011-12-30 00:00:00  \\\n",
       "Name                                                                 \n",
       "3I GROUP - TOT RETURN IND                   E               177.83   \n",
       "A P MOLLER MAERSK B - TOT RETURN IND        E               771.89   \n",
       "\n",
       "                                      2012-01-02 00:00:00  \\\n",
       "Name                                                        \n",
       "3I GROUP - TOT RETURN IND                          177.83   \n",
       "A P MOLLER MAERSK B - TOT RETURN IND               783.69   \n",
       "\n",
       "                                      2012-01-03 00:00:00  \\\n",
       "Name                                                        \n",
       "3I GROUP - TOT RETURN IND                          184.62   \n",
       "A P MOLLER MAERSK B - TOT RETURN IND               788.15   \n",
       "\n",
       "                                      2012-01-04 00:00:00  \\\n",
       "Name                                                        \n",
       "3I GROUP - TOT RETURN IND                           182.5   \n",
       "A P MOLLER MAERSK B - TOT RETURN IND                785.6   \n",
       "\n",
       "                                      2012-01-05 00:00:00  \\\n",
       "Name                                                        \n",
       "3I GROUP - TOT RETURN IND                          175.57   \n",
       "A P MOLLER MAERSK B - TOT RETURN IND               803.25   \n",
       "\n",
       "                                      2012-01-06 00:00:00  \\\n",
       "Name                                                        \n",
       "3I GROUP - TOT RETURN IND                          177.34   \n",
       "A P MOLLER MAERSK B - TOT RETURN IND               785.09   \n",
       "\n",
       "                                      2012-01-09 00:00:00  \\\n",
       "Name                                                        \n",
       "3I GROUP - TOT RETURN IND                          174.76   \n",
       "A P MOLLER MAERSK B - TOT RETURN IND               780.92   \n",
       "\n",
       "                                      2012-01-10 00:00:00  \\\n",
       "Name                                                        \n",
       "3I GROUP - TOT RETURN IND                          173.57   \n",
       "A P MOLLER MAERSK B - TOT RETURN IND               783.77   \n",
       "\n",
       "                                      2012-01-11 00:00:00  ...  \\\n",
       "Name                                                       ...   \n",
       "3I GROUP - TOT RETURN IND                          172.74  ...   \n",
       "A P MOLLER MAERSK B - TOT RETURN IND               774.77  ...   \n",
       "\n",
       "                                      2013-03-18 00:00:00  \\\n",
       "Name                                                        \n",
       "3I GROUP - TOT RETURN IND                          323.96   \n",
       "A P MOLLER MAERSK B - TOT RETURN IND               964.46   \n",
       "\n",
       "                                      2013-03-19 00:00:00  \\\n",
       "Name                                                        \n",
       "3I GROUP - TOT RETURN IND                          322.82   \n",
       "A P MOLLER MAERSK B - TOT RETURN IND               963.71   \n",
       "\n",
       "                                      2013-03-20 00:00:00  \\\n",
       "Name                                                        \n",
       "3I GROUP - TOT RETURN IND                          316.27   \n",
       "A P MOLLER MAERSK B - TOT RETURN IND               971.34   \n",
       "\n",
       "                                      2013-03-21 00:00:00  \\\n",
       "Name                                                        \n",
       "3I GROUP - TOT RETURN IND                          314.33   \n",
       "A P MOLLER MAERSK B - TOT RETURN IND               970.59   \n",
       "\n",
       "                                      2013-03-22 00:00:00  \\\n",
       "Name                                                        \n",
       "3I GROUP - TOT RETURN IND                          313.53   \n",
       "A P MOLLER MAERSK B - TOT RETURN IND               964.63   \n",
       "\n",
       "                                      2013-03-25 00:00:00  \\\n",
       "Name                                                        \n",
       "3I GROUP - TOT RETURN IND                          316.86   \n",
       "A P MOLLER MAERSK B - TOT RETURN IND               958.91   \n",
       "\n",
       "                                      2013-03-26 00:00:00  \\\n",
       "Name                                                        \n",
       "3I GROUP - TOT RETURN IND                          316.54   \n",
       "A P MOLLER MAERSK B - TOT RETURN IND               954.80   \n",
       "\n",
       "                                      2013-03-27 00:00:00  \\\n",
       "Name                                                        \n",
       "3I GROUP - TOT RETURN IND                          313.57   \n",
       "A P MOLLER MAERSK B - TOT RETURN IND               943.92   \n",
       "\n",
       "                                      2013-03-28 00:00:00  2013-03-29 00:00:00  \n",
       "Name                                                                            \n",
       "3I GROUP - TOT RETURN IND                          319.85               319.85  \n",
       "A P MOLLER MAERSK B - TOT RETURN IND               943.69               943.69  \n",
       "\n",
       "[2 rows x 327 columns]"
      ]
     },
     "execution_count": 6,
     "metadata": {},
     "output_type": "execute_result"
    }
   ],
   "source": [
    "# At this point, Stocks_DailyReturn_Dataframes will contain all the dataframes keyed by their respective sheet names.\n",
    "Stocks_DailyReturn_Dataframes['0113'].head(2)"
   ]
  },
  {
   "cell_type": "markdown",
   "id": "10fd45b8",
   "metadata": {},
   "source": [
    "#### Daily Index Returns"
   ]
  },
  {
   "cell_type": "markdown",
   "id": "63090951",
   "metadata": {},
   "source": [
    "As explained above, an excel file was also made with the help of datastream to save the daily return index of the EUR600. These are saved in a dataframe called *Index_DailyReturn_Dataframe*. "
   ]
  },
  {
   "cell_type": "code",
   "execution_count": 7,
   "id": "a1a75569",
   "metadata": {
    "ExecuteTime": {
     "end_time": "2024-05-07T17:01:44.685690Z",
     "start_time": "2024-05-07T17:01:44.247618Z"
    }
   },
   "outputs": [
    {
     "data": {
      "text/html": [
       "<div>\n",
       "<style scoped>\n",
       "    .dataframe tbody tr th:only-of-type {\n",
       "        vertical-align: middle;\n",
       "    }\n",
       "\n",
       "    .dataframe tbody tr th {\n",
       "        vertical-align: top;\n",
       "    }\n",
       "\n",
       "    .dataframe thead th {\n",
       "        text-align: right;\n",
       "    }\n",
       "</style>\n",
       "<table border=\"1\" class=\"dataframe\">\n",
       "  <thead>\n",
       "    <tr style=\"text-align: right;\">\n",
       "      <th></th>\n",
       "      <th>Date</th>\n",
       "      <th>Return Index</th>\n",
       "    </tr>\n",
       "  </thead>\n",
       "  <tbody>\n",
       "    <tr>\n",
       "      <th>0</th>\n",
       "      <td>2000-12-29</td>\n",
       "      <td>100.0</td>\n",
       "    </tr>\n",
       "    <tr>\n",
       "      <th>1</th>\n",
       "      <td>2001-01-01</td>\n",
       "      <td>100.0</td>\n",
       "    </tr>\n",
       "  </tbody>\n",
       "</table>\n",
       "</div>"
      ],
      "text/plain": [
       "        Date  Return Index \n",
       "0 2000-12-29          100.0\n",
       "1 2001-01-01          100.0"
      ]
     },
     "execution_count": 7,
     "metadata": {},
     "output_type": "execute_result"
    }
   ],
   "source": [
    "# The path to the Excel file\n",
    "Index_DailyReturn_ExcelPath = 'Index_DailyReturn.xlsx'\n",
    "\n",
    "# Read the specified sheet into a DataFrame\n",
    "Index_DailyReturn_Dataframe = pd.read_excel(Index_DailyReturn_ExcelPath)\n",
    "Index_DailyReturn_Dataframe.head(2)"
   ]
  },
  {
   "cell_type": "markdown",
   "id": "62e8d3fb",
   "metadata": {},
   "source": [
    "### Monthly Frequency of Comovement"
   ]
  },
  {
   "cell_type": "markdown",
   "id": "92f61648",
   "metadata": {},
   "source": [
    "To calculate the frequency of comovement of a particular MMYY, we compare the sign of the weekly return percentage on the stock and on the index for each week of the year prior to that month. Then we calculate in how many percent of the 52 week, the same sign is seen for both return percentages."
   ]
  },
  {
   "cell_type": "markdown",
   "id": "2f952a8d",
   "metadata": {
    "ExecuteTime": {
     "end_time": "2024-03-31T17:13:44.588855Z",
     "start_time": "2024-03-31T17:13:44.583869Z"
    }
   },
   "source": [
    "#### Weekly Stock Returns"
   ]
  },
  {
   "cell_type": "markdown",
   "id": "dc7dbb6c",
   "metadata": {},
   "source": [
    "##### Weekly Absolute Return Index of Stocks"
   ]
  },
  {
   "cell_type": "markdown",
   "id": "a3d25732",
   "metadata": {
    "ExecuteTime": {
     "end_time": "2024-04-02T16:59:15.913863Z",
     "start_time": "2024-04-02T16:59:15.897902Z"
    }
   },
   "source": [
    "First, we will make for each MMYY a dataframe with the absolute return indexes of all the stocks in the past 52 weeks before that month. We will look at the year before the month. We are starting with the first weekday of the previous year (column StartPastYear_Weekday). We will end with the last weekday of the previous year (column EndPastYear_Weekday). We will store them into the *Stocks_WeeklyReturn_Dataframes['MMYY]*. "
   ]
  },
  {
   "cell_type": "code",
   "execution_count": 8,
   "id": "6a2f5e9f",
   "metadata": {
    "ExecuteTime": {
     "end_time": "2024-05-07T17:01:45.286191Z",
     "start_time": "2024-05-07T17:01:44.687686Z"
    }
   },
   "outputs": [],
   "source": [
    "# Stocks_DailyReturn_Dataframes = {'IndexName': dataframe, ...}\n",
    "# Initialize the dictionary to store the monthly dataframes\n",
    "Stocks_WeeklyReturn_Dataframes = {}\n",
    "\n",
    "# Define the start and end dates\n",
    "start_date = datetime(2002, 1, 1)\n",
    "end_date = datetime(2024, 3, 31)\n",
    "\n",
    "# Generate the monthly periods\n",
    "monthly_periods = pd.date_range(start_date, end_date, freq='M')\n",
    "\n",
    "for period in monthly_periods:\n",
    "    # Extract the year and month\n",
    "    year = period.year\n",
    "    month = period.month\n",
    "    \n",
    "    # Format the DataFrame name as MMYY\n",
    "    df_name = f\"{month:02d}{year}\"\n",
    "    \n",
    "    # Filter the dates DataFrame for the current month and year\n",
    "    # Assuming 'dates_df' is your DataFrame with 'Month', 'Year', 'Index', \n",
    "    # 'StartPastYear_Weekday', and 'EndPastYear_Weekday' columns\n",
    "    matching_rows = dates[(dates['Month'] == month) & (dates['Year'] == year)]\n",
    "    \n",
    "    # Initialize a list to collect data for the current month\n",
    "    data_for_month = []\n",
    "    \n",
    "    for _, row in matching_rows.iterrows():\n",
    "        index_name = row['Index']\n",
    "        start_date = row['StartPastYear_Weekday']\n",
    "        end_date = row['EndPastYear_Weekday']\n",
    "        \n",
    "        # Access the corresponding daily returns DataFrame\n",
    "        daily_returns_df = Stocks_DailyReturn_Dataframes.get(index_name)\n",
    "        \n",
    "        if daily_returns_df is not None:\n",
    "            \n",
    "            # Find the columns for start and end dates\n",
    "            columns = daily_returns_df.columns\n",
    "            start_col = np.where(columns == pd.Timestamp(start_date))[0][0]\n",
    "            end_col = np.where(columns == pd.Timestamp(end_date))[0][0]\n",
    "            \n",
    "            # Extract the data between these dates\n",
    "            data = daily_returns_df.iloc[:, start_col:end_col+1]\n",
    "            data_for_month.append(data)\n",
    "    \n",
    "    # Concatenate all dataframes for the month (if any) and store in the dictionary\n",
    "    if data_for_month:\n",
    "        Stocks_WeeklyReturn_Dataframes[df_name] = pd.concat(data_for_month, axis=1)"
   ]
  },
  {
   "cell_type": "code",
   "execution_count": 9,
   "id": "d382ecf6",
   "metadata": {
    "ExecuteTime": {
     "end_time": "2024-05-07T17:01:45.333037Z",
     "start_time": "2024-05-07T17:01:45.293176Z"
    }
   },
   "outputs": [
    {
     "data": {
      "text/html": [
       "<div>\n",
       "<style scoped>\n",
       "    .dataframe tbody tr th:only-of-type {\n",
       "        vertical-align: middle;\n",
       "    }\n",
       "\n",
       "    .dataframe tbody tr th {\n",
       "        vertical-align: top;\n",
       "    }\n",
       "\n",
       "    .dataframe thead th {\n",
       "        text-align: right;\n",
       "    }\n",
       "</style>\n",
       "<table border=\"1\" class=\"dataframe\">\n",
       "  <thead>\n",
       "    <tr style=\"text-align: right;\">\n",
       "      <th></th>\n",
       "      <th>2012-01-02</th>\n",
       "      <th>2012-01-03</th>\n",
       "      <th>2012-01-04</th>\n",
       "      <th>2012-01-05</th>\n",
       "      <th>2012-01-06</th>\n",
       "      <th>2012-01-09</th>\n",
       "      <th>2012-01-10</th>\n",
       "      <th>2012-01-11</th>\n",
       "      <th>2012-01-12</th>\n",
       "      <th>2012-01-13</th>\n",
       "      <th>...</th>\n",
       "      <th>2012-12-18</th>\n",
       "      <th>2012-12-19</th>\n",
       "      <th>2012-12-20</th>\n",
       "      <th>2012-12-21</th>\n",
       "      <th>2012-12-24</th>\n",
       "      <th>2012-12-25</th>\n",
       "      <th>2012-12-26</th>\n",
       "      <th>2012-12-27</th>\n",
       "      <th>2012-12-28</th>\n",
       "      <th>2012-12-31</th>\n",
       "    </tr>\n",
       "    <tr>\n",
       "      <th>Name</th>\n",
       "      <th></th>\n",
       "      <th></th>\n",
       "      <th></th>\n",
       "      <th></th>\n",
       "      <th></th>\n",
       "      <th></th>\n",
       "      <th></th>\n",
       "      <th></th>\n",
       "      <th></th>\n",
       "      <th></th>\n",
       "      <th></th>\n",
       "      <th></th>\n",
       "      <th></th>\n",
       "      <th></th>\n",
       "      <th></th>\n",
       "      <th></th>\n",
       "      <th></th>\n",
       "      <th></th>\n",
       "      <th></th>\n",
       "      <th></th>\n",
       "      <th></th>\n",
       "    </tr>\n",
       "  </thead>\n",
       "  <tbody>\n",
       "    <tr>\n",
       "      <th>3I GROUP - TOT RETURN IND</th>\n",
       "      <td>177.83</td>\n",
       "      <td>184.62</td>\n",
       "      <td>182.5</td>\n",
       "      <td>175.57</td>\n",
       "      <td>177.34</td>\n",
       "      <td>174.76</td>\n",
       "      <td>173.57</td>\n",
       "      <td>172.74</td>\n",
       "      <td>174.39</td>\n",
       "      <td>176.58</td>\n",
       "      <td>...</td>\n",
       "      <td>231.34</td>\n",
       "      <td>231.16</td>\n",
       "      <td>231.32</td>\n",
       "      <td>230.86</td>\n",
       "      <td>230.92</td>\n",
       "      <td>230.92</td>\n",
       "      <td>230.48</td>\n",
       "      <td>227.60</td>\n",
       "      <td>226.21</td>\n",
       "      <td>229.21</td>\n",
       "    </tr>\n",
       "    <tr>\n",
       "      <th>A P MOLLER MAERSK B - TOT RETURN IND</th>\n",
       "      <td>783.69</td>\n",
       "      <td>788.15</td>\n",
       "      <td>785.6</td>\n",
       "      <td>803.25</td>\n",
       "      <td>785.09</td>\n",
       "      <td>780.92</td>\n",
       "      <td>783.77</td>\n",
       "      <td>774.77</td>\n",
       "      <td>795.45</td>\n",
       "      <td>793.52</td>\n",
       "      <td>...</td>\n",
       "      <td>885.75</td>\n",
       "      <td>898.90</td>\n",
       "      <td>890.53</td>\n",
       "      <td>889.63</td>\n",
       "      <td>889.66</td>\n",
       "      <td>889.66</td>\n",
       "      <td>889.97</td>\n",
       "      <td>894.85</td>\n",
       "      <td>884.75</td>\n",
       "      <td>884.72</td>\n",
       "    </tr>\n",
       "  </tbody>\n",
       "</table>\n",
       "<p>2 rows × 261 columns</p>\n",
       "</div>"
      ],
      "text/plain": [
       "                                      2012-01-02  2012-01-03  2012-01-04  \\\n",
       "Name                                                                       \n",
       "3I GROUP - TOT RETURN IND                 177.83      184.62       182.5   \n",
       "A P MOLLER MAERSK B - TOT RETURN IND      783.69      788.15       785.6   \n",
       "\n",
       "                                      2012-01-05  2012-01-06  2012-01-09  \\\n",
       "Name                                                                       \n",
       "3I GROUP - TOT RETURN IND                 175.57      177.34      174.76   \n",
       "A P MOLLER MAERSK B - TOT RETURN IND      803.25      785.09      780.92   \n",
       "\n",
       "                                      2012-01-10  2012-01-11  2012-01-12  \\\n",
       "Name                                                                       \n",
       "3I GROUP - TOT RETURN IND                 173.57      172.74      174.39   \n",
       "A P MOLLER MAERSK B - TOT RETURN IND      783.77      774.77      795.45   \n",
       "\n",
       "                                      2012-01-13  ...  2012-12-18  2012-12-19  \\\n",
       "Name                                              ...                           \n",
       "3I GROUP - TOT RETURN IND                 176.58  ...      231.34      231.16   \n",
       "A P MOLLER MAERSK B - TOT RETURN IND      793.52  ...      885.75      898.90   \n",
       "\n",
       "                                      2012-12-20  2012-12-21  2012-12-24  \\\n",
       "Name                                                                       \n",
       "3I GROUP - TOT RETURN IND                 231.32      230.86      230.92   \n",
       "A P MOLLER MAERSK B - TOT RETURN IND      890.53      889.63      889.66   \n",
       "\n",
       "                                      2012-12-25  2012-12-26  2012-12-27  \\\n",
       "Name                                                                       \n",
       "3I GROUP - TOT RETURN IND                 230.92      230.48      227.60   \n",
       "A P MOLLER MAERSK B - TOT RETURN IND      889.66      889.97      894.85   \n",
       "\n",
       "                                      2012-12-28  2012-12-31  \n",
       "Name                                                          \n",
       "3I GROUP - TOT RETURN IND                 226.21      229.21  \n",
       "A P MOLLER MAERSK B - TOT RETURN IND      884.75      884.72  \n",
       "\n",
       "[2 rows x 261 columns]"
      ]
     },
     "execution_count": 9,
     "metadata": {},
     "output_type": "execute_result"
    }
   ],
   "source": [
    "# At this point, Stocks_WeeklyReturn_Dataframes will have all the MMYY dataframes as required.\n",
    "Stocks_WeeklyReturn_Dataframes[\"012013\"].head(2)"
   ]
  },
  {
   "cell_type": "markdown",
   "id": "cf593cfb",
   "metadata": {},
   "source": [
    "Secondly, we need to calculate the average per week. Note that the year not always starts on a monday and ends on a friday, so we do not always have five daily returns to calculate the weekly average. The 52 weekly averages are stored in *Stocks_WeeklyReturnAverages_Dataframes['MMYY']*. "
   ]
  },
  {
   "cell_type": "code",
   "execution_count": 10,
   "id": "5944add7",
   "metadata": {
    "ExecuteTime": {
     "end_time": "2024-05-07T17:01:46.058803Z",
     "start_time": "2024-05-07T17:01:45.337032Z"
    }
   },
   "outputs": [],
   "source": [
    "Stocks_WeeklyReturnAverages_Dataframes = {}\n",
    "\n",
    "for key, df in Stocks_WeeklyReturn_Dataframes.items():\n",
    "    Stocks_WeeklyReturnAverages_Dataframes[key] = df.resample('W', axis=1).mean()\n"
   ]
  },
  {
   "cell_type": "code",
   "execution_count": 11,
   "id": "f4bcb2cb",
   "metadata": {
    "ExecuteTime": {
     "end_time": "2024-05-07T17:01:46.121638Z",
     "start_time": "2024-05-07T17:01:46.062794Z"
    },
    "scrolled": false
   },
   "outputs": [
    {
     "data": {
      "text/html": [
       "<div>\n",
       "<style scoped>\n",
       "    .dataframe tbody tr th:only-of-type {\n",
       "        vertical-align: middle;\n",
       "    }\n",
       "\n",
       "    .dataframe tbody tr th {\n",
       "        vertical-align: top;\n",
       "    }\n",
       "\n",
       "    .dataframe thead th {\n",
       "        text-align: right;\n",
       "    }\n",
       "</style>\n",
       "<table border=\"1\" class=\"dataframe\">\n",
       "  <thead>\n",
       "    <tr style=\"text-align: right;\">\n",
       "      <th></th>\n",
       "      <th>2012-01-08</th>\n",
       "      <th>2012-01-15</th>\n",
       "      <th>2012-01-22</th>\n",
       "      <th>2012-01-29</th>\n",
       "      <th>2012-02-05</th>\n",
       "      <th>2012-02-12</th>\n",
       "      <th>2012-02-19</th>\n",
       "      <th>2012-02-26</th>\n",
       "      <th>2012-03-04</th>\n",
       "      <th>2012-03-11</th>\n",
       "      <th>...</th>\n",
       "      <th>2012-11-04</th>\n",
       "      <th>2012-11-11</th>\n",
       "      <th>2012-11-18</th>\n",
       "      <th>2012-11-25</th>\n",
       "      <th>2012-12-02</th>\n",
       "      <th>2012-12-09</th>\n",
       "      <th>2012-12-16</th>\n",
       "      <th>2012-12-23</th>\n",
       "      <th>2012-12-30</th>\n",
       "      <th>2013-01-06</th>\n",
       "    </tr>\n",
       "    <tr>\n",
       "      <th>Name</th>\n",
       "      <th></th>\n",
       "      <th></th>\n",
       "      <th></th>\n",
       "      <th></th>\n",
       "      <th></th>\n",
       "      <th></th>\n",
       "      <th></th>\n",
       "      <th></th>\n",
       "      <th></th>\n",
       "      <th></th>\n",
       "      <th></th>\n",
       "      <th></th>\n",
       "      <th></th>\n",
       "      <th></th>\n",
       "      <th></th>\n",
       "      <th></th>\n",
       "      <th></th>\n",
       "      <th></th>\n",
       "      <th></th>\n",
       "      <th></th>\n",
       "      <th></th>\n",
       "    </tr>\n",
       "  </thead>\n",
       "  <tbody>\n",
       "    <tr>\n",
       "      <th>3I GROUP - TOT RETURN IND</th>\n",
       "      <td>179.572</td>\n",
       "      <td>174.408</td>\n",
       "      <td>178.498</td>\n",
       "      <td>182.148</td>\n",
       "      <td>189.150</td>\n",
       "      <td>197.116</td>\n",
       "      <td>193.090</td>\n",
       "      <td>190.56</td>\n",
       "      <td>189.668</td>\n",
       "      <td>189.112</td>\n",
       "      <td>...</td>\n",
       "      <td>230.000</td>\n",
       "      <td>229.460</td>\n",
       "      <td>221.856</td>\n",
       "      <td>220.634</td>\n",
       "      <td>220.402</td>\n",
       "      <td>221.918</td>\n",
       "      <td>225.372</td>\n",
       "      <td>230.488</td>\n",
       "      <td>229.226</td>\n",
       "      <td>229.21</td>\n",
       "    </tr>\n",
       "    <tr>\n",
       "      <th>A P MOLLER MAERSK B - TOT RETURN IND</th>\n",
       "      <td>789.156</td>\n",
       "      <td>785.686</td>\n",
       "      <td>795.222</td>\n",
       "      <td>816.422</td>\n",
       "      <td>866.068</td>\n",
       "      <td>905.846</td>\n",
       "      <td>940.308</td>\n",
       "      <td>936.91</td>\n",
       "      <td>916.962</td>\n",
       "      <td>895.554</td>\n",
       "      <td>...</td>\n",
       "      <td>842.196</td>\n",
       "      <td>835.076</td>\n",
       "      <td>844.338</td>\n",
       "      <td>851.398</td>\n",
       "      <td>841.312</td>\n",
       "      <td>848.504</td>\n",
       "      <td>863.898</td>\n",
       "      <td>887.580</td>\n",
       "      <td>889.778</td>\n",
       "      <td>884.72</td>\n",
       "    </tr>\n",
       "  </tbody>\n",
       "</table>\n",
       "<p>2 rows × 53 columns</p>\n",
       "</div>"
      ],
      "text/plain": [
       "                                      2012-01-08  2012-01-15  2012-01-22  \\\n",
       "Name                                                                       \n",
       "3I GROUP - TOT RETURN IND                179.572     174.408     178.498   \n",
       "A P MOLLER MAERSK B - TOT RETURN IND     789.156     785.686     795.222   \n",
       "\n",
       "                                      2012-01-29  2012-02-05  2012-02-12  \\\n",
       "Name                                                                       \n",
       "3I GROUP - TOT RETURN IND                182.148     189.150     197.116   \n",
       "A P MOLLER MAERSK B - TOT RETURN IND     816.422     866.068     905.846   \n",
       "\n",
       "                                      2012-02-19  2012-02-26  2012-03-04  \\\n",
       "Name                                                                       \n",
       "3I GROUP - TOT RETURN IND                193.090      190.56     189.668   \n",
       "A P MOLLER MAERSK B - TOT RETURN IND     940.308      936.91     916.962   \n",
       "\n",
       "                                      2012-03-11  ...  2012-11-04  2012-11-11  \\\n",
       "Name                                              ...                           \n",
       "3I GROUP - TOT RETURN IND                189.112  ...     230.000     229.460   \n",
       "A P MOLLER MAERSK B - TOT RETURN IND     895.554  ...     842.196     835.076   \n",
       "\n",
       "                                      2012-11-18  2012-11-25  2012-12-02  \\\n",
       "Name                                                                       \n",
       "3I GROUP - TOT RETURN IND                221.856     220.634     220.402   \n",
       "A P MOLLER MAERSK B - TOT RETURN IND     844.338     851.398     841.312   \n",
       "\n",
       "                                      2012-12-09  2012-12-16  2012-12-23  \\\n",
       "Name                                                                       \n",
       "3I GROUP - TOT RETURN IND                221.918     225.372     230.488   \n",
       "A P MOLLER MAERSK B - TOT RETURN IND     848.504     863.898     887.580   \n",
       "\n",
       "                                      2012-12-30  2013-01-06  \n",
       "Name                                                          \n",
       "3I GROUP - TOT RETURN IND                229.226      229.21  \n",
       "A P MOLLER MAERSK B - TOT RETURN IND     889.778      884.72  \n",
       "\n",
       "[2 rows x 53 columns]"
      ]
     },
     "execution_count": 11,
     "metadata": {},
     "output_type": "execute_result"
    }
   ],
   "source": [
    "Stocks_WeeklyReturnAverages_Dataframes[\"012013\"].head(2) #toevallig start 2001 op een maandag, maar werkt ook als eerste week niet begint op eerste weekdag"
   ]
  },
  {
   "cell_type": "markdown",
   "id": "303fcf89",
   "metadata": {},
   "source": [
    "##### Weekly Relative Return Index of Stocks"
   ]
  },
  {
   "cell_type": "markdown",
   "id": "aa30f26a",
   "metadata": {},
   "source": [
    "For each MMYY, we now have a dataframe with the weekly average stock prices of each stock in the STOXX 600 in the year prior to MMYY. We will compare each week to the previous week in the dataframe. The first week will be compared to the last weekday before the previous year period starts (StartPastYearMinus1_Weekday). We will calculate percent of change in absolute return index. The week-on-week differences are stored in *Stocks_WeeklyReturnPercentages_Dataframes['MMYY']*. "
   ]
  },
  {
   "cell_type": "code",
   "execution_count": 12,
   "id": "57073e38",
   "metadata": {
    "ExecuteTime": {
     "end_time": "2024-05-07T17:01:46.736380Z",
     "start_time": "2024-05-07T17:01:46.123631Z"
    }
   },
   "outputs": [],
   "source": [
    "# Placeholder for the new dictionary to store percentage returns DataFrames\n",
    "Stocks_WeeklyReturnPercentages_Dataframes = {}\n",
    "\n",
    "for key, weekly_returns_df in Stocks_WeeklyReturnAverages_Dataframes.items():\n",
    "    # Find the corresponding row in the dates DataFrame\n",
    "    month, year = int(key[:2]), int(key[2:])\n",
    "    date_info = dates[(dates['Month'] == month) & (dates['Year'] == year)]\n",
    "\n",
    "    if not date_info.empty:\n",
    "        # There should only be one row per month/year, but loop to handle unexpected data\n",
    "        for _, row in date_info.iterrows():\n",
    "            index_name = row['Index']\n",
    "            start_date = row['StartPastYearMinus1_Weekday']\n",
    "            \n",
    "            # Access the daily return on the start date from the corresponding DataFrame\n",
    "            daily_return_df = Stocks_DailyReturn_Dataframes.get(index_name)\n",
    "            if daily_return_df is not None:\n",
    "                start_return = daily_return_df.loc[:, pd.Timestamp(start_date)]\n",
    "        \n",
    "                # Calculate the percentage return for the first week compared to the start date\n",
    "                first_week_return = weekly_returns_df.iloc[:, 0]\n",
    "               \n",
    "                first_week_percentage = (first_week_return - start_return) / start_return * 100\n",
    "                \n",
    "                # Calculate the week-on-week percentage returns for the rest of the weeks\n",
    "                weekly_percentage_changes = weekly_returns_df.pct_change(axis=1) * 100\n",
    "                \n",
    "                # Replace the first column with the calculated first week percentage\n",
    "                weekly_percentage_changes.iloc[:, 0] = first_week_percentage\n",
    "                \n",
    "                # Store the result in the new dictionary\n",
    "                Stocks_WeeklyReturnPercentages_Dataframes[key] = weekly_percentage_changes"
   ]
  },
  {
   "cell_type": "code",
   "execution_count": 13,
   "id": "24398365",
   "metadata": {
    "ExecuteTime": {
     "end_time": "2024-05-07T17:01:46.768298Z",
     "start_time": "2024-05-07T17:01:46.738377Z"
    }
   },
   "outputs": [
    {
     "data": {
      "text/html": [
       "<div>\n",
       "<style scoped>\n",
       "    .dataframe tbody tr th:only-of-type {\n",
       "        vertical-align: middle;\n",
       "    }\n",
       "\n",
       "    .dataframe tbody tr th {\n",
       "        vertical-align: top;\n",
       "    }\n",
       "\n",
       "    .dataframe thead th {\n",
       "        text-align: right;\n",
       "    }\n",
       "</style>\n",
       "<table border=\"1\" class=\"dataframe\">\n",
       "  <thead>\n",
       "    <tr style=\"text-align: right;\">\n",
       "      <th></th>\n",
       "      <th>2012-01-08</th>\n",
       "      <th>2012-01-15</th>\n",
       "      <th>2012-01-22</th>\n",
       "      <th>2012-01-29</th>\n",
       "      <th>2012-02-05</th>\n",
       "      <th>2012-02-12</th>\n",
       "      <th>2012-02-19</th>\n",
       "      <th>2012-02-26</th>\n",
       "      <th>2012-03-04</th>\n",
       "      <th>2012-03-11</th>\n",
       "      <th>...</th>\n",
       "      <th>2012-11-04</th>\n",
       "      <th>2012-11-11</th>\n",
       "      <th>2012-11-18</th>\n",
       "      <th>2012-11-25</th>\n",
       "      <th>2012-12-02</th>\n",
       "      <th>2012-12-09</th>\n",
       "      <th>2012-12-16</th>\n",
       "      <th>2012-12-23</th>\n",
       "      <th>2012-12-30</th>\n",
       "      <th>2013-01-06</th>\n",
       "    </tr>\n",
       "    <tr>\n",
       "      <th>Name</th>\n",
       "      <th></th>\n",
       "      <th></th>\n",
       "      <th></th>\n",
       "      <th></th>\n",
       "      <th></th>\n",
       "      <th></th>\n",
       "      <th></th>\n",
       "      <th></th>\n",
       "      <th></th>\n",
       "      <th></th>\n",
       "      <th></th>\n",
       "      <th></th>\n",
       "      <th></th>\n",
       "      <th></th>\n",
       "      <th></th>\n",
       "      <th></th>\n",
       "      <th></th>\n",
       "      <th></th>\n",
       "      <th></th>\n",
       "      <th></th>\n",
       "      <th></th>\n",
       "    </tr>\n",
       "  </thead>\n",
       "  <tbody>\n",
       "    <tr>\n",
       "      <th>3I GROUP - TOT RETURN IND</th>\n",
       "      <td>0.979587</td>\n",
       "      <td>-2.875727</td>\n",
       "      <td>2.345076</td>\n",
       "      <td>2.044841</td>\n",
       "      <td>3.844127</td>\n",
       "      <td>4.211472</td>\n",
       "      <td>-2.042452</td>\n",
       "      <td>-1.310270</td>\n",
       "      <td>-0.468094</td>\n",
       "      <td>-0.293144</td>\n",
       "      <td>...</td>\n",
       "      <td>0.510418</td>\n",
       "      <td>-0.234783</td>\n",
       "      <td>-3.313867</td>\n",
       "      <td>-0.550808</td>\n",
       "      <td>-0.105152</td>\n",
       "      <td>0.687834</td>\n",
       "      <td>1.556431</td>\n",
       "      <td>2.270025</td>\n",
       "      <td>-0.547534</td>\n",
       "      <td>-0.006980</td>\n",
       "    </tr>\n",
       "    <tr>\n",
       "      <th>A P MOLLER MAERSK B - TOT RETURN IND</th>\n",
       "      <td>2.236847</td>\n",
       "      <td>-0.439710</td>\n",
       "      <td>1.213716</td>\n",
       "      <td>2.665922</td>\n",
       "      <td>6.080924</td>\n",
       "      <td>4.592942</td>\n",
       "      <td>3.804399</td>\n",
       "      <td>-0.361371</td>\n",
       "      <td>-2.129127</td>\n",
       "      <td>-2.334666</td>\n",
       "      <td>...</td>\n",
       "      <td>0.986609</td>\n",
       "      <td>-0.845409</td>\n",
       "      <td>1.109121</td>\n",
       "      <td>0.836158</td>\n",
       "      <td>-1.184640</td>\n",
       "      <td>0.854855</td>\n",
       "      <td>1.814252</td>\n",
       "      <td>2.741296</td>\n",
       "      <td>0.247640</td>\n",
       "      <td>-0.568456</td>\n",
       "    </tr>\n",
       "  </tbody>\n",
       "</table>\n",
       "<p>2 rows × 53 columns</p>\n",
       "</div>"
      ],
      "text/plain": [
       "                                      2012-01-08  2012-01-15  2012-01-22  \\\n",
       "Name                                                                       \n",
       "3I GROUP - TOT RETURN IND               0.979587   -2.875727    2.345076   \n",
       "A P MOLLER MAERSK B - TOT RETURN IND    2.236847   -0.439710    1.213716   \n",
       "\n",
       "                                      2012-01-29  2012-02-05  2012-02-12  \\\n",
       "Name                                                                       \n",
       "3I GROUP - TOT RETURN IND               2.044841    3.844127    4.211472   \n",
       "A P MOLLER MAERSK B - TOT RETURN IND    2.665922    6.080924    4.592942   \n",
       "\n",
       "                                      2012-02-19  2012-02-26  2012-03-04  \\\n",
       "Name                                                                       \n",
       "3I GROUP - TOT RETURN IND              -2.042452   -1.310270   -0.468094   \n",
       "A P MOLLER MAERSK B - TOT RETURN IND    3.804399   -0.361371   -2.129127   \n",
       "\n",
       "                                      2012-03-11  ...  2012-11-04  2012-11-11  \\\n",
       "Name                                              ...                           \n",
       "3I GROUP - TOT RETURN IND              -0.293144  ...    0.510418   -0.234783   \n",
       "A P MOLLER MAERSK B - TOT RETURN IND   -2.334666  ...    0.986609   -0.845409   \n",
       "\n",
       "                                      2012-11-18  2012-11-25  2012-12-02  \\\n",
       "Name                                                                       \n",
       "3I GROUP - TOT RETURN IND              -3.313867   -0.550808   -0.105152   \n",
       "A P MOLLER MAERSK B - TOT RETURN IND    1.109121    0.836158   -1.184640   \n",
       "\n",
       "                                      2012-12-09  2012-12-16  2012-12-23  \\\n",
       "Name                                                                       \n",
       "3I GROUP - TOT RETURN IND               0.687834    1.556431    2.270025   \n",
       "A P MOLLER MAERSK B - TOT RETURN IND    0.854855    1.814252    2.741296   \n",
       "\n",
       "                                      2012-12-30  2013-01-06  \n",
       "Name                                                          \n",
       "3I GROUP - TOT RETURN IND              -0.547534   -0.006980  \n",
       "A P MOLLER MAERSK B - TOT RETURN IND    0.247640   -0.568456  \n",
       "\n",
       "[2 rows x 53 columns]"
      ]
     },
     "execution_count": 13,
     "metadata": {},
     "output_type": "execute_result"
    }
   ],
   "source": [
    "# Now, Stocks_WeeklyReturnPercentages_Dataframes contains the week-on-week percentage returns for each month/year, \n",
    "# including the first week's percentage calculated from the StartPastYearMinus1_Weekday.\n",
    "Stocks_WeeklyReturnPercentages_Dataframes[\"012013\"].head(2) "
   ]
  },
  {
   "cell_type": "markdown",
   "id": "2ea861e0",
   "metadata": {},
   "source": [
    "#### Weekly Index Returns"
   ]
  },
  {
   "cell_type": "markdown",
   "id": "1312e4f9",
   "metadata": {},
   "source": [
    "##### Weekly Absolute Return Index of EUR600"
   ]
  },
  {
   "cell_type": "markdown",
   "id": "175ba303",
   "metadata": {},
   "source": [
    "We follow the same steps as with the stocks. First, we will make for each MMYY a dataframe with the absolute return indexes of the index in the past 52 weeks prior to MMYY. We are starting with the first weekday of the previous year (column StartPastYear_Weekday). We will end with the last weekday of the previous year (column EndPastYear_Weekday). These are stored in *Index_WeeklyReturn_Dataframes['MMYY']*. "
   ]
  },
  {
   "cell_type": "code",
   "execution_count": 14,
   "id": "cc63e128",
   "metadata": {
    "ExecuteTime": {
     "end_time": "2024-05-07T17:01:47.305747Z",
     "start_time": "2024-05-07T17:01:46.772307Z"
    }
   },
   "outputs": [],
   "source": [
    "# Initialize the dictionary to store the DataFrames\n",
    "Index_WeeklyReturn_Dataframes = {}\n",
    "\n",
    "# Create date range\n",
    "start_date = datetime(2002, 1, 1)\n",
    "end_date = datetime(2024, 3, 31)\n",
    "date_range = pd.date_range(start_date, end_date, freq='MS')  # 'MS' is month start frequency\n",
    "\n",
    "for single_date in date_range:\n",
    "    month, year = single_date.month, single_date.year\n",
    "    df_name = f\"{month:02d}{year}\"\n",
    "\n",
    "    # Find the corresponding row in the dates DataFrame\n",
    "    matching_rows = dates[(dates['Month'] == month) & (dates['Year'] == year)]\n",
    "\n",
    "    for _, row in matching_rows.iterrows():\n",
    "        index_name = row['Index']  # Though you mentioned Index, it seems like it's not used directly here.\n",
    "        start_date = row['StartPastYear_Weekday']\n",
    "        end_date = row['EndPastYear_Weekday']\n",
    "\n",
    "        # Filter the Index_DailyReturn_Dataframe to get rows within the start and end date\n",
    "        mask = (Index_DailyReturn_Dataframe['Date'] >= start_date) & (Index_DailyReturn_Dataframe['Date'] <= end_date)\n",
    "        filtered_data = Index_DailyReturn_Dataframe.loc[mask, ['Date', 'Return Index ']]\n",
    "\n",
    "        # Store this filtered data in the Index_WeeklyReturn_Dataframes dictionary\n",
    "        Index_WeeklyReturn_Dataframes[df_name] = filtered_data"
   ]
  },
  {
   "cell_type": "code",
   "execution_count": 15,
   "id": "f6c567f4",
   "metadata": {
    "ExecuteTime": {
     "end_time": "2024-05-07T17:01:47.321722Z",
     "start_time": "2024-05-07T17:01:47.306763Z"
    }
   },
   "outputs": [
    {
     "data": {
      "text/html": [
       "<div>\n",
       "<style scoped>\n",
       "    .dataframe tbody tr th:only-of-type {\n",
       "        vertical-align: middle;\n",
       "    }\n",
       "\n",
       "    .dataframe tbody tr th {\n",
       "        vertical-align: top;\n",
       "    }\n",
       "\n",
       "    .dataframe thead th {\n",
       "        text-align: right;\n",
       "    }\n",
       "</style>\n",
       "<table border=\"1\" class=\"dataframe\">\n",
       "  <thead>\n",
       "    <tr style=\"text-align: right;\">\n",
       "      <th></th>\n",
       "      <th>Date</th>\n",
       "      <th>Return Index</th>\n",
       "    </tr>\n",
       "  </thead>\n",
       "  <tbody>\n",
       "    <tr>\n",
       "      <th>2871</th>\n",
       "      <td>2012-01-02</td>\n",
       "      <td>97.26</td>\n",
       "    </tr>\n",
       "    <tr>\n",
       "      <th>2872</th>\n",
       "      <td>2012-01-03</td>\n",
       "      <td>98.81</td>\n",
       "    </tr>\n",
       "  </tbody>\n",
       "</table>\n",
       "</div>"
      ],
      "text/plain": [
       "           Date  Return Index \n",
       "2871 2012-01-02          97.26\n",
       "2872 2012-01-03          98.81"
      ]
     },
     "execution_count": 15,
     "metadata": {},
     "output_type": "execute_result"
    }
   ],
   "source": [
    "# At this point, Index_WeeklyReturn_Dataframes will contain your required DataFrames.\n",
    "Index_WeeklyReturn_Dataframes[\"012013\"].head(2)"
   ]
  },
  {
   "cell_type": "markdown",
   "id": "e8d7025c",
   "metadata": {},
   "source": [
    "Now we need to calculate the average per week. Note that the year not always starts on a monday and ends on a friday, so we do not always have five daily returns to calculate the weekly ones. We store these in *Index_WeeklyReturnAverages_Dataframes['MMYY'].*"
   ]
  },
  {
   "cell_type": "code",
   "execution_count": 16,
   "id": "93787442",
   "metadata": {
    "ExecuteTime": {
     "end_time": "2024-05-07T17:01:47.809733Z",
     "start_time": "2024-05-07T17:01:47.323719Z"
    }
   },
   "outputs": [],
   "source": [
    "Index_WeeklyReturnAverages_Dataframes = {}\n",
    "\n",
    "for key, df in Index_WeeklyReturn_Dataframes.items():\n",
    "     # Ensure the 'Date' column is of datetime type and set it as the index\n",
    "    df['Date'] = pd.to_datetime(df['Date'])\n",
    "    df.set_index('Date', inplace=True)\n",
    "    \n",
    "    # Now that 'Date' is the index, resample the DataFrame to get weekly averages.\n",
    "    # Note: This assumes that you want to calculate the mean of the 'Return' column on a weekly basis.\n",
    "    # If your DataFrame contains multiple columns you want to average, you might need to adjust this.\n",
    "    weekly_avg_df = df.resample('W').mean()\n",
    "    \n",
    "    # Store the resulting DataFrame of weekly averages in the new dictionary\n",
    "    Index_WeeklyReturnAverages_Dataframes[key] = weekly_avg_df\n"
   ]
  },
  {
   "cell_type": "code",
   "execution_count": 17,
   "id": "206fbe75",
   "metadata": {
    "ExecuteTime": {
     "end_time": "2024-05-07T17:01:47.825651Z",
     "start_time": "2024-05-07T17:01:47.811720Z"
    }
   },
   "outputs": [
    {
     "data": {
      "text/html": [
       "<div>\n",
       "<style scoped>\n",
       "    .dataframe tbody tr th:only-of-type {\n",
       "        vertical-align: middle;\n",
       "    }\n",
       "\n",
       "    .dataframe tbody tr th {\n",
       "        vertical-align: top;\n",
       "    }\n",
       "\n",
       "    .dataframe thead th {\n",
       "        text-align: right;\n",
       "    }\n",
       "</style>\n",
       "<table border=\"1\" class=\"dataframe\">\n",
       "  <thead>\n",
       "    <tr style=\"text-align: right;\">\n",
       "      <th></th>\n",
       "      <th>Return Index</th>\n",
       "    </tr>\n",
       "    <tr>\n",
       "      <th>Date</th>\n",
       "      <th></th>\n",
       "    </tr>\n",
       "  </thead>\n",
       "  <tbody>\n",
       "    <tr>\n",
       "      <th>2012-01-08</th>\n",
       "      <td>97.824</td>\n",
       "    </tr>\n",
       "    <tr>\n",
       "      <th>2012-01-15</th>\n",
       "      <td>98.090</td>\n",
       "    </tr>\n",
       "  </tbody>\n",
       "</table>\n",
       "</div>"
      ],
      "text/plain": [
       "            Return Index \n",
       "Date                     \n",
       "2012-01-08         97.824\n",
       "2012-01-15         98.090"
      ]
     },
     "execution_count": 17,
     "metadata": {},
     "output_type": "execute_result"
    }
   ],
   "source": [
    "Index_WeeklyReturnAverages_Dataframes[\"012013\"].head(2)"
   ]
  },
  {
   "cell_type": "markdown",
   "id": "3e3f70a0",
   "metadata": {},
   "source": [
    "##### Weekly Relative Return Index of EUR600"
   ]
  },
  {
   "cell_type": "markdown",
   "id": "82b4d2b6",
   "metadata": {},
   "source": [
    "For each MMYY, we now have a dataframe with the weekly average return index of the STOXX 600 in the year prior to MMYY. We will compare each week to the previous week in the dataframe. The first week will be compared to the last weekday before the previous year period starts. We will calculate percent of change in total return index. These will be saved in *Index_WeeklyReturnPercentages_Dataframes['MMYY']*. "
   ]
  },
  {
   "cell_type": "code",
   "execution_count": 18,
   "id": "3361ca17",
   "metadata": {
    "ExecuteTime": {
     "end_time": "2024-05-07T17:01:48.632879Z",
     "start_time": "2024-05-07T17:01:47.828643Z"
    }
   },
   "outputs": [],
   "source": [
    "Index_WeeklyReturnPercentages_Dataframes = {}\n",
    "\n",
    "for key, weekly_returns_df in Index_WeeklyReturnAverages_Dataframes.items():\n",
    "    # Convert key to month and year\n",
    "    month, year = int(key[:2]), int(key[2:])\n",
    "    # Find the corresponding information in the dates DataFrame\n",
    "    date_info = dates[(dates['Month'] == month) & (dates['Year'] == year)]\n",
    "\n",
    "    if not date_info.empty:\n",
    "        for _, row in date_info.iterrows():\n",
    "            index_name = row['Index']\n",
    "            start_past_year_date = pd.to_datetime(row['StartPastYearMinus1_Weekday'])\n",
    "            \n",
    "            # Access the daily return on the start date from the corresponding DataFrame\n",
    "            daily_return_df = Index_DailyReturn_Dataframe\n",
    "     \n",
    "            if daily_return_df is not None and start_past_year_date in daily_return_df['Date'].values:\n",
    "                # Reset index if 'Date' is the index column\n",
    "                daily_return_df_reset = daily_return_df.reset_index()\n",
    "                start_return = daily_return_df_reset.loc[daily_return_df_reset['Date'] == start_past_year_date, 'Return Index '].values[0]\n",
    "\n",
    "                # Reset index for weekly_returns_df to manipulate 'Date' as a column\n",
    "                weekly_returns_df_reset = weekly_returns_df.reset_index()\n",
    "                first_week_return = weekly_returns_df_reset.iloc[0]['Return Index ']\n",
    "                # Calculate the percentage return for the first week compared to the start date\n",
    "                first_week_percentage = ((first_week_return - start_return) / start_return) * 100\n",
    "\n",
    "                # Calculate the week-on-week percentage returns for the rest of the weeks\n",
    "                weekly_returns_df_reset['Weekly_Percentage_Change'] = weekly_returns_df_reset['Return Index '].pct_change() * 100\n",
    "                # Replace the first percentage change with the calculated first week percentage\n",
    "                weekly_returns_df_reset.loc[0, 'Weekly_Percentage_Change'] = first_week_percentage\n",
    "                \n",
    "                # Store the result in the new dictionary without resetting index\n",
    "                Index_WeeklyReturnPercentages_Dataframes[key] = weekly_returns_df_reset.set_index('Date')[['Weekly_Percentage_Change']]\n",
    "\n"
   ]
  },
  {
   "cell_type": "code",
   "execution_count": 19,
   "id": "9a8a867f",
   "metadata": {
    "ExecuteTime": {
     "end_time": "2024-05-07T17:01:48.648845Z",
     "start_time": "2024-05-07T17:01:48.633920Z"
    }
   },
   "outputs": [
    {
     "data": {
      "text/html": [
       "<div>\n",
       "<style scoped>\n",
       "    .dataframe tbody tr th:only-of-type {\n",
       "        vertical-align: middle;\n",
       "    }\n",
       "\n",
       "    .dataframe tbody tr th {\n",
       "        vertical-align: top;\n",
       "    }\n",
       "\n",
       "    .dataframe thead th {\n",
       "        text-align: right;\n",
       "    }\n",
       "</style>\n",
       "<table border=\"1\" class=\"dataframe\">\n",
       "  <thead>\n",
       "    <tr style=\"text-align: right;\">\n",
       "      <th></th>\n",
       "      <th>Weekly_Percentage_Change</th>\n",
       "    </tr>\n",
       "    <tr>\n",
       "      <th>Date</th>\n",
       "      <th></th>\n",
       "    </tr>\n",
       "  </thead>\n",
       "  <tbody>\n",
       "    <tr>\n",
       "      <th>2012-01-08</th>\n",
       "      <td>1.645885</td>\n",
       "    </tr>\n",
       "    <tr>\n",
       "      <th>2012-01-15</th>\n",
       "      <td>0.271917</td>\n",
       "    </tr>\n",
       "  </tbody>\n",
       "</table>\n",
       "</div>"
      ],
      "text/plain": [
       "            Weekly_Percentage_Change\n",
       "Date                                \n",
       "2012-01-08                  1.645885\n",
       "2012-01-15                  0.271917"
      ]
     },
     "execution_count": 19,
     "metadata": {},
     "output_type": "execute_result"
    }
   ],
   "source": [
    "Index_WeeklyReturnPercentages_Dataframes[\"012013\"].head(2)"
   ]
  },
  {
   "cell_type": "markdown",
   "id": "daa2eb6e",
   "metadata": {},
   "source": [
    "#### Comparing Weekly Returns"
   ]
  },
  {
   "cell_type": "markdown",
   "id": "5c893b4d",
   "metadata": {
    "ExecuteTime": {
     "end_time": "2024-03-31T18:23:09.190228Z",
     "start_time": "2024-03-31T18:23:09.183249Z"
    }
   },
   "source": [
    "For each stock of EUR600 in MMYY, we now will make a dataframe *Stocks_Monthly_Dataframes['MMYY']*. The column *Comove* indicates how many of the weekly returns in Stocks_WeeklyReturnPercentages_Dataframes[MMYY] of that particular stock have the same sign as the weekly returns in Index_WeeklyReturnPercentages_Dataframes[MMYY]. "
   ]
  },
  {
   "cell_type": "markdown",
   "id": "18421ca7",
   "metadata": {},
   "source": [
    "Let's first make a function to calculate comove based on two series of weekly return percentages:"
   ]
  },
  {
   "cell_type": "code",
   "execution_count": 20,
   "id": "1db0e941",
   "metadata": {
    "ExecuteTime": {
     "end_time": "2024-05-07T17:01:48.664802Z",
     "start_time": "2024-05-07T17:01:48.651836Z"
    }
   },
   "outputs": [],
   "source": [
    "# Example function to calculate the Comove value for a stock based on its weekly returns and the index's weekly returns\n",
    "def calculate_comove(stock_weekly_returns, index_weekly_returns):\n",
    "    \n",
    "    # Calculate the signs (True if positive, False if negative) of the stock's weekly returns\n",
    "    stock_signs = np.array(stock_weekly_returns > 0)\n",
    "    \n",
    "    # Calculate the signs of the index's weekly returns\n",
    "    index_signs = np.array(index_weekly_returns > 0)\n",
    "    \n",
    "    # Determine the percentage of weeks where the stock's return sign matches the index's return sign\n",
    "    matching_signs = np.equal(stock_signs, index_signs)\n",
    "    matching_signs_percentage = np.mean(matching_signs) * 100\n",
    "    return matching_signs_percentage"
   ]
  },
  {
   "cell_type": "markdown",
   "id": "44dbde54",
   "metadata": {},
   "source": [
    "Let's apply the funciton on the data we have so far:"
   ]
  },
  {
   "cell_type": "code",
   "execution_count": 21,
   "id": "c650d158",
   "metadata": {
    "ExecuteTime": {
     "end_time": "2024-05-07T17:02:12.689944Z",
     "start_time": "2024-05-07T17:01:48.666800Z"
    },
    "scrolled": false
   },
   "outputs": [],
   "source": [
    "# Create an empty dictionary to store the dataframes with monthly data of individual stocks\n",
    "Stocks_Monthly_Dataframes = {}\n",
    "\n",
    "# Define the start and end dates\n",
    "start_date = datetime(2002, 1, 1)\n",
    "end_date = datetime(2024, 3, 31)\n",
    "# Generate the monthly periods\n",
    "monthly_periods = pd.date_range(start_date, end_date, freq='M')\n",
    "\n",
    "for period in monthly_periods:\n",
    "    \n",
    "   # Find dataframe names we need, based on the year\n",
    "    df_name = str(period.month).zfill(2) + str(period.year)\n",
    "    \n",
    "    # Check if we have the data for the MMYY in question\n",
    "    if df_name in Stocks_WeeklyReturnPercentages_Dataframes and df_name in Index_WeeklyReturnPercentages_Dataframes:\n",
    "        \n",
    "        # 1) Get the stock and index dataframes\n",
    "        stocks_df = Stocks_WeeklyReturnPercentages_Dataframes[df_name]\n",
    "        index_df = Index_WeeklyReturnPercentages_Dataframes[df_name]\n",
    "        \n",
    "        # 2) Calculate the 'Comove' values\n",
    "        comove_values = stocks_df.apply(lambda row: calculate_comove(row, index_df.iloc[0]), axis=1) #for each row of the stocks_df (axis=1), apply the function \n",
    "        # calculate_comove with as first parameter the row itself and as second parameter the first row of the index_df\n",
    "        \n",
    "        # 3) Create a DataFrame for the Comove values with the stock names as the index\n",
    "        comove_df = pd.DataFrame({\n",
    "            'Comove': comove_values\n",
    "        }, index=stocks_df.index)\n",
    "        \n",
    "        # 4) Add to the dictionary\n",
    "        Stocks_Monthly_Dataframes[df_name] = comove_df\n",
    "        "
   ]
  },
  {
   "cell_type": "code",
   "execution_count": 22,
   "id": "11493e3a",
   "metadata": {
    "ExecuteTime": {
     "end_time": "2024-05-07T17:02:12.705905Z",
     "start_time": "2024-05-07T17:02:12.691940Z"
    }
   },
   "outputs": [
    {
     "data": {
      "text/html": [
       "<div>\n",
       "<style scoped>\n",
       "    .dataframe tbody tr th:only-of-type {\n",
       "        vertical-align: middle;\n",
       "    }\n",
       "\n",
       "    .dataframe tbody tr th {\n",
       "        vertical-align: top;\n",
       "    }\n",
       "\n",
       "    .dataframe thead th {\n",
       "        text-align: right;\n",
       "    }\n",
       "</style>\n",
       "<table border=\"1\" class=\"dataframe\">\n",
       "  <thead>\n",
       "    <tr style=\"text-align: right;\">\n",
       "      <th></th>\n",
       "      <th>Comove</th>\n",
       "    </tr>\n",
       "    <tr>\n",
       "      <th>Name</th>\n",
       "      <th></th>\n",
       "    </tr>\n",
       "  </thead>\n",
       "  <tbody>\n",
       "    <tr>\n",
       "      <th>3I GROUP - TOT RETURN IND</th>\n",
       "      <td>50.943396</td>\n",
       "    </tr>\n",
       "    <tr>\n",
       "      <th>A P MOLLER MAERSK B - TOT RETURN IND</th>\n",
       "      <td>50.943396</td>\n",
       "    </tr>\n",
       "  </tbody>\n",
       "</table>\n",
       "</div>"
      ],
      "text/plain": [
       "                                         Comove\n",
       "Name                                           \n",
       "3I GROUP - TOT RETURN IND             50.943396\n",
       "A P MOLLER MAERSK B - TOT RETURN IND  50.943396"
      ]
     },
     "execution_count": 22,
     "metadata": {},
     "output_type": "execute_result"
    }
   ],
   "source": [
    "# This code would result in the Yearly_Dataframes dictionary being populated with a dataframe for each year from 2005 to 2024.\n",
    "Stocks_Monthly_Dataframes[\"012013\"].head(2)"
   ]
  },
  {
   "cell_type": "markdown",
   "id": "5cca3990",
   "metadata": {},
   "source": [
    "### Monthly Beta"
   ]
  },
  {
   "cell_type": "markdown",
   "id": "fceecb16",
   "metadata": {
    "ExecuteTime": {
     "end_time": "2024-03-31T19:19:54.672046Z",
     "start_time": "2024-03-31T19:19:54.654094Z"
    }
   },
   "source": [
    "Later on, we will sort the individual stocks of each year into portfolios, based on the frequency of comovement and the beta. Therefore, we will need to add a column *Beta* to our *Stocks_Monthly_Dataframes['MMYY']* where we find the beta of each stock in that month. This is calculated using the daily returns in the year prior to MMYY. "
   ]
  },
  {
   "cell_type": "markdown",
   "id": "7470ea6f",
   "metadata": {},
   "source": [
    "**TODO:** Names of these intermediate dataframes can be adjusted to align with comovement more. "
   ]
  },
  {
   "cell_type": "markdown",
   "id": "3ed5c314",
   "metadata": {},
   "source": [
    "#### Daily Stock Returns"
   ]
  },
  {
   "cell_type": "markdown",
   "id": "3981be51",
   "metadata": {
    "ExecuteTime": {
     "end_time": "2024-04-24T15:05:33.375650Z",
     "start_time": "2024-04-24T15:05:33.357705Z"
    }
   },
   "source": [
    "##### Daily Absolute Return Index of Stocks"
   ]
  },
  {
   "cell_type": "markdown",
   "id": "31b60d8d",
   "metadata": {},
   "source": [
    "First we find the data we need for each month for stock return index. We do this using the same period as explained in 2.2 about frequency of comovement. In this case, we will use daily return indexes and therefore not calculate weekly averages. Since we do not calculate weekly average, it is easier to already include the day prior to the start date now instead of later. The results are stored in *Stocks_DailyReturnPastYear_Dataframes['MMYYYY']*. "
   ]
  },
  {
   "cell_type": "code",
   "execution_count": 23,
   "id": "214c37f0",
   "metadata": {
    "ExecuteTime": {
     "end_time": "2024-05-07T17:02:13.547611Z",
     "start_time": "2024-05-07T17:02:12.708896Z"
    }
   },
   "outputs": [],
   "source": [
    "# Stocks_DailyReturn_Dataframes = {'IndexName': dataframe, ...}\n",
    "# Initialize the dictionary to store the monthly dataframes\n",
    "Stocks_DailyReturnPastYear_Dataframes = {}\n",
    "\n",
    "# Define the start and end dates\n",
    "start_date = datetime(2002, 1, 1)\n",
    "end_date = datetime(2024, 3, 31)\n",
    "\n",
    "# Generate the monthly periods\n",
    "monthly_periods = pd.date_range(start_date, end_date, freq='M')\n",
    "\n",
    "for period in monthly_periods:\n",
    "    # Extract the year and month\n",
    "    year = period.year\n",
    "    month = period.month\n",
    "    \n",
    "    # Format the DataFrame name as MMYY\n",
    "    df_name = f\"{month:02d}{year}\"\n",
    "    \n",
    "    # Filter the dates DataFrame for the current month and year\n",
    "    # Assuming 'dates_df' is your DataFrame with 'Month', 'Year', 'Index', \n",
    "    # 'StartPastYear_Weekday', and 'EndPastYear_Weekday' columns\n",
    "    matching_rows = dates[(dates['Month'] == month) & (dates['Year'] == year)]\n",
    "    \n",
    "    # Initialize a list to collect data for the current month\n",
    "    data_for_month = []\n",
    "    \n",
    "    for _, row in matching_rows.iterrows():\n",
    "        index_name = row['Index']\n",
    "        start_date = row['StartPastYearMinus1_Weekday'] #HIER WEL ER AL BIJ DOEN MAKKELIJKER\n",
    "        end_date = row['EndPastYear_Weekday']\n",
    "        \n",
    "        # Access the corresponding daily returns DataFrame\n",
    "        daily_returns_df = Stocks_DailyReturn_Dataframes.get(index_name)\n",
    "        \n",
    "        if daily_returns_df is not None:\n",
    "            \n",
    "            # Find the columns for start and end dates\n",
    "            columns = daily_returns_df.columns\n",
    "            start_col = np.where(columns == pd.Timestamp(start_date))[0][0]\n",
    "            end_col = np.where(columns == pd.Timestamp(end_date))[0][0]\n",
    "            \n",
    "            # Extract the data between these dates\n",
    "            data = daily_returns_df.iloc[:, start_col:end_col+1]\n",
    "            data_for_month.append(data)\n",
    "    \n",
    "    # Concatenate all dataframes for the month (if any) and store in the dictionary\n",
    "    if data_for_month:\n",
    "        Stocks_DailyReturnPastYear_Dataframes[df_name] = pd.concat(data_for_month, axis=1)"
   ]
  },
  {
   "cell_type": "code",
   "execution_count": 24,
   "id": "6fcd158c",
   "metadata": {
    "ExecuteTime": {
     "end_time": "2024-05-07T17:02:13.578814Z",
     "start_time": "2024-05-07T17:02:13.549571Z"
    },
    "scrolled": true
   },
   "outputs": [
    {
     "data": {
      "text/html": [
       "<div>\n",
       "<style scoped>\n",
       "    .dataframe tbody tr th:only-of-type {\n",
       "        vertical-align: middle;\n",
       "    }\n",
       "\n",
       "    .dataframe tbody tr th {\n",
       "        vertical-align: top;\n",
       "    }\n",
       "\n",
       "    .dataframe thead th {\n",
       "        text-align: right;\n",
       "    }\n",
       "</style>\n",
       "<table border=\"1\" class=\"dataframe\">\n",
       "  <thead>\n",
       "    <tr style=\"text-align: right;\">\n",
       "      <th></th>\n",
       "      <th>2012-01-31</th>\n",
       "      <th>2012-02-01</th>\n",
       "      <th>2012-02-02</th>\n",
       "      <th>2012-02-03</th>\n",
       "      <th>2012-02-06</th>\n",
       "      <th>2012-02-07</th>\n",
       "      <th>2012-02-08</th>\n",
       "      <th>2012-02-09</th>\n",
       "      <th>2012-02-10</th>\n",
       "      <th>2012-02-13</th>\n",
       "      <th>...</th>\n",
       "      <th>2013-01-18</th>\n",
       "      <th>2013-01-21</th>\n",
       "      <th>2013-01-22</th>\n",
       "      <th>2013-01-23</th>\n",
       "      <th>2013-01-24</th>\n",
       "      <th>2013-01-25</th>\n",
       "      <th>2013-01-28</th>\n",
       "      <th>2013-01-29</th>\n",
       "      <th>2013-01-30</th>\n",
       "      <th>2013-01-31</th>\n",
       "    </tr>\n",
       "    <tr>\n",
       "      <th>Name</th>\n",
       "      <th></th>\n",
       "      <th></th>\n",
       "      <th></th>\n",
       "      <th></th>\n",
       "      <th></th>\n",
       "      <th></th>\n",
       "      <th></th>\n",
       "      <th></th>\n",
       "      <th></th>\n",
       "      <th></th>\n",
       "      <th></th>\n",
       "      <th></th>\n",
       "      <th></th>\n",
       "      <th></th>\n",
       "      <th></th>\n",
       "      <th></th>\n",
       "      <th></th>\n",
       "      <th></th>\n",
       "      <th></th>\n",
       "      <th></th>\n",
       "      <th></th>\n",
       "    </tr>\n",
       "  </thead>\n",
       "  <tbody>\n",
       "    <tr>\n",
       "      <th>3I GROUP - TOT RETURN IND</th>\n",
       "      <td>182.63</td>\n",
       "      <td>190.91</td>\n",
       "      <td>191.81</td>\n",
       "      <td>202.78</td>\n",
       "      <td>202.41</td>\n",
       "      <td>197.83</td>\n",
       "      <td>195.51</td>\n",
       "      <td>196.93</td>\n",
       "      <td>192.90</td>\n",
       "      <td>195.65</td>\n",
       "      <td>...</td>\n",
       "      <td>254.36</td>\n",
       "      <td>254.05</td>\n",
       "      <td>255.14</td>\n",
       "      <td>252.59</td>\n",
       "      <td>256.37</td>\n",
       "      <td>258.12</td>\n",
       "      <td>258.57</td>\n",
       "      <td>266.85</td>\n",
       "      <td>271.45</td>\n",
       "      <td>263.14</td>\n",
       "    </tr>\n",
       "    <tr>\n",
       "      <th>A P MOLLER MAERSK B - TOT RETURN IND</th>\n",
       "      <td>852.26</td>\n",
       "      <td>888.96</td>\n",
       "      <td>879.23</td>\n",
       "      <td>899.52</td>\n",
       "      <td>901.18</td>\n",
       "      <td>902.02</td>\n",
       "      <td>904.63</td>\n",
       "      <td>915.24</td>\n",
       "      <td>906.16</td>\n",
       "      <td>925.64</td>\n",
       "      <td>...</td>\n",
       "      <td>963.34</td>\n",
       "      <td>980.82</td>\n",
       "      <td>970.82</td>\n",
       "      <td>956.83</td>\n",
       "      <td>946.14</td>\n",
       "      <td>956.81</td>\n",
       "      <td>951.27</td>\n",
       "      <td>941.36</td>\n",
       "      <td>936.30</td>\n",
       "      <td>911.32</td>\n",
       "    </tr>\n",
       "  </tbody>\n",
       "</table>\n",
       "<p>2 rows × 263 columns</p>\n",
       "</div>"
      ],
      "text/plain": [
       "                                      2012-01-31  2012-02-01  2012-02-02  \\\n",
       "Name                                                                       \n",
       "3I GROUP - TOT RETURN IND                 182.63      190.91      191.81   \n",
       "A P MOLLER MAERSK B - TOT RETURN IND      852.26      888.96      879.23   \n",
       "\n",
       "                                      2012-02-03  2012-02-06  2012-02-07  \\\n",
       "Name                                                                       \n",
       "3I GROUP - TOT RETURN IND                 202.78      202.41      197.83   \n",
       "A P MOLLER MAERSK B - TOT RETURN IND      899.52      901.18      902.02   \n",
       "\n",
       "                                      2012-02-08  2012-02-09  2012-02-10  \\\n",
       "Name                                                                       \n",
       "3I GROUP - TOT RETURN IND                 195.51      196.93      192.90   \n",
       "A P MOLLER MAERSK B - TOT RETURN IND      904.63      915.24      906.16   \n",
       "\n",
       "                                      2012-02-13  ...  2013-01-18  2013-01-21  \\\n",
       "Name                                              ...                           \n",
       "3I GROUP - TOT RETURN IND                 195.65  ...      254.36      254.05   \n",
       "A P MOLLER MAERSK B - TOT RETURN IND      925.64  ...      963.34      980.82   \n",
       "\n",
       "                                      2013-01-22  2013-01-23  2013-01-24  \\\n",
       "Name                                                                       \n",
       "3I GROUP - TOT RETURN IND                 255.14      252.59      256.37   \n",
       "A P MOLLER MAERSK B - TOT RETURN IND      970.82      956.83      946.14   \n",
       "\n",
       "                                      2013-01-25  2013-01-28  2013-01-29  \\\n",
       "Name                                                                       \n",
       "3I GROUP - TOT RETURN IND                 258.12      258.57      266.85   \n",
       "A P MOLLER MAERSK B - TOT RETURN IND      956.81      951.27      941.36   \n",
       "\n",
       "                                      2013-01-30  2013-01-31  \n",
       "Name                                                          \n",
       "3I GROUP - TOT RETURN IND                 271.45      263.14  \n",
       "A P MOLLER MAERSK B - TOT RETURN IND      936.30      911.32  \n",
       "\n",
       "[2 rows x 263 columns]"
      ]
     },
     "execution_count": 24,
     "metadata": {},
     "output_type": "execute_result"
    }
   ],
   "source": [
    "Stocks_DailyReturnPastYear_Dataframes[\"022013\"].head(2)"
   ]
  },
  {
   "cell_type": "markdown",
   "id": "db211341",
   "metadata": {},
   "source": [
    "##### Daily Relative Return Index of Stocks"
   ]
  },
  {
   "cell_type": "markdown",
   "id": "c739f8a7",
   "metadata": {},
   "source": [
    "Then we find the daily return % for stocks, which will be stored in the dataframes *Stocks_DailyReturnPastYearPercentages_Dataframes['MMYYYY']*. "
   ]
  },
  {
   "cell_type": "code",
   "execution_count": 25,
   "id": "7f278fcd",
   "metadata": {
    "ExecuteTime": {
     "end_time": "2024-05-07T17:02:14.480036Z",
     "start_time": "2024-05-07T17:02:13.582805Z"
    }
   },
   "outputs": [],
   "source": [
    "# Placeholder for the new dictionary to store percentage returns DataFrames\n",
    "Stocks_DailyReturnPastYearPercentages_Dataframes = {}\n",
    "\n",
    "for key, weekly_returns_df in Stocks_DailyReturnPastYear_Dataframes.items():\n",
    "                # Calculate the week-on-week percentage returns for all days -- firt day problem already civered\n",
    "                weekly_percentage_changes = weekly_returns_df.pct_change(axis=1) * 100\n",
    "                \n",
    "                # Store the result in the new dictionary\n",
    "                Stocks_DailyReturnPastYearPercentages_Dataframes[key] = weekly_percentage_changes.iloc[:,1:]"
   ]
  },
  {
   "cell_type": "code",
   "execution_count": 26,
   "id": "b84c5165",
   "metadata": {
    "ExecuteTime": {
     "end_time": "2024-05-07T17:02:14.526880Z",
     "start_time": "2024-05-07T17:02:14.481998Z"
    },
    "scrolled": true
   },
   "outputs": [
    {
     "data": {
      "text/html": [
       "<div>\n",
       "<style scoped>\n",
       "    .dataframe tbody tr th:only-of-type {\n",
       "        vertical-align: middle;\n",
       "    }\n",
       "\n",
       "    .dataframe tbody tr th {\n",
       "        vertical-align: top;\n",
       "    }\n",
       "\n",
       "    .dataframe thead th {\n",
       "        text-align: right;\n",
       "    }\n",
       "</style>\n",
       "<table border=\"1\" class=\"dataframe\">\n",
       "  <thead>\n",
       "    <tr style=\"text-align: right;\">\n",
       "      <th></th>\n",
       "      <th>2012-02-01</th>\n",
       "      <th>2012-02-02</th>\n",
       "      <th>2012-02-03</th>\n",
       "      <th>2012-02-06</th>\n",
       "      <th>2012-02-07</th>\n",
       "      <th>2012-02-08</th>\n",
       "      <th>2012-02-09</th>\n",
       "      <th>2012-02-10</th>\n",
       "      <th>2012-02-13</th>\n",
       "      <th>2012-02-14</th>\n",
       "      <th>...</th>\n",
       "      <th>2013-01-18</th>\n",
       "      <th>2013-01-21</th>\n",
       "      <th>2013-01-22</th>\n",
       "      <th>2013-01-23</th>\n",
       "      <th>2013-01-24</th>\n",
       "      <th>2013-01-25</th>\n",
       "      <th>2013-01-28</th>\n",
       "      <th>2013-01-29</th>\n",
       "      <th>2013-01-30</th>\n",
       "      <th>2013-01-31</th>\n",
       "    </tr>\n",
       "    <tr>\n",
       "      <th>Name</th>\n",
       "      <th></th>\n",
       "      <th></th>\n",
       "      <th></th>\n",
       "      <th></th>\n",
       "      <th></th>\n",
       "      <th></th>\n",
       "      <th></th>\n",
       "      <th></th>\n",
       "      <th></th>\n",
       "      <th></th>\n",
       "      <th></th>\n",
       "      <th></th>\n",
       "      <th></th>\n",
       "      <th></th>\n",
       "      <th></th>\n",
       "      <th></th>\n",
       "      <th></th>\n",
       "      <th></th>\n",
       "      <th></th>\n",
       "      <th></th>\n",
       "      <th></th>\n",
       "    </tr>\n",
       "  </thead>\n",
       "  <tbody>\n",
       "    <tr>\n",
       "      <th>3I GROUP - TOT RETURN IND</th>\n",
       "      <td>4.533757</td>\n",
       "      <td>0.471426</td>\n",
       "      <td>5.719201</td>\n",
       "      <td>-0.182464</td>\n",
       "      <td>-2.262734</td>\n",
       "      <td>-1.172724</td>\n",
       "      <td>0.726306</td>\n",
       "      <td>-2.046412</td>\n",
       "      <td>1.425609</td>\n",
       "      <td>-3.547151</td>\n",
       "      <td>...</td>\n",
       "      <td>1.056814</td>\n",
       "      <td>-0.121875</td>\n",
       "      <td>0.429049</td>\n",
       "      <td>-0.999451</td>\n",
       "      <td>1.496496</td>\n",
       "      <td>0.682607</td>\n",
       "      <td>0.174338</td>\n",
       "      <td>3.202228</td>\n",
       "      <td>1.723815</td>\n",
       "      <td>-3.061337</td>\n",
       "    </tr>\n",
       "    <tr>\n",
       "      <th>A P MOLLER MAERSK B - TOT RETURN IND</th>\n",
       "      <td>4.306198</td>\n",
       "      <td>-1.094537</td>\n",
       "      <td>2.307701</td>\n",
       "      <td>0.184543</td>\n",
       "      <td>0.093211</td>\n",
       "      <td>0.289351</td>\n",
       "      <td>1.172855</td>\n",
       "      <td>-0.992090</td>\n",
       "      <td>2.149731</td>\n",
       "      <td>0.263601</td>\n",
       "      <td>...</td>\n",
       "      <td>1.040465</td>\n",
       "      <td>1.814520</td>\n",
       "      <td>-1.019555</td>\n",
       "      <td>-1.441050</td>\n",
       "      <td>-1.117231</td>\n",
       "      <td>1.127740</td>\n",
       "      <td>-0.579007</td>\n",
       "      <td>-1.041765</td>\n",
       "      <td>-0.537520</td>\n",
       "      <td>-2.667948</td>\n",
       "    </tr>\n",
       "  </tbody>\n",
       "</table>\n",
       "<p>2 rows × 262 columns</p>\n",
       "</div>"
      ],
      "text/plain": [
       "                                      2012-02-01  2012-02-02  2012-02-03  \\\n",
       "Name                                                                       \n",
       "3I GROUP - TOT RETURN IND               4.533757    0.471426    5.719201   \n",
       "A P MOLLER MAERSK B - TOT RETURN IND    4.306198   -1.094537    2.307701   \n",
       "\n",
       "                                      2012-02-06  2012-02-07  2012-02-08  \\\n",
       "Name                                                                       \n",
       "3I GROUP - TOT RETURN IND              -0.182464   -2.262734   -1.172724   \n",
       "A P MOLLER MAERSK B - TOT RETURN IND    0.184543    0.093211    0.289351   \n",
       "\n",
       "                                      2012-02-09  2012-02-10  2012-02-13  \\\n",
       "Name                                                                       \n",
       "3I GROUP - TOT RETURN IND               0.726306   -2.046412    1.425609   \n",
       "A P MOLLER MAERSK B - TOT RETURN IND    1.172855   -0.992090    2.149731   \n",
       "\n",
       "                                      2012-02-14  ...  2013-01-18  2013-01-21  \\\n",
       "Name                                              ...                           \n",
       "3I GROUP - TOT RETURN IND              -3.547151  ...    1.056814   -0.121875   \n",
       "A P MOLLER MAERSK B - TOT RETURN IND    0.263601  ...    1.040465    1.814520   \n",
       "\n",
       "                                      2013-01-22  2013-01-23  2013-01-24  \\\n",
       "Name                                                                       \n",
       "3I GROUP - TOT RETURN IND               0.429049   -0.999451    1.496496   \n",
       "A P MOLLER MAERSK B - TOT RETURN IND   -1.019555   -1.441050   -1.117231   \n",
       "\n",
       "                                      2013-01-25  2013-01-28  2013-01-29  \\\n",
       "Name                                                                       \n",
       "3I GROUP - TOT RETURN IND               0.682607    0.174338    3.202228   \n",
       "A P MOLLER MAERSK B - TOT RETURN IND    1.127740   -0.579007   -1.041765   \n",
       "\n",
       "                                      2013-01-30  2013-01-31  \n",
       "Name                                                          \n",
       "3I GROUP - TOT RETURN IND               1.723815   -3.061337  \n",
       "A P MOLLER MAERSK B - TOT RETURN IND   -0.537520   -2.667948  \n",
       "\n",
       "[2 rows x 262 columns]"
      ]
     },
     "execution_count": 26,
     "metadata": {},
     "output_type": "execute_result"
    }
   ],
   "source": [
    "Stocks_DailyReturnPastYearPercentages_Dataframes[\"022013\"].head(2)"
   ]
  },
  {
   "cell_type": "markdown",
   "id": "2255520e",
   "metadata": {},
   "source": [
    "#### Daily Index Returns"
   ]
  },
  {
   "cell_type": "markdown",
   "id": "28fe7d2d",
   "metadata": {},
   "source": [
    "##### Daily Absolute Return Index of EUR600"
   ]
  },
  {
   "cell_type": "markdown",
   "id": "c68faedd",
   "metadata": {},
   "source": [
    "Secondly, we find the data we need for the index analogue to what we did with the stocks. We save the results in *Index_DailyReturnPastYear_Dataframes[\"MMYYYY\"]*. Note that again, since we are using daily returns, we already include the day prior to this period."
   ]
  },
  {
   "cell_type": "code",
   "execution_count": 27,
   "id": "1ace95b0",
   "metadata": {
    "ExecuteTime": {
     "end_time": "2024-05-07T17:02:15.031622Z",
     "start_time": "2024-05-07T17:02:14.533862Z"
    }
   },
   "outputs": [],
   "source": [
    "# Initialize the dictionary to store the DataFrames\n",
    "Index_DailyReturnPastYear_Dataframes = {}\n",
    "\n",
    "# Create date range\n",
    "start_date = datetime(2002, 1, 1)\n",
    "end_date = datetime(2024, 3, 31)\n",
    "date_range = pd.date_range(start_date, end_date, freq='MS')  # 'MS' is month start frequency\n",
    "\n",
    "for single_date in date_range:\n",
    "    month, year = single_date.month, single_date.year\n",
    "    df_name = f\"{month:02d}{year}\"\n",
    "\n",
    "    # Find the corresponding row in the dates DataFrame\n",
    "    matching_rows = dates[(dates['Month'] == month) & (dates['Year'] == year)]\n",
    "\n",
    "    for _, row in matching_rows.iterrows():\n",
    "        index_name = row['Index']  # Though you mentioned Index, it seems like it's not used directly here.\n",
    "        start_date = row['StartPastYearMinus1_Weekday'] #HIER ER AL IN VEEL MAKKELIJKER\n",
    "        end_date = row['EndPastYear_Weekday']\n",
    "\n",
    "        # Filter the Index_DailyReturn_Dataframe to get rows within the start and end date\n",
    "        mask = (Index_DailyReturn_Dataframe['Date'] >= start_date) & (Index_DailyReturn_Dataframe['Date'] <= end_date)\n",
    "        filtered_data = Index_DailyReturn_Dataframe.loc[mask, ['Date', 'Return Index ']]\n",
    "\n",
    "        # Store this filtered data in the Index_WeeklyReturn_Dataframes dictionary\n",
    "        Index_DailyReturnPastYear_Dataframes[df_name] = filtered_data"
   ]
  },
  {
   "cell_type": "code",
   "execution_count": 28,
   "id": "ac44d656",
   "metadata": {
    "ExecuteTime": {
     "end_time": "2024-05-07T17:02:15.047614Z",
     "start_time": "2024-05-07T17:02:15.032619Z"
    }
   },
   "outputs": [
    {
     "data": {
      "text/html": [
       "<div>\n",
       "<style scoped>\n",
       "    .dataframe tbody tr th:only-of-type {\n",
       "        vertical-align: middle;\n",
       "    }\n",
       "\n",
       "    .dataframe tbody tr th {\n",
       "        vertical-align: top;\n",
       "    }\n",
       "\n",
       "    .dataframe thead th {\n",
       "        text-align: right;\n",
       "    }\n",
       "</style>\n",
       "<table border=\"1\" class=\"dataframe\">\n",
       "  <thead>\n",
       "    <tr style=\"text-align: right;\">\n",
       "      <th></th>\n",
       "      <th>Date</th>\n",
       "      <th>Return Index</th>\n",
       "    </tr>\n",
       "  </thead>\n",
       "  <tbody>\n",
       "    <tr>\n",
       "      <th>2870</th>\n",
       "      <td>2011-12-30</td>\n",
       "      <td>96.24</td>\n",
       "    </tr>\n",
       "    <tr>\n",
       "      <th>2871</th>\n",
       "      <td>2012-01-02</td>\n",
       "      <td>97.26</td>\n",
       "    </tr>\n",
       "  </tbody>\n",
       "</table>\n",
       "</div>"
      ],
      "text/plain": [
       "           Date  Return Index \n",
       "2870 2011-12-30          96.24\n",
       "2871 2012-01-02          97.26"
      ]
     },
     "execution_count": 28,
     "metadata": {},
     "output_type": "execute_result"
    }
   ],
   "source": [
    "Index_DailyReturnPastYear_Dataframes[\"012013\"].head(2)"
   ]
  },
  {
   "cell_type": "markdown",
   "id": "4e0f2768",
   "metadata": {},
   "source": [
    "##### Daily Relative Return Index of EUR600"
   ]
  },
  {
   "cell_type": "markdown",
   "id": "f9b5a4a6",
   "metadata": {},
   "source": [
    "We now try to find the day-on-day percentual difference again. We store the results in *Index_DailyReturnPastYearPercentages_Dataframes[\"MMYYYY\"]*."
   ]
  },
  {
   "cell_type": "code",
   "execution_count": 29,
   "id": "4cab9311",
   "metadata": {
    "ExecuteTime": {
     "end_time": "2024-05-07T17:02:15.410895Z",
     "start_time": "2024-05-07T17:02:15.049579Z"
    }
   },
   "outputs": [],
   "source": [
    "Index_DailyReturnPastYearPercentages_Dataframes = {}\n",
    "\n",
    "for key, weekly_returns_df in Index_DailyReturnPastYear_Dataframes.items():\n",
    "\n",
    "    # Calculate the week-on-week percentage returns for the rest of the weeks\n",
    "    weekly_returns_df['Daily_Percentage_Change'] = weekly_returns_df['Return Index '].pct_change() * 100\n",
    "           \n",
    "    # Store the result in the new dictionary without resetting index\n",
    "    Index_DailyReturnPastYearPercentages_Dataframes[key] = weekly_returns_df.set_index('Date')[['Daily_Percentage_Change']].iloc[1:, :]"
   ]
  },
  {
   "cell_type": "code",
   "execution_count": 30,
   "id": "10c3fdad",
   "metadata": {
    "ExecuteTime": {
     "end_time": "2024-05-07T17:02:15.425824Z",
     "start_time": "2024-05-07T17:02:15.412887Z"
    }
   },
   "outputs": [
    {
     "data": {
      "text/html": [
       "<div>\n",
       "<style scoped>\n",
       "    .dataframe tbody tr th:only-of-type {\n",
       "        vertical-align: middle;\n",
       "    }\n",
       "\n",
       "    .dataframe tbody tr th {\n",
       "        vertical-align: top;\n",
       "    }\n",
       "\n",
       "    .dataframe thead th {\n",
       "        text-align: right;\n",
       "    }\n",
       "</style>\n",
       "<table border=\"1\" class=\"dataframe\">\n",
       "  <thead>\n",
       "    <tr style=\"text-align: right;\">\n",
       "      <th></th>\n",
       "      <th>Daily_Percentage_Change</th>\n",
       "    </tr>\n",
       "    <tr>\n",
       "      <th>Date</th>\n",
       "      <th></th>\n",
       "    </tr>\n",
       "  </thead>\n",
       "  <tbody>\n",
       "    <tr>\n",
       "      <th>2012-01-02</th>\n",
       "      <td>1.059850</td>\n",
       "    </tr>\n",
       "    <tr>\n",
       "      <th>2012-01-03</th>\n",
       "      <td>1.593666</td>\n",
       "    </tr>\n",
       "  </tbody>\n",
       "</table>\n",
       "</div>"
      ],
      "text/plain": [
       "            Daily_Percentage_Change\n",
       "Date                               \n",
       "2012-01-02                 1.059850\n",
       "2012-01-03                 1.593666"
      ]
     },
     "execution_count": 30,
     "metadata": {},
     "output_type": "execute_result"
    }
   ],
   "source": [
    "Index_DailyReturnPastYearPercentages_Dataframes[\"012013\"].head(2)"
   ]
  },
  {
   "cell_type": "markdown",
   "id": "cd95ec05",
   "metadata": {},
   "source": [
    "#### Comparing Daily Returns"
   ]
  },
  {
   "cell_type": "markdown",
   "id": "8e1a0576",
   "metadata": {},
   "source": [
    "Using the daily relative returns of each stock in Stocks_DailyReturnPastYearPercentages_Dataframes['MMYYYY']  with the daily relative returns of the index in Index_DailyReturnPastYearPercentages_Dataframes[\"MMYYYY\"], we calculate beta with its historical regression formula. This formula is set out in the following function:"
   ]
  },
  {
   "cell_type": "code",
   "execution_count": 31,
   "id": "3617ae73",
   "metadata": {
    "ExecuteTime": {
     "end_time": "2024-05-07T17:02:15.441810Z",
     "start_time": "2024-05-07T17:02:15.427814Z"
    }
   },
   "outputs": [],
   "source": [
    "# Example function to calculate the Comove value for a stock based on its weekly returns and the index's weekly returns\n",
    "def calculate_beta(stock_daily_returns, market_daily_returns):\n",
    "    \n",
    "    # Calculate covariance between stock and market\n",
    "    covariance = stock_daily_returns.cov(market_daily_returns)\n",
    "    \n",
    "    # Calculate variance of the market\n",
    "    variance = market_daily_returns.var()\n",
    "    \n",
    "    # Calculate beta\n",
    "    beta = covariance / variance\n",
    "    \n",
    "    return beta"
   ]
  },
  {
   "cell_type": "markdown",
   "id": "f9a22a78",
   "metadata": {},
   "source": [
    "When applying the function, results are calculated and stored in the column *Beta* of the *Stocks_Monthly_Dataframes['MMYY']*."
   ]
  },
  {
   "cell_type": "code",
   "execution_count": 32,
   "id": "facd02e9",
   "metadata": {
    "ExecuteTime": {
     "end_time": "2024-05-07T17:02:40.956094Z",
     "start_time": "2024-05-07T17:02:15.443773Z"
    }
   },
   "outputs": [
    {
     "name": "stderr",
     "output_type": "stream",
     "text": [
      "C:\\Users\\lunag\\AppData\\Roaming\\Python\\Python39\\site-packages\\pandas\\core\\nanops.py:1609: RuntimeWarning: Degrees of freedom <= 0 for slice\n",
      "  return np.cov(a, b, ddof=ddof)[0, 1]\n",
      "C:\\Users\\lunag\\AppData\\Roaming\\Python\\Python39\\site-packages\\numpy\\lib\\function_base.py:2704: RuntimeWarning: divide by zero encountered in divide\n",
      "  c *= np.true_divide(1, fact)\n"
     ]
    }
   ],
   "source": [
    "# Loop through the years \n",
    "\n",
    "# Define the start and end dates\n",
    "start_date = datetime(2002, 1, 1)\n",
    "end_date = datetime(2024, 3, 31)\n",
    "\n",
    "# Generate the monthly periods\n",
    "monthly_periods = pd.date_range(start_date, end_date, freq='M')\n",
    "\n",
    "for period in monthly_periods:\n",
    "    \n",
    "   # Find dataframe names we need, based on the year\n",
    "    df_name = str(period.month).zfill(2) + str(period.year)\n",
    "    \n",
    "    # Check if we have the data for the year in question\n",
    "    if df_name in Stocks_DailyReturnPastYearPercentages_Dataframes and df_name in Index_DailyReturnPastYearPercentages_Dataframes:\n",
    "        \n",
    "        # 1) Get the stock and index dataframes\n",
    "        stocks_df = Stocks_DailyReturnPastYearPercentages_Dataframes[df_name]\n",
    "        index_df = Index_DailyReturnPastYearPercentages_Dataframes[df_name]\n",
    "        \n",
    "        # 2) Calculate the beta values\n",
    "        beta_values = stocks_df.apply(lambda row: calculate_beta(row, index_df.iloc[:,0]), axis=1) #for each row of the stocks_df (axis=1), apply the function \n",
    "        # calculate_beta with as first parameter the row itself and as second parameter the first column of the index_df\n",
    "        \n",
    "        # 3) Add this columnn to the comove values we already had\n",
    "        Stocks_Monthly_Dataframes[df_name]['Beta'] = beta_values"
   ]
  },
  {
   "cell_type": "code",
   "execution_count": 33,
   "id": "1a833b38",
   "metadata": {
    "ExecuteTime": {
     "end_time": "2024-05-07T17:02:40.972053Z",
     "start_time": "2024-05-07T17:02:40.958090Z"
    }
   },
   "outputs": [
    {
     "data": {
      "text/html": [
       "<div>\n",
       "<style scoped>\n",
       "    .dataframe tbody tr th:only-of-type {\n",
       "        vertical-align: middle;\n",
       "    }\n",
       "\n",
       "    .dataframe tbody tr th {\n",
       "        vertical-align: top;\n",
       "    }\n",
       "\n",
       "    .dataframe thead th {\n",
       "        text-align: right;\n",
       "    }\n",
       "</style>\n",
       "<table border=\"1\" class=\"dataframe\">\n",
       "  <thead>\n",
       "    <tr style=\"text-align: right;\">\n",
       "      <th></th>\n",
       "      <th>Comove</th>\n",
       "      <th>Beta</th>\n",
       "    </tr>\n",
       "    <tr>\n",
       "      <th>Name</th>\n",
       "      <th></th>\n",
       "      <th></th>\n",
       "    </tr>\n",
       "  </thead>\n",
       "  <tbody>\n",
       "    <tr>\n",
       "      <th>3I GROUP - TOT RETURN IND</th>\n",
       "      <td>50.943396</td>\n",
       "      <td>1.185992</td>\n",
       "    </tr>\n",
       "    <tr>\n",
       "      <th>A P MOLLER MAERSK B - TOT RETURN IND</th>\n",
       "      <td>50.943396</td>\n",
       "      <td>1.156205</td>\n",
       "    </tr>\n",
       "  </tbody>\n",
       "</table>\n",
       "</div>"
      ],
      "text/plain": [
       "                                         Comove      Beta\n",
       "Name                                                     \n",
       "3I GROUP - TOT RETURN IND             50.943396  1.185992\n",
       "A P MOLLER MAERSK B - TOT RETURN IND  50.943396  1.156205"
      ]
     },
     "execution_count": 33,
     "metadata": {},
     "output_type": "execute_result"
    }
   ],
   "source": [
    "# This code would result in the Yearly_Dataframes dictionary being populated with a dataframe for each year from 2005 to 2024.\n",
    "Stocks_Monthly_Dataframes[\"012013\"].head(2)"
   ]
  },
  {
   "cell_type": "markdown",
   "id": "078fee18",
   "metadata": {},
   "source": [
    "### Monthly Returns"
   ]
  },
  {
   "cell_type": "markdown",
   "id": "e14d6112",
   "metadata": {},
   "source": [
    "After sorting the data, we will need the monthly return of the market (approximated by the index) and each stock. Let's already collect this data as well. Instead of the previous year returns we worked with for comove and beta, we now use the returns of the actual month.  "
   ]
  },
  {
   "cell_type": "markdown",
   "id": "ae8b8909",
   "metadata": {},
   "source": [
    "#### Monthly Stock Return"
   ]
  },
  {
   "cell_type": "markdown",
   "id": "9a561f12",
   "metadata": {
    "ExecuteTime": {
     "end_time": "2024-04-24T15:18:38.988875Z",
     "start_time": "2024-04-24T15:18:38.974881Z"
    }
   },
   "source": [
    "##### Absolute Monthly Return Index of Stocks"
   ]
  },
  {
   "cell_type": "markdown",
   "id": "57fec345",
   "metadata": {},
   "source": [
    "Let's first look at the daily returns from the last weekday before the start of the month until last day of the month. We store the results in   *Stocks_DailyReturnThisMonth_Dataframes[\"MMYYYY\"]*. Since we use daily returns, we also already include the return index of the day prior to that month."
   ]
  },
  {
   "cell_type": "code",
   "execution_count": 34,
   "id": "48973ddd",
   "metadata": {
    "ExecuteTime": {
     "end_time": "2024-05-07T17:02:41.477932Z",
     "start_time": "2024-05-07T17:02:40.976043Z"
    }
   },
   "outputs": [],
   "source": [
    "# Stocks_DailyReturn_Dataframes = {'IndexName': dataframe, ...}\n",
    "# Initialize the dictionary to store the monthly dataframes\n",
    "Stocks_DailyReturnThisMonth_Dataframes = {}\n",
    "\n",
    "# Define the start and end dates\n",
    "start_date = datetime(2002, 1, 1)\n",
    "end_date = datetime(2024, 3, 31)\n",
    "\n",
    "# Generate the monthly periods\n",
    "monthly_periods = pd.date_range(start_date, end_date, freq='M')\n",
    "\n",
    "for period in monthly_periods:\n",
    "    # Extract the year and month\n",
    "    year = period.year\n",
    "    month = period.month\n",
    "    \n",
    "    # Format the DataFrame name as MMYY\n",
    "    df_name = f\"{month:02d}{year}\"\n",
    "    \n",
    "    # Filter the dates DataFrame for the current month and year\n",
    "    # Assuming 'dates_df' is your DataFrame with 'Month', 'Year', 'Index', \n",
    "    # 'StartPastYear_Weekday', and 'EndPastYear_Weekday' columns\n",
    "    matching_rows = dates[(dates['Month'] == month) & (dates['Year'] == year)]\n",
    "    \n",
    "    # Initialize a list to collect data for the current month\n",
    "    data_for_month = []\n",
    "    \n",
    "    for _, row in matching_rows.iterrows():\n",
    "        index_name = row['Index']\n",
    "        start_date = row['StartMonthMinus1_Weekday'] #HIER ER DUS WEL OOK AL BIJ\n",
    "        end_date = row['EndMonth_Weekday']\n",
    "        \n",
    "        # Access the corresponding daily returns DataFrame\n",
    "        daily_returns_df = Stocks_DailyReturn_Dataframes.get(index_name)\n",
    "        \n",
    "        if daily_returns_df is not None:\n",
    "            \n",
    "            # Find the columns for start and end dates\n",
    "            columns = daily_returns_df.columns\n",
    "            start_col = np.where(columns == pd.Timestamp(start_date))[0][0]\n",
    "            end_col = np.where(columns == pd.Timestamp(end_date))[0][0]\n",
    "            \n",
    "            # Extract the data between these dates\n",
    "            data = daily_returns_df.iloc[:, start_col:end_col+1]\n",
    "            data_for_month.append(data)\n",
    "    \n",
    "    # Concatenate all dataframes for the month (if any) and store in the dictionary\n",
    "    if data_for_month:\n",
    "        Stocks_DailyReturnThisMonth_Dataframes[df_name] = pd.concat(data_for_month, axis=1)\n",
    "    "
   ]
  },
  {
   "cell_type": "code",
   "execution_count": 35,
   "id": "5a80a6bd",
   "metadata": {
    "ExecuteTime": {
     "end_time": "2024-05-07T17:02:41.509825Z",
     "start_time": "2024-05-07T17:02:41.479905Z"
    },
    "scrolled": true
   },
   "outputs": [
    {
     "data": {
      "text/html": [
       "<div>\n",
       "<style scoped>\n",
       "    .dataframe tbody tr th:only-of-type {\n",
       "        vertical-align: middle;\n",
       "    }\n",
       "\n",
       "    .dataframe tbody tr th {\n",
       "        vertical-align: top;\n",
       "    }\n",
       "\n",
       "    .dataframe thead th {\n",
       "        text-align: right;\n",
       "    }\n",
       "</style>\n",
       "<table border=\"1\" class=\"dataframe\">\n",
       "  <thead>\n",
       "    <tr style=\"text-align: right;\">\n",
       "      <th></th>\n",
       "      <th>2012-12-31</th>\n",
       "      <th>2013-01-01</th>\n",
       "      <th>2013-01-02</th>\n",
       "      <th>2013-01-03</th>\n",
       "      <th>2013-01-04</th>\n",
       "      <th>2013-01-07</th>\n",
       "      <th>2013-01-08</th>\n",
       "      <th>2013-01-09</th>\n",
       "      <th>2013-01-10</th>\n",
       "      <th>2013-01-11</th>\n",
       "      <th>...</th>\n",
       "      <th>2013-01-18</th>\n",
       "      <th>2013-01-21</th>\n",
       "      <th>2013-01-22</th>\n",
       "      <th>2013-01-23</th>\n",
       "      <th>2013-01-24</th>\n",
       "      <th>2013-01-25</th>\n",
       "      <th>2013-01-28</th>\n",
       "      <th>2013-01-29</th>\n",
       "      <th>2013-01-30</th>\n",
       "      <th>2013-01-31</th>\n",
       "    </tr>\n",
       "    <tr>\n",
       "      <th>Name</th>\n",
       "      <th></th>\n",
       "      <th></th>\n",
       "      <th></th>\n",
       "      <th></th>\n",
       "      <th></th>\n",
       "      <th></th>\n",
       "      <th></th>\n",
       "      <th></th>\n",
       "      <th></th>\n",
       "      <th></th>\n",
       "      <th></th>\n",
       "      <th></th>\n",
       "      <th></th>\n",
       "      <th></th>\n",
       "      <th></th>\n",
       "      <th></th>\n",
       "      <th></th>\n",
       "      <th></th>\n",
       "      <th></th>\n",
       "      <th></th>\n",
       "      <th></th>\n",
       "    </tr>\n",
       "  </thead>\n",
       "  <tbody>\n",
       "    <tr>\n",
       "      <th>3I GROUP - TOT RETURN IND</th>\n",
       "      <td>229.21</td>\n",
       "      <td>229.21</td>\n",
       "      <td>235.31</td>\n",
       "      <td>237.63</td>\n",
       "      <td>240.54</td>\n",
       "      <td>240.98</td>\n",
       "      <td>240.58</td>\n",
       "      <td>242.15</td>\n",
       "      <td>244.24</td>\n",
       "      <td>250.27</td>\n",
       "      <td>...</td>\n",
       "      <td>254.36</td>\n",
       "      <td>254.05</td>\n",
       "      <td>255.14</td>\n",
       "      <td>252.59</td>\n",
       "      <td>256.37</td>\n",
       "      <td>258.12</td>\n",
       "      <td>258.57</td>\n",
       "      <td>266.85</td>\n",
       "      <td>271.45</td>\n",
       "      <td>263.14</td>\n",
       "    </tr>\n",
       "    <tr>\n",
       "      <th>A P MOLLER MAERSK B - TOT RETURN IND</th>\n",
       "      <td>884.72</td>\n",
       "      <td>884.72</td>\n",
       "      <td>923.93</td>\n",
       "      <td>930.53</td>\n",
       "      <td>928.14</td>\n",
       "      <td>933.88</td>\n",
       "      <td>923.84</td>\n",
       "      <td>939.61</td>\n",
       "      <td>957.76</td>\n",
       "      <td>953.61</td>\n",
       "      <td>...</td>\n",
       "      <td>963.34</td>\n",
       "      <td>980.82</td>\n",
       "      <td>970.82</td>\n",
       "      <td>956.83</td>\n",
       "      <td>946.14</td>\n",
       "      <td>956.81</td>\n",
       "      <td>951.27</td>\n",
       "      <td>941.36</td>\n",
       "      <td>936.30</td>\n",
       "      <td>911.32</td>\n",
       "    </tr>\n",
       "  </tbody>\n",
       "</table>\n",
       "<p>2 rows × 24 columns</p>\n",
       "</div>"
      ],
      "text/plain": [
       "                                      2012-12-31  2013-01-01  2013-01-02  \\\n",
       "Name                                                                       \n",
       "3I GROUP - TOT RETURN IND                 229.21      229.21      235.31   \n",
       "A P MOLLER MAERSK B - TOT RETURN IND      884.72      884.72      923.93   \n",
       "\n",
       "                                      2013-01-03  2013-01-04  2013-01-07  \\\n",
       "Name                                                                       \n",
       "3I GROUP - TOT RETURN IND                 237.63      240.54      240.98   \n",
       "A P MOLLER MAERSK B - TOT RETURN IND      930.53      928.14      933.88   \n",
       "\n",
       "                                      2013-01-08  2013-01-09  2013-01-10  \\\n",
       "Name                                                                       \n",
       "3I GROUP - TOT RETURN IND                 240.58      242.15      244.24   \n",
       "A P MOLLER MAERSK B - TOT RETURN IND      923.84      939.61      957.76   \n",
       "\n",
       "                                      2013-01-11  ...  2013-01-18  2013-01-21  \\\n",
       "Name                                              ...                           \n",
       "3I GROUP - TOT RETURN IND                 250.27  ...      254.36      254.05   \n",
       "A P MOLLER MAERSK B - TOT RETURN IND      953.61  ...      963.34      980.82   \n",
       "\n",
       "                                      2013-01-22  2013-01-23  2013-01-24  \\\n",
       "Name                                                                       \n",
       "3I GROUP - TOT RETURN IND                 255.14      252.59      256.37   \n",
       "A P MOLLER MAERSK B - TOT RETURN IND      970.82      956.83      946.14   \n",
       "\n",
       "                                      2013-01-25  2013-01-28  2013-01-29  \\\n",
       "Name                                                                       \n",
       "3I GROUP - TOT RETURN IND                 258.12      258.57      266.85   \n",
       "A P MOLLER MAERSK B - TOT RETURN IND      956.81      951.27      941.36   \n",
       "\n",
       "                                      2013-01-30  2013-01-31  \n",
       "Name                                                          \n",
       "3I GROUP - TOT RETURN IND                 271.45      263.14  \n",
       "A P MOLLER MAERSK B - TOT RETURN IND      936.30      911.32  \n",
       "\n",
       "[2 rows x 24 columns]"
      ]
     },
     "execution_count": 35,
     "metadata": {},
     "output_type": "execute_result"
    }
   ],
   "source": [
    "  Stocks_DailyReturnThisMonth_Dataframes[\"012013\"].head(2)"
   ]
  },
  {
   "cell_type": "markdown",
   "id": "c123229c",
   "metadata": {},
   "source": [
    "##### Relative Monthly Return Index of Stocks"
   ]
  },
  {
   "cell_type": "markdown",
   "id": "476d7f0e",
   "metadata": {},
   "source": [
    "We take the return of the first and last day, and compare them in order to calculate the monthly stock return. Then we add it to our *Stocks_Monthly_Dataframes[\"MMYYYY\"]* in the column *Return*. "
   ]
  },
  {
   "cell_type": "code",
   "execution_count": 36,
   "id": "ed9748da",
   "metadata": {
    "ExecuteTime": {
     "end_time": "2024-05-07T17:02:41.811321Z",
     "start_time": "2024-05-07T17:02:41.512825Z"
    }
   },
   "outputs": [
    {
     "name": "stdout",
     "output_type": "stream",
     "text": [
      "DataFrame 012002 not found in Stocks_DailyReturnThisMonth_Dataframes.\n",
      "DataFrame 022002 not found in Stocks_DailyReturnThisMonth_Dataframes.\n",
      "DataFrame 032002 not found in Stocks_DailyReturnThisMonth_Dataframes.\n",
      "DataFrame 042002 not found in Stocks_DailyReturnThisMonth_Dataframes.\n",
      "DataFrame 052002 not found in Stocks_DailyReturnThisMonth_Dataframes.\n",
      "DataFrame 062002 not found in Stocks_DailyReturnThisMonth_Dataframes.\n",
      "DataFrame 072002 not found in Stocks_DailyReturnThisMonth_Dataframes.\n",
      "DataFrame 082002 not found in Stocks_DailyReturnThisMonth_Dataframes.\n",
      "DataFrame 092002 not found in Stocks_DailyReturnThisMonth_Dataframes.\n",
      "DataFrame 102002 not found in Stocks_DailyReturnThisMonth_Dataframes.\n",
      "DataFrame 112002 not found in Stocks_DailyReturnThisMonth_Dataframes.\n",
      "DataFrame 122002 not found in Stocks_DailyReturnThisMonth_Dataframes.\n",
      "DataFrame 012003 not found in Stocks_DailyReturnThisMonth_Dataframes.\n",
      "DataFrame 022003 not found in Stocks_DailyReturnThisMonth_Dataframes.\n",
      "DataFrame 032003 not found in Stocks_DailyReturnThisMonth_Dataframes.\n",
      "DataFrame 042003 not found in Stocks_DailyReturnThisMonth_Dataframes.\n",
      "DataFrame 052003 not found in Stocks_DailyReturnThisMonth_Dataframes.\n",
      "DataFrame 062003 not found in Stocks_DailyReturnThisMonth_Dataframes.\n",
      "DataFrame 072003 not found in Stocks_DailyReturnThisMonth_Dataframes.\n",
      "DataFrame 082003 not found in Stocks_DailyReturnThisMonth_Dataframes.\n",
      "DataFrame 092003 not found in Stocks_DailyReturnThisMonth_Dataframes.\n",
      "DataFrame 102003 not found in Stocks_DailyReturnThisMonth_Dataframes.\n",
      "DataFrame 112003 not found in Stocks_DailyReturnThisMonth_Dataframes.\n",
      "DataFrame 122003 not found in Stocks_DailyReturnThisMonth_Dataframes.\n",
      "DataFrame 012004 not found in Stocks_DailyReturnThisMonth_Dataframes.\n",
      "DataFrame 022004 not found in Stocks_DailyReturnThisMonth_Dataframes.\n",
      "DataFrame 032004 not found in Stocks_DailyReturnThisMonth_Dataframes.\n",
      "DataFrame 042004 not found in Stocks_DailyReturnThisMonth_Dataframes.\n",
      "DataFrame 052004 not found in Stocks_DailyReturnThisMonth_Dataframes.\n",
      "DataFrame 062004 not found in Stocks_DailyReturnThisMonth_Dataframes.\n",
      "DataFrame 072004 not found in Stocks_DailyReturnThisMonth_Dataframes.\n",
      "DataFrame 082004 not found in Stocks_DailyReturnThisMonth_Dataframes.\n",
      "DataFrame 092004 not found in Stocks_DailyReturnThisMonth_Dataframes.\n",
      "DataFrame 102004 not found in Stocks_DailyReturnThisMonth_Dataframes.\n",
      "DataFrame 112004 not found in Stocks_DailyReturnThisMonth_Dataframes.\n",
      "DataFrame 122004 not found in Stocks_DailyReturnThisMonth_Dataframes.\n",
      "DataFrame 012005 not found in Stocks_DailyReturnThisMonth_Dataframes.\n",
      "DataFrame 022005 not found in Stocks_DailyReturnThisMonth_Dataframes.\n",
      "DataFrame 032005 not found in Stocks_DailyReturnThisMonth_Dataframes.\n",
      "DataFrame 042005 not found in Stocks_DailyReturnThisMonth_Dataframes.\n",
      "DataFrame 052005 not found in Stocks_DailyReturnThisMonth_Dataframes.\n",
      "DataFrame 062005 not found in Stocks_DailyReturnThisMonth_Dataframes.\n",
      "DataFrame 072005 not found in Stocks_DailyReturnThisMonth_Dataframes.\n",
      "DataFrame 082005 not found in Stocks_DailyReturnThisMonth_Dataframes.\n",
      "DataFrame 092005 not found in Stocks_DailyReturnThisMonth_Dataframes.\n",
      "DataFrame 102005 not found in Stocks_DailyReturnThisMonth_Dataframes.\n",
      "DataFrame 112005 not found in Stocks_DailyReturnThisMonth_Dataframes.\n",
      "DataFrame 122005 not found in Stocks_DailyReturnThisMonth_Dataframes.\n",
      "DataFrame 012006 not found in Stocks_DailyReturnThisMonth_Dataframes.\n",
      "DataFrame 022006 not found in Stocks_DailyReturnThisMonth_Dataframes.\n",
      "DataFrame 032006 not found in Stocks_DailyReturnThisMonth_Dataframes.\n",
      "DataFrame 042006 not found in Stocks_DailyReturnThisMonth_Dataframes.\n",
      "DataFrame 052006 not found in Stocks_DailyReturnThisMonth_Dataframes.\n",
      "DataFrame 062006 not found in Stocks_DailyReturnThisMonth_Dataframes.\n",
      "DataFrame 072006 not found in Stocks_DailyReturnThisMonth_Dataframes.\n",
      "DataFrame 082006 not found in Stocks_DailyReturnThisMonth_Dataframes.\n",
      "DataFrame 092006 not found in Stocks_DailyReturnThisMonth_Dataframes.\n",
      "DataFrame 102006 not found in Stocks_DailyReturnThisMonth_Dataframes.\n",
      "DataFrame 112006 not found in Stocks_DailyReturnThisMonth_Dataframes.\n",
      "DataFrame 122006 not found in Stocks_DailyReturnThisMonth_Dataframes.\n",
      "DataFrame 012007 not found in Stocks_DailyReturnThisMonth_Dataframes.\n",
      "DataFrame 022007 not found in Stocks_DailyReturnThisMonth_Dataframes.\n",
      "DataFrame 032007 not found in Stocks_DailyReturnThisMonth_Dataframes.\n",
      "DataFrame 042007 not found in Stocks_DailyReturnThisMonth_Dataframes.\n",
      "DataFrame 052007 not found in Stocks_DailyReturnThisMonth_Dataframes.\n",
      "DataFrame 062007 not found in Stocks_DailyReturnThisMonth_Dataframes.\n",
      "DataFrame 072007 not found in Stocks_DailyReturnThisMonth_Dataframes.\n",
      "DataFrame 082007 not found in Stocks_DailyReturnThisMonth_Dataframes.\n",
      "DataFrame 092007 not found in Stocks_DailyReturnThisMonth_Dataframes.\n",
      "DataFrame 102007 not found in Stocks_DailyReturnThisMonth_Dataframes.\n",
      "DataFrame 112007 not found in Stocks_DailyReturnThisMonth_Dataframes.\n",
      "DataFrame 122007 not found in Stocks_DailyReturnThisMonth_Dataframes.\n",
      "DataFrame 012008 not found in Stocks_DailyReturnThisMonth_Dataframes.\n",
      "DataFrame 022008 not found in Stocks_DailyReturnThisMonth_Dataframes.\n",
      "DataFrame 032008 not found in Stocks_DailyReturnThisMonth_Dataframes.\n",
      "DataFrame 042008 not found in Stocks_DailyReturnThisMonth_Dataframes.\n",
      "DataFrame 052008 not found in Stocks_DailyReturnThisMonth_Dataframes.\n",
      "DataFrame 062008 not found in Stocks_DailyReturnThisMonth_Dataframes.\n",
      "DataFrame 072008 not found in Stocks_DailyReturnThisMonth_Dataframes.\n",
      "DataFrame 082008 not found in Stocks_DailyReturnThisMonth_Dataframes.\n",
      "DataFrame 092008 not found in Stocks_DailyReturnThisMonth_Dataframes.\n",
      "DataFrame 102008 not found in Stocks_DailyReturnThisMonth_Dataframes.\n",
      "DataFrame 112008 not found in Stocks_DailyReturnThisMonth_Dataframes.\n",
      "DataFrame 122008 not found in Stocks_DailyReturnThisMonth_Dataframes.\n",
      "DataFrame 012009 not found in Stocks_DailyReturnThisMonth_Dataframes.\n",
      "DataFrame 022009 not found in Stocks_DailyReturnThisMonth_Dataframes.\n",
      "DataFrame 032009 not found in Stocks_DailyReturnThisMonth_Dataframes.\n",
      "DataFrame 042009 not found in Stocks_DailyReturnThisMonth_Dataframes.\n",
      "DataFrame 052009 not found in Stocks_DailyReturnThisMonth_Dataframes.\n",
      "DataFrame 062009 not found in Stocks_DailyReturnThisMonth_Dataframes.\n",
      "DataFrame 072009 not found in Stocks_DailyReturnThisMonth_Dataframes.\n",
      "DataFrame 082009 not found in Stocks_DailyReturnThisMonth_Dataframes.\n",
      "DataFrame 092009 not found in Stocks_DailyReturnThisMonth_Dataframes.\n",
      "DataFrame 102009 not found in Stocks_DailyReturnThisMonth_Dataframes.\n",
      "DataFrame 112009 not found in Stocks_DailyReturnThisMonth_Dataframes.\n",
      "DataFrame 122009 not found in Stocks_DailyReturnThisMonth_Dataframes.\n",
      "DataFrame 012010 not found in Stocks_DailyReturnThisMonth_Dataframes.\n",
      "DataFrame 022010 not found in Stocks_DailyReturnThisMonth_Dataframes.\n",
      "DataFrame 032010 not found in Stocks_DailyReturnThisMonth_Dataframes.\n",
      "DataFrame 042010 not found in Stocks_DailyReturnThisMonth_Dataframes.\n",
      "DataFrame 052010 not found in Stocks_DailyReturnThisMonth_Dataframes.\n",
      "DataFrame 062010 not found in Stocks_DailyReturnThisMonth_Dataframes.\n",
      "DataFrame 072010 not found in Stocks_DailyReturnThisMonth_Dataframes.\n",
      "DataFrame 082010 not found in Stocks_DailyReturnThisMonth_Dataframes.\n",
      "DataFrame 092010 not found in Stocks_DailyReturnThisMonth_Dataframes.\n",
      "DataFrame 102010 not found in Stocks_DailyReturnThisMonth_Dataframes.\n",
      "DataFrame 112010 not found in Stocks_DailyReturnThisMonth_Dataframes.\n",
      "DataFrame 122010 not found in Stocks_DailyReturnThisMonth_Dataframes.\n",
      "DataFrame 012011 not found in Stocks_DailyReturnThisMonth_Dataframes.\n",
      "DataFrame 022011 not found in Stocks_DailyReturnThisMonth_Dataframes.\n",
      "DataFrame 032011 not found in Stocks_DailyReturnThisMonth_Dataframes.\n",
      "DataFrame 042011 not found in Stocks_DailyReturnThisMonth_Dataframes.\n",
      "DataFrame 052011 not found in Stocks_DailyReturnThisMonth_Dataframes.\n",
      "DataFrame 062011 not found in Stocks_DailyReturnThisMonth_Dataframes.\n",
      "DataFrame 072011 not found in Stocks_DailyReturnThisMonth_Dataframes.\n",
      "DataFrame 082011 not found in Stocks_DailyReturnThisMonth_Dataframes.\n",
      "DataFrame 092011 not found in Stocks_DailyReturnThisMonth_Dataframes.\n",
      "DataFrame 102011 not found in Stocks_DailyReturnThisMonth_Dataframes.\n",
      "DataFrame 112011 not found in Stocks_DailyReturnThisMonth_Dataframes.\n",
      "DataFrame 122011 not found in Stocks_DailyReturnThisMonth_Dataframes.\n",
      "DataFrame 012012 not found in Stocks_DailyReturnThisMonth_Dataframes.\n",
      "DataFrame 022012 not found in Stocks_DailyReturnThisMonth_Dataframes.\n",
      "DataFrame 032012 not found in Stocks_DailyReturnThisMonth_Dataframes.\n",
      "DataFrame 042012 not found in Stocks_DailyReturnThisMonth_Dataframes.\n",
      "DataFrame 052012 not found in Stocks_DailyReturnThisMonth_Dataframes.\n",
      "DataFrame 062012 not found in Stocks_DailyReturnThisMonth_Dataframes.\n",
      "DataFrame 072012 not found in Stocks_DailyReturnThisMonth_Dataframes.\n",
      "DataFrame 082012 not found in Stocks_DailyReturnThisMonth_Dataframes.\n",
      "DataFrame 092012 not found in Stocks_DailyReturnThisMonth_Dataframes.\n",
      "DataFrame 102012 not found in Stocks_DailyReturnThisMonth_Dataframes.\n",
      "DataFrame 112012 not found in Stocks_DailyReturnThisMonth_Dataframes.\n",
      "DataFrame 122012 not found in Stocks_DailyReturnThisMonth_Dataframes.\n"
     ]
    },
    {
     "name": "stdout",
     "output_type": "stream",
     "text": [
      "DataFrame 032024 not found in Stocks_DailyReturnThisMonth_Dataframes.\n"
     ]
    }
   ],
   "source": [
    "\n",
    "# Assuming Stocks_DailyReturnThisMonth_Dataframes and Stock_Monthly_Dataframes are defined\n",
    "# Example: Stocks_DailyReturnThisMonth_Dataframes = {'012002': df1, '022002': df2, ...}\n",
    "\n",
    "# Define the start and end dates and generate monthly periods\n",
    "start_date = datetime(2002, 1, 1)\n",
    "end_date = datetime(2024, 3, 31)\n",
    "monthly_periods = pd.date_range(start_date, end_date, freq='M')\n",
    "\n",
    "# Iterate over each period\n",
    "for period in monthly_periods:\n",
    "    # Format MMYYYY for the dataframe names\n",
    "    df_name = period.strftime(\"%m%Y\")\n",
    "\n",
    "    # Find the DataFrame for the current period in Stocks_DailyReturnThisMonth_Dataframes\n",
    "    if df_name in Stocks_DailyReturnThisMonth_Dataframes:\n",
    "        daily_return_df = Stocks_DailyReturnThisMonth_Dataframes[df_name]\n",
    "\n",
    "        # Ensure there is more than one column to calculate return\n",
    "        if len(daily_return_df.columns) > 1:\n",
    "            # Get the start and end return\n",
    "            start_return = daily_return_df.iloc[:, 0]  # First column\n",
    "            end_return = daily_return_df.iloc[:, -1]  # Last column\n",
    "\n",
    "            # Calculate the monthly return for each stock\n",
    "            monthly_return = (end_return - start_return) / start_return * 100\n",
    "\n",
    "            # Prepare the DataFrame for monthly returns if it does not exist\n",
    "            if df_name not in Stocks_Monthly_Dataframes:\n",
    "                Stocks_Monthly_Dataframes[df_name] = pd.DataFrame(index=daily_return_df.index)\n",
    "            \n",
    "            # Add the 'Monthly Return' column to the MMYYYY DataFrame in Stock_Monthly_Dataframes\n",
    "            Stocks_Monthly_Dataframes[df_name]['Return'] = monthly_return\n",
    "        else:\n",
    "            print(f\"DataFrame {df_name} does not have enough data to calculate monthly returns.\")\n",
    "    else:\n",
    "        print(f\"DataFrame {df_name} not found in Stocks_DailyReturnThisMonth_Dataframes.\")\n"
   ]
  },
  {
   "cell_type": "code",
   "execution_count": 37,
   "id": "ea3af699",
   "metadata": {
    "ExecuteTime": {
     "end_time": "2024-05-07T17:02:41.842244Z",
     "start_time": "2024-05-07T17:02:41.814315Z"
    },
    "scrolled": true
   },
   "outputs": [
    {
     "data": {
      "text/html": [
       "<div>\n",
       "<style scoped>\n",
       "    .dataframe tbody tr th:only-of-type {\n",
       "        vertical-align: middle;\n",
       "    }\n",
       "\n",
       "    .dataframe tbody tr th {\n",
       "        vertical-align: top;\n",
       "    }\n",
       "\n",
       "    .dataframe thead th {\n",
       "        text-align: right;\n",
       "    }\n",
       "</style>\n",
       "<table border=\"1\" class=\"dataframe\">\n",
       "  <thead>\n",
       "    <tr style=\"text-align: right;\">\n",
       "      <th></th>\n",
       "      <th>Comove</th>\n",
       "      <th>Beta</th>\n",
       "      <th>Return</th>\n",
       "    </tr>\n",
       "    <tr>\n",
       "      <th>Name</th>\n",
       "      <th></th>\n",
       "      <th></th>\n",
       "      <th></th>\n",
       "    </tr>\n",
       "  </thead>\n",
       "  <tbody>\n",
       "    <tr>\n",
       "      <th>3I GROUP - TOT RETURN IND</th>\n",
       "      <td>50.943396</td>\n",
       "      <td>1.185992</td>\n",
       "      <td>14.803019</td>\n",
       "    </tr>\n",
       "    <tr>\n",
       "      <th>A P MOLLER MAERSK B - TOT RETURN IND</th>\n",
       "      <td>50.943396</td>\n",
       "      <td>1.156205</td>\n",
       "      <td>3.006601</td>\n",
       "    </tr>\n",
       "  </tbody>\n",
       "</table>\n",
       "</div>"
      ],
      "text/plain": [
       "                                         Comove      Beta     Return\n",
       "Name                                                                \n",
       "3I GROUP - TOT RETURN IND             50.943396  1.185992  14.803019\n",
       "A P MOLLER MAERSK B - TOT RETURN IND  50.943396  1.156205   3.006601"
      ]
     },
     "execution_count": 37,
     "metadata": {},
     "output_type": "execute_result"
    }
   ],
   "source": [
    "Stocks_Monthly_Dataframes[\"012013\"].head(2)"
   ]
  },
  {
   "cell_type": "markdown",
   "id": "8a0dc276",
   "metadata": {},
   "source": [
    "####  Monthly Index Return"
   ]
  },
  {
   "cell_type": "markdown",
   "id": "52b12078",
   "metadata": {},
   "source": [
    "In the dataframe Index_DailyReturn_Dataframe, the absolute return index of every possible date is already given. For each MMY, we look up the date of last weekday before that month starts, and the last weekday of that month. These two dates are used to look up the absolute return index in this dataframe Index_DailyReturn_Dataframe. The two absolute return indexes are used to calculate the monthly relative difference. The results are stored in a dataframe *Index_MonthlyReturn_Dataframe* , with each MMYYY a row."
   ]
  },
  {
   "cell_type": "code",
   "execution_count": 38,
   "id": "a61209db",
   "metadata": {
    "ExecuteTime": {
     "end_time": "2024-05-07T17:02:42.408900Z",
     "start_time": "2024-05-07T17:02:41.844234Z"
    }
   },
   "outputs": [],
   "source": [
    "# Initialize an empty dictionary to store the yearly market returns\n",
    "monthly_market_returns = {}\n",
    "\n",
    "# Define the start and end dates\n",
    "start_date = datetime(2002, 1, 1)\n",
    "end_date = datetime(2024, 3, 31)\n",
    "# Generate the monthly periods\n",
    "monthly_periods = pd.date_range(start_date, end_date, freq='M')\n",
    "\n",
    "for period in monthly_periods:\n",
    "    \n",
    "     # Extract the year and month\n",
    "    year = period.year\n",
    "    month = period.month\n",
    "    \n",
    "    # Format the DataFrame name as MMYY\n",
    "    df_name = f\"{month:02d}{year}\"\n",
    "    \n",
    "    # Filter the dates DataFrame for the current month and year\n",
    "    # Assuming 'dates_df' is your DataFrame with 'Month', 'Year', 'Index', \n",
    "    # 'StartPastYear_Weekday', and 'EndPastYear_Weekday' columns\n",
    "    matching_rows = dates[(dates['Month'] == month) & (dates['Year'] == year)]\n",
    "    \n",
    "    # Initialize a list to collect data for the current month\n",
    "    data_for_month = []\n",
    "    \n",
    "    for _, row in matching_rows.iterrows():\n",
    "        index_name = row['Index']\n",
    "        start_date = row['StartMonthMinus1_Weekday']\n",
    "        end_date = row['EndMonth_Weekday']\n",
    "        \n",
    "        mask = (Index_DailyReturn_Dataframe['Date'] >= start_date) & (Index_DailyReturn_Dataframe['Date'] <= end_date)\n",
    "        filtered_data = Index_DailyReturn_Dataframe.loc[mask, ['Date', 'Return Index ']]\n",
    "        \n",
    "        #now take % diff between first and last row of filtered data\n",
    "        first_value = filtered_data['Return Index '].iloc[0]\n",
    "        last_value = filtered_data['Return Index '].iloc[-1]\n",
    "        percentage_change = (last_value - first_value) / first_value * 100\n",
    "        \n",
    "        # Store the result in the dictionary\n",
    "        monthly_market_returns[df_name] = percentage_change\n",
    "    \n",
    "        \n",
    "# Convert the dictionary to a DataFrame\n",
    "Index_MonthlyReturn_Dataframe = pd.DataFrame(list(monthly_market_returns.items()), columns=['MMYYYY', 'Monthly Market Return'])\n",
    "\n",
    "# Set the 'MMYYYY' column as the index\n",
    "Index_MonthlyReturn_Dataframe.set_index('MMYYYY', inplace=True)"
   ]
  },
  {
   "cell_type": "code",
   "execution_count": 39,
   "id": "743dd28b",
   "metadata": {
    "ExecuteTime": {
     "end_time": "2024-05-07T17:02:42.424652Z",
     "start_time": "2024-05-07T17:02:42.410685Z"
    }
   },
   "outputs": [
    {
     "data": {
      "text/html": [
       "<div>\n",
       "<style scoped>\n",
       "    .dataframe tbody tr th:only-of-type {\n",
       "        vertical-align: middle;\n",
       "    }\n",
       "\n",
       "    .dataframe tbody tr th {\n",
       "        vertical-align: top;\n",
       "    }\n",
       "\n",
       "    .dataframe thead th {\n",
       "        text-align: right;\n",
       "    }\n",
       "</style>\n",
       "<table border=\"1\" class=\"dataframe\">\n",
       "  <thead>\n",
       "    <tr style=\"text-align: right;\">\n",
       "      <th></th>\n",
       "      <th>Monthly Market Return</th>\n",
       "    </tr>\n",
       "    <tr>\n",
       "      <th>MMYYYY</th>\n",
       "      <th></th>\n",
       "    </tr>\n",
       "  </thead>\n",
       "  <tbody>\n",
       "    <tr>\n",
       "      <th>012013</th>\n",
       "      <td>2.838428</td>\n",
       "    </tr>\n",
       "    <tr>\n",
       "      <th>022013</th>\n",
       "      <td>1.180467</td>\n",
       "    </tr>\n",
       "  </tbody>\n",
       "</table>\n",
       "</div>"
      ],
      "text/plain": [
       "        Monthly Market Return\n",
       "MMYYYY                       \n",
       "012013               2.838428\n",
       "022013               1.180467"
      ]
     },
     "execution_count": 39,
     "metadata": {},
     "output_type": "execute_result"
    }
   ],
   "source": [
    "# Display the resulting DataFrame\n",
    "Index_MonthlyReturn_Dataframe.head(2)"
   ]
  },
  {
   "cell_type": "markdown",
   "id": "053a95d1",
   "metadata": {},
   "source": [
    "### Monthly Control Factors"
   ]
  },
  {
   "cell_type": "markdown",
   "id": "e0ff7e27",
   "metadata": {},
   "source": [
    "The factor data comes from various sources, and are saved in one excel called Factors_Monthly. For data definitions and sources of the factors, see the appendix. The sheet where all factors are on there together is saved as a dataframe called *Factors_Monthly_Dataframe*."
   ]
  },
  {
   "cell_type": "markdown",
   "id": "6307111d",
   "metadata": {},
   "source": [
    "**TODO:** Nu zijn ze niet maal 100 gedaan, nakijken wat nu eigenlijk juist is. Ik denk dat die orginele 5 factors ook nog gedeeld moeten door 100. Ik heb dat nu gedaan dus we zullen kijken."
   ]
  },
  {
   "cell_type": "code",
   "execution_count": 40,
   "id": "4edc6f4a",
   "metadata": {
    "ExecuteTime": {
     "end_time": "2024-05-07T17:02:42.614279Z",
     "start_time": "2024-05-07T17:02:42.428640Z"
    }
   },
   "outputs": [],
   "source": [
    "# The path to the Excel file\n",
    "Factors_Yearly_ExcelPath = 'Factors_Monthly.xlsx'\n",
    "Factors_Monthly_SheetName = 'Factors_Monthly'\n",
    "\n",
    "# Read the specified sheet into a DataFrame\n",
    "Factors_Monthly_Dataframe = pd.read_excel(Factors_Yearly_ExcelPath, sheet_name=Factors_Monthly_SheetName)"
   ]
  },
  {
   "cell_type": "code",
   "execution_count": 41,
   "id": "99b9e727",
   "metadata": {
    "ExecuteTime": {
     "end_time": "2024-05-07T17:02:42.644511Z",
     "start_time": "2024-05-07T17:02:42.615277Z"
    }
   },
   "outputs": [
    {
     "data": {
      "text/html": [
       "<div>\n",
       "<style scoped>\n",
       "    .dataframe tbody tr th:only-of-type {\n",
       "        vertical-align: middle;\n",
       "    }\n",
       "\n",
       "    .dataframe tbody tr th {\n",
       "        vertical-align: top;\n",
       "    }\n",
       "\n",
       "    .dataframe thead th {\n",
       "        text-align: right;\n",
       "    }\n",
       "</style>\n",
       "<table border=\"1\" class=\"dataframe\">\n",
       "  <thead>\n",
       "    <tr style=\"text-align: right;\">\n",
       "      <th></th>\n",
       "      <th>Year</th>\n",
       "      <th>Month</th>\n",
       "      <th>MMYYYY</th>\n",
       "      <th>Mkt-RF</th>\n",
       "      <th>RF</th>\n",
       "      <th>SMB</th>\n",
       "      <th>HML</th>\n",
       "      <th>HML_Devil</th>\n",
       "      <th>RMW</th>\n",
       "      <th>CMA</th>\n",
       "      <th>UMD</th>\n",
       "      <th>UMD_Trend</th>\n",
       "      <th>BAB</th>\n",
       "      <th>QMJ</th>\n",
       "      <th>Carry</th>\n",
       "      <th>Seasonal</th>\n",
       "    </tr>\n",
       "  </thead>\n",
       "  <tbody>\n",
       "    <tr>\n",
       "      <th>0</th>\n",
       "      <td>2000</td>\n",
       "      <td>1</td>\n",
       "      <td>12000</td>\n",
       "      <td>-0.0712</td>\n",
       "      <td>0.0041</td>\n",
       "      <td>0.0883</td>\n",
       "      <td>-0.0612</td>\n",
       "      <td>-0.075695</td>\n",
       "      <td>0.0265</td>\n",
       "      <td>-0.0428</td>\n",
       "      <td>0.069240</td>\n",
       "      <td>-0.034088</td>\n",
       "      <td>0.086910</td>\n",
       "      <td>0.016577</td>\n",
       "      <td>-0.011955</td>\n",
       "      <td>-0.003817</td>\n",
       "    </tr>\n",
       "    <tr>\n",
       "      <th>1</th>\n",
       "      <td>2000</td>\n",
       "      <td>2</td>\n",
       "      <td>22000</td>\n",
       "      <td>0.0587</td>\n",
       "      <td>0.0043</td>\n",
       "      <td>0.0083</td>\n",
       "      <td>-0.0950</td>\n",
       "      <td>-0.176450</td>\n",
       "      <td>0.0363</td>\n",
       "      <td>-0.0730</td>\n",
       "      <td>0.109318</td>\n",
       "      <td>0.039829</td>\n",
       "      <td>-0.044927</td>\n",
       "      <td>0.023143</td>\n",
       "      <td>0.058344</td>\n",
       "      <td>0.094229</td>\n",
       "    </tr>\n",
       "  </tbody>\n",
       "</table>\n",
       "</div>"
      ],
      "text/plain": [
       "   Year  Month  MMYYYY  Mkt-RF      RF     SMB     HML  HML_Devil     RMW  \\\n",
       "0  2000      1   12000 -0.0712  0.0041  0.0883 -0.0612  -0.075695  0.0265   \n",
       "1  2000      2   22000  0.0587  0.0043  0.0083 -0.0950  -0.176450  0.0363   \n",
       "\n",
       "      CMA       UMD  UMD_Trend       BAB       QMJ     Carry  Seasonal  \n",
       "0 -0.0428  0.069240  -0.034088  0.086910  0.016577 -0.011955 -0.003817  \n",
       "1 -0.0730  0.109318   0.039829 -0.044927  0.023143  0.058344  0.094229  "
      ]
     },
     "execution_count": 41,
     "metadata": {},
     "output_type": "execute_result"
    }
   ],
   "source": [
    "Factors_Monthly_Dataframe.head(2)"
   ]
  },
  {
   "cell_type": "markdown",
   "id": "04fd5f8f",
   "metadata": {},
   "source": [
    "## Data Preparation"
   ]
  },
  {
   "cell_type": "markdown",
   "id": "dc396627",
   "metadata": {},
   "source": [
    "We have now collected all the data of individual stocks. We need to sort the stocks in portfolios and write this to an excel before we can start our regression."
   ]
  },
  {
   "cell_type": "markdown",
   "id": "45909c01",
   "metadata": {},
   "source": [
    "### Sorting the Stocks into Portfolio's"
   ]
  },
  {
   "cell_type": "markdown",
   "id": "86bc7fe3",
   "metadata": {},
   "source": [
    "#### Defining Ranks"
   ]
  },
  {
   "cell_type": "markdown",
   "id": "7fc5b4bc",
   "metadata": {
    "ExecuteTime": {
     "end_time": "2024-03-31T20:34:57.492750Z",
     "start_time": "2024-03-31T20:34:57.471803Z"
    }
   },
   "source": [
    "We now have a dataframe for each MMYY called Stocks_Monthly_Dataframes[\"MMYYYY\"] with the column name, Comove and Beta. What i want to do now is the following:\n",
    "- Step 1: Rank the stocks on beta. Divide the stocks into quintiles based on their beta value. Add a additional column called Beta rank where each stock gets a number between 1 and 5, based on the quintile they are in. This is 1 indicating the quintile with the lowest betas and 5 the highest.\n",
    "- Step 2: For each quintile, filter the dataframe for only stocks within this quintile. Rank the filtered stocks on Comove. Divide the filtered stocks into quintiles based on their comove value. Add a additional column to the intial dataframe called Comove rank where each stock gets a number between 1 and 5, based on the quintile they are in. This is 1 indicating the quintile with the lowest comove and 5 the highest within each beta quintile.\n",
    "\n",
    "This results in two extra columns in *Stocks_Monthly_Dataframes[\"MMYYYY\"]*: *Comove rank* and *Beta rank*. "
   ]
  },
  {
   "cell_type": "code",
   "execution_count": 42,
   "id": "7d1ea99b",
   "metadata": {
    "ExecuteTime": {
     "end_time": "2024-05-07T17:02:43.864998Z",
     "start_time": "2024-05-07T17:02:42.646506Z"
    }
   },
   "outputs": [],
   "source": [
    "# Define the start and end dates\n",
    "start_date = datetime(2013, 1, 1)\n",
    "end_date = datetime(2024, 3, 30)\n",
    "# Generate the monthly periods\n",
    "monthly_periods = pd.date_range(start_date, end_date, freq='M')\n",
    "\n",
    "for period in monthly_periods:\n",
    "    # Extract the year and month\n",
    "    year = period.year\n",
    "    month = period.month\n",
    "    \n",
    "    # Format the DataFrame name as MMYY and find the correct dataframe\n",
    "    df_name = f\"{month:02d}{year}\"\n",
    "    df = Stocks_Monthly_Dataframes[df_name]\n",
    "    \n",
    "     # Step 1: Rank stocks on Beta and assign quintile ranks (1 to 5)\n",
    "    df['Beta rank'] = pd.qcut(df['Beta'], 5, labels=False) + 1 #Note that when doing this, it will automatically ignore the remaining Nan values for beta\n",
    "    \n",
    "    # Step 2: For each Beta quintile, rank stocks on Comove within the quintile\n",
    "    # Prepare a column for Comove ranks\n",
    "    df['Comove rank'] = pd.NA\n",
    "    for quintile in range(1, 6):\n",
    "        # Filter for stocks in the current Beta quintile\n",
    "        quintile_df = df[df['Beta rank'] == quintile]\n",
    "            \n",
    "        # Rank the filtered stocks on Comove and divide into quintiles\n",
    "        comove_ranks = pd.qcut(quintile_df['Comove'], 5, labels=False) + 1\n",
    "            \n",
    "        # Assign the Comove ranks back to the original DataFrame\n",
    "        df.loc[df['Beta rank'] == quintile, 'Comove rank'] = comove_ranks\n",
    "        \n",
    "        # Update the DataFrame in the dictionary\n",
    "        Stocks_Monthly_Dataframes[df_name] = df\n",
    "    "
   ]
  },
  {
   "cell_type": "code",
   "execution_count": 43,
   "id": "b5341553",
   "metadata": {
    "ExecuteTime": {
     "end_time": "2024-05-07T17:02:43.880964Z",
     "start_time": "2024-05-07T17:02:43.867035Z"
    }
   },
   "outputs": [
    {
     "data": {
      "text/html": [
       "<div>\n",
       "<style scoped>\n",
       "    .dataframe tbody tr th:only-of-type {\n",
       "        vertical-align: middle;\n",
       "    }\n",
       "\n",
       "    .dataframe tbody tr th {\n",
       "        vertical-align: top;\n",
       "    }\n",
       "\n",
       "    .dataframe thead th {\n",
       "        text-align: right;\n",
       "    }\n",
       "</style>\n",
       "<table border=\"1\" class=\"dataframe\">\n",
       "  <thead>\n",
       "    <tr style=\"text-align: right;\">\n",
       "      <th></th>\n",
       "      <th>Comove</th>\n",
       "      <th>Beta</th>\n",
       "      <th>Return</th>\n",
       "      <th>Beta rank</th>\n",
       "      <th>Comove rank</th>\n",
       "    </tr>\n",
       "    <tr>\n",
       "      <th>Name</th>\n",
       "      <th></th>\n",
       "      <th></th>\n",
       "      <th></th>\n",
       "      <th></th>\n",
       "      <th></th>\n",
       "    </tr>\n",
       "  </thead>\n",
       "  <tbody>\n",
       "    <tr>\n",
       "      <th>3I GROUP - TOT RETURN IND</th>\n",
       "      <td>50.943396</td>\n",
       "      <td>1.185992</td>\n",
       "      <td>14.803019</td>\n",
       "      <td>4</td>\n",
       "      <td>2</td>\n",
       "    </tr>\n",
       "    <tr>\n",
       "      <th>A P MOLLER MAERSK B - TOT RETURN IND</th>\n",
       "      <td>50.943396</td>\n",
       "      <td>1.156205</td>\n",
       "      <td>3.006601</td>\n",
       "      <td>3</td>\n",
       "      <td>1</td>\n",
       "    </tr>\n",
       "  </tbody>\n",
       "</table>\n",
       "</div>"
      ],
      "text/plain": [
       "                                         Comove      Beta     Return  \\\n",
       "Name                                                                   \n",
       "3I GROUP - TOT RETURN IND             50.943396  1.185992  14.803019   \n",
       "A P MOLLER MAERSK B - TOT RETURN IND  50.943396  1.156205   3.006601   \n",
       "\n",
       "                                      Beta rank Comove rank  \n",
       "Name                                                         \n",
       "3I GROUP - TOT RETURN IND                     4           2  \n",
       "A P MOLLER MAERSK B - TOT RETURN IND          3           1  "
      ]
     },
     "execution_count": 43,
     "metadata": {},
     "output_type": "execute_result"
    }
   ],
   "source": [
    "# At this point, each DataFrame in Monthly_Dataframes has been updated with 'Beta rank' and 'Comove rank' columns.\n",
    "Stocks_Monthly_Dataframes['012013'].head(2)"
   ]
  },
  {
   "cell_type": "markdown",
   "id": "37ed8c3f",
   "metadata": {},
   "source": [
    "#### Showing Beta and Comove across Portfolios"
   ]
  },
  {
   "cell_type": "markdown",
   "id": "aa0a9571",
   "metadata": {},
   "source": [
    "##### Beta and Comove across portfolios per month"
   ]
  },
  {
   "cell_type": "markdown",
   "id": "071396dd",
   "metadata": {},
   "source": [
    "We can use the Comove rank column to define our portfolio's for each month. By sorting in this matter, we have a strong exposure to Comove while holding Beta relatively constant across portfolio's. For every comove rank of this month, we calculate the average comove and return of all stocks in that portfolio. Apart from the mean, we also calculate the standard deviation of beta and comove of stocks in that portfolio. "
   ]
  },
  {
   "cell_type": "code",
   "execution_count": 44,
   "id": "1400ce13",
   "metadata": {
    "ExecuteTime": {
     "end_time": "2024-05-07T17:02:44.513776Z",
     "start_time": "2024-05-07T17:02:43.884955Z"
    },
    "scrolled": true
   },
   "outputs": [],
   "source": [
    "# Define the start and end dates\n",
    "start_date = datetime(2013, 1, 1)\n",
    "end_date = datetime(2024, 3, 30)\n",
    "# Generate the monthly periods\n",
    "monthly_periods = pd.date_range(start_date, end_date, freq='M')\n",
    "\n",
    "# Initialize lists to store the monthly differences for each statistic between the highest and the lowest comove\n",
    "diff_mean_beta = []\n",
    "diff_std_beta = []\n",
    "diff_mean_comove = []\n",
    "diff_std_comove = []\n",
    "\n",
    "for period in monthly_periods:\n",
    "    # Extract the year and month\n",
    "    year = period.year\n",
    "    month = period.month\n",
    "    \n",
    "    # Format the DataFrame name as MMYY and find the correct dataframe\n",
    "    df_name = f\"{month:02d}{year}\"\n",
    "    \n",
    "    if df_name in Stocks_Monthly_Dataframes:\n",
    "        df = Stocks_Monthly_Dataframes[df_name]\n",
    "        \n",
    "        # Ensure 'Comove rank' is not NA and is an integer for grouping\n",
    "        df['Comove rank'] = df['Comove rank'].astype(pd.Int64Dtype()).dropna()\n",
    "        \n",
    "        # Group by 'Comove rank'\n",
    "        grouped = df.groupby('Comove rank')\n",
    "        \n",
    "        # Calculate statistics for each group\n",
    "        stats = grouped.agg({\n",
    "            'Beta': ['mean', 'std'],\n",
    "            'Comove': ['mean', 'std']\n",
    "        })\n",
    "        \n",
    "        # Rename columns for clarity\n",
    "        stats.columns = ['Mean Beta', 'Std Beta', 'Mean Comove', 'Std Comove']\n",
    "        \n",
    "        # Calculate differences between the highest and lowest Comove rank groups\n",
    "        highest_rank = stats.iloc[-1]  # Stats for the highest Comove rank group\n",
    "        lowest_rank = stats.iloc[0]   # Stats for the lowest Comove rank group\n",
    "        differences = highest_rank - lowest_rank\n",
    "\n",
    "        # Store the differences\n",
    "        diff_mean_beta.append(differences['Mean Beta'])\n",
    "        diff_std_beta.append(differences['Std Beta'])\n",
    "        diff_mean_comove.append(differences['Mean Comove'])\n",
    "        diff_std_comove.append(differences['Std Comove'])"
   ]
  },
  {
   "cell_type": "code",
   "execution_count": 45,
   "id": "648b8ff2",
   "metadata": {
    "ExecuteTime": {
     "end_time": "2024-05-07T17:02:44.529249Z",
     "start_time": "2024-05-07T17:02:44.515284Z"
    }
   },
   "outputs": [
    {
     "name": "stdout",
     "output_type": "stream",
     "text": [
      "Month Year: 2 2024\n",
      "             Mean Beta  Std Beta  Mean Comove  Std Comove\n",
      "Comove rank                                              \n",
      "1             1.121668  0.466866    43.063263    5.921676\n",
      "2             1.170942  0.462772    50.356394    1.907332\n",
      "3             1.196805  0.429447    54.491951    1.916688\n",
      "4             1.056555  0.393514    58.898113    1.802499\n",
      "5             1.103318  0.406629    64.552389    3.432242\n"
     ]
    }
   ],
   "source": [
    "#Print stats of the latest MMYYY as an example\n",
    "print(f\"Month Year: {month} {year}\")\n",
    "print(stats)"
   ]
  },
  {
   "cell_type": "markdown",
   "id": "0ccc88fd",
   "metadata": {},
   "source": [
    "##### Beta and Comove across portfolios and months"
   ]
  },
  {
   "cell_type": "markdown",
   "id": "5d3a01d6",
   "metadata": {
    "ExecuteTime": {
     "end_time": "2024-04-24T16:09:18.117116Z",
     "start_time": "2024-04-24T16:09:18.098166Z"
    }
   },
   "source": [
    "We can now look at these beta and comove statistics across different months. For example, we can take the mean and standard deviations of comove and beta in the highest and lowest comove portfolio. We can then calculate the averaged difference over months."
   ]
  },
  {
   "cell_type": "code",
   "execution_count": 46,
   "id": "a92ef9a4",
   "metadata": {
    "ExecuteTime": {
     "end_time": "2024-05-07T17:02:44.544745Z",
     "start_time": "2024-05-07T17:02:44.532241Z"
    },
    "scrolled": true
   },
   "outputs": [
    {
     "name": "stdout",
     "output_type": "stream",
     "text": [
      "Averaged differences between the highest and lowest Comove rank groups across all years:\n",
      "Mean Beta: -0.008157 - The average difference in mean Beta values.\n",
      "Std Beta: -0.007663 - The average difference in standard deviation of Beta values.\n",
      "Mean Comove: 20.433896 - The average difference in mean Comove values.\n",
      "Std Comove: -0.472728 - The average difference in standard deviation of Comove values.\n"
     ]
    }
   ],
   "source": [
    "# Calculate the average of the differences across all years\n",
    "avg_diff_mean_beta = np.mean(diff_mean_beta)\n",
    "avg_diff_std_beta = np.mean(diff_std_beta)\n",
    "avg_diff_mean_comove = np.mean(diff_mean_comove)\n",
    "avg_diff_std_comove = np.mean(diff_std_comove)\n",
    "\n",
    "# Print the averaged statistics with explanations\n",
    "print(\"Averaged differences between the highest and lowest Comove rank groups across all years:\")\n",
    "print(f\"Mean Beta: {avg_diff_mean_beta:.6f} - The average difference in mean Beta values.\")\n",
    "print(f\"Std Beta: {avg_diff_std_beta:.6f} - The average difference in standard deviation of Beta values.\")\n",
    "print(f\"Mean Comove: {avg_diff_mean_comove:.6f} - The average difference in mean Comove values.\")\n",
    "print(f\"Std Comove: {avg_diff_std_comove:.6f} - The average difference in standard deviation of Comove values.\")"
   ]
  },
  {
   "cell_type": "markdown",
   "id": "432661cf",
   "metadata": {},
   "source": [
    "###### Plots"
   ]
  },
  {
   "cell_type": "markdown",
   "id": "89becec8",
   "metadata": {
    "ExecuteTime": {
     "end_time": "2024-04-24T16:30:42.904548Z",
     "start_time": "2024-04-24T16:30:42.886566Z"
    }
   },
   "source": [
    "If you look at trends of beta and comovement of each portfolio, we should be able to see similar trends across months in beta when looking at comove rank 1 versus 5. This means that beta remains relatively stable across portfolios. For comovement, comove ranks should have a lot of other trends.  "
   ]
  },
  {
   "cell_type": "code",
   "execution_count": 47,
   "id": "441bcff6",
   "metadata": {
    "ExecuteTime": {
     "end_time": "2024-05-07T17:02:44.956263Z",
     "start_time": "2024-05-07T17:02:44.547738Z"
    },
    "scrolled": false
   },
   "outputs": [],
   "source": [
    "#Data you need for plots\n",
    "\n",
    "# Define the start and end dates\n",
    "start_date = datetime(2013, 1, 1)\n",
    "end_date = datetime(2024, 3, 30)\n",
    "# Generate the monthly periods\n",
    "monthly_periods = pd.date_range(start_date, end_date, freq='M')\n",
    "\n",
    "# Dictionary to store stats by comove rank across months\n",
    "comove_stats = {}\n",
    "\n",
    "for period in monthly_periods:\n",
    "    year = period.year\n",
    "    month = period.month\n",
    "    df_name = f\"{month:02d}{year}\"\n",
    "    \n",
    "    if df_name in Stocks_Monthly_Dataframes:\n",
    "        df = Stocks_Monthly_Dataframes[df_name]\n",
    "        df['Comove rank'] = df['Comove rank'].astype(pd.Int64Dtype()).dropna()\n",
    "\n",
    "        # Group by 'Comove rank' = portfolio\n",
    "        grouped = df.groupby('Comove rank')\n",
    "\n",
    "        for rank, group in grouped:\n",
    "            if rank not in comove_stats:\n",
    "                comove_stats[rank] = {'Beta': [], 'Comove': [], 'Months': []}\n",
    "\n",
    "            # Store beta and comove means for each month\n",
    "            mean_beta = group['Beta'].mean()\n",
    "            mean_comove = group['Comove'].mean()\n",
    "\n",
    "            comove_stats[rank]['Beta'].append(mean_beta)\n",
    "            comove_stats[rank]['Comove'].append(mean_comove)\n",
    "            comove_stats[rank]['Months'].append(period)\n",
    "\n",
    "            #Comove stats holds per rank the avg beta and comove of stocks, over the different months. "
   ]
  },
  {
   "cell_type": "markdown",
   "id": "0d041a47",
   "metadata": {},
   "source": [
    "For example, in the following graph you can see that average beta of stocks in the monthly portfolio with comove rank 1 and comove rank 5 does not differ much, whereas the comove differs greatly."
   ]
  },
  {
   "cell_type": "code",
   "execution_count": 48,
   "id": "4842d621",
   "metadata": {
    "ExecuteTime": {
     "end_time": "2024-05-07T17:02:46.327866Z",
     "start_time": "2024-05-07T17:02:44.958267Z"
    },
    "scrolled": false
   },
   "outputs": [
    {
     "data": {
      "image/png": "[encoded data removed]",
      "text/plain": [
       "<Figure size 1008x504 with 2 Axes>"
      ]
     },
     "metadata": {
      "needs_background": "light"
     },
     "output_type": "display_data"
    }
   ],
   "source": [
    "# Set the aesthetic style of the plots\n",
    "sns.set(style='whitegrid')\n",
    "\n",
    "# Create additional plots for Comove ranks 1 and 5 on the same graph\n",
    "plt.figure(figsize=(14, 7))\n",
    "colors = {1: '#002E65', 5: '#65A812'}  # Map comove ranks to specific colors\n",
    "\n",
    "# Beta comparison plot\n",
    "plt.subplot(1, 2, 1)\n",
    "for rank in [1, 5]:\n",
    "    data = comove_stats[rank]\n",
    "    plt.plot(data['Months'], data['Beta'], marker='o', linestyle='-', label=f'Comove Rank {rank}', color=colors[rank])\n",
    "plt.title('Beta Comparison for Comove Ranks 1 and 5')\n",
    "plt.xlabel('Time')\n",
    "plt.ylabel('Beta (Correlation in returns; over the past 52 weeks)')\n",
    "plt.legend()\n",
    "plt.gca().xaxis.set_major_locator(mdates.YearLocator())  # Set locator to each January\n",
    "plt.gca().xaxis.set_major_formatter(mdates.DateFormatter('%Y'))  # Show only year\n",
    "plt.xticks(rotation=45)\n",
    "\n",
    "# Comove comparison plot\n",
    "plt.subplot(1, 2, 2)\n",
    "for rank in [1, 5]:\n",
    "    data = comove_stats[rank]\n",
    "    plt.plot(data['Months'], data['Comove'], marker='o', linestyle='-', label=f'Comove Rank {rank}', color=colors[rank])\n",
    "plt.title('Comove Comparison for Comove Ranks 1 and 5')\n",
    "plt.xlabel('Time')\n",
    "plt.ylabel('Comove (Percentage of weeks with same sign in return; over the past 52 weeks)')\n",
    "plt.legend()\n",
    "plt.gca().xaxis.set_major_locator(mdates.YearLocator())  # Set locator to each January\n",
    "plt.gca().xaxis.set_major_formatter(mdates.DateFormatter('%Y'))  # Show only year\n",
    "plt.xticks(rotation=45)\n",
    "\n",
    "plt.tight_layout()\n",
    "plt.savefig(\"ComoveBeta_Ranks1and5.png\")\n",
    "plt.show()"
   ]
  },
  {
   "cell_type": "markdown",
   "id": "6b15827f",
   "metadata": {},
   "source": [
    "Despite fluctuations, the beta values for both ranks generally appear to stay within a certain range, suggesting that while the market risk (measured as beta) varies over time, it doesn’t exhibit extremely high volatility within these comove ranks. The right plot shows the comovement values for the same ranks. While same trends are followed (in market risk, perhaps), we can see that comovement in rank 5 is generally higher as in rank 1."
   ]
  },
  {
   "cell_type": "markdown",
   "id": "296a735f",
   "metadata": {},
   "source": [
    "###### Statistics"
   ]
  },
  {
   "cell_type": "markdown",
   "id": "3dab0e97",
   "metadata": {
    "ExecuteTime": {
     "end_time": "2024-04-24T16:56:57.152151Z",
     "start_time": "2024-04-24T16:56:57.138190Z"
    }
   },
   "source": [
    "Let's look at some of the most important statistics. For each month and rank, we have an average beta and comove of the stocks in that portfolio. We will look at the average of those average beta and comove per portfolio across the months."
   ]
  },
  {
   "cell_type": "code",
   "execution_count": 49,
   "id": "8438a9b3",
   "metadata": {
    "ExecuteTime": {
     "end_time": "2024-05-07T17:02:46.342826Z",
     "start_time": "2024-05-07T17:02:46.329862Z"
    }
   },
   "outputs": [
    {
     "name": "stdout",
     "output_type": "stream",
     "text": [
      "This can also be illustrated by looking at the exposure of our portfolio sort to β and Comove. Our dependent double sort by first β and then Comove results in negligible exposure to β, but a strong variation in Comove between the long and the short leg of our strategy. The high Comove quintile exhibits an average β of 1.0232, whereas the low Comove quintile exhibits an average β of 1.0314, so that β varies by -0.0082 or 106.45% of β’s standard deviation (-0.0077). In contrast, the high Comove quintile exhibits an average Comove of 62.0913, whereas the low Comove quintile exhibits an average Comove of 41.6574, so that Comove varies by 20.43 or -4322.55% of Comove’s standard deviation (-0.4727). Hence, real historical stock returns do exhibit significant variation in Comove beyond dependence captured by β.\n"
     ]
    }
   ],
   "source": [
    "# Calculate average beta and comove for the highest and lowest comove ranks across all months\n",
    "avg_high_rank_beta = np.mean(comove_stats[5]['Beta'])  # Assuming rank 5 is the highest\n",
    "avg_low_rank_beta = np.mean(comove_stats[1]['Beta'])  # Assuming rank 1 is the lowest\n",
    "\n",
    "avg_high_rank_comove = np.mean(comove_stats[5]['Comove'])\n",
    "avg_low_rank_comove = np.mean(comove_stats[1]['Comove'])\n",
    "\n",
    "# Calculate the differences and percentage variations\n",
    "beta_difference = avg_high_rank_beta - avg_low_rank_beta\n",
    "beta_variation_pct = (beta_difference / avg_diff_std_beta) * 100\n",
    "\n",
    "comove_difference = avg_high_rank_comove - avg_low_rank_comove\n",
    "comove_variation_pct = (comove_difference / avg_diff_std_comove) * 100\n",
    "\n",
    "# Generate the summary text\n",
    "summary_text = f\"\"\"This can also be illustrated by looking at the exposure of our portfolio sort to β and Comove. \\\n",
    "Our dependent double sort by first β and then Comove results in negligible exposure to β, but a strong variation in Comove between the long and the short leg of our strategy. \\\n",
    "The high Comove quintile exhibits an average β of {avg_high_rank_beta:.4f}, whereas the low Comove quintile exhibits an average β of {avg_low_rank_beta:.4f}, so that β varies by {beta_difference:.4f} or {beta_variation_pct:.2f}% of β’s standard deviation ({avg_diff_std_beta:.4f}). \\\n",
    "In contrast, the high Comove quintile exhibits an average Comove of {avg_high_rank_comove:.4f}, whereas the low Comove quintile exhibits an average Comove of {avg_low_rank_comove:.4f}, so that Comove varies by {comove_difference:.2f} or {comove_variation_pct:.2f}% of Comove’s standard deviation ({avg_diff_std_comove:.4f}). \\\n",
    "Hence, real historical stock returns do exhibit significant variation in Comove beyond dependence captured by β.\"\"\"\n",
    "\n",
    "print(summary_text)"
   ]
  },
  {
   "cell_type": "markdown",
   "id": "2ee52fe8",
   "metadata": {},
   "source": [
    "### Calculating Averages per Portfolio per Month"
   ]
  },
  {
   "cell_type": "markdown",
   "id": "b76ed879",
   "metadata": {},
   "source": [
    "Let's now calculate average statistics of each portfolio. We take the stocks in Stocks_Monthly_Dataframes['MMYYYY'] and calculate the averages of comove, beta and return of stocks with the same Comove rank in that year. We store the results in *Portfolios_Monthly_Dataframes['MMYYYY']*, where the average comove, beta, and return of each portfolio is given for that MMYYYY."
   ]
  },
  {
   "cell_type": "code",
   "execution_count": 50,
   "id": "4fa9d5d2",
   "metadata": {
    "ExecuteTime": {
     "end_time": "2024-05-07T17:02:46.373762Z",
     "start_time": "2024-05-07T17:02:46.346819Z"
    }
   },
   "outputs": [
    {
     "data": {
      "text/html": [
       "<div>\n",
       "<style scoped>\n",
       "    .dataframe tbody tr th:only-of-type {\n",
       "        vertical-align: middle;\n",
       "    }\n",
       "\n",
       "    .dataframe tbody tr th {\n",
       "        vertical-align: top;\n",
       "    }\n",
       "\n",
       "    .dataframe thead th {\n",
       "        text-align: right;\n",
       "    }\n",
       "</style>\n",
       "<table border=\"1\" class=\"dataframe\">\n",
       "  <thead>\n",
       "    <tr style=\"text-align: right;\">\n",
       "      <th></th>\n",
       "      <th>Comove</th>\n",
       "      <th>Beta</th>\n",
       "      <th>Return</th>\n",
       "      <th>Beta rank</th>\n",
       "      <th>Comove rank</th>\n",
       "    </tr>\n",
       "    <tr>\n",
       "      <th>Name</th>\n",
       "      <th></th>\n",
       "      <th></th>\n",
       "      <th></th>\n",
       "      <th></th>\n",
       "      <th></th>\n",
       "    </tr>\n",
       "  </thead>\n",
       "  <tbody>\n",
       "    <tr>\n",
       "      <th>3I GROUP - TOT RETURN IND</th>\n",
       "      <td>50.943396</td>\n",
       "      <td>1.185992</td>\n",
       "      <td>14.803019</td>\n",
       "      <td>4</td>\n",
       "      <td>2</td>\n",
       "    </tr>\n",
       "    <tr>\n",
       "      <th>A P MOLLER MAERSK B - TOT RETURN IND</th>\n",
       "      <td>50.943396</td>\n",
       "      <td>1.156205</td>\n",
       "      <td>3.006601</td>\n",
       "      <td>3</td>\n",
       "      <td>1</td>\n",
       "    </tr>\n",
       "  </tbody>\n",
       "</table>\n",
       "</div>"
      ],
      "text/plain": [
       "                                         Comove      Beta     Return  \\\n",
       "Name                                                                   \n",
       "3I GROUP - TOT RETURN IND             50.943396  1.185992  14.803019   \n",
       "A P MOLLER MAERSK B - TOT RETURN IND  50.943396  1.156205   3.006601   \n",
       "\n",
       "                                      Beta rank  Comove rank  \n",
       "Name                                                          \n",
       "3I GROUP - TOT RETURN IND                     4            2  \n",
       "A P MOLLER MAERSK B - TOT RETURN IND          3            1  "
      ]
     },
     "execution_count": 50,
     "metadata": {},
     "output_type": "execute_result"
    }
   ],
   "source": [
    "# At this point, each DataFrame in Monthly_Dataframes has been updated with 'Beta rank' and 'Comove rank' columns.\n",
    "Stocks_Monthly_Dataframes['012013'].head(2)  # For the year 2023 data"
   ]
  },
  {
   "cell_type": "code",
   "execution_count": 51,
   "id": "57e9c644",
   "metadata": {
    "ExecuteTime": {
     "end_time": "2024-05-07T17:02:46.751602Z",
     "start_time": "2024-05-07T17:02:46.377733Z"
    }
   },
   "outputs": [
    {
     "name": "stderr",
     "output_type": "stream",
     "text": [
      "C:\\Users\\lunag\\AppData\\Local\\Temp\\ipykernel_4052\\826608691.py:8: FutureWarning: Indexing with multiple keys (implicitly converted to a tuple of keys) will be deprecated, use a list instead.\n",
      "  grouped = df.groupby('Comove rank')['Comove', 'Beta', 'Return'].mean()\n",
      "C:\\Users\\lunag\\AppData\\Local\\Temp\\ipykernel_4052\\826608691.py:8: FutureWarning: Indexing with multiple keys (implicitly converted to a tuple of keys) will be deprecated, use a list instead.\n",
      "  grouped = df.groupby('Comove rank')['Comove', 'Beta', 'Return'].mean()\n",
      "C:\\Users\\lunag\\AppData\\Local\\Temp\\ipykernel_4052\\826608691.py:8: FutureWarning: Indexing with multiple keys (implicitly converted to a tuple of keys) will be deprecated, use a list instead.\n",
      "  grouped = df.groupby('Comove rank')['Comove', 'Beta', 'Return'].mean()\n",
      "C:\\Users\\lunag\\AppData\\Local\\Temp\\ipykernel_4052\\826608691.py:8: FutureWarning: Indexing with multiple keys (implicitly converted to a tuple of keys) will be deprecated, use a list instead.\n",
      "  grouped = df.groupby('Comove rank')['Comove', 'Beta', 'Return'].mean()\n",
      "C:\\Users\\lunag\\AppData\\Local\\Temp\\ipykernel_4052\\826608691.py:8: FutureWarning: Indexing with multiple keys (implicitly converted to a tuple of keys) will be deprecated, use a list instead.\n",
      "  grouped = df.groupby('Comove rank')['Comove', 'Beta', 'Return'].mean()\n",
      "C:\\Users\\lunag\\AppData\\Local\\Temp\\ipykernel_4052\\826608691.py:8: FutureWarning: Indexing with multiple keys (implicitly converted to a tuple of keys) will be deprecated, use a list instead.\n",
      "  grouped = df.groupby('Comove rank')['Comove', 'Beta', 'Return'].mean()\n",
      "C:\\Users\\lunag\\AppData\\Local\\Temp\\ipykernel_4052\\826608691.py:8: FutureWarning: Indexing with multiple keys (implicitly converted to a tuple of keys) will be deprecated, use a list instead.\n",
      "  grouped = df.groupby('Comove rank')['Comove', 'Beta', 'Return'].mean()\n",
      "C:\\Users\\lunag\\AppData\\Local\\Temp\\ipykernel_4052\\826608691.py:8: FutureWarning: Indexing with multiple keys (implicitly converted to a tuple of keys) will be deprecated, use a list instead.\n",
      "  grouped = df.groupby('Comove rank')['Comove', 'Beta', 'Return'].mean()\n",
      "C:\\Users\\lunag\\AppData\\Local\\Temp\\ipykernel_4052\\826608691.py:8: FutureWarning: Indexing with multiple keys (implicitly converted to a tuple of keys) will be deprecated, use a list instead.\n",
      "  grouped = df.groupby('Comove rank')['Comove', 'Beta', 'Return'].mean()\n",
      "C:\\Users\\lunag\\AppData\\Local\\Temp\\ipykernel_4052\\826608691.py:8: FutureWarning: Indexing with multiple keys (implicitly converted to a tuple of keys) will be deprecated, use a list instead.\n",
      "  grouped = df.groupby('Comove rank')['Comove', 'Beta', 'Return'].mean()\n",
      "C:\\Users\\lunag\\AppData\\Local\\Temp\\ipykernel_4052\\826608691.py:8: FutureWarning: Indexing with multiple keys (implicitly converted to a tuple of keys) will be deprecated, use a list instead.\n",
      "  grouped = df.groupby('Comove rank')['Comove', 'Beta', 'Return'].mean()\n",
      "C:\\Users\\lunag\\AppData\\Local\\Temp\\ipykernel_4052\\826608691.py:8: FutureWarning: Indexing with multiple keys (implicitly converted to a tuple of keys) will be deprecated, use a list instead.\n",
      "  grouped = df.groupby('Comove rank')['Comove', 'Beta', 'Return'].mean()\n",
      "C:\\Users\\lunag\\AppData\\Local\\Temp\\ipykernel_4052\\826608691.py:8: FutureWarning: Indexing with multiple keys (implicitly converted to a tuple of keys) will be deprecated, use a list instead.\n",
      "  grouped = df.groupby('Comove rank')['Comove', 'Beta', 'Return'].mean()\n",
      "C:\\Users\\lunag\\AppData\\Local\\Temp\\ipykernel_4052\\826608691.py:8: FutureWarning: Indexing with multiple keys (implicitly converted to a tuple of keys) will be deprecated, use a list instead.\n",
      "  grouped = df.groupby('Comove rank')['Comove', 'Beta', 'Return'].mean()\n",
      "C:\\Users\\lunag\\AppData\\Local\\Temp\\ipykernel_4052\\826608691.py:8: FutureWarning: Indexing with multiple keys (implicitly converted to a tuple of keys) will be deprecated, use a list instead.\n",
      "  grouped = df.groupby('Comove rank')['Comove', 'Beta', 'Return'].mean()\n",
      "C:\\Users\\lunag\\AppData\\Local\\Temp\\ipykernel_4052\\826608691.py:8: FutureWarning: Indexing with multiple keys (implicitly converted to a tuple of keys) will be deprecated, use a list instead.\n",
      "  grouped = df.groupby('Comove rank')['Comove', 'Beta', 'Return'].mean()\n",
      "C:\\Users\\lunag\\AppData\\Local\\Temp\\ipykernel_4052\\826608691.py:8: FutureWarning: Indexing with multiple keys (implicitly converted to a tuple of keys) will be deprecated, use a list instead.\n",
      "  grouped = df.groupby('Comove rank')['Comove', 'Beta', 'Return'].mean()\n",
      "C:\\Users\\lunag\\AppData\\Local\\Temp\\ipykernel_4052\\826608691.py:8: FutureWarning: Indexing with multiple keys (implicitly converted to a tuple of keys) will be deprecated, use a list instead.\n",
      "  grouped = df.groupby('Comove rank')['Comove', 'Beta', 'Return'].mean()\n",
      "C:\\Users\\lunag\\AppData\\Local\\Temp\\ipykernel_4052\\826608691.py:8: FutureWarning: Indexing with multiple keys (implicitly converted to a tuple of keys) will be deprecated, use a list instead.\n",
      "  grouped = df.groupby('Comove rank')['Comove', 'Beta', 'Return'].mean()\n",
      "C:\\Users\\lunag\\AppData\\Local\\Temp\\ipykernel_4052\\826608691.py:8: FutureWarning: Indexing with multiple keys (implicitly converted to a tuple of keys) will be deprecated, use a list instead.\n",
      "  grouped = df.groupby('Comove rank')['Comove', 'Beta', 'Return'].mean()\n",
      "C:\\Users\\lunag\\AppData\\Local\\Temp\\ipykernel_4052\\826608691.py:8: FutureWarning: Indexing with multiple keys (implicitly converted to a tuple of keys) will be deprecated, use a list instead.\n",
      "  grouped = df.groupby('Comove rank')['Comove', 'Beta', 'Return'].mean()\n",
      "C:\\Users\\lunag\\AppData\\Local\\Temp\\ipykernel_4052\\826608691.py:8: FutureWarning: Indexing with multiple keys (implicitly converted to a tuple of keys) will be deprecated, use a list instead.\n",
      "  grouped = df.groupby('Comove rank')['Comove', 'Beta', 'Return'].mean()\n",
      "C:\\Users\\lunag\\AppData\\Local\\Temp\\ipykernel_4052\\826608691.py:8: FutureWarning: Indexing with multiple keys (implicitly converted to a tuple of keys) will be deprecated, use a list instead.\n",
      "  grouped = df.groupby('Comove rank')['Comove', 'Beta', 'Return'].mean()\n",
      "C:\\Users\\lunag\\AppData\\Local\\Temp\\ipykernel_4052\\826608691.py:8: FutureWarning: Indexing with multiple keys (implicitly converted to a tuple of keys) will be deprecated, use a list instead.\n",
      "  grouped = df.groupby('Comove rank')['Comove', 'Beta', 'Return'].mean()\n",
      "C:\\Users\\lunag\\AppData\\Local\\Temp\\ipykernel_4052\\826608691.py:8: FutureWarning: Indexing with multiple keys (implicitly converted to a tuple of keys) will be deprecated, use a list instead.\n",
      "  grouped = df.groupby('Comove rank')['Comove', 'Beta', 'Return'].mean()\n",
      "C:\\Users\\lunag\\AppData\\Local\\Temp\\ipykernel_4052\\826608691.py:8: FutureWarning: Indexing with multiple keys (implicitly converted to a tuple of keys) will be deprecated, use a list instead.\n",
      "  grouped = df.groupby('Comove rank')['Comove', 'Beta', 'Return'].mean()\n",
      "C:\\Users\\lunag\\AppData\\Local\\Temp\\ipykernel_4052\\826608691.py:8: FutureWarning: Indexing with multiple keys (implicitly converted to a tuple of keys) will be deprecated, use a list instead.\n",
      "  grouped = df.groupby('Comove rank')['Comove', 'Beta', 'Return'].mean()\n",
      "C:\\Users\\lunag\\AppData\\Local\\Temp\\ipykernel_4052\\826608691.py:8: FutureWarning: Indexing with multiple keys (implicitly converted to a tuple of keys) will be deprecated, use a list instead.\n",
      "  grouped = df.groupby('Comove rank')['Comove', 'Beta', 'Return'].mean()\n",
      "C:\\Users\\lunag\\AppData\\Local\\Temp\\ipykernel_4052\\826608691.py:8: FutureWarning: Indexing with multiple keys (implicitly converted to a tuple of keys) will be deprecated, use a list instead.\n",
      "  grouped = df.groupby('Comove rank')['Comove', 'Beta', 'Return'].mean()\n",
      "C:\\Users\\lunag\\AppData\\Local\\Temp\\ipykernel_4052\\826608691.py:8: FutureWarning: Indexing with multiple keys (implicitly converted to a tuple of keys) will be deprecated, use a list instead.\n",
      "  grouped = df.groupby('Comove rank')['Comove', 'Beta', 'Return'].mean()\n",
      "C:\\Users\\lunag\\AppData\\Local\\Temp\\ipykernel_4052\\826608691.py:8: FutureWarning: Indexing with multiple keys (implicitly converted to a tuple of keys) will be deprecated, use a list instead.\n",
      "  grouped = df.groupby('Comove rank')['Comove', 'Beta', 'Return'].mean()\n",
      "C:\\Users\\lunag\\AppData\\Local\\Temp\\ipykernel_4052\\826608691.py:8: FutureWarning: Indexing with multiple keys (implicitly converted to a tuple of keys) will be deprecated, use a list instead.\n",
      "  grouped = df.groupby('Comove rank')['Comove', 'Beta', 'Return'].mean()\n",
      "C:\\Users\\lunag\\AppData\\Local\\Temp\\ipykernel_4052\\826608691.py:8: FutureWarning: Indexing with multiple keys (implicitly converted to a tuple of keys) will be deprecated, use a list instead.\n",
      "  grouped = df.groupby('Comove rank')['Comove', 'Beta', 'Return'].mean()\n",
      "C:\\Users\\lunag\\AppData\\Local\\Temp\\ipykernel_4052\\826608691.py:8: FutureWarning: Indexing with multiple keys (implicitly converted to a tuple of keys) will be deprecated, use a list instead.\n",
      "  grouped = df.groupby('Comove rank')['Comove', 'Beta', 'Return'].mean()\n",
      "C:\\Users\\lunag\\AppData\\Local\\Temp\\ipykernel_4052\\826608691.py:8: FutureWarning: Indexing with multiple keys (implicitly converted to a tuple of keys) will be deprecated, use a list instead.\n",
      "  grouped = df.groupby('Comove rank')['Comove', 'Beta', 'Return'].mean()\n",
      "C:\\Users\\lunag\\AppData\\Local\\Temp\\ipykernel_4052\\826608691.py:8: FutureWarning: Indexing with multiple keys (implicitly converted to a tuple of keys) will be deprecated, use a list instead.\n",
      "  grouped = df.groupby('Comove rank')['Comove', 'Beta', 'Return'].mean()\n",
      "C:\\Users\\lunag\\AppData\\Local\\Temp\\ipykernel_4052\\826608691.py:8: FutureWarning: Indexing with multiple keys (implicitly converted to a tuple of keys) will be deprecated, use a list instead.\n",
      "  grouped = df.groupby('Comove rank')['Comove', 'Beta', 'Return'].mean()\n",
      "C:\\Users\\lunag\\AppData\\Local\\Temp\\ipykernel_4052\\826608691.py:8: FutureWarning: Indexing with multiple keys (implicitly converted to a tuple of keys) will be deprecated, use a list instead.\n",
      "  grouped = df.groupby('Comove rank')['Comove', 'Beta', 'Return'].mean()\n",
      "C:\\Users\\lunag\\AppData\\Local\\Temp\\ipykernel_4052\\826608691.py:8: FutureWarning: Indexing with multiple keys (implicitly converted to a tuple of keys) will be deprecated, use a list instead.\n",
      "  grouped = df.groupby('Comove rank')['Comove', 'Beta', 'Return'].mean()\n",
      "C:\\Users\\lunag\\AppData\\Local\\Temp\\ipykernel_4052\\826608691.py:8: FutureWarning: Indexing with multiple keys (implicitly converted to a tuple of keys) will be deprecated, use a list instead.\n",
      "  grouped = df.groupby('Comove rank')['Comove', 'Beta', 'Return'].mean()\n",
      "C:\\Users\\lunag\\AppData\\Local\\Temp\\ipykernel_4052\\826608691.py:8: FutureWarning: Indexing with multiple keys (implicitly converted to a tuple of keys) will be deprecated, use a list instead.\n",
      "  grouped = df.groupby('Comove rank')['Comove', 'Beta', 'Return'].mean()\n",
      "C:\\Users\\lunag\\AppData\\Local\\Temp\\ipykernel_4052\\826608691.py:8: FutureWarning: Indexing with multiple keys (implicitly converted to a tuple of keys) will be deprecated, use a list instead.\n",
      "  grouped = df.groupby('Comove rank')['Comove', 'Beta', 'Return'].mean()\n",
      "C:\\Users\\lunag\\AppData\\Local\\Temp\\ipykernel_4052\\826608691.py:8: FutureWarning: Indexing with multiple keys (implicitly converted to a tuple of keys) will be deprecated, use a list instead.\n",
      "  grouped = df.groupby('Comove rank')['Comove', 'Beta', 'Return'].mean()\n",
      "C:\\Users\\lunag\\AppData\\Local\\Temp\\ipykernel_4052\\826608691.py:8: FutureWarning: Indexing with multiple keys (implicitly converted to a tuple of keys) will be deprecated, use a list instead.\n",
      "  grouped = df.groupby('Comove rank')['Comove', 'Beta', 'Return'].mean()\n",
      "C:\\Users\\lunag\\AppData\\Local\\Temp\\ipykernel_4052\\826608691.py:8: FutureWarning: Indexing with multiple keys (implicitly converted to a tuple of keys) will be deprecated, use a list instead.\n",
      "  grouped = df.groupby('Comove rank')['Comove', 'Beta', 'Return'].mean()\n",
      "C:\\Users\\lunag\\AppData\\Local\\Temp\\ipykernel_4052\\826608691.py:8: FutureWarning: Indexing with multiple keys (implicitly converted to a tuple of keys) will be deprecated, use a list instead.\n",
      "  grouped = df.groupby('Comove rank')['Comove', 'Beta', 'Return'].mean()\n",
      "C:\\Users\\lunag\\AppData\\Local\\Temp\\ipykernel_4052\\826608691.py:8: FutureWarning: Indexing with multiple keys (implicitly converted to a tuple of keys) will be deprecated, use a list instead.\n",
      "  grouped = df.groupby('Comove rank')['Comove', 'Beta', 'Return'].mean()\n",
      "C:\\Users\\lunag\\AppData\\Local\\Temp\\ipykernel_4052\\826608691.py:8: FutureWarning: Indexing with multiple keys (implicitly converted to a tuple of keys) will be deprecated, use a list instead.\n",
      "  grouped = df.groupby('Comove rank')['Comove', 'Beta', 'Return'].mean()\n",
      "C:\\Users\\lunag\\AppData\\Local\\Temp\\ipykernel_4052\\826608691.py:8: FutureWarning: Indexing with multiple keys (implicitly converted to a tuple of keys) will be deprecated, use a list instead.\n",
      "  grouped = df.groupby('Comove rank')['Comove', 'Beta', 'Return'].mean()\n",
      "C:\\Users\\lunag\\AppData\\Local\\Temp\\ipykernel_4052\\826608691.py:8: FutureWarning: Indexing with multiple keys (implicitly converted to a tuple of keys) will be deprecated, use a list instead.\n",
      "  grouped = df.groupby('Comove rank')['Comove', 'Beta', 'Return'].mean()\n"
     ]
    },
    {
     "name": "stderr",
     "output_type": "stream",
     "text": [
      "C:\\Users\\lunag\\AppData\\Local\\Temp\\ipykernel_4052\\826608691.py:8: FutureWarning: Indexing with multiple keys (implicitly converted to a tuple of keys) will be deprecated, use a list instead.\n",
      "  grouped = df.groupby('Comove rank')['Comove', 'Beta', 'Return'].mean()\n",
      "C:\\Users\\lunag\\AppData\\Local\\Temp\\ipykernel_4052\\826608691.py:8: FutureWarning: Indexing with multiple keys (implicitly converted to a tuple of keys) will be deprecated, use a list instead.\n",
      "  grouped = df.groupby('Comove rank')['Comove', 'Beta', 'Return'].mean()\n",
      "C:\\Users\\lunag\\AppData\\Local\\Temp\\ipykernel_4052\\826608691.py:8: FutureWarning: Indexing with multiple keys (implicitly converted to a tuple of keys) will be deprecated, use a list instead.\n",
      "  grouped = df.groupby('Comove rank')['Comove', 'Beta', 'Return'].mean()\n",
      "C:\\Users\\lunag\\AppData\\Local\\Temp\\ipykernel_4052\\826608691.py:8: FutureWarning: Indexing with multiple keys (implicitly converted to a tuple of keys) will be deprecated, use a list instead.\n",
      "  grouped = df.groupby('Comove rank')['Comove', 'Beta', 'Return'].mean()\n",
      "C:\\Users\\lunag\\AppData\\Local\\Temp\\ipykernel_4052\\826608691.py:8: FutureWarning: Indexing with multiple keys (implicitly converted to a tuple of keys) will be deprecated, use a list instead.\n",
      "  grouped = df.groupby('Comove rank')['Comove', 'Beta', 'Return'].mean()\n",
      "C:\\Users\\lunag\\AppData\\Local\\Temp\\ipykernel_4052\\826608691.py:8: FutureWarning: Indexing with multiple keys (implicitly converted to a tuple of keys) will be deprecated, use a list instead.\n",
      "  grouped = df.groupby('Comove rank')['Comove', 'Beta', 'Return'].mean()\n",
      "C:\\Users\\lunag\\AppData\\Local\\Temp\\ipykernel_4052\\826608691.py:8: FutureWarning: Indexing with multiple keys (implicitly converted to a tuple of keys) will be deprecated, use a list instead.\n",
      "  grouped = df.groupby('Comove rank')['Comove', 'Beta', 'Return'].mean()\n",
      "C:\\Users\\lunag\\AppData\\Local\\Temp\\ipykernel_4052\\826608691.py:8: FutureWarning: Indexing with multiple keys (implicitly converted to a tuple of keys) will be deprecated, use a list instead.\n",
      "  grouped = df.groupby('Comove rank')['Comove', 'Beta', 'Return'].mean()\n",
      "C:\\Users\\lunag\\AppData\\Local\\Temp\\ipykernel_4052\\826608691.py:8: FutureWarning: Indexing with multiple keys (implicitly converted to a tuple of keys) will be deprecated, use a list instead.\n",
      "  grouped = df.groupby('Comove rank')['Comove', 'Beta', 'Return'].mean()\n",
      "C:\\Users\\lunag\\AppData\\Local\\Temp\\ipykernel_4052\\826608691.py:8: FutureWarning: Indexing with multiple keys (implicitly converted to a tuple of keys) will be deprecated, use a list instead.\n",
      "  grouped = df.groupby('Comove rank')['Comove', 'Beta', 'Return'].mean()\n",
      "C:\\Users\\lunag\\AppData\\Local\\Temp\\ipykernel_4052\\826608691.py:8: FutureWarning: Indexing with multiple keys (implicitly converted to a tuple of keys) will be deprecated, use a list instead.\n",
      "  grouped = df.groupby('Comove rank')['Comove', 'Beta', 'Return'].mean()\n",
      "C:\\Users\\lunag\\AppData\\Local\\Temp\\ipykernel_4052\\826608691.py:8: FutureWarning: Indexing with multiple keys (implicitly converted to a tuple of keys) will be deprecated, use a list instead.\n",
      "  grouped = df.groupby('Comove rank')['Comove', 'Beta', 'Return'].mean()\n",
      "C:\\Users\\lunag\\AppData\\Local\\Temp\\ipykernel_4052\\826608691.py:8: FutureWarning: Indexing with multiple keys (implicitly converted to a tuple of keys) will be deprecated, use a list instead.\n",
      "  grouped = df.groupby('Comove rank')['Comove', 'Beta', 'Return'].mean()\n",
      "C:\\Users\\lunag\\AppData\\Local\\Temp\\ipykernel_4052\\826608691.py:8: FutureWarning: Indexing with multiple keys (implicitly converted to a tuple of keys) will be deprecated, use a list instead.\n",
      "  grouped = df.groupby('Comove rank')['Comove', 'Beta', 'Return'].mean()\n",
      "C:\\Users\\lunag\\AppData\\Local\\Temp\\ipykernel_4052\\826608691.py:8: FutureWarning: Indexing with multiple keys (implicitly converted to a tuple of keys) will be deprecated, use a list instead.\n",
      "  grouped = df.groupby('Comove rank')['Comove', 'Beta', 'Return'].mean()\n",
      "C:\\Users\\lunag\\AppData\\Local\\Temp\\ipykernel_4052\\826608691.py:8: FutureWarning: Indexing with multiple keys (implicitly converted to a tuple of keys) will be deprecated, use a list instead.\n",
      "  grouped = df.groupby('Comove rank')['Comove', 'Beta', 'Return'].mean()\n",
      "C:\\Users\\lunag\\AppData\\Local\\Temp\\ipykernel_4052\\826608691.py:8: FutureWarning: Indexing with multiple keys (implicitly converted to a tuple of keys) will be deprecated, use a list instead.\n",
      "  grouped = df.groupby('Comove rank')['Comove', 'Beta', 'Return'].mean()\n",
      "C:\\Users\\lunag\\AppData\\Local\\Temp\\ipykernel_4052\\826608691.py:8: FutureWarning: Indexing with multiple keys (implicitly converted to a tuple of keys) will be deprecated, use a list instead.\n",
      "  grouped = df.groupby('Comove rank')['Comove', 'Beta', 'Return'].mean()\n",
      "C:\\Users\\lunag\\AppData\\Local\\Temp\\ipykernel_4052\\826608691.py:8: FutureWarning: Indexing with multiple keys (implicitly converted to a tuple of keys) will be deprecated, use a list instead.\n",
      "  grouped = df.groupby('Comove rank')['Comove', 'Beta', 'Return'].mean()\n",
      "C:\\Users\\lunag\\AppData\\Local\\Temp\\ipykernel_4052\\826608691.py:8: FutureWarning: Indexing with multiple keys (implicitly converted to a tuple of keys) will be deprecated, use a list instead.\n",
      "  grouped = df.groupby('Comove rank')['Comove', 'Beta', 'Return'].mean()\n",
      "C:\\Users\\lunag\\AppData\\Local\\Temp\\ipykernel_4052\\826608691.py:8: FutureWarning: Indexing with multiple keys (implicitly converted to a tuple of keys) will be deprecated, use a list instead.\n",
      "  grouped = df.groupby('Comove rank')['Comove', 'Beta', 'Return'].mean()\n",
      "C:\\Users\\lunag\\AppData\\Local\\Temp\\ipykernel_4052\\826608691.py:8: FutureWarning: Indexing with multiple keys (implicitly converted to a tuple of keys) will be deprecated, use a list instead.\n",
      "  grouped = df.groupby('Comove rank')['Comove', 'Beta', 'Return'].mean()\n",
      "C:\\Users\\lunag\\AppData\\Local\\Temp\\ipykernel_4052\\826608691.py:8: FutureWarning: Indexing with multiple keys (implicitly converted to a tuple of keys) will be deprecated, use a list instead.\n",
      "  grouped = df.groupby('Comove rank')['Comove', 'Beta', 'Return'].mean()\n",
      "C:\\Users\\lunag\\AppData\\Local\\Temp\\ipykernel_4052\\826608691.py:8: FutureWarning: Indexing with multiple keys (implicitly converted to a tuple of keys) will be deprecated, use a list instead.\n",
      "  grouped = df.groupby('Comove rank')['Comove', 'Beta', 'Return'].mean()\n",
      "C:\\Users\\lunag\\AppData\\Local\\Temp\\ipykernel_4052\\826608691.py:8: FutureWarning: Indexing with multiple keys (implicitly converted to a tuple of keys) will be deprecated, use a list instead.\n",
      "  grouped = df.groupby('Comove rank')['Comove', 'Beta', 'Return'].mean()\n",
      "C:\\Users\\lunag\\AppData\\Local\\Temp\\ipykernel_4052\\826608691.py:8: FutureWarning: Indexing with multiple keys (implicitly converted to a tuple of keys) will be deprecated, use a list instead.\n",
      "  grouped = df.groupby('Comove rank')['Comove', 'Beta', 'Return'].mean()\n",
      "C:\\Users\\lunag\\AppData\\Local\\Temp\\ipykernel_4052\\826608691.py:8: FutureWarning: Indexing with multiple keys (implicitly converted to a tuple of keys) will be deprecated, use a list instead.\n",
      "  grouped = df.groupby('Comove rank')['Comove', 'Beta', 'Return'].mean()\n",
      "C:\\Users\\lunag\\AppData\\Local\\Temp\\ipykernel_4052\\826608691.py:8: FutureWarning: Indexing with multiple keys (implicitly converted to a tuple of keys) will be deprecated, use a list instead.\n",
      "  grouped = df.groupby('Comove rank')['Comove', 'Beta', 'Return'].mean()\n",
      "C:\\Users\\lunag\\AppData\\Local\\Temp\\ipykernel_4052\\826608691.py:8: FutureWarning: Indexing with multiple keys (implicitly converted to a tuple of keys) will be deprecated, use a list instead.\n",
      "  grouped = df.groupby('Comove rank')['Comove', 'Beta', 'Return'].mean()\n",
      "C:\\Users\\lunag\\AppData\\Local\\Temp\\ipykernel_4052\\826608691.py:8: FutureWarning: Indexing with multiple keys (implicitly converted to a tuple of keys) will be deprecated, use a list instead.\n",
      "  grouped = df.groupby('Comove rank')['Comove', 'Beta', 'Return'].mean()\n",
      "C:\\Users\\lunag\\AppData\\Local\\Temp\\ipykernel_4052\\826608691.py:8: FutureWarning: Indexing with multiple keys (implicitly converted to a tuple of keys) will be deprecated, use a list instead.\n",
      "  grouped = df.groupby('Comove rank')['Comove', 'Beta', 'Return'].mean()\n",
      "C:\\Users\\lunag\\AppData\\Local\\Temp\\ipykernel_4052\\826608691.py:8: FutureWarning: Indexing with multiple keys (implicitly converted to a tuple of keys) will be deprecated, use a list instead.\n",
      "  grouped = df.groupby('Comove rank')['Comove', 'Beta', 'Return'].mean()\n",
      "C:\\Users\\lunag\\AppData\\Local\\Temp\\ipykernel_4052\\826608691.py:8: FutureWarning: Indexing with multiple keys (implicitly converted to a tuple of keys) will be deprecated, use a list instead.\n",
      "  grouped = df.groupby('Comove rank')['Comove', 'Beta', 'Return'].mean()\n",
      "C:\\Users\\lunag\\AppData\\Local\\Temp\\ipykernel_4052\\826608691.py:8: FutureWarning: Indexing with multiple keys (implicitly converted to a tuple of keys) will be deprecated, use a list instead.\n",
      "  grouped = df.groupby('Comove rank')['Comove', 'Beta', 'Return'].mean()\n",
      "C:\\Users\\lunag\\AppData\\Local\\Temp\\ipykernel_4052\\826608691.py:8: FutureWarning: Indexing with multiple keys (implicitly converted to a tuple of keys) will be deprecated, use a list instead.\n",
      "  grouped = df.groupby('Comove rank')['Comove', 'Beta', 'Return'].mean()\n",
      "C:\\Users\\lunag\\AppData\\Local\\Temp\\ipykernel_4052\\826608691.py:8: FutureWarning: Indexing with multiple keys (implicitly converted to a tuple of keys) will be deprecated, use a list instead.\n",
      "  grouped = df.groupby('Comove rank')['Comove', 'Beta', 'Return'].mean()\n",
      "C:\\Users\\lunag\\AppData\\Local\\Temp\\ipykernel_4052\\826608691.py:8: FutureWarning: Indexing with multiple keys (implicitly converted to a tuple of keys) will be deprecated, use a list instead.\n",
      "  grouped = df.groupby('Comove rank')['Comove', 'Beta', 'Return'].mean()\n",
      "C:\\Users\\lunag\\AppData\\Local\\Temp\\ipykernel_4052\\826608691.py:8: FutureWarning: Indexing with multiple keys (implicitly converted to a tuple of keys) will be deprecated, use a list instead.\n",
      "  grouped = df.groupby('Comove rank')['Comove', 'Beta', 'Return'].mean()\n",
      "C:\\Users\\lunag\\AppData\\Local\\Temp\\ipykernel_4052\\826608691.py:8: FutureWarning: Indexing with multiple keys (implicitly converted to a tuple of keys) will be deprecated, use a list instead.\n",
      "  grouped = df.groupby('Comove rank')['Comove', 'Beta', 'Return'].mean()\n",
      "C:\\Users\\lunag\\AppData\\Local\\Temp\\ipykernel_4052\\826608691.py:8: FutureWarning: Indexing with multiple keys (implicitly converted to a tuple of keys) will be deprecated, use a list instead.\n",
      "  grouped = df.groupby('Comove rank')['Comove', 'Beta', 'Return'].mean()\n",
      "C:\\Users\\lunag\\AppData\\Local\\Temp\\ipykernel_4052\\826608691.py:8: FutureWarning: Indexing with multiple keys (implicitly converted to a tuple of keys) will be deprecated, use a list instead.\n",
      "  grouped = df.groupby('Comove rank')['Comove', 'Beta', 'Return'].mean()\n",
      "C:\\Users\\lunag\\AppData\\Local\\Temp\\ipykernel_4052\\826608691.py:8: FutureWarning: Indexing with multiple keys (implicitly converted to a tuple of keys) will be deprecated, use a list instead.\n",
      "  grouped = df.groupby('Comove rank')['Comove', 'Beta', 'Return'].mean()\n",
      "C:\\Users\\lunag\\AppData\\Local\\Temp\\ipykernel_4052\\826608691.py:8: FutureWarning: Indexing with multiple keys (implicitly converted to a tuple of keys) will be deprecated, use a list instead.\n",
      "  grouped = df.groupby('Comove rank')['Comove', 'Beta', 'Return'].mean()\n",
      "C:\\Users\\lunag\\AppData\\Local\\Temp\\ipykernel_4052\\826608691.py:8: FutureWarning: Indexing with multiple keys (implicitly converted to a tuple of keys) will be deprecated, use a list instead.\n",
      "  grouped = df.groupby('Comove rank')['Comove', 'Beta', 'Return'].mean()\n",
      "C:\\Users\\lunag\\AppData\\Local\\Temp\\ipykernel_4052\\826608691.py:8: FutureWarning: Indexing with multiple keys (implicitly converted to a tuple of keys) will be deprecated, use a list instead.\n",
      "  grouped = df.groupby('Comove rank')['Comove', 'Beta', 'Return'].mean()\n",
      "C:\\Users\\lunag\\AppData\\Local\\Temp\\ipykernel_4052\\826608691.py:8: FutureWarning: Indexing with multiple keys (implicitly converted to a tuple of keys) will be deprecated, use a list instead.\n",
      "  grouped = df.groupby('Comove rank')['Comove', 'Beta', 'Return'].mean()\n",
      "C:\\Users\\lunag\\AppData\\Local\\Temp\\ipykernel_4052\\826608691.py:8: FutureWarning: Indexing with multiple keys (implicitly converted to a tuple of keys) will be deprecated, use a list instead.\n",
      "  grouped = df.groupby('Comove rank')['Comove', 'Beta', 'Return'].mean()\n",
      "C:\\Users\\lunag\\AppData\\Local\\Temp\\ipykernel_4052\\826608691.py:8: FutureWarning: Indexing with multiple keys (implicitly converted to a tuple of keys) will be deprecated, use a list instead.\n",
      "  grouped = df.groupby('Comove rank')['Comove', 'Beta', 'Return'].mean()\n",
      "C:\\Users\\lunag\\AppData\\Local\\Temp\\ipykernel_4052\\826608691.py:8: FutureWarning: Indexing with multiple keys (implicitly converted to a tuple of keys) will be deprecated, use a list instead.\n",
      "  grouped = df.groupby('Comove rank')['Comove', 'Beta', 'Return'].mean()\n",
      "C:\\Users\\lunag\\AppData\\Local\\Temp\\ipykernel_4052\\826608691.py:8: FutureWarning: Indexing with multiple keys (implicitly converted to a tuple of keys) will be deprecated, use a list instead.\n",
      "  grouped = df.groupby('Comove rank')['Comove', 'Beta', 'Return'].mean()\n",
      "C:\\Users\\lunag\\AppData\\Local\\Temp\\ipykernel_4052\\826608691.py:8: FutureWarning: Indexing with multiple keys (implicitly converted to a tuple of keys) will be deprecated, use a list instead.\n",
      "  grouped = df.groupby('Comove rank')['Comove', 'Beta', 'Return'].mean()\n",
      "C:\\Users\\lunag\\AppData\\Local\\Temp\\ipykernel_4052\\826608691.py:8: FutureWarning: Indexing with multiple keys (implicitly converted to a tuple of keys) will be deprecated, use a list instead.\n",
      "  grouped = df.groupby('Comove rank')['Comove', 'Beta', 'Return'].mean()\n",
      "C:\\Users\\lunag\\AppData\\Local\\Temp\\ipykernel_4052\\826608691.py:8: FutureWarning: Indexing with multiple keys (implicitly converted to a tuple of keys) will be deprecated, use a list instead.\n",
      "  grouped = df.groupby('Comove rank')['Comove', 'Beta', 'Return'].mean()\n",
      "C:\\Users\\lunag\\AppData\\Local\\Temp\\ipykernel_4052\\826608691.py:8: FutureWarning: Indexing with multiple keys (implicitly converted to a tuple of keys) will be deprecated, use a list instead.\n",
      "  grouped = df.groupby('Comove rank')['Comove', 'Beta', 'Return'].mean()\n",
      "C:\\Users\\lunag\\AppData\\Local\\Temp\\ipykernel_4052\\826608691.py:8: FutureWarning: Indexing with multiple keys (implicitly converted to a tuple of keys) will be deprecated, use a list instead.\n",
      "  grouped = df.groupby('Comove rank')['Comove', 'Beta', 'Return'].mean()\n",
      "C:\\Users\\lunag\\AppData\\Local\\Temp\\ipykernel_4052\\826608691.py:8: FutureWarning: Indexing with multiple keys (implicitly converted to a tuple of keys) will be deprecated, use a list instead.\n",
      "  grouped = df.groupby('Comove rank')['Comove', 'Beta', 'Return'].mean()\n",
      "C:\\Users\\lunag\\AppData\\Local\\Temp\\ipykernel_4052\\826608691.py:8: FutureWarning: Indexing with multiple keys (implicitly converted to a tuple of keys) will be deprecated, use a list instead.\n",
      "  grouped = df.groupby('Comove rank')['Comove', 'Beta', 'Return'].mean()\n",
      "C:\\Users\\lunag\\AppData\\Local\\Temp\\ipykernel_4052\\826608691.py:8: FutureWarning: Indexing with multiple keys (implicitly converted to a tuple of keys) will be deprecated, use a list instead.\n",
      "  grouped = df.groupby('Comove rank')['Comove', 'Beta', 'Return'].mean()\n",
      "C:\\Users\\lunag\\AppData\\Local\\Temp\\ipykernel_4052\\826608691.py:8: FutureWarning: Indexing with multiple keys (implicitly converted to a tuple of keys) will be deprecated, use a list instead.\n",
      "  grouped = df.groupby('Comove rank')['Comove', 'Beta', 'Return'].mean()\n",
      "C:\\Users\\lunag\\AppData\\Local\\Temp\\ipykernel_4052\\826608691.py:8: FutureWarning: Indexing with multiple keys (implicitly converted to a tuple of keys) will be deprecated, use a list instead.\n",
      "  grouped = df.groupby('Comove rank')['Comove', 'Beta', 'Return'].mean()\n",
      "C:\\Users\\lunag\\AppData\\Local\\Temp\\ipykernel_4052\\826608691.py:8: FutureWarning: Indexing with multiple keys (implicitly converted to a tuple of keys) will be deprecated, use a list instead.\n",
      "  grouped = df.groupby('Comove rank')['Comove', 'Beta', 'Return'].mean()\n",
      "C:\\Users\\lunag\\AppData\\Local\\Temp\\ipykernel_4052\\826608691.py:8: FutureWarning: Indexing with multiple keys (implicitly converted to a tuple of keys) will be deprecated, use a list instead.\n",
      "  grouped = df.groupby('Comove rank')['Comove', 'Beta', 'Return'].mean()\n",
      "C:\\Users\\lunag\\AppData\\Local\\Temp\\ipykernel_4052\\826608691.py:8: FutureWarning: Indexing with multiple keys (implicitly converted to a tuple of keys) will be deprecated, use a list instead.\n",
      "  grouped = df.groupby('Comove rank')['Comove', 'Beta', 'Return'].mean()\n",
      "C:\\Users\\lunag\\AppData\\Local\\Temp\\ipykernel_4052\\826608691.py:8: FutureWarning: Indexing with multiple keys (implicitly converted to a tuple of keys) will be deprecated, use a list instead.\n",
      "  grouped = df.groupby('Comove rank')['Comove', 'Beta', 'Return'].mean()\n",
      "C:\\Users\\lunag\\AppData\\Local\\Temp\\ipykernel_4052\\826608691.py:8: FutureWarning: Indexing with multiple keys (implicitly converted to a tuple of keys) will be deprecated, use a list instead.\n",
      "  grouped = df.groupby('Comove rank')['Comove', 'Beta', 'Return'].mean()\n",
      "C:\\Users\\lunag\\AppData\\Local\\Temp\\ipykernel_4052\\826608691.py:8: FutureWarning: Indexing with multiple keys (implicitly converted to a tuple of keys) will be deprecated, use a list instead.\n",
      "  grouped = df.groupby('Comove rank')['Comove', 'Beta', 'Return'].mean()\n",
      "C:\\Users\\lunag\\AppData\\Local\\Temp\\ipykernel_4052\\826608691.py:8: FutureWarning: Indexing with multiple keys (implicitly converted to a tuple of keys) will be deprecated, use a list instead.\n",
      "  grouped = df.groupby('Comove rank')['Comove', 'Beta', 'Return'].mean()\n",
      "C:\\Users\\lunag\\AppData\\Local\\Temp\\ipykernel_4052\\826608691.py:8: FutureWarning: Indexing with multiple keys (implicitly converted to a tuple of keys) will be deprecated, use a list instead.\n",
      "  grouped = df.groupby('Comove rank')['Comove', 'Beta', 'Return'].mean()\n",
      "C:\\Users\\lunag\\AppData\\Local\\Temp\\ipykernel_4052\\826608691.py:8: FutureWarning: Indexing with multiple keys (implicitly converted to a tuple of keys) will be deprecated, use a list instead.\n",
      "  grouped = df.groupby('Comove rank')['Comove', 'Beta', 'Return'].mean()\n",
      "C:\\Users\\lunag\\AppData\\Local\\Temp\\ipykernel_4052\\826608691.py:8: FutureWarning: Indexing with multiple keys (implicitly converted to a tuple of keys) will be deprecated, use a list instead.\n",
      "  grouped = df.groupby('Comove rank')['Comove', 'Beta', 'Return'].mean()\n",
      "C:\\Users\\lunag\\AppData\\Local\\Temp\\ipykernel_4052\\826608691.py:8: FutureWarning: Indexing with multiple keys (implicitly converted to a tuple of keys) will be deprecated, use a list instead.\n",
      "  grouped = df.groupby('Comove rank')['Comove', 'Beta', 'Return'].mean()\n",
      "C:\\Users\\lunag\\AppData\\Local\\Temp\\ipykernel_4052\\826608691.py:8: FutureWarning: Indexing with multiple keys (implicitly converted to a tuple of keys) will be deprecated, use a list instead.\n",
      "  grouped = df.groupby('Comove rank')['Comove', 'Beta', 'Return'].mean()\n",
      "C:\\Users\\lunag\\AppData\\Local\\Temp\\ipykernel_4052\\826608691.py:8: FutureWarning: Indexing with multiple keys (implicitly converted to a tuple of keys) will be deprecated, use a list instead.\n",
      "  grouped = df.groupby('Comove rank')['Comove', 'Beta', 'Return'].mean()\n",
      "C:\\Users\\lunag\\AppData\\Local\\Temp\\ipykernel_4052\\826608691.py:8: FutureWarning: Indexing with multiple keys (implicitly converted to a tuple of keys) will be deprecated, use a list instead.\n",
      "  grouped = df.groupby('Comove rank')['Comove', 'Beta', 'Return'].mean()\n",
      "C:\\Users\\lunag\\AppData\\Local\\Temp\\ipykernel_4052\\826608691.py:8: FutureWarning: Indexing with multiple keys (implicitly converted to a tuple of keys) will be deprecated, use a list instead.\n",
      "  grouped = df.groupby('Comove rank')['Comove', 'Beta', 'Return'].mean()\n",
      "C:\\Users\\lunag\\AppData\\Local\\Temp\\ipykernel_4052\\826608691.py:8: FutureWarning: Indexing with multiple keys (implicitly converted to a tuple of keys) will be deprecated, use a list instead.\n",
      "  grouped = df.groupby('Comove rank')['Comove', 'Beta', 'Return'].mean()\n",
      "C:\\Users\\lunag\\AppData\\Local\\Temp\\ipykernel_4052\\826608691.py:8: FutureWarning: Indexing with multiple keys (implicitly converted to a tuple of keys) will be deprecated, use a list instead.\n",
      "  grouped = df.groupby('Comove rank')['Comove', 'Beta', 'Return'].mean()\n",
      "C:\\Users\\lunag\\AppData\\Local\\Temp\\ipykernel_4052\\826608691.py:8: FutureWarning: Indexing with multiple keys (implicitly converted to a tuple of keys) will be deprecated, use a list instead.\n",
      "  grouped = df.groupby('Comove rank')['Comove', 'Beta', 'Return'].mean()\n",
      "C:\\Users\\lunag\\AppData\\Local\\Temp\\ipykernel_4052\\826608691.py:8: FutureWarning: Indexing with multiple keys (implicitly converted to a tuple of keys) will be deprecated, use a list instead.\n",
      "  grouped = df.groupby('Comove rank')['Comove', 'Beta', 'Return'].mean()\n",
      "C:\\Users\\lunag\\AppData\\Local\\Temp\\ipykernel_4052\\826608691.py:8: FutureWarning: Indexing with multiple keys (implicitly converted to a tuple of keys) will be deprecated, use a list instead.\n",
      "  grouped = df.groupby('Comove rank')['Comove', 'Beta', 'Return'].mean()\n",
      "C:\\Users\\lunag\\AppData\\Local\\Temp\\ipykernel_4052\\826608691.py:8: FutureWarning: Indexing with multiple keys (implicitly converted to a tuple of keys) will be deprecated, use a list instead.\n",
      "  grouped = df.groupby('Comove rank')['Comove', 'Beta', 'Return'].mean()\n",
      "C:\\Users\\lunag\\AppData\\Local\\Temp\\ipykernel_4052\\826608691.py:8: FutureWarning: Indexing with multiple keys (implicitly converted to a tuple of keys) will be deprecated, use a list instead.\n",
      "  grouped = df.groupby('Comove rank')['Comove', 'Beta', 'Return'].mean()\n",
      "C:\\Users\\lunag\\AppData\\Local\\Temp\\ipykernel_4052\\826608691.py:8: FutureWarning: Indexing with multiple keys (implicitly converted to a tuple of keys) will be deprecated, use a list instead.\n",
      "  grouped = df.groupby('Comove rank')['Comove', 'Beta', 'Return'].mean()\n",
      "C:\\Users\\lunag\\AppData\\Local\\Temp\\ipykernel_4052\\826608691.py:8: FutureWarning: Indexing with multiple keys (implicitly converted to a tuple of keys) will be deprecated, use a list instead.\n",
      "  grouped = df.groupby('Comove rank')['Comove', 'Beta', 'Return'].mean()\n"
     ]
    }
   ],
   "source": [
    "Portfolios_Monthly_Dataframes = {}\n",
    "\n",
    "for key, df in Stocks_Monthly_Dataframes.items():\n",
    "   \n",
    "    \n",
    "    if 'Comove rank' in df.columns:\n",
    "        # Group by 'Comove Rank' and calculate the mean of 'Comove', 'Beta', and 'Yearly Return' for each group.\n",
    "        grouped = df.groupby('Comove rank')['Comove', 'Beta', 'Return'].mean()\n",
    "    \n",
    "        # Rename the columns by prefixing with \"Avg.\".\n",
    "        # Method 1: Using rename() with a dictionary comprehension for dynamic column renaming.\n",
    "        grouped = grouped.rename(columns={col: f'Avg. {col}' for col in grouped.columns})\n",
    "    \n",
    "        # Add the grouped and averaged dataframe to the new dictionary.\n",
    "        Portfolios_Monthly_Dataframes[key] = grouped"
   ]
  },
  {
   "cell_type": "code",
   "execution_count": 52,
   "id": "a8f8ad17",
   "metadata": {
    "ExecuteTime": {
     "end_time": "2024-05-07T17:02:46.767564Z",
     "start_time": "2024-05-07T17:02:46.753598Z"
    }
   },
   "outputs": [
    {
     "data": {
      "text/html": [
       "<div>\n",
       "<style scoped>\n",
       "    .dataframe tbody tr th:only-of-type {\n",
       "        vertical-align: middle;\n",
       "    }\n",
       "\n",
       "    .dataframe tbody tr th {\n",
       "        vertical-align: top;\n",
       "    }\n",
       "\n",
       "    .dataframe thead th {\n",
       "        text-align: right;\n",
       "    }\n",
       "</style>\n",
       "<table border=\"1\" class=\"dataframe\">\n",
       "  <thead>\n",
       "    <tr style=\"text-align: right;\">\n",
       "      <th></th>\n",
       "      <th>Avg. Comove</th>\n",
       "      <th>Avg. Beta</th>\n",
       "      <th>Avg. Return</th>\n",
       "    </tr>\n",
       "    <tr>\n",
       "      <th>Comove rank</th>\n",
       "      <th></th>\n",
       "      <th></th>\n",
       "      <th></th>\n",
       "    </tr>\n",
       "  </thead>\n",
       "  <tbody>\n",
       "    <tr>\n",
       "      <th>1</th>\n",
       "      <td>45.570139</td>\n",
       "      <td>1.128944</td>\n",
       "      <td>4.208241</td>\n",
       "    </tr>\n",
       "    <tr>\n",
       "      <th>2</th>\n",
       "      <td>53.004598</td>\n",
       "      <td>1.045719</td>\n",
       "      <td>2.646244</td>\n",
       "    </tr>\n",
       "    <tr>\n",
       "      <th>3</th>\n",
       "      <td>56.953743</td>\n",
       "      <td>1.086572</td>\n",
       "      <td>2.556653</td>\n",
       "    </tr>\n",
       "    <tr>\n",
       "      <th>4</th>\n",
       "      <td>60.343053</td>\n",
       "      <td>1.121528</td>\n",
       "      <td>1.635841</td>\n",
       "    </tr>\n",
       "    <tr>\n",
       "      <th>5</th>\n",
       "      <td>65.951186</td>\n",
       "      <td>1.072066</td>\n",
       "      <td>1.797734</td>\n",
       "    </tr>\n",
       "  </tbody>\n",
       "</table>\n",
       "</div>"
      ],
      "text/plain": [
       "             Avg. Comove  Avg. Beta  Avg. Return\n",
       "Comove rank                                     \n",
       "1              45.570139   1.128944     4.208241\n",
       "2              53.004598   1.045719     2.646244\n",
       "3              56.953743   1.086572     2.556653\n",
       "4              60.343053   1.121528     1.635841\n",
       "5              65.951186   1.072066     1.797734"
      ]
     },
     "execution_count": 52,
     "metadata": {},
     "output_type": "execute_result"
    }
   ],
   "source": [
    "# Now, Portfolios_Yearly_Dataframes contains the required dataframes for each year,\n",
    "# with the comove rank as the index and the average values of 'Comove', 'Beta', and 'Yearly Return' as columns.\n",
    "Portfolios_Monthly_Dataframes['012013']"
   ]
  },
  {
   "cell_type": "markdown",
   "id": "b9f1d7ed",
   "metadata": {},
   "source": [
    "### Calculating Differences in those Averages between High-Low Portfolio's per Month"
   ]
  },
  {
   "cell_type": "markdown",
   "id": "d5bf5b92",
   "metadata": {},
   "source": [
    "Let's now, for each year, calculate the difference in statistics between the lowest and highest comove portfolio. We store the results in one big dataframe called *Monthly*. "
   ]
  },
  {
   "cell_type": "code",
   "execution_count": 53,
   "id": "b234cb7e",
   "metadata": {
    "ExecuteTime": {
     "end_time": "2024-05-07T17:02:46.845804Z",
     "start_time": "2024-05-07T17:02:46.769557Z"
    }
   },
   "outputs": [],
   "source": [
    "# Initialize an empty list to hold the data for the new dataframe.\n",
    "data_for_monthly_df = []\n",
    "\n",
    "# Extract the year suffix from each key and the corresponding differences.\n",
    "for key, df in Portfolios_Monthly_Dataframes.items():\n",
    "    \n",
    "    # Calculate the difference between the highest and lowest Comove Ranks for each variable.\n",
    "    # Ensure that both Comove Rank 5 and 1 exist in the dataframe to avoid KeyErrors.\n",
    "    if 5 in df.index and 1 in df.index:\n",
    "        diff = df.loc[5] - df.loc[1]\n",
    "    else:\n",
    "        # In case one of the ranks is missing, fill with NaN or some default value.\n",
    "        diff = pd.Series([pd.NA, pd.NA, pd.NA], index=df.columns)\n",
    "    \n",
    "    # Append a dictionary with the year and the calculated differences to the list.\n",
    "    data_for_monthly_df.append(diff.rename(key))\n",
    "\n",
    "# Create the 'Yearly' dataframe from the list of dictionaries.\n",
    "Monthly = pd.DataFrame(data_for_monthly_df)\n",
    "\n",
    "# If the columns are not already named correctly (with 'Avg.' prefix from the previous step), rename them.\n",
    "# This step might not be necessary if columns are already correctly named.\n",
    "Monthly.columns = [f'Diff. {col}' for col in Monthly.columns]"
   ]
  },
  {
   "cell_type": "code",
   "execution_count": 54,
   "id": "b08a21df",
   "metadata": {
    "ExecuteTime": {
     "end_time": "2024-05-07T17:02:46.861757Z",
     "start_time": "2024-05-07T17:02:46.847795Z"
    }
   },
   "outputs": [
    {
     "data": {
      "text/html": [
       "<div>\n",
       "<style scoped>\n",
       "    .dataframe tbody tr th:only-of-type {\n",
       "        vertical-align: middle;\n",
       "    }\n",
       "\n",
       "    .dataframe tbody tr th {\n",
       "        vertical-align: top;\n",
       "    }\n",
       "\n",
       "    .dataframe thead th {\n",
       "        text-align: right;\n",
       "    }\n",
       "</style>\n",
       "<table border=\"1\" class=\"dataframe\">\n",
       "  <thead>\n",
       "    <tr style=\"text-align: right;\">\n",
       "      <th></th>\n",
       "      <th>Diff. Avg. Comove</th>\n",
       "      <th>Diff. Avg. Beta</th>\n",
       "      <th>Diff. Avg. Return</th>\n",
       "    </tr>\n",
       "  </thead>\n",
       "  <tbody>\n",
       "    <tr>\n",
       "      <th>012013</th>\n",
       "      <td>20.381046</td>\n",
       "      <td>-0.056877</td>\n",
       "      <td>-2.410508</td>\n",
       "    </tr>\n",
       "    <tr>\n",
       "      <th>022013</th>\n",
       "      <td>19.294653</td>\n",
       "      <td>-0.076463</td>\n",
       "      <td>4.211399</td>\n",
       "    </tr>\n",
       "  </tbody>\n",
       "</table>\n",
       "</div>"
      ],
      "text/plain": [
       "        Diff. Avg. Comove  Diff. Avg. Beta  Diff. Avg. Return\n",
       "012013          20.381046        -0.056877          -2.410508\n",
       "022013          19.294653        -0.076463           4.211399"
      ]
     },
     "execution_count": 54,
     "metadata": {},
     "output_type": "execute_result"
    }
   ],
   "source": [
    "# Display or return the 'Yearly' dataframe.\n",
    "Monthly.head(2)"
   ]
  },
  {
   "cell_type": "markdown",
   "id": "c762c131",
   "metadata": {},
   "source": [
    "### Writing the Data for the Statistical Tests Away"
   ]
  },
  {
   "cell_type": "markdown",
   "id": "172277d4",
   "metadata": {},
   "source": [
    "#### Variables that differ across portfolios and months\n",
    "MMYYYY, Avg. Comove, Avg. Beta, Avg. Return, Comove rank and HighestComove_Dummy"
   ]
  },
  {
   "cell_type": "markdown",
   "id": "2f7bd413",
   "metadata": {},
   "source": [
    "We will now make one big dataframe *final_df* where we have the column of the MMYYYY, the column of the comove rank, Dummy variable 'HighestComove_Dummy', and the average of the monthly return, comove and beta of this particular portfolio. "
   ]
  },
  {
   "cell_type": "code",
   "execution_count": 55,
   "id": "2e7e2037",
   "metadata": {
    "ExecuteTime": {
     "end_time": "2024-05-07T17:02:47.130595Z",
     "start_time": "2024-05-07T17:02:46.864783Z"
    },
    "scrolled": true
   },
   "outputs": [],
   "source": [
    "# Initialize an empty list to store the filtered and transformed dataframes\n",
    "transformed_dfs = []\n",
    "\n",
    "# Iterate through the dictionary\n",
    "for name_df, df in Portfolios_Monthly_Dataframes.items():\n",
    "  \n",
    "    # Reset the index to filter on Comove rank, keeping the index as a column\n",
    "    df_reset = df.reset_index()\n",
    "    filtered_df = df_reset\n",
    "  \n",
    "    # Add a HighestComove_Dummy column: 0 if Comove rank is 1, 1 if Comove rank is 5\n",
    "    filtered_df['HighestComove_Dummy'] = filtered_df['Comove rank'].apply(lambda x: 0 if x == 1 else 1)\n",
    "    \n",
    "    # Add a MMYYYY column: name of the dataframe\n",
    "    filtered_df['MMYYYY'] = name_df\n",
    "    \n",
    "    # Select the necessary columns\n",
    "    filtered_df = filtered_df[['MMYYYY', 'Avg. Comove', 'Comove rank', 'HighestComove_Dummy', 'Avg. Beta', 'Avg. Return']]\n",
    "    \n",
    "    # Append the transformed dataframe to the list\n",
    "    transformed_dfs.append(filtered_df)\n",
    "\n",
    "# Concatenate all transformed dataframes into one\n",
    "final_df = pd.concat(transformed_dfs, ignore_index=True)"
   ]
  },
  {
   "cell_type": "code",
   "execution_count": 56,
   "id": "2665a704",
   "metadata": {
    "ExecuteTime": {
     "end_time": "2024-05-07T17:02:47.146242Z",
     "start_time": "2024-05-07T17:02:47.132557Z"
    }
   },
   "outputs": [
    {
     "data": {
      "text/html": [
       "<div>\n",
       "<style scoped>\n",
       "    .dataframe tbody tr th:only-of-type {\n",
       "        vertical-align: middle;\n",
       "    }\n",
       "\n",
       "    .dataframe tbody tr th {\n",
       "        vertical-align: top;\n",
       "    }\n",
       "\n",
       "    .dataframe thead th {\n",
       "        text-align: right;\n",
       "    }\n",
       "</style>\n",
       "<table border=\"1\" class=\"dataframe\">\n",
       "  <thead>\n",
       "    <tr style=\"text-align: right;\">\n",
       "      <th></th>\n",
       "      <th>MMYYYY</th>\n",
       "      <th>Avg. Comove</th>\n",
       "      <th>Comove rank</th>\n",
       "      <th>HighestComove_Dummy</th>\n",
       "      <th>Avg. Beta</th>\n",
       "      <th>Avg. Return</th>\n",
       "    </tr>\n",
       "  </thead>\n",
       "  <tbody>\n",
       "    <tr>\n",
       "      <th>0</th>\n",
       "      <td>012013</td>\n",
       "      <td>45.570139</td>\n",
       "      <td>1</td>\n",
       "      <td>0</td>\n",
       "      <td>1.128944</td>\n",
       "      <td>4.208241</td>\n",
       "    </tr>\n",
       "    <tr>\n",
       "      <th>1</th>\n",
       "      <td>012013</td>\n",
       "      <td>53.004598</td>\n",
       "      <td>2</td>\n",
       "      <td>1</td>\n",
       "      <td>1.045719</td>\n",
       "      <td>2.646244</td>\n",
       "    </tr>\n",
       "    <tr>\n",
       "      <th>2</th>\n",
       "      <td>012013</td>\n",
       "      <td>56.953743</td>\n",
       "      <td>3</td>\n",
       "      <td>1</td>\n",
       "      <td>1.086572</td>\n",
       "      <td>2.556653</td>\n",
       "    </tr>\n",
       "    <tr>\n",
       "      <th>3</th>\n",
       "      <td>012013</td>\n",
       "      <td>60.343053</td>\n",
       "      <td>4</td>\n",
       "      <td>1</td>\n",
       "      <td>1.121528</td>\n",
       "      <td>1.635841</td>\n",
       "    </tr>\n",
       "    <tr>\n",
       "      <th>4</th>\n",
       "      <td>012013</td>\n",
       "      <td>65.951186</td>\n",
       "      <td>5</td>\n",
       "      <td>1</td>\n",
       "      <td>1.072066</td>\n",
       "      <td>1.797734</td>\n",
       "    </tr>\n",
       "    <tr>\n",
       "      <th>...</th>\n",
       "      <td>...</td>\n",
       "      <td>...</td>\n",
       "      <td>...</td>\n",
       "      <td>...</td>\n",
       "      <td>...</td>\n",
       "      <td>...</td>\n",
       "    </tr>\n",
       "    <tr>\n",
       "      <th>665</th>\n",
       "      <td>022024</td>\n",
       "      <td>43.063263</td>\n",
       "      <td>1</td>\n",
       "      <td>0</td>\n",
       "      <td>1.121668</td>\n",
       "      <td>-0.610936</td>\n",
       "    </tr>\n",
       "    <tr>\n",
       "      <th>666</th>\n",
       "      <td>022024</td>\n",
       "      <td>50.356394</td>\n",
       "      <td>2</td>\n",
       "      <td>1</td>\n",
       "      <td>1.170942</td>\n",
       "      <td>-0.523685</td>\n",
       "    </tr>\n",
       "    <tr>\n",
       "      <th>667</th>\n",
       "      <td>022024</td>\n",
       "      <td>54.491951</td>\n",
       "      <td>3</td>\n",
       "      <td>1</td>\n",
       "      <td>1.196805</td>\n",
       "      <td>0.776255</td>\n",
       "    </tr>\n",
       "    <tr>\n",
       "      <th>668</th>\n",
       "      <td>022024</td>\n",
       "      <td>58.898113</td>\n",
       "      <td>4</td>\n",
       "      <td>1</td>\n",
       "      <td>1.056555</td>\n",
       "      <td>1.371779</td>\n",
       "    </tr>\n",
       "    <tr>\n",
       "      <th>669</th>\n",
       "      <td>022024</td>\n",
       "      <td>64.552389</td>\n",
       "      <td>5</td>\n",
       "      <td>1</td>\n",
       "      <td>1.103318</td>\n",
       "      <td>5.160275</td>\n",
       "    </tr>\n",
       "  </tbody>\n",
       "</table>\n",
       "<p>670 rows × 6 columns</p>\n",
       "</div>"
      ],
      "text/plain": [
       "     MMYYYY  Avg. Comove  Comove rank  HighestComove_Dummy  Avg. Beta  \\\n",
       "0    012013    45.570139            1                    0   1.128944   \n",
       "1    012013    53.004598            2                    1   1.045719   \n",
       "2    012013    56.953743            3                    1   1.086572   \n",
       "3    012013    60.343053            4                    1   1.121528   \n",
       "4    012013    65.951186            5                    1   1.072066   \n",
       "..      ...          ...          ...                  ...        ...   \n",
       "665  022024    43.063263            1                    0   1.121668   \n",
       "666  022024    50.356394            2                    1   1.170942   \n",
       "667  022024    54.491951            3                    1   1.196805   \n",
       "668  022024    58.898113            4                    1   1.056555   \n",
       "669  022024    64.552389            5                    1   1.103318   \n",
       "\n",
       "     Avg. Return  \n",
       "0       4.208241  \n",
       "1       2.646244  \n",
       "2       2.556653  \n",
       "3       1.635841  \n",
       "4       1.797734  \n",
       "..           ...  \n",
       "665    -0.610936  \n",
       "666    -0.523685  \n",
       "667     0.776255  \n",
       "668     1.371779  \n",
       "669     5.160275  \n",
       "\n",
       "[670 rows x 6 columns]"
      ]
     },
     "execution_count": 56,
     "metadata": {},
     "output_type": "execute_result"
    }
   ],
   "source": [
    "# Display the final dataframe\n",
    "final_df"
   ]
  },
  {
   "cell_type": "markdown",
   "id": "2a666893",
   "metadata": {},
   "source": [
    "We have used Comovement and Beta to sort and form our portfolio's, but we will not use it in our regressions. As explained in the other notebook, the avg. return of stocks in a particular portfolio of a particular month is used a y variable. Our return column is still in %, so lets divide it by 100. "
   ]
  },
  {
   "cell_type": "code",
   "execution_count": 57,
   "id": "f0f1448c",
   "metadata": {
    "ExecuteTime": {
     "end_time": "2024-05-07T17:02:47.162233Z",
     "start_time": "2024-05-07T17:02:47.148237Z"
    }
   },
   "outputs": [],
   "source": [
    "final_df['Avg. Return'] = final_df['Avg. Return'] / 100"
   ]
  },
  {
   "cell_type": "markdown",
   "id": "2f2ca105",
   "metadata": {},
   "source": [
    "#### Variables that differ over months, but not portfolios\n",
    "Monthly Market Return, Month, Year & Factors"
   ]
  },
  {
   "cell_type": "markdown",
   "id": "3d93ac4a",
   "metadata": {},
   "source": [
    "Let's now add the statistics to the dataframe that are the same for all portfolios of a certain year."
   ]
  },
  {
   "cell_type": "code",
   "execution_count": 58,
   "id": "3434db20",
   "metadata": {
    "ExecuteTime": {
     "end_time": "2024-05-07T17:02:47.178157Z",
     "start_time": "2024-05-07T17:02:47.165193Z"
    }
   },
   "outputs": [],
   "source": [
    "#Adding Monthly Market Return\n",
    "\n",
    "# Convert the 'MMYYYY' column in final_df to string so its the same datatype\n",
    "final_df['MMYYYY'] = final_df['MMYYYY'].astype(str)\n",
    "\n",
    "# Reset the index of Index_YearlyReturn_Dataframe to use it for merging\n",
    "Index_MonthlyReturn_Dataframe_reset = Index_MonthlyReturn_Dataframe.reset_index()\n",
    "\n",
    "# Merge final_df with Index_YearlyReturn_Dataframe on the Year column\n",
    "final_df = final_df.merge(Index_MonthlyReturn_Dataframe_reset, on='MMYYYY', how='left')\n",
    "\n",
    "#Divide the monthly market return column by 100 so it is not in percentage anymore\n",
    "final_df['Monthly Market Return'] = final_df['Monthly Market Return'] / 100"
   ]
  },
  {
   "cell_type": "code",
   "execution_count": 59,
   "id": "e4ba5585",
   "metadata": {
    "ExecuteTime": {
     "end_time": "2024-05-07T17:02:47.194149Z",
     "start_time": "2024-05-07T17:02:47.180151Z"
    }
   },
   "outputs": [],
   "source": [
    "# Adding Factors\n",
    "\n",
    "final_df['MMYYYY'] = final_df['MMYYYY'].astype(int)\n",
    "\n",
    "# Merge final_df with Index_YearlyReturn_Dataframe on the Year column\n",
    "final_df = final_df.merge(Factors_Monthly_Dataframe, on='MMYYYY', how='left')\n",
    "\n",
    "#All factors and rates of this dataframe are already in the correct format"
   ]
  },
  {
   "cell_type": "code",
   "execution_count": 60,
   "id": "c753ee5f",
   "metadata": {
    "ExecuteTime": {
     "end_time": "2024-05-07T17:02:47.241985Z",
     "start_time": "2024-05-07T17:02:47.198104Z"
    }
   },
   "outputs": [
    {
     "data": {
      "text/html": [
       "<div>\n",
       "<style scoped>\n",
       "    .dataframe tbody tr th:only-of-type {\n",
       "        vertical-align: middle;\n",
       "    }\n",
       "\n",
       "    .dataframe tbody tr th {\n",
       "        vertical-align: top;\n",
       "    }\n",
       "\n",
       "    .dataframe thead th {\n",
       "        text-align: right;\n",
       "    }\n",
       "</style>\n",
       "<table border=\"1\" class=\"dataframe\">\n",
       "  <thead>\n",
       "    <tr style=\"text-align: right;\">\n",
       "      <th></th>\n",
       "      <th>MMYYYY</th>\n",
       "      <th>Avg. Comove</th>\n",
       "      <th>Comove rank</th>\n",
       "      <th>HighestComove_Dummy</th>\n",
       "      <th>Avg. Beta</th>\n",
       "      <th>Avg. Return</th>\n",
       "      <th>Monthly Market Return</th>\n",
       "      <th>Year</th>\n",
       "      <th>Month</th>\n",
       "      <th>Mkt-RF</th>\n",
       "      <th>...</th>\n",
       "      <th>HML</th>\n",
       "      <th>HML_Devil</th>\n",
       "      <th>RMW</th>\n",
       "      <th>CMA</th>\n",
       "      <th>UMD</th>\n",
       "      <th>UMD_Trend</th>\n",
       "      <th>BAB</th>\n",
       "      <th>QMJ</th>\n",
       "      <th>Carry</th>\n",
       "      <th>Seasonal</th>\n",
       "    </tr>\n",
       "  </thead>\n",
       "  <tbody>\n",
       "    <tr>\n",
       "      <th>0</th>\n",
       "      <td>12013</td>\n",
       "      <td>45.570139</td>\n",
       "      <td>1</td>\n",
       "      <td>0</td>\n",
       "      <td>1.128944</td>\n",
       "      <td>0.042082</td>\n",
       "      <td>0.028384</td>\n",
       "      <td>2013</td>\n",
       "      <td>1</td>\n",
       "      <td>0.0620</td>\n",
       "      <td>...</td>\n",
       "      <td>0.0433</td>\n",
       "      <td>0.022058</td>\n",
       "      <td>-0.0348</td>\n",
       "      <td>0.0177</td>\n",
       "      <td>-0.012593</td>\n",
       "      <td>0.036667</td>\n",
       "      <td>-0.000714</td>\n",
       "      <td>-0.025535</td>\n",
       "      <td>0.051408</td>\n",
       "      <td>-0.062123</td>\n",
       "    </tr>\n",
       "    <tr>\n",
       "      <th>1</th>\n",
       "      <td>12013</td>\n",
       "      <td>53.004598</td>\n",
       "      <td>2</td>\n",
       "      <td>1</td>\n",
       "      <td>1.045719</td>\n",
       "      <td>0.026462</td>\n",
       "      <td>0.028384</td>\n",
       "      <td>2013</td>\n",
       "      <td>1</td>\n",
       "      <td>0.0620</td>\n",
       "      <td>...</td>\n",
       "      <td>0.0433</td>\n",
       "      <td>0.022058</td>\n",
       "      <td>-0.0348</td>\n",
       "      <td>0.0177</td>\n",
       "      <td>-0.012593</td>\n",
       "      <td>0.036667</td>\n",
       "      <td>-0.000714</td>\n",
       "      <td>-0.025535</td>\n",
       "      <td>0.051408</td>\n",
       "      <td>-0.062123</td>\n",
       "    </tr>\n",
       "    <tr>\n",
       "      <th>2</th>\n",
       "      <td>12013</td>\n",
       "      <td>56.953743</td>\n",
       "      <td>3</td>\n",
       "      <td>1</td>\n",
       "      <td>1.086572</td>\n",
       "      <td>0.025567</td>\n",
       "      <td>0.028384</td>\n",
       "      <td>2013</td>\n",
       "      <td>1</td>\n",
       "      <td>0.0620</td>\n",
       "      <td>...</td>\n",
       "      <td>0.0433</td>\n",
       "      <td>0.022058</td>\n",
       "      <td>-0.0348</td>\n",
       "      <td>0.0177</td>\n",
       "      <td>-0.012593</td>\n",
       "      <td>0.036667</td>\n",
       "      <td>-0.000714</td>\n",
       "      <td>-0.025535</td>\n",
       "      <td>0.051408</td>\n",
       "      <td>-0.062123</td>\n",
       "    </tr>\n",
       "    <tr>\n",
       "      <th>3</th>\n",
       "      <td>12013</td>\n",
       "      <td>60.343053</td>\n",
       "      <td>4</td>\n",
       "      <td>1</td>\n",
       "      <td>1.121528</td>\n",
       "      <td>0.016358</td>\n",
       "      <td>0.028384</td>\n",
       "      <td>2013</td>\n",
       "      <td>1</td>\n",
       "      <td>0.0620</td>\n",
       "      <td>...</td>\n",
       "      <td>0.0433</td>\n",
       "      <td>0.022058</td>\n",
       "      <td>-0.0348</td>\n",
       "      <td>0.0177</td>\n",
       "      <td>-0.012593</td>\n",
       "      <td>0.036667</td>\n",
       "      <td>-0.000714</td>\n",
       "      <td>-0.025535</td>\n",
       "      <td>0.051408</td>\n",
       "      <td>-0.062123</td>\n",
       "    </tr>\n",
       "    <tr>\n",
       "      <th>4</th>\n",
       "      <td>12013</td>\n",
       "      <td>65.951186</td>\n",
       "      <td>5</td>\n",
       "      <td>1</td>\n",
       "      <td>1.072066</td>\n",
       "      <td>0.017977</td>\n",
       "      <td>0.028384</td>\n",
       "      <td>2013</td>\n",
       "      <td>1</td>\n",
       "      <td>0.0620</td>\n",
       "      <td>...</td>\n",
       "      <td>0.0433</td>\n",
       "      <td>0.022058</td>\n",
       "      <td>-0.0348</td>\n",
       "      <td>0.0177</td>\n",
       "      <td>-0.012593</td>\n",
       "      <td>0.036667</td>\n",
       "      <td>-0.000714</td>\n",
       "      <td>-0.025535</td>\n",
       "      <td>0.051408</td>\n",
       "      <td>-0.062123</td>\n",
       "    </tr>\n",
       "    <tr>\n",
       "      <th>...</th>\n",
       "      <td>...</td>\n",
       "      <td>...</td>\n",
       "      <td>...</td>\n",
       "      <td>...</td>\n",
       "      <td>...</td>\n",
       "      <td>...</td>\n",
       "      <td>...</td>\n",
       "      <td>...</td>\n",
       "      <td>...</td>\n",
       "      <td>...</td>\n",
       "      <td>...</td>\n",
       "      <td>...</td>\n",
       "      <td>...</td>\n",
       "      <td>...</td>\n",
       "      <td>...</td>\n",
       "      <td>...</td>\n",
       "      <td>...</td>\n",
       "      <td>...</td>\n",
       "      <td>...</td>\n",
       "      <td>...</td>\n",
       "      <td>...</td>\n",
       "    </tr>\n",
       "    <tr>\n",
       "      <th>665</th>\n",
       "      <td>22024</td>\n",
       "      <td>43.063263</td>\n",
       "      <td>1</td>\n",
       "      <td>0</td>\n",
       "      <td>1.121668</td>\n",
       "      <td>-0.006109</td>\n",
       "      <td>0.019989</td>\n",
       "      <td>2024</td>\n",
       "      <td>2</td>\n",
       "      <td>0.0127</td>\n",
       "      <td>...</td>\n",
       "      <td>-0.0076</td>\n",
       "      <td>-0.035207</td>\n",
       "      <td>0.0109</td>\n",
       "      <td>-0.0195</td>\n",
       "      <td>0.040707</td>\n",
       "      <td>NaN</td>\n",
       "      <td>-0.008973</td>\n",
       "      <td>0.034313</td>\n",
       "      <td>NaN</td>\n",
       "      <td>NaN</td>\n",
       "    </tr>\n",
       "    <tr>\n",
       "      <th>666</th>\n",
       "      <td>22024</td>\n",
       "      <td>50.356394</td>\n",
       "      <td>2</td>\n",
       "      <td>1</td>\n",
       "      <td>1.170942</td>\n",
       "      <td>-0.005237</td>\n",
       "      <td>0.019989</td>\n",
       "      <td>2024</td>\n",
       "      <td>2</td>\n",
       "      <td>0.0127</td>\n",
       "      <td>...</td>\n",
       "      <td>-0.0076</td>\n",
       "      <td>-0.035207</td>\n",
       "      <td>0.0109</td>\n",
       "      <td>-0.0195</td>\n",
       "      <td>0.040707</td>\n",
       "      <td>NaN</td>\n",
       "      <td>-0.008973</td>\n",
       "      <td>0.034313</td>\n",
       "      <td>NaN</td>\n",
       "      <td>NaN</td>\n",
       "    </tr>\n",
       "    <tr>\n",
       "      <th>667</th>\n",
       "      <td>22024</td>\n",
       "      <td>54.491951</td>\n",
       "      <td>3</td>\n",
       "      <td>1</td>\n",
       "      <td>1.196805</td>\n",
       "      <td>0.007763</td>\n",
       "      <td>0.019989</td>\n",
       "      <td>2024</td>\n",
       "      <td>2</td>\n",
       "      <td>0.0127</td>\n",
       "      <td>...</td>\n",
       "      <td>-0.0076</td>\n",
       "      <td>-0.035207</td>\n",
       "      <td>0.0109</td>\n",
       "      <td>-0.0195</td>\n",
       "      <td>0.040707</td>\n",
       "      <td>NaN</td>\n",
       "      <td>-0.008973</td>\n",
       "      <td>0.034313</td>\n",
       "      <td>NaN</td>\n",
       "      <td>NaN</td>\n",
       "    </tr>\n",
       "    <tr>\n",
       "      <th>668</th>\n",
       "      <td>22024</td>\n",
       "      <td>58.898113</td>\n",
       "      <td>4</td>\n",
       "      <td>1</td>\n",
       "      <td>1.056555</td>\n",
       "      <td>0.013718</td>\n",
       "      <td>0.019989</td>\n",
       "      <td>2024</td>\n",
       "      <td>2</td>\n",
       "      <td>0.0127</td>\n",
       "      <td>...</td>\n",
       "      <td>-0.0076</td>\n",
       "      <td>-0.035207</td>\n",
       "      <td>0.0109</td>\n",
       "      <td>-0.0195</td>\n",
       "      <td>0.040707</td>\n",
       "      <td>NaN</td>\n",
       "      <td>-0.008973</td>\n",
       "      <td>0.034313</td>\n",
       "      <td>NaN</td>\n",
       "      <td>NaN</td>\n",
       "    </tr>\n",
       "    <tr>\n",
       "      <th>669</th>\n",
       "      <td>22024</td>\n",
       "      <td>64.552389</td>\n",
       "      <td>5</td>\n",
       "      <td>1</td>\n",
       "      <td>1.103318</td>\n",
       "      <td>0.051603</td>\n",
       "      <td>0.019989</td>\n",
       "      <td>2024</td>\n",
       "      <td>2</td>\n",
       "      <td>0.0127</td>\n",
       "      <td>...</td>\n",
       "      <td>-0.0076</td>\n",
       "      <td>-0.035207</td>\n",
       "      <td>0.0109</td>\n",
       "      <td>-0.0195</td>\n",
       "      <td>0.040707</td>\n",
       "      <td>NaN</td>\n",
       "      <td>-0.008973</td>\n",
       "      <td>0.034313</td>\n",
       "      <td>NaN</td>\n",
       "      <td>NaN</td>\n",
       "    </tr>\n",
       "  </tbody>\n",
       "</table>\n",
       "<p>670 rows × 22 columns</p>\n",
       "</div>"
      ],
      "text/plain": [
       "     MMYYYY  Avg. Comove  Comove rank  HighestComove_Dummy  Avg. Beta  \\\n",
       "0     12013    45.570139            1                    0   1.128944   \n",
       "1     12013    53.004598            2                    1   1.045719   \n",
       "2     12013    56.953743            3                    1   1.086572   \n",
       "3     12013    60.343053            4                    1   1.121528   \n",
       "4     12013    65.951186            5                    1   1.072066   \n",
       "..      ...          ...          ...                  ...        ...   \n",
       "665   22024    43.063263            1                    0   1.121668   \n",
       "666   22024    50.356394            2                    1   1.170942   \n",
       "667   22024    54.491951            3                    1   1.196805   \n",
       "668   22024    58.898113            4                    1   1.056555   \n",
       "669   22024    64.552389            5                    1   1.103318   \n",
       "\n",
       "     Avg. Return  Monthly Market Return  Year  Month  Mkt-RF  ...     HML  \\\n",
       "0       0.042082               0.028384  2013      1  0.0620  ...  0.0433   \n",
       "1       0.026462               0.028384  2013      1  0.0620  ...  0.0433   \n",
       "2       0.025567               0.028384  2013      1  0.0620  ...  0.0433   \n",
       "3       0.016358               0.028384  2013      1  0.0620  ...  0.0433   \n",
       "4       0.017977               0.028384  2013      1  0.0620  ...  0.0433   \n",
       "..           ...                    ...   ...    ...     ...  ...     ...   \n",
       "665    -0.006109               0.019989  2024      2  0.0127  ... -0.0076   \n",
       "666    -0.005237               0.019989  2024      2  0.0127  ... -0.0076   \n",
       "667     0.007763               0.019989  2024      2  0.0127  ... -0.0076   \n",
       "668     0.013718               0.019989  2024      2  0.0127  ... -0.0076   \n",
       "669     0.051603               0.019989  2024      2  0.0127  ... -0.0076   \n",
       "\n",
       "     HML_Devil     RMW     CMA       UMD  UMD_Trend       BAB       QMJ  \\\n",
       "0     0.022058 -0.0348  0.0177 -0.012593   0.036667 -0.000714 -0.025535   \n",
       "1     0.022058 -0.0348  0.0177 -0.012593   0.036667 -0.000714 -0.025535   \n",
       "2     0.022058 -0.0348  0.0177 -0.012593   0.036667 -0.000714 -0.025535   \n",
       "3     0.022058 -0.0348  0.0177 -0.012593   0.036667 -0.000714 -0.025535   \n",
       "4     0.022058 -0.0348  0.0177 -0.012593   0.036667 -0.000714 -0.025535   \n",
       "..         ...     ...     ...       ...        ...       ...       ...   \n",
       "665  -0.035207  0.0109 -0.0195  0.040707        NaN -0.008973  0.034313   \n",
       "666  -0.035207  0.0109 -0.0195  0.040707        NaN -0.008973  0.034313   \n",
       "667  -0.035207  0.0109 -0.0195  0.040707        NaN -0.008973  0.034313   \n",
       "668  -0.035207  0.0109 -0.0195  0.040707        NaN -0.008973  0.034313   \n",
       "669  -0.035207  0.0109 -0.0195  0.040707        NaN -0.008973  0.034313   \n",
       "\n",
       "        Carry  Seasonal  \n",
       "0    0.051408 -0.062123  \n",
       "1    0.051408 -0.062123  \n",
       "2    0.051408 -0.062123  \n",
       "3    0.051408 -0.062123  \n",
       "4    0.051408 -0.062123  \n",
       "..        ...       ...  \n",
       "665       NaN       NaN  \n",
       "666       NaN       NaN  \n",
       "667       NaN       NaN  \n",
       "668       NaN       NaN  \n",
       "669       NaN       NaN  \n",
       "\n",
       "[670 rows x 22 columns]"
      ]
     },
     "execution_count": 60,
     "metadata": {},
     "output_type": "execute_result"
    }
   ],
   "source": [
    "# Display the final dataframe\n",
    "final_df"
   ]
  },
  {
   "cell_type": "markdown",
   "id": "309293d4",
   "metadata": {},
   "source": [
    "#### Writing to Excel"
   ]
  },
  {
   "cell_type": "markdown",
   "id": "0f0ec56f",
   "metadata": {},
   "source": [
    "Now, we will try to write this into an Excel file. "
   ]
  },
  {
   "cell_type": "code",
   "execution_count": 61,
   "id": "88fe2537",
   "metadata": {
    "ExecuteTime": {
     "end_time": "2024-05-07T17:02:47.574389Z",
     "start_time": "2024-05-07T17:02:47.244012Z"
    }
   },
   "outputs": [],
   "source": [
    "# Write the DataFrame to an Excel file\n",
    "final_df.to_excel('Monthly Data.xlsx', sheet_name='Portfolios', index=True)"
   ]
  }
 ],
 "metadata": {
  "kernelspec": {
   "display_name": "Python 3 (ipykernel)",
   "language": "python",
   "name": "python3"
  },
  "language_info": {
   "codemirror_mode": {
    "name": "ipython",
    "version": 3
   },
   "file_extension": ".py",
   "mimetype": "text/x-python",
   "name": "python",
   "nbconvert_exporter": "python",
   "pygments_lexer": "ipython3",
   "version": "3.9.12"
  },
  "toc": {
   "base_numbering": 1,
   "nav_menu": {},
   "number_sections": true,
   "sideBar": true,
   "skip_h1_title": true,
   "title_cell": "Table of Contents",
   "title_sidebar": "Contents",
   "toc_cell": false,
   "toc_position": {
    "height": "2217.33px",
    "left": "34px",
    "top": "112.23px",
    "width": "450.625px"
   },
   "toc_section_display": true,
   "toc_window_display": true
  },
  "varInspector": {
   "cols": {
    "lenName": 16,
    "lenType": 16,
    "lenVar": 40
   },
   "kernels_config": {
    "python": {
     "delete_cmd_postfix": "",
     "delete_cmd_prefix": "del ",
     "library": "var_list.py",
     "varRefreshCmd": "print(var_dic_list())"
    },
    "r": {
     "delete_cmd_postfix": ") ",
     "delete_cmd_prefix": "rm(",
     "library": "var_list.r",
     "varRefreshCmd": "cat(var_dic_list()) "
    }
   },
   "types_to_exclude": [
    "module",
    "function",
    "builtin_function_or_method",
    "instance",
    "_Feature"
   ],
   "window_display": false
  }
 },
 "nbformat": 4,
 "nbformat_minor": 5
}
